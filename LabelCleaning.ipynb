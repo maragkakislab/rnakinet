{
 "cells": [
  {
   "cell_type": "code",
   "execution_count": 1,
   "id": "466c5dd2-1270-4809-8f6c-899fb20b90c5",
   "metadata": {},
   "outputs": [
    {
     "name": "stderr",
     "output_type": "stream",
     "text": [
      "/home/jovyan/my-conda-envs/RNAmodEnv/lib/python3.8/site-packages/torchvision/io/image.py:13: UserWarning: Failed to load image Python extension: /home/jovyan/my-conda-envs/RNAmodEnv/lib/python3.8/site-packages/torchvision/image.so: undefined symbol: _ZN3c106detail19maybe_wrap_dim_slowEllb\n",
      "  warn(f\"Failed to load image Python extension: {e}\")\n"
     ]
    }
   ],
   "source": [
    "from bonito_pretrained import BonitoPretrained\n",
    "checkpoint_path = 'checkpoints_pl/bonito_tl_0/epoch=0-step=4450000.ckpt'\n",
    "model = BonitoPretrained(pretrained_lr=1e-4, my_layers_lr=1e-3, warmup_steps = 10000).load_from_checkpoint(checkpoint_path)"
   ]
  },
  {
   "cell_type": "code",
   "execution_count": 12,
   "id": "d8eab774-3a47-4184-8941-3c5777acadbe",
   "metadata": {},
   "outputs": [
    {
     "name": "stdout",
     "output_type": "stream",
     "text": [
      "valid files indicies\n",
      "[1, 11, 12, 13, 15, 16, 20, 23, 24, 26, 31, 39, 40, 44, 47, 52, 55, 57, 67, 71, 75, 86, 87, 88, 91, 96, 97, 101, 108, 111, 112, 114, 117, 119, 125, 137, 140, 141, 150, 154, 178, 186, 194, 195, 206, 207, 214, 216, 222, 229, 248, 253, 258, 266, 269]\n",
      "[1, 4, 15, 20, 25, 29, 30, 31, 34, 35, 37, 41, 51, 61, 67, 79, 80, 84, 95, 97, 104, 109, 111, 120, 122, 126, 133, 135, 146, 151, 153, 160, 161, 170, 194, 199, 202, 205, 206, 214, 216, 218, 232, 234, 242, 244, 249, 257, 259, 260, 267, 271, 275, 277, 284, 288, 289, 291, 296, 298, 299, 304, 317, 318, 330, 336, 338, 342, 343, 345, 356, 366, 367, 374, 376, 382, 384, 401, 416, 426, 429, 435, 436, 441, 442, 461, 462, 464, 465, 470, 474, 476, 477, 482, 483, 490, 492, 497, 499, 500, 502, 510, 517, 519]\n",
      "train files indicies\n",
      "[0, 2, 3, 4, 5, 6, 7, 8, 9, 10, 14, 17, 18, 19, 21, 22, 25, 27, 28, 29, 30, 32, 33, 34, 35, 36, 37, 38, 41, 42, 43, 45, 46, 48, 49, 50, 51, 53, 54, 56, 58, 59, 60, 61, 62, 63, 64, 65, 66, 68, 69, 70, 72, 73, 74, 76, 77, 78, 79, 80, 81, 82, 83, 84, 85, 89, 90, 92, 93, 94, 95, 98, 99, 100, 102, 103, 104, 105, 106, 107, 109, 110, 113, 115, 116, 118, 120, 121, 122, 123, 124, 126, 127, 128, 129, 130, 131, 132, 133, 134, 135, 136, 138, 139, 142, 143, 144, 145, 146, 147, 148, 149, 151, 152, 153, 155, 156, 157, 158, 159, 160, 161, 162, 163, 164, 165, 166, 167, 168, 169, 170, 171, 172, 173, 174, 175, 176, 177, 179, 180, 181, 182, 183, 184, 185, 187, 188, 189, 190, 191, 192, 193, 196, 197, 198, 199, 200, 201, 202, 203, 204, 205, 208, 209, 210, 211, 212, 213, 215, 217, 218, 219, 220, 221, 223, 224, 225, 226, 227, 228, 230, 231, 232, 233, 234, 235, 236, 237, 238, 239, 240, 241, 242, 243, 244, 245, 246, 247, 249, 250, 251, 252, 254, 255, 256, 257, 259, 260, 261, 262, 263, 264, 265, 267, 268, 270, 271, 272, 273, 274]\n",
      "[0, 2, 3, 5, 6, 7, 8, 9, 10, 11, 12, 13, 14, 16, 17, 18, 19, 21, 22, 23, 24, 26, 27, 28, 32, 33, 36, 38, 39, 40, 42, 43, 44, 45, 46, 47, 48, 49, 50, 52, 53, 54, 55, 56, 57, 58, 59, 60, 62, 63, 64, 65, 66, 68, 69, 70, 71, 72, 73, 74, 75, 76, 77, 78, 81, 82, 83, 85, 86, 87, 88, 89, 90, 91, 92, 93, 94, 96, 98, 99, 100, 101, 102, 103, 105, 106, 107, 108, 110, 112, 113, 114, 115, 116, 117, 118, 119, 121, 123, 124, 125, 127, 128, 129, 130, 131, 132, 134, 136, 137, 138, 139, 140, 141, 142, 143, 144, 145, 147, 148, 149, 150, 152, 154, 155, 156, 157, 158, 159, 162, 163, 164, 165, 166, 167, 168, 169, 171, 172, 173, 174, 175, 176, 177, 178, 179, 180, 181, 182, 183, 184, 185, 186, 187, 188, 189, 190, 191, 192, 193, 195, 196, 197, 198, 200, 201, 203, 204, 207, 208, 209, 210, 211, 212, 213, 215, 217, 219, 220, 221, 222, 223, 224, 225, 226, 227, 228, 229, 230, 231, 233, 235, 236, 237, 238, 239, 240, 241, 243, 245, 246, 247, 248, 250, 251, 252, 253, 254, 255, 256, 258, 261, 262, 263, 264, 265, 266, 268, 269, 270, 272, 273, 274, 276, 278, 279, 280, 281, 282, 283, 285, 286, 287, 290, 292, 293, 294, 295, 297, 300, 301, 302, 303, 305, 306, 307, 308, 309, 310, 311, 312, 313, 314, 315, 316, 319, 320, 321, 322, 323, 324, 325, 326, 327, 328, 329, 331, 332, 333, 334, 335, 337, 339, 340, 341, 344, 346, 347, 348, 349, 350, 351, 352, 353, 354, 355, 357, 358, 359, 360, 361, 362, 363, 364, 365, 368, 369, 370, 371, 372, 373, 375, 377, 378, 379, 380, 381, 383, 385, 386, 387, 388, 389, 390, 391, 392, 393, 394, 395, 396, 397, 398, 399, 400, 402, 403, 404, 405, 406, 407, 408, 409, 410, 411, 412, 413, 414, 415, 417, 418, 419, 420, 421, 422, 423, 424, 425, 427, 428, 430, 431, 432, 433, 434, 437, 438, 439, 440, 443, 444, 445, 446, 447, 448, 449, 450, 451, 452, 453, 454, 455, 456, 457, 458, 459, 460, 463, 466, 467, 468, 469, 471, 472, 473, 475, 478, 479, 480, 481, 484, 485, 486, 487, 488, 489, 491, 493, 494, 495, 496, 498, 501, 503, 504, 505, 506, 507, 508, 509, 511, 512, 513, 514, 515, 516, 518]\n"
     ]
    }
   ],
   "source": [
    "from dataloading import get_my_dataset, get_kfold_split_func\n",
    "from torch.utils.data import DataLoader\n",
    "\n",
    "train_dset, valid_dset = get_my_dataset(valid_limit=0, window=1000, pos_files = 'pos_2022', neg_files='neg_2022', split_method=get_kfold_split_func(total_k=5, current_k=4))\n",
    "valid_loader = DataLoader(valid_dset, batch_size=256, num_workers=32,\n",
    "                          pin_memory=True, persistent_workers=True)"
   ]
  },
  {
   "cell_type": "code",
   "execution_count": null,
   "id": "1d8bd946-cfb9-4070-9253-55fc445d83e0",
   "metadata": {},
   "outputs": [],
   "source": [
    "# import pytorch_lightning as pl\n",
    "# trainer= pl.Trainer(accelerator='gpu', benchmark=True, precision=16)\n",
    "# # trainer.test(model, valid_loader)\n",
    "# trainer.validate(model, valid_loader)"
   ]
  },
  {
   "cell_type": "code",
   "execution_count": 12,
   "id": "18248a33-dd2a-4f42-99c7-c097b6679e1e",
   "metadata": {},
   "outputs": [],
   "source": [
    "from skorch import NeuralNetClassifier\n",
    "model_skorch = NeuralNetClassifier(model)\n",
    "x,y = next(iter(valid_loader))\n"
   ]
  },
  {
   "cell_type": "code",
   "execution_count": 25,
   "id": "74ca38fd-77ef-447e-90e0-be1036574be0",
   "metadata": {},
   "outputs": [],
   "source": [
    "from cleanlab.classification import CleanLearning\n",
    "data = x.numpy()\n",
    "labels = y.numpy().flatten().astype(np.int64)\n",
    "# labels\n",
    "#TODO i have to put predictions into the un-sparse format (0,1 vs [1,0],[0,1])\n",
    "# label_issues_info = CleanLearning(clf=model_skorch).find_label_issues(data,labels)"
   ]
  },
  {
   "cell_type": "code",
   "execution_count": 27,
   "id": "c80473e6-793a-4750-ab6c-68ddeaf43933",
   "metadata": {},
   "outputs": [],
   "source": [
    "import numpy as np\n",
    "def probs_to_bin(probs):\n",
    "    res = []\n",
    "    for pos_prob in probs:\n",
    "        pos_prob = pos_prob[0]\n",
    "        res.append([1-pos_prob, pos_prob])\n",
    "    predz = np.array(res)\n",
    "    return predz"
   ]
  },
  {
   "cell_type": "code",
   "execution_count": 28,
   "id": "9cd03e53-e6e1-456e-9d39-7e43cde456f2",
   "metadata": {},
   "outputs": [],
   "source": [
    "from cleanlab.filter import find_label_issues\n",
    "# from cleanlab.classification import CleanLearning\n",
    "from torch import nn\n",
    "\n",
    "x,y = next(iter(valid_loader))\n",
    "probs = nn.Softmax(dim=0)(model(x)).detach().numpy()\n",
    "probs = probs_to_bin(probs)\n",
    "\n",
    "ordered_label_issues = find_label_issues(\n",
    "    labels=y.numpy().flatten().astype(np.int32),\n",
    "    pred_probs=probs,  # out-of-sample predicted probabilities from any model\n",
    "    return_indices_ranked_by='self_confidence',\n",
    ")"
   ]
  },
  {
   "cell_type": "code",
   "execution_count": 41,
   "id": "174e8799-b5ee-44c2-a212-4b1210936a29",
   "metadata": {},
   "outputs": [
    {
     "name": "stdout",
     "output_type": "stream",
     "text": [
      "104\n"
     ]
    },
    {
     "data": {
      "text/plain": [
       "array([[1.],\n",
       "       [1.],\n",
       "       [1.],\n",
       "       [1.],\n",
       "       [1.],\n",
       "       [1.],\n",
       "       [1.],\n",
       "       [1.],\n",
       "       [1.],\n",
       "       [1.],\n",
       "       [1.],\n",
       "       [1.],\n",
       "       [1.],\n",
       "       [1.],\n",
       "       [1.],\n",
       "       [1.],\n",
       "       [1.],\n",
       "       [1.],\n",
       "       [1.],\n",
       "       [1.],\n",
       "       [1.],\n",
       "       [1.],\n",
       "       [1.],\n",
       "       [1.],\n",
       "       [1.],\n",
       "       [1.],\n",
       "       [1.],\n",
       "       [1.],\n",
       "       [1.],\n",
       "       [1.],\n",
       "       [1.],\n",
       "       [1.],\n",
       "       [1.],\n",
       "       [1.],\n",
       "       [1.],\n",
       "       [1.],\n",
       "       [1.],\n",
       "       [1.],\n",
       "       [1.],\n",
       "       [1.],\n",
       "       [1.],\n",
       "       [1.],\n",
       "       [1.],\n",
       "       [1.],\n",
       "       [1.],\n",
       "       [1.],\n",
       "       [1.],\n",
       "       [1.],\n",
       "       [1.],\n",
       "       [1.],\n",
       "       [1.],\n",
       "       [1.],\n",
       "       [1.],\n",
       "       [1.],\n",
       "       [1.],\n",
       "       [1.],\n",
       "       [1.],\n",
       "       [1.],\n",
       "       [1.],\n",
       "       [1.],\n",
       "       [1.],\n",
       "       [1.],\n",
       "       [1.],\n",
       "       [1.],\n",
       "       [1.],\n",
       "       [1.],\n",
       "       [1.],\n",
       "       [1.],\n",
       "       [1.],\n",
       "       [1.],\n",
       "       [1.],\n",
       "       [1.],\n",
       "       [1.],\n",
       "       [1.],\n",
       "       [1.],\n",
       "       [1.],\n",
       "       [1.],\n",
       "       [1.],\n",
       "       [1.],\n",
       "       [1.],\n",
       "       [1.],\n",
       "       [1.],\n",
       "       [1.],\n",
       "       [1.],\n",
       "       [1.],\n",
       "       [1.],\n",
       "       [1.],\n",
       "       [1.],\n",
       "       [1.],\n",
       "       [1.],\n",
       "       [1.],\n",
       "       [1.],\n",
       "       [1.],\n",
       "       [1.],\n",
       "       [1.],\n",
       "       [1.],\n",
       "       [1.],\n",
       "       [1.],\n",
       "       [1.],\n",
       "       [1.],\n",
       "       [1.],\n",
       "       [1.],\n",
       "       [1.],\n",
       "       [1.]], dtype=float32)"
      ]
     },
     "execution_count": 41,
     "metadata": {},
     "output_type": "execute_result"
    }
   ],
   "source": [
    "ordered_label_issues\n",
    "print(len(ordered_label_issues))\n",
    "y.numpy()[ordered_label_issues]\n"
   ]
  }
 ],
 "metadata": {
  "kernelspec": {
   "display_name": "Python [conda env:RNAmodEnv]",
   "language": "python",
   "name": "conda-env-RNAmodEnv-py"
  },
  "language_info": {
   "codemirror_mode": {
    "name": "ipython",
    "version": 3
   },
   "file_extension": ".py",
   "mimetype": "text/x-python",
   "name": "python",
   "nbconvert_exporter": "python",
   "pygments_lexer": "ipython3",
   "version": "3.8.13"
  }
 },
 "nbformat": 4,
 "nbformat_minor": 5
}
