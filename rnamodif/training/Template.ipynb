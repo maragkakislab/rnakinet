{
 "cells": [
  {
   "cell_type": "code",
   "execution_count": 1,
   "id": "a58fe5d4-bc5c-4971-aa5f-a171cc25f791",
   "metadata": {},
   "outputs": [],
   "source": [
    "from pathlib import Path\n",
    "from rnamodif.data_utils.data_paths import name_to_files\n",
    "\n",
    "train_pos_files = name_to_files['nia_2022_pos']['train']\n",
    "train_neg_files = name_to_files['nia_2022_neg']['train']\n",
    "\n",
    "valid_exp_to_files_pos = {\n",
    "    '5eu_2020_pos':name_to_files['nia_2020_pos']['test'], \n",
    "    'Nanoid_pos':name_to_files['nano_pos_1']['test'], \n",
    "    '5eu_2022_chr1_pos':name_to_files['nia_2022_pos']['test']\n",
    "}\n",
    "\n",
    "valid_exp_to_files_neg = {\n",
    "    'UNM_2020':name_to_files['nia_2020_neg']['test'], \n",
    "    'Nanoid_neg':name_to_files['nano_neg_1']['test'], \n",
    "    '5eu_2022_chr1_neg':name_to_files['nia_2022_neg']['test']\n",
    "}"
   ]
  },
  {
   "cell_type": "code",
   "execution_count": 1,
   "id": "d2d8ec3a-2a40-45a3-9681-fda92347d41b",
   "metadata": {},
   "outputs": [],
   "source": [
    "from rnamodif.model import RodanPretrained\n",
    "from rnamodif.data_utils.dataloading_5eu import TrainingDatamodule\n",
    "import pytorch_lightning as pl\n",
    "from pytorch_lightning.loggers import CometLogger\n",
    "from pytorch_lightning.callbacks import ModelCheckpoint\n",
    "\n",
    "\n",
    "model = RodanPretrained(lr=1e-4, warmup_steps=3000, frozen_layers=0, gru_layers=1, gru_dropout=0.5, gru_hidden=32)\n",
    "\n",
    "dm = TrainingDatamodule(\n",
    "    train_pos_files=train_pos_files,\n",
    "    train_neg_files=train_neg_files,\n",
    "    valid_exp_to_files_pos=valid_exp_to_files_pos,\n",
    "    valid_exp_to_files_neg=valid_exp_to_files_neg,\n",
    "    batch_size=64, \n",
    "    window=4096,\n",
    "    per_dset_read_limit=250, \n",
    "    shuffle_valid=True,\n",
    "    workers=8,\n",
    ")\n",
    "\n",
    "experiment_name = 'TEMPLATE'\n",
    "checkpoint_callback = ModelCheckpoint(\n",
    "    dirpath=f\"/home/jovyan/RNAModif/rnamodif/checkpoints_pl/{experiment_name}\", \n",
    "    save_top_k=2, \n",
    "    monitor=\"valid_loss\", \n",
    "    save_last=True, \n",
    "    save_weights_only=False\n",
    ")\n",
    "\n",
    "logger = CometLogger(api_key=\"TEVQbgxxvilM1WdTyqZLJ57ac\", project_name='RNAModif', experiment_name=experiment_name) \n",
    "trainer= pl.Trainer(\n",
    "    max_steps = 1000000, logger=logger, accelerator='gpu',\n",
    "    auto_lr_find=False, val_check_interval=1000,  \n",
    "    log_every_n_steps=1000, benchmark=True, precision=16,\n",
    "    callbacks=[checkpoint_callback],\n",
    "    # resume_from_checkpoint=f'/home/jovyan/RNAModif/rnamodif/checkpoints_pl/{experiment_name}/lastX.ckpt'\n",
    ")\n",
    "\n",
    "\n",
    "trainer.fit(model, dm)"
   ]
  }
 ],
 "metadata": {
  "kernelspec": {
   "display_name": "Python [conda env:RNAmodEnvRod]",
   "language": "python",
   "name": "conda-env-RNAmodEnvRod-py"
  },
  "language_info": {
   "codemirror_mode": {
    "name": "ipython",
    "version": 3
   },
   "file_extension": ".py",
   "mimetype": "text/x-python",
   "name": "python",
   "nbconvert_exporter": "python",
   "pygments_lexer": "ipython3",
   "version": "3.8.13"
  }
 },
 "nbformat": 4,
 "nbformat_minor": 5
}
