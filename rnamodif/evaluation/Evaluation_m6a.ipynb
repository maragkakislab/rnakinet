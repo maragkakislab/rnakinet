{
 "cells": [
  {
   "cell_type": "code",
   "execution_count": 2,
   "id": "1ccf6736-c089-48e0-ae59-7520f351a168",
   "metadata": {},
   "outputs": [],
   "source": [
    "from rnamodif.evaluation.evaluation import run_eval\n",
    "from rnamodif.data_utils.split_methods import get_fullvalid_split, get_default_split, get_kfold_split_func\n",
    "from rnamodif.architectures.rodan_pretrained import RodanPretrained\n"
   ]
  },
  {
   "cell_type": "code",
   "execution_count": 3,
   "id": "1d86813b-2f05-413d-a747-311040757ba8",
   "metadata": {},
   "outputs": [
    {
     "name": "stdout",
     "output_type": "stream",
     "text": [
      "valid files indicies\n"
     ]
    },
    {
     "name": "stderr",
     "output_type": "stream",
     "text": [
      "Using 16bit native Automatic Mixed Precision (AMP)\n",
      "GPU available: True (cuda), used: True\n",
      "TPU available: False, using: 0 TPU cores\n",
      "IPU available: False, using: 0 IPUs\n",
      "HPU available: False, using: 0 HPUs\n",
      "LOCAL_RANK: 0 - CUDA_VISIBLE_DEVICES: [0]\n"
     ]
    },
    {
     "data": {
      "application/vnd.jupyter.widget-view+json": {
       "model_id": "28a83a4e0ccc43de9caeabdb655e7915",
       "version_major": 2,
       "version_minor": 0
      },
      "text/plain": [
       "Validation: 0it [00:00, ?it/s]"
      ]
     },
     "metadata": {},
     "output_type": "display_data"
    },
    {
     "name": "stdout",
     "output_type": "stream",
     "text": [
      "────────────────────────────────────────────────────────────────────────────────────────────────────────────────────────\n",
      "     Validate metric             DataLoader 0\n",
      "────────────────────────────────────────────────────────────────────────────────────────────────────────────────────────\n",
      "        valid acc             0.7001803517341614\n",
      "valid false_negatives_perc           0.0\n",
      "valid false_positives_perc   0.29981961846351624\n",
      "valid true_negatives_perc            0.0\n",
      "valid true_positives_perc     0.7001803517341614\n",
      "        valid_loss           0.45774734020233154\n",
      "────────────────────────────────────────────────────────────────────────────────────────────────────────────────────────\n"
     ]
    },
    {
     "data": {
      "text/plain": [
       "[{'valid_loss': 0.45774734020233154,\n",
       "  'valid true_negatives_perc': 0.0,\n",
       "  'valid false_negatives_perc': 0.0,\n",
       "  'valid true_positives_perc': 0.7001803517341614,\n",
       "  'valid false_positives_perc': 0.29981961846351624,\n",
       "  'valid acc': 0.7001803517341614}]"
      ]
     },
     "execution_count": 3,
     "metadata": {},
     "output_type": "execute_result"
    }
   ],
   "source": [
    "config = {\n",
    "    'pos_files':'m6A_33',\n",
    "    'neg_files':'empty',\n",
    "    'window':4096,\n",
    "    'split': get_default_split,\n",
    "    'arch': RodanPretrained,\n",
    "    'checkpoint': '/home/jovyan/RNAModif/rnamodif/checkpoints_pl/rodan_m6a_0vs33/epoch=0-step=48500.ckpt',\n",
    "}\n",
    "run_eval(config)"
   ]
  },
  {
   "cell_type": "code",
   "execution_count": 6,
   "id": "b56eca83-4c36-4c91-b707-e72ed697d5df",
   "metadata": {},
   "outputs": [
    {
     "name": "stdout",
     "output_type": "stream",
     "text": [
      "valid files indicies\n"
     ]
    },
    {
     "name": "stderr",
     "output_type": "stream",
     "text": [
      "Using 16bit native Automatic Mixed Precision (AMP)\n",
      "GPU available: True (cuda), used: True\n",
      "TPU available: False, using: 0 TPU cores\n",
      "IPU available: False, using: 0 IPUs\n",
      "HPU available: False, using: 0 HPUs\n",
      "LOCAL_RANK: 0 - CUDA_VISIBLE_DEVICES: [0]\n"
     ]
    },
    {
     "data": {
      "application/vnd.jupyter.widget-view+json": {
       "model_id": "8ff7c127e99444e186048ab28eca9c25",
       "version_major": 2,
       "version_minor": 0
      },
      "text/plain": [
       "Validation: 0it [00:00, ?it/s]"
      ]
     },
     "metadata": {},
     "output_type": "display_data"
    },
    {
     "name": "stdout",
     "output_type": "stream",
     "text": [
      "────────────────────────────────────────────────────────────────────────────────────────────────────────────────────────\n",
      "     Validate metric             DataLoader 0\n",
      "────────────────────────────────────────────────────────────────────────────────────────────────────────────────────────\n",
      "        valid acc             0.2676127254962921\n",
      "valid false_negatives_perc           0.0\n",
      "valid false_positives_perc    0.7323873043060303\n",
      "valid true_negatives_perc            0.0\n",
      "valid true_positives_perc     0.2676127254962921\n",
      "        valid_loss            1.2930151224136353\n",
      "────────────────────────────────────────────────────────────────────────────────────────────────────────────────────────\n"
     ]
    },
    {
     "data": {
      "text/plain": [
       "[{'valid_loss': 1.2930151224136353,\n",
       "  'valid true_negatives_perc': 0.0,\n",
       "  'valid false_negatives_perc': 0.0,\n",
       "  'valid true_positives_perc': 0.2676127254962921,\n",
       "  'valid false_positives_perc': 0.7323873043060303,\n",
       "  'valid acc': 0.2676127254962921}]"
      ]
     },
     "execution_count": 6,
     "metadata": {},
     "output_type": "execute_result"
    }
   ],
   "source": [
    "config = {\n",
    "    'pos_files':'m6A_10',\n",
    "    'neg_files':'empty',\n",
    "    'window':4096,\n",
    "    'split': get_fullvalid_split(limit=5, shuffle=True),\n",
    "    'arch': RodanPretrained,\n",
    "    'checkpoint': '/home/jovyan/RNAModif/rnamodif/checkpoints_pl/rodan_m6a_0vs33/epoch=0-step=48500.ckpt',\n",
    "}\n",
    "run_eval(config)"
   ]
  },
  {
   "cell_type": "code",
   "execution_count": 3,
   "id": "49c482d4-5041-45c2-8814-79f828ca5f42",
   "metadata": {},
   "outputs": [
    {
     "name": "stdout",
     "output_type": "stream",
     "text": [
      "valid files indicies\n"
     ]
    },
    {
     "name": "stderr",
     "output_type": "stream",
     "text": [
      "Using 16bit native Automatic Mixed Precision (AMP)\n",
      "GPU available: True (cuda), used: True\n",
      "TPU available: False, using: 0 TPU cores\n",
      "IPU available: False, using: 0 IPUs\n",
      "HPU available: False, using: 0 HPUs\n",
      "LOCAL_RANK: 0 - CUDA_VISIBLE_DEVICES: [0]\n"
     ]
    },
    {
     "data": {
      "application/vnd.jupyter.widget-view+json": {
       "model_id": "d4bb45208e2e423cac30101e16fb6410",
       "version_major": 2,
       "version_minor": 0
      },
      "text/plain": [
       "Validation: 0it [00:00, ?it/s]"
      ]
     },
     "metadata": {},
     "output_type": "display_data"
    },
    {
     "name": "stdout",
     "output_type": "stream",
     "text": [
      "────────────────────────────────────────────────────────────────────────────────────────────────────────────────────────\n",
      "     Validate metric             DataLoader 0\n",
      "────────────────────────────────────────────────────────────────────────────────────────────────────────────────────────\n",
      "        valid acc            0.12356147915124893\n",
      "valid false_negatives_perc           0.0\n",
      "valid false_positives_perc    0.8764384984970093\n",
      "valid true_negatives_perc            0.0\n",
      "valid true_positives_perc    0.12356147915124893\n",
      "        valid_loss            1.917173981666565\n",
      "────────────────────────────────────────────────────────────────────────────────────────────────────────────────────────\n"
     ]
    },
    {
     "data": {
      "text/plain": [
       "[{'valid_loss': 1.917173981666565,\n",
       "  'valid true_negatives_perc': 0.0,\n",
       "  'valid false_negatives_perc': 0.0,\n",
       "  'valid true_positives_perc': 0.12356147915124893,\n",
       "  'valid false_positives_perc': 0.8764384984970093,\n",
       "  'valid acc': 0.12356147915124893}]"
      ]
     },
     "execution_count": 3,
     "metadata": {},
     "output_type": "execute_result"
    }
   ],
   "source": [
    "config = {\n",
    "    'pos_files':'m6a_oguzhan',\n",
    "    'neg_files':'empty',\n",
    "    'window':4096,\n",
    "    'split': get_fullvalid_split(limit=1000),\n",
    "    'arch': RodanPretrained,\n",
    "    'checkpoint': '/home/jovyan/RNAModif/rnamodif/checkpoints_pl/rodan_m6a_0vs33/epoch=0-step=48500.ckpt',\n",
    "}\n",
    "run_eval(config)"
   ]
  }
 ],
 "metadata": {
  "kernelspec": {
   "display_name": "Python [conda env:RNAmodEnvRod]",
   "language": "python",
   "name": "conda-env-RNAmodEnvRod-py"
  },
  "language_info": {
   "codemirror_mode": {
    "name": "ipython",
    "version": 3
   },
   "file_extension": ".py",
   "mimetype": "text/x-python",
   "name": "python",
   "nbconvert_exporter": "python",
   "pygments_lexer": "ipython3",
   "version": "3.8.13"
  }
 },
 "nbformat": 4,
 "nbformat_minor": 5
}
