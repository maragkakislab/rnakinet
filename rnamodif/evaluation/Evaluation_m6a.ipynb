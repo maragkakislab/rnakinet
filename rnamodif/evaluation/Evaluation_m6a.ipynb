{
 "cells": [
  {
   "cell_type": "code",
   "execution_count": 1,
   "id": "1ccf6736-c089-48e0-ae59-7520f351a168",
   "metadata": {},
   "outputs": [],
   "source": [
    "from rnamodif.evaluation.evaluation import run_eval\n",
    "from rnamodif.data_utils.split_methods import get_fullvalid_split, get_default_split, get_kfold_split_func\n",
    "from rnamodif.architectures.rodan_pretrained import RodanPretrained\n"
   ]
  },
  {
   "cell_type": "code",
   "execution_count": 2,
   "id": "1d86813b-2f05-413d-a747-311040757ba8",
   "metadata": {},
   "outputs": [
    {
     "name": "stderr",
     "output_type": "stream",
     "text": [
      "Using 16bit native Automatic Mixed Precision (AMP)\n",
      "/home/jovyan/my-conda-envs/RNAmodEnvRod/lib/python3.8/site-packages/pytorch_lightning/loops/utilities.py:93: PossibleUserWarning: `max_epochs` was not set. Setting it to 1000 epochs. To train without an epoch limit, set `max_epochs=-1`.\n",
      "  rank_zero_warn(\n",
      "GPU available: True (cuda), used: True\n",
      "TPU available: False, using: 0 TPU cores\n",
      "IPU available: False, using: 0 IPUs\n",
      "HPU available: False, using: 0 HPUs\n",
      "LOCAL_RANK: 0 - CUDA_VISIBLE_DEVICES: [0]\n",
      "/home/jovyan/my-conda-envs/RNAmodEnvRod/lib/python3.8/site-packages/pytorch_lightning/trainer/connectors/data_connector.py:219: PossibleUserWarning: The dataloader, val_dataloader 0, does not have many workers which may be a bottleneck. Consider increasing the value of the `num_workers` argument` (try 128 which is the number of cpus on this machine) in the `DataLoader` init to improve performance.\n",
      "  rank_zero_warn(\n"
     ]
    },
    {
     "data": {
      "application/vnd.jupyter.widget-view+json": {
       "model_id": "7bbd63206a7444d5a73037b67d4bfd5f",
       "version_major": 2,
       "version_minor": 0
      },
      "text/plain": [
       "Validation: 0it [00:00, ?it/s]"
      ]
     },
     "metadata": {},
     "output_type": "display_data"
    },
    {
     "name": "stderr",
     "output_type": "stream",
     "text": [
      "/home/jovyan/my-conda-envs/RNAmodEnvRod/lib/python3.8/site-packages/pytorch_lightning/utilities/data.py:86: UserWarning: Trying to infer the `batch_size` from an ambiguous collection. The batch size we found is 32. To avoid any miscalculations, use `self.log(..., batch_size=batch_size)`.\n",
      "  warning_cache.warn(\n",
      "/home/jovyan/my-conda-envs/RNAmodEnvRod/lib/python3.8/site-packages/torchmetrics/utilities/prints.py:36: UserWarning: 2 NaN values found in confusion matrix have been replaced with zeros.\n",
      "  warnings.warn(*args, **kwargs)\n",
      "/home/jovyan/my-conda-envs/RNAmodEnvRod/lib/python3.8/site-packages/pytorch_lightning/utilities/data.py:86: UserWarning: Trying to infer the `batch_size` from an ambiguous collection. The batch size we found is 5. To avoid any miscalculations, use `self.log(..., batch_size=batch_size)`.\n",
      "  warning_cache.warn(\n"
     ]
    },
    {
     "name": "stdout",
     "output_type": "stream",
     "text": [
      "────────────────────────────────────────────────────────────────────────────────────────────────────────────────────────\n",
      "           Validate metric                         DataLoader 0\n",
      "────────────────────────────────────────────────────────────────────────────────────────────────────────────────────────\n",
      "        UNM_novoa_1 valid acc                   0.772620439529419\n",
      "UNM_novoa_1 valid false_positives_perc         0.22737956047058105\n",
      "UNM_novoa_1 valid true_negatives_perc           0.772620439529419\n",
      "        UNM_novoa_2 valid acc                   0.8520942330360413\n",
      "UNM_novoa_2 valid false_positives_perc         0.14790575206279755\n",
      "UNM_novoa_2 valid true_negatives_perc           0.8520942330360413\n",
      "        m6a_novoa_1 valid acc                  0.27781569957733154\n",
      "m6a_novoa_1 valid false_negatives_perc          0.7221843004226685\n",
      "m6a_novoa_1 valid true_positives_perc          0.27781569957733154\n",
      "        m6a_novoa_2 valid acc                  0.26745718717575073\n",
      "m6a_novoa_2 valid false_negatives_perc          0.7325428128242493\n",
      "m6a_novoa_2 valid true_positives_perc          0.26745718717575073\n",
      "              valid acc                         0.5520682334899902\n",
      "      valid false_negatives_perc                0.7249715328216553\n",
      "      valid false_positives_perc                0.1902378648519516\n",
      "      valid true_negatives_perc                 0.8097621202468872\n",
      "      valid true_positives_perc                 0.2750284969806671\n",
      "              valid_loss                        1.0719046592712402\n",
      "────────────────────────────────────────────────────────────────────────────────────────────────────────────────────────\n"
     ]
    },
    {
     "data": {
      "text/plain": [
       "[{'valid_loss': 1.0719046592712402,\n",
       "  'valid true_positives_perc': 0.2750284969806671,\n",
       "  'valid false_negatives_perc': 0.7249715328216553,\n",
       "  'valid acc': 0.5520682334899902,\n",
       "  'm6a_novoa_1 valid true_positives_perc': 0.27781569957733154,\n",
       "  'm6a_novoa_1 valid false_negatives_perc': 0.7221843004226685,\n",
       "  'm6a_novoa_1 valid acc': 0.27781569957733154,\n",
       "  'm6a_novoa_2 valid true_positives_perc': 0.26745718717575073,\n",
       "  'm6a_novoa_2 valid false_negatives_perc': 0.7325428128242493,\n",
       "  'm6a_novoa_2 valid acc': 0.26745718717575073,\n",
       "  'valid true_negatives_perc': 0.8097621202468872,\n",
       "  'valid false_positives_perc': 0.1902378648519516,\n",
       "  'UNM_novoa_1 valid true_negatives_perc': 0.772620439529419,\n",
       "  'UNM_novoa_1 valid false_positives_perc': 0.22737956047058105,\n",
       "  'UNM_novoa_1 valid acc': 0.772620439529419,\n",
       "  'UNM_novoa_2 valid true_negatives_perc': 0.8520942330360413,\n",
       "  'UNM_novoa_2 valid false_positives_perc': 0.14790575206279755,\n",
       "  'UNM_novoa_2 valid acc': 0.8520942330360413}]"
      ]
     },
     "execution_count": 2,
     "metadata": {},
     "output_type": "execute_result"
    }
   ],
   "source": [
    "config = { \n",
    "    'pos_files':['m6a_novoa_1','m6a_novoa_2'],\n",
    "    'neg_files':['UNM_novoa_1','UNM_novoa_2'],\n",
    "    'window':4096,\n",
    "    'split': get_fullvalid_split(limit=100),\n",
    "    'arch': RodanPretrained,\n",
    "    'checkpoint': '/home/jovyan/RNAModif/rnamodif/checkpoints_pl/m6a_nih_mix/epoch=0-step=58000.ckpt',\n",
    "    'workers':1, \n",
    "}\n",
    "\n",
    "run_eval(config)"
   ]
  },
  {
   "cell_type": "code",
   "execution_count": 3,
   "id": "b56eca83-4c36-4c91-b707-e72ed697d5df",
   "metadata": {},
   "outputs": [
    {
     "name": "stderr",
     "output_type": "stream",
     "text": [
      "Using 16bit native Automatic Mixed Precision (AMP)\n",
      "/home/jovyan/my-conda-envs/RNAmodEnvRod/lib/python3.8/site-packages/pytorch_lightning/loops/utilities.py:93: PossibleUserWarning: `max_epochs` was not set. Setting it to 1000 epochs. To train without an epoch limit, set `max_epochs=-1`.\n",
      "  rank_zero_warn(\n",
      "GPU available: True (cuda), used: True\n",
      "TPU available: False, using: 0 TPU cores\n",
      "IPU available: False, using: 0 IPUs\n",
      "HPU available: False, using: 0 HPUs\n",
      "LOCAL_RANK: 0 - CUDA_VISIBLE_DEVICES: [0]\n",
      "/home/jovyan/my-conda-envs/RNAmodEnvRod/lib/python3.8/site-packages/pytorch_lightning/trainer/connectors/data_connector.py:219: PossibleUserWarning: The dataloader, val_dataloader 0, does not have many workers which may be a bottleneck. Consider increasing the value of the `num_workers` argument` (try 128 which is the number of cpus on this machine) in the `DataLoader` init to improve performance.\n",
      "  rank_zero_warn(\n"
     ]
    },
    {
     "data": {
      "application/vnd.jupyter.widget-view+json": {
       "model_id": "3f5e12df3191459c9ea8656f5f6ac007",
       "version_major": 2,
       "version_minor": 0
      },
      "text/plain": [
       "Validation: 0it [00:00, ?it/s]"
      ]
     },
     "metadata": {},
     "output_type": "display_data"
    },
    {
     "name": "stderr",
     "output_type": "stream",
     "text": [
      "/home/jovyan/my-conda-envs/RNAmodEnvRod/lib/python3.8/site-packages/pytorch_lightning/utilities/data.py:86: UserWarning: Trying to infer the `batch_size` from an ambiguous collection. The batch size we found is 32. To avoid any miscalculations, use `self.log(..., batch_size=batch_size)`.\n",
      "  warning_cache.warn(\n",
      "/home/jovyan/my-conda-envs/RNAmodEnvRod/lib/python3.8/site-packages/torchmetrics/utilities/prints.py:36: UserWarning: 2 NaN values found in confusion matrix have been replaced with zeros.\n",
      "  warnings.warn(*args, **kwargs)\n",
      "/home/jovyan/my-conda-envs/RNAmodEnvRod/lib/python3.8/site-packages/pytorch_lightning/utilities/data.py:86: UserWarning: Trying to infer the `batch_size` from an ambiguous collection. The batch size we found is 12. To avoid any miscalculations, use `self.log(..., batch_size=batch_size)`.\n",
      "  warning_cache.warn(\n"
     ]
    },
    {
     "name": "stdout",
     "output_type": "stream",
     "text": [
      "────────────────────────────────────────────────────────────────────────────────────────────────────────────────────────\n",
      "            Validate metric                         DataLoader 0\n",
      "────────────────────────────────────────────────────────────────────────────────────────────────────────────────────────\n",
      "         m6A_0_covid valid acc                   0.8405851125717163\n",
      "m6A_0_covid valid false_positives_perc           0.1594148874282837\n",
      " m6A_0_covid valid true_negatives_perc           0.8405851125717163\n",
      "        m6A_10_covid valid acc                   0.15442004799842834\n",
      "m6A_10_covid valid false_negatives_perc          0.8455799221992493\n",
      "m6A_10_covid valid true_positives_perc           0.15442004799842834\n",
      "        m6A_33_covid valid acc                   0.2084510773420334\n",
      "m6A_33_covid valid false_negatives_perc          0.7915489077568054\n",
      "m6A_33_covid valid true_positives_perc           0.2084510773420334\n",
      "         m6A_5_covid valid acc                   0.14166666567325592\n",
      "m6A_5_covid valid false_negatives_perc           0.8583333492279053\n",
      " m6A_5_covid valid true_positives_perc           0.14166666567325592\n",
      "               valid acc                         0.3385144770145416\n",
      "      valid false_negatives_perc                 0.8316279649734497\n",
      "      valid false_positives_perc                 0.1594000607728958\n",
      "       valid true_negatives_perc                 0.8405999541282654\n",
      "       valid true_positives_perc                 0.1683720499277115\n",
      "              valid_loss                         1.9802101850509644\n",
      "────────────────────────────────────────────────────────────────────────────────────────────────────────────────────────\n"
     ]
    },
    {
     "data": {
      "text/plain": [
       "[{'valid_loss': 1.9802101850509644,\n",
       "  'valid true_positives_perc': 0.1683720499277115,\n",
       "  'valid false_negatives_perc': 0.8316279649734497,\n",
       "  'valid acc': 0.3385144770145416,\n",
       "  'm6A_5_covid valid true_positives_perc': 0.14166666567325592,\n",
       "  'm6A_5_covid valid false_negatives_perc': 0.8583333492279053,\n",
       "  'm6A_5_covid valid acc': 0.14166666567325592,\n",
       "  'm6A_10_covid valid true_positives_perc': 0.15442004799842834,\n",
       "  'm6A_10_covid valid false_negatives_perc': 0.8455799221992493,\n",
       "  'm6A_10_covid valid acc': 0.15442004799842834,\n",
       "  'm6A_33_covid valid true_positives_perc': 0.2084510773420334,\n",
       "  'm6A_33_covid valid false_negatives_perc': 0.7915489077568054,\n",
       "  'm6A_33_covid valid acc': 0.2084510773420334,\n",
       "  'valid true_negatives_perc': 0.8405999541282654,\n",
       "  'valid false_positives_perc': 0.1594000607728958,\n",
       "  'm6A_0_covid valid true_negatives_perc': 0.8405851125717163,\n",
       "  'm6A_0_covid valid false_positives_perc': 0.1594148874282837,\n",
       "  'm6A_0_covid valid acc': 0.8405851125717163}]"
      ]
     },
     "execution_count": 3,
     "metadata": {},
     "output_type": "execute_result"
    }
   ],
   "source": [
    "config = { \n",
    "    'pos_files':['m6A_5_covid','m6A_10_covid', 'm6A_33_covid'],\n",
    "    'neg_files':['m6A_0_covid'],\n",
    "    'window':4096,\n",
    "    'split': get_fullvalid_split(limit=1),\n",
    "    'arch': RodanPretrained,\n",
    "    'checkpoint': '/home/jovyan/RNAModif/rnamodif/checkpoints_pl/m6a_novoa_mix/epoch=0-step=117000.ckpt',\n",
    "    'workers':1, \n",
    "}\n",
    "\n",
    "run_eval(config)"
   ]
  },
  {
   "cell_type": "code",
   "execution_count": null,
   "id": "ddd30765-8b1f-47b8-8466-629a23668f5e",
   "metadata": {},
   "outputs": [
    {
     "name": "stderr",
     "output_type": "stream",
     "text": [
      "Using 16bit native Automatic Mixed Precision (AMP)\n",
      "GPU available: True (cuda), used: True\n",
      "TPU available: False, using: 0 TPU cores\n",
      "IPU available: False, using: 0 IPUs\n",
      "HPU available: False, using: 0 HPUs\n",
      "LOCAL_RANK: 0 - CUDA_VISIBLE_DEVICES: [0]\n"
     ]
    },
    {
     "data": {
      "application/vnd.jupyter.widget-view+json": {
       "model_id": "ce2130bb0e4d4999bb8c815d7bacca28",
       "version_major": 2,
       "version_minor": 0
      },
      "text/plain": [
       "Validation: 0it [00:00, ?it/s]"
      ]
     },
     "metadata": {},
     "output_type": "display_data"
    }
   ],
   "source": [
    "config = { \n",
    "    'pos_files':['m6A_5_covid','m6A_10_covid', 'm6A_33_covid'],\n",
    "    'neg_files':['m6A_0_covid'],\n",
    "    'window':512,\n",
    "    'split': get_fullvalid_split(limit=1),\n",
    "    'arch': RodanPretrained,\n",
    "    'checkpoint': '/home/jovyan/RNAModif/rnamodif/checkpoints_pl/m6a_novoa_mix_short/epoch=0-step=126000.ckpt',\n",
    "    'workers':1, \n",
    "}\n",
    "\n",
    "run_eval(config)"
   ]
  }
 ],
 "metadata": {
  "kernelspec": {
   "display_name": "Python [conda env:RNAmodEnvRod]",
   "language": "python",
   "name": "conda-env-RNAmodEnvRod-py"
  },
  "language_info": {
   "codemirror_mode": {
    "name": "ipython",
    "version": 3
   },
   "file_extension": ".py",
   "mimetype": "text/x-python",
   "name": "python",
   "nbconvert_exporter": "python",
   "pygments_lexer": "ipython3",
   "version": "3.8.13"
  }
 },
 "nbformat": 4,
 "nbformat_minor": 5
}
