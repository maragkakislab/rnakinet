{
 "cells": [
  {
   "cell_type": "code",
   "execution_count": 1,
   "id": "1ccf6736-c089-48e0-ae59-7520f351a168",
   "metadata": {},
   "outputs": [],
   "source": [
    "from rnamodif.evaluation.evaluation import run_eval\n",
    "from rnamodif.data_utils.split_methods import get_fullvalid_split, get_default_split, get_kfold_split_func\n",
    "from rnamodif.architectures.rodan_pretrained import RodanPretrained\n"
   ]
  },
  {
   "cell_type": "code",
   "execution_count": 2,
   "id": "1d86813b-2f05-413d-a747-311040757ba8",
   "metadata": {},
   "outputs": [
    {
     "name": "stderr",
     "output_type": "stream",
     "text": [
      "Using 16bit native Automatic Mixed Precision (AMP)\n",
      "/home/jovyan/my-conda-envs/RNAmodEnvRod/lib/python3.8/site-packages/pytorch_lightning/loops/utilities.py:93: PossibleUserWarning: `max_epochs` was not set. Setting it to 1000 epochs. To train without an epoch limit, set `max_epochs=-1`.\n",
      "  rank_zero_warn(\n",
      "GPU available: True (cuda), used: True\n",
      "TPU available: False, using: 0 TPU cores\n",
      "IPU available: False, using: 0 IPUs\n",
      "HPU available: False, using: 0 HPUs\n",
      "LOCAL_RANK: 0 - CUDA_VISIBLE_DEVICES: [0]\n",
      "/home/jovyan/my-conda-envs/RNAmodEnvRod/lib/python3.8/site-packages/pytorch_lightning/trainer/connectors/data_connector.py:219: PossibleUserWarning: The dataloader, val_dataloader 0, does not have many workers which may be a bottleneck. Consider increasing the value of the `num_workers` argument` (try 128 which is the number of cpus on this machine) in the `DataLoader` init to improve performance.\n",
      "  rank_zero_warn(\n"
     ]
    },
    {
     "data": {
      "application/vnd.jupyter.widget-view+json": {
       "model_id": "150d760333ff43098a931c1a4998cf8c",
       "version_major": 2,
       "version_minor": 0
      },
      "text/plain": [
       "Validation: 0it [00:00, ?it/s]"
      ]
     },
     "metadata": {},
     "output_type": "display_data"
    },
    {
     "name": "stderr",
     "output_type": "stream",
     "text": [
      "/home/jovyan/my-conda-envs/RNAmodEnvRod/lib/python3.8/site-packages/torchmetrics/utilities/prints.py:36: UserWarning: 2 nan values found in confusion matrix have been replaced with zeros.\n",
      "  warnings.warn(*args, **kwargs)\n"
     ]
    },
    {
     "name": "stdout",
     "output_type": "stream",
     "text": [
      "────────────────────────────────────────────────────────────────────────────────────────────────────────────────────────\n",
      "     Validate metric             DataLoader 0\n",
      "────────────────────────────────────────────────────────────────────────────────────────────────────────────────────────\n",
      "        valid acc             0.944818913936615\n",
      "valid false_negatives_perc           0.0\n",
      "valid false_positives_perc   0.05518106371164322\n",
      "valid true_negatives_perc            0.0\n",
      "valid true_positives_perc     0.944818913936615\n",
      "        valid_loss            0.360751211643219\n",
      "────────────────────────────────────────────────────────────────────────────────────────────────────────────────────────\n"
     ]
    },
    {
     "data": {
      "text/plain": [
       "[{'valid_loss': 0.360751211643219,\n",
       "  'valid true_negatives_perc': 0.0,\n",
       "  'valid false_negatives_perc': 0.0,\n",
       "  'valid true_positives_perc': 0.944818913936615,\n",
       "  'valid false_positives_perc': 0.05518106371164322,\n",
       "  'valid acc': 0.944818913936615}]"
      ]
     },
     "execution_count": 2,
     "metadata": {},
     "output_type": "execute_result"
    }
   ],
   "source": [
    "config = {\n",
    "    'pos_files':'m6A_10_covid',\n",
    "    'neg_files':'empty', #TODO enable this to be [] or empty or NONE\n",
    "    'window':4096,\n",
    "    'split': get_fullvalid_split(limit=2),\n",
    "    'arch': RodanPretrained,\n",
    "    'checkpoint': '/home/jovyan/RNAModif/rnamodif/checkpoints_pl/m6a_mix/epoch=0-step=52000.ckpt',\n",
    "    'workers':2, \n",
    "}\n",
    "run_eval(config)"
   ]
  },
  {
   "cell_type": "code",
   "execution_count": 6,
   "id": "b56eca83-4c36-4c91-b707-e72ed697d5df",
   "metadata": {},
   "outputs": [
    {
     "name": "stdout",
     "output_type": "stream",
     "text": [
      "valid files indicies\n"
     ]
    },
    {
     "name": "stderr",
     "output_type": "stream",
     "text": [
      "Using 16bit native Automatic Mixed Precision (AMP)\n",
      "GPU available: True (cuda), used: True\n",
      "TPU available: False, using: 0 TPU cores\n",
      "IPU available: False, using: 0 IPUs\n",
      "HPU available: False, using: 0 HPUs\n",
      "LOCAL_RANK: 0 - CUDA_VISIBLE_DEVICES: [0]\n"
     ]
    },
    {
     "data": {
      "application/vnd.jupyter.widget-view+json": {
       "model_id": "8ff7c127e99444e186048ab28eca9c25",
       "version_major": 2,
       "version_minor": 0
      },
      "text/plain": [
       "Validation: 0it [00:00, ?it/s]"
      ]
     },
     "metadata": {},
     "output_type": "display_data"
    },
    {
     "name": "stdout",
     "output_type": "stream",
     "text": [
      "────────────────────────────────────────────────────────────────────────────────────────────────────────────────────────\n",
      "     Validate metric             DataLoader 0\n",
      "────────────────────────────────────────────────────────────────────────────────────────────────────────────────────────\n",
      "        valid acc             0.2676127254962921\n",
      "valid false_negatives_perc           0.0\n",
      "valid false_positives_perc    0.7323873043060303\n",
      "valid true_negatives_perc            0.0\n",
      "valid true_positives_perc     0.2676127254962921\n",
      "        valid_loss            1.2930151224136353\n",
      "────────────────────────────────────────────────────────────────────────────────────────────────────────────────────────\n"
     ]
    },
    {
     "data": {
      "text/plain": [
       "[{'valid_loss': 1.2930151224136353,\n",
       "  'valid true_negatives_perc': 0.0,\n",
       "  'valid false_negatives_perc': 0.0,\n",
       "  'valid true_positives_perc': 0.2676127254962921,\n",
       "  'valid false_positives_perc': 0.7323873043060303,\n",
       "  'valid acc': 0.2676127254962921}]"
      ]
     },
     "execution_count": 6,
     "metadata": {},
     "output_type": "execute_result"
    }
   ],
   "source": [
    "config = {\n",
    "    'pos_files':'m6A_10',\n",
    "    'neg_files':'empty',\n",
    "    'window':4096,\n",
    "    'split': get_fullvalid_split(limit=5, shuffle=True),\n",
    "    'arch': RodanPretrained,\n",
    "    'checkpoint': '/home/jovyan/RNAModif/rnamodif/checkpoints_pl/rodan_m6a_0vs33/epoch=0-step=48500.ckpt',\n",
    "}\n",
    "run_eval(config)"
   ]
  },
  {
   "cell_type": "code",
   "execution_count": 3,
   "id": "49c482d4-5041-45c2-8814-79f828ca5f42",
   "metadata": {},
   "outputs": [
    {
     "name": "stdout",
     "output_type": "stream",
     "text": [
      "valid files indicies\n"
     ]
    },
    {
     "name": "stderr",
     "output_type": "stream",
     "text": [
      "Using 16bit native Automatic Mixed Precision (AMP)\n",
      "GPU available: True (cuda), used: True\n",
      "TPU available: False, using: 0 TPU cores\n",
      "IPU available: False, using: 0 IPUs\n",
      "HPU available: False, using: 0 HPUs\n",
      "LOCAL_RANK: 0 - CUDA_VISIBLE_DEVICES: [0]\n"
     ]
    },
    {
     "data": {
      "application/vnd.jupyter.widget-view+json": {
       "model_id": "d4bb45208e2e423cac30101e16fb6410",
       "version_major": 2,
       "version_minor": 0
      },
      "text/plain": [
       "Validation: 0it [00:00, ?it/s]"
      ]
     },
     "metadata": {},
     "output_type": "display_data"
    },
    {
     "name": "stdout",
     "output_type": "stream",
     "text": [
      "────────────────────────────────────────────────────────────────────────────────────────────────────────────────────────\n",
      "     Validate metric             DataLoader 0\n",
      "────────────────────────────────────────────────────────────────────────────────────────────────────────────────────────\n",
      "        valid acc            0.12356147915124893\n",
      "valid false_negatives_perc           0.0\n",
      "valid false_positives_perc    0.8764384984970093\n",
      "valid true_negatives_perc            0.0\n",
      "valid true_positives_perc    0.12356147915124893\n",
      "        valid_loss            1.917173981666565\n",
      "────────────────────────────────────────────────────────────────────────────────────────────────────────────────────────\n"
     ]
    },
    {
     "data": {
      "text/plain": [
       "[{'valid_loss': 1.917173981666565,\n",
       "  'valid true_negatives_perc': 0.0,\n",
       "  'valid false_negatives_perc': 0.0,\n",
       "  'valid true_positives_perc': 0.12356147915124893,\n",
       "  'valid false_positives_perc': 0.8764384984970093,\n",
       "  'valid acc': 0.12356147915124893}]"
      ]
     },
     "execution_count": 3,
     "metadata": {},
     "output_type": "execute_result"
    }
   ],
   "source": [
    "config = {\n",
    "    'pos_files':'m6a_oguzhan',\n",
    "    'neg_files':'empty',\n",
    "    'window':4096,\n",
    "    'split': get_fullvalid_split(limit=1000),\n",
    "    'arch': RodanPretrained,\n",
    "    'checkpoint': '/home/jovyan/RNAModif/rnamodif/checkpoints_pl/rodan_m6a_0vs33/epoch=0-step=48500.ckpt',\n",
    "}\n",
    "run_eval(config)"
   ]
  }
 ],
 "metadata": {
  "kernelspec": {
   "display_name": "Python [conda env:RNAmodEnvRod]",
   "language": "python",
   "name": "conda-env-RNAmodEnvRod-py"
  },
  "language_info": {
   "codemirror_mode": {
    "name": "ipython",
    "version": 3
   },
   "file_extension": ".py",
   "mimetype": "text/x-python",
   "name": "python",
   "nbconvert_exporter": "python",
   "pygments_lexer": "ipython3",
   "version": "3.8.13"
  }
 },
 "nbformat": 4,
 "nbformat_minor": 5
}
