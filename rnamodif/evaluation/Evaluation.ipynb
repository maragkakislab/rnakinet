{
 "cells": [
  {
   "cell_type": "code",
   "execution_count": 1,
   "id": "1ccf6736-c089-48e0-ae59-7520f351a168",
   "metadata": {},
   "outputs": [],
   "source": [
    "from rnamodif.evaluation.evaluation import run_eval\n",
    "from rnamodif.data_utils.split_methods import get_fullvalid_split, get_default_split, get_kfold_split_func\n",
    "from rnamodif.architectures.rodan_pretrained import RodanPretrained\n"
   ]
  },
  {
   "cell_type": "code",
   "execution_count": 6,
   "id": "1fd1282f-f8bd-4cd8-ada7-88916afda55f",
   "metadata": {},
   "outputs": [
    {
     "name": "stdout",
     "output_type": "stream",
     "text": [
      "valid files indicies\n"
     ]
    },
    {
     "name": "stderr",
     "output_type": "stream",
     "text": [
      "Using 16bit native Automatic Mixed Precision (AMP)\n",
      "GPU available: True (cuda), used: True\n",
      "TPU available: False, using: 0 TPU cores\n",
      "IPU available: False, using: 0 IPUs\n",
      "HPU available: False, using: 0 HPUs\n",
      "LOCAL_RANK: 0 - CUDA_VISIBLE_DEVICES: [0]\n"
     ]
    },
    {
     "data": {
      "application/vnd.jupyter.widget-view+json": {
       "model_id": "4fcffbd7335c4374a2a099d57892a11b",
       "version_major": 2,
       "version_minor": 0
      },
      "text/plain": [
       "Validation: 0it [00:00, ?it/s]"
      ]
     },
     "metadata": {},
     "output_type": "display_data"
    },
    {
     "name": "stdout",
     "output_type": "stream",
     "text": [
      "────────────────────────────────────────────────────────────────────────────────────────────────────────────────────────\n",
      "     Validate metric             DataLoader 0\n",
      "────────────────────────────────────────────────────────────────────────────────────────────────────────────────────────\n",
      "        valid acc             0.7765377163887024\n",
      "valid false_negatives_perc           0.0\n",
      "valid false_positives_perc    0.2234622687101364\n",
      "valid true_negatives_perc            0.0\n",
      "valid true_positives_perc     0.7765377163887024\n",
      "        valid_loss           0.26912349462509155\n",
      "────────────────────────────────────────────────────────────────────────────────────────────────────────────────────────\n"
     ]
    },
    {
     "data": {
      "text/plain": [
       "[{'valid_loss': 0.26912349462509155,\n",
       "  'valid true_negatives_perc': 0.0,\n",
       "  'valid false_negatives_perc': 0.0,\n",
       "  'valid true_positives_perc': 0.7765377163887024,\n",
       "  'valid false_positives_perc': 0.2234622687101364,\n",
       "  'valid acc': 0.7765377163887024}]"
      ]
     },
     "execution_count": 6,
     "metadata": {},
     "output_type": "execute_result"
    }
   ],
   "source": [
    "config = {\n",
    "    'pos_files':'m5c_oguzhan',\n",
    "    'neg_files':'empty',\n",
    "    'window':4096,\n",
    "    'split': get_fullvalid_split(limit=None),\n",
    "    'arch': RodanPretrained,\n",
    "    'checkpoint': '/home/jovyan/RNAModif/rnamodif/checkpoints_pl/rodan_m5c_0vs10/epoch=0-step=35000.ckpt',\n",
    "}\n",
    "run_eval(config)"
   ]
  },
  {
   "cell_type": "code",
   "execution_count": 5,
   "id": "c9179c3f-cdad-43c7-8b9e-dc88cc1a83b5",
   "metadata": {},
   "outputs": [
    {
     "name": "stdout",
     "output_type": "stream",
     "text": [
      "valid files indicies\n"
     ]
    },
    {
     "name": "stderr",
     "output_type": "stream",
     "text": [
      "Using 16bit native Automatic Mixed Precision (AMP)\n",
      "GPU available: True (cuda), used: True\n",
      "TPU available: False, using: 0 TPU cores\n",
      "IPU available: False, using: 0 IPUs\n",
      "HPU available: False, using: 0 HPUs\n",
      "LOCAL_RANK: 0 - CUDA_VISIBLE_DEVICES: [0]\n"
     ]
    },
    {
     "data": {
      "application/vnd.jupyter.widget-view+json": {
       "model_id": "1826e1c1cd0f4ec9882d414ea5ee0c35",
       "version_major": 2,
       "version_minor": 0
      },
      "text/plain": [
       "Validation: 0it [00:00, ?it/s]"
      ]
     },
     "metadata": {},
     "output_type": "display_data"
    },
    {
     "name": "stdout",
     "output_type": "stream",
     "text": [
      "────────────────────────────────────────────────────────────────────────────────────────────────────────────────────────\n",
      "     Validate metric             DataLoader 0\n",
      "────────────────────────────────────────────────────────────────────────────────────────────────────────────────────────\n",
      "        valid acc             0.7990233898162842\n",
      "valid false_negatives_perc           0.0\n",
      "valid false_positives_perc   0.20097658038139343\n",
      "valid true_negatives_perc            0.0\n",
      "valid true_positives_perc     0.7990233898162842\n",
      "        valid_loss           0.34331682324409485\n",
      "────────────────────────────────────────────────────────────────────────────────────────────────────────────────────────\n"
     ]
    },
    {
     "data": {
      "text/plain": [
       "[{'valid_loss': 0.34331682324409485,\n",
       "  'valid true_negatives_perc': 0.0,\n",
       "  'valid false_negatives_perc': 0.0,\n",
       "  'valid true_positives_perc': 0.7990233898162842,\n",
       "  'valid false_positives_perc': 0.20097658038139343,\n",
       "  'valid acc': 0.7990233898162842}]"
      ]
     },
     "execution_count": 5,
     "metadata": {},
     "output_type": "execute_result"
    }
   ],
   "source": [
    "config = {\n",
    "    'pos_files':'m5C_10',\n",
    "    'neg_files':'empty',\n",
    "    'window':4096,\n",
    "    'split': get_default_split,\n",
    "    'arch': RodanPretrained,\n",
    "    'checkpoint': '/home/jovyan/RNAModif/rnamodif/checkpoints_pl/rodan_m5c_0vs10/epoch=0-step=35000.ckpt',\n",
    "}\n",
    "run_eval(config)"
   ]
  },
  {
   "cell_type": "code",
   "execution_count": 2,
   "id": "4a1a4206-c88e-4046-abb2-b720b2bd53f7",
   "metadata": {},
   "outputs": [
    {
     "name": "stdout",
     "output_type": "stream",
     "text": [
      "valid files indicies\n"
     ]
    },
    {
     "name": "stderr",
     "output_type": "stream",
     "text": [
      "Using 16bit native Automatic Mixed Precision (AMP)\n",
      "/home/jovyan/my-conda-envs/RNAmodEnvRod/lib/python3.8/site-packages/pytorch_lightning/loops/utilities.py:93: PossibleUserWarning: `max_epochs` was not set. Setting it to 1000 epochs. To train without an epoch limit, set `max_epochs=-1`.\n",
      "  rank_zero_warn(\n",
      "GPU available: True (cuda), used: True\n",
      "TPU available: False, using: 0 TPU cores\n",
      "IPU available: False, using: 0 IPUs\n",
      "HPU available: False, using: 0 HPUs\n",
      "LOCAL_RANK: 0 - CUDA_VISIBLE_DEVICES: [0]\n",
      "/home/jovyan/my-conda-envs/RNAmodEnvRod/lib/python3.8/site-packages/pytorch_lightning/trainer/connectors/data_connector.py:219: PossibleUserWarning: The dataloader, val_dataloader 0, does not have many workers which may be a bottleneck. Consider increasing the value of the `num_workers` argument` (try 128 which is the number of cpus on this machine) in the `DataLoader` init to improve performance.\n",
      "  rank_zero_warn(\n"
     ]
    },
    {
     "data": {
      "application/vnd.jupyter.widget-view+json": {
       "model_id": "c34cadbb9f274cb193a6b2343f1eb91c",
       "version_major": 2,
       "version_minor": 0
      },
      "text/plain": [
       "Validation: 0it [00:00, ?it/s]"
      ]
     },
     "metadata": {},
     "output_type": "display_data"
    },
    {
     "name": "stderr",
     "output_type": "stream",
     "text": [
      "/home/jovyan/my-conda-envs/RNAmodEnvRod/lib/python3.8/site-packages/torchmetrics/utilities/prints.py:36: UserWarning: 2 nan values found in confusion matrix have been replaced with zeros.\n",
      "  warnings.warn(*args, **kwargs)\n"
     ]
    },
    {
     "name": "stdout",
     "output_type": "stream",
     "text": [
      "────────────────────────────────────────────────────────────────────────────────────────────────────────────────────────\n",
      "     Validate metric             DataLoader 0\n",
      "────────────────────────────────────────────────────────────────────────────────────────────────────────────────────────\n",
      "        valid acc             0.6020775437355042\n",
      "valid false_negatives_perc           0.0\n",
      "valid false_positives_perc   0.39792245626449585\n",
      "valid true_negatives_perc            0.0\n",
      "valid true_positives_perc     0.6020775437355042\n",
      "        valid_loss            0.6336615681648254\n",
      "────────────────────────────────────────────────────────────────────────────────────────────────────────────────────────\n"
     ]
    },
    {
     "data": {
      "text/plain": [
       "[{'valid_loss': 0.6336615681648254,\n",
       "  'valid true_negatives_perc': 0.0,\n",
       "  'valid false_negatives_perc': 0.0,\n",
       "  'valid true_positives_perc': 0.6020775437355042,\n",
       "  'valid false_positives_perc': 0.39792245626449585,\n",
       "  'valid acc': 0.6020775437355042}]"
      ]
     },
     "execution_count": 2,
     "metadata": {},
     "output_type": "execute_result"
    }
   ],
   "source": [
    "config = {\n",
    "    'pos_files':'pos_2022',\n",
    "    'neg_files':'empty',\n",
    "    'window':4096,\n",
    "    'split': get_kfold_split_func(total_k=5, current_k=0, limit=10),\n",
    "    'arch': RodanPretrained,\n",
    "    'checkpoint': '/home/jovyan/RNAModif/rnamodif/checkpoints_pl/rodan_2022_clean_0of5/epoch=0-step=729500.ckpt',\n",
    "}\n",
    "run_eval(config)"
   ]
  },
  {
   "cell_type": "code",
   "execution_count": 4,
   "id": "d1c8447e-9eda-48cb-9c7a-c914818fe122",
   "metadata": {},
   "outputs": [
    {
     "name": "stdout",
     "output_type": "stream",
     "text": [
      "valid files indicies\n"
     ]
    },
    {
     "name": "stderr",
     "output_type": "stream",
     "text": [
      "Using 16bit native Automatic Mixed Precision (AMP)\n",
      "GPU available: True (cuda), used: True\n",
      "TPU available: False, using: 0 TPU cores\n",
      "IPU available: False, using: 0 IPUs\n",
      "HPU available: False, using: 0 HPUs\n",
      "LOCAL_RANK: 0 - CUDA_VISIBLE_DEVICES: [0]\n"
     ]
    },
    {
     "data": {
      "application/vnd.jupyter.widget-view+json": {
       "model_id": "1dce6aac351a48c18a2c7948686e57ce",
       "version_major": 2,
       "version_minor": 0
      },
      "text/plain": [
       "Validation: 0it [00:00, ?it/s]"
      ]
     },
     "metadata": {},
     "output_type": "display_data"
    },
    {
     "name": "stderr",
     "output_type": "stream",
     "text": [
      "/home/jovyan/my-conda-envs/RNAmodEnvRod/lib/python3.8/site-packages/pytorch_lightning/trainer/trainer.py:657: UserWarning: Detected KeyboardInterrupt, attempting graceful shutdown...\n",
      "  rank_zero_warn(\"Detected KeyboardInterrupt, attempting graceful shutdown...\")\n"
     ]
    }
   ],
   "source": [
    "config = {\n",
    "    'pos_files':'empty',\n",
    "    'neg_files':'5eu_nanoid_neg',\n",
    "    'window':4096,\n",
    "    'split': get_fullvalid_split(limit=None),\n",
    "    'arch': RodanPretrained,\n",
    "    'checkpoint': '/home/jovyan/RNAModif/rnamodif/checkpoints_pl/rodan_2022_clean_0of5/epoch=0-step=729500.ckpt',\n",
    "}\n",
    "run_eval(config)"
   ]
  },
  {
   "cell_type": "code",
   "execution_count": 4,
   "id": "dba55bcd-f766-4274-ae1e-f60c7a1d81a6",
   "metadata": {},
   "outputs": [
    {
     "name": "stdout",
     "output_type": "stream",
     "text": [
      "valid files indicies\n"
     ]
    },
    {
     "name": "stderr",
     "output_type": "stream",
     "text": [
      "Using 16bit native Automatic Mixed Precision (AMP)\n",
      "GPU available: True (cuda), used: True\n",
      "TPU available: False, using: 0 TPU cores\n",
      "IPU available: False, using: 0 IPUs\n",
      "HPU available: False, using: 0 HPUs\n",
      "LOCAL_RANK: 0 - CUDA_VISIBLE_DEVICES: [0]\n"
     ]
    },
    {
     "data": {
      "application/vnd.jupyter.widget-view+json": {
       "model_id": "f3c6ad6d70c44ecb8fb9ec5f3b30ecf6",
       "version_major": 2,
       "version_minor": 0
      },
      "text/plain": [
       "Validation: 0it [00:00, ?it/s]"
      ]
     },
     "metadata": {},
     "output_type": "display_data"
    },
    {
     "name": "stdout",
     "output_type": "stream",
     "text": [
      "────────────────────────────────────────────────────────────────────────────────────────────────────────────────────────\n",
      "     Validate metric             DataLoader 0\n",
      "────────────────────────────────────────────────────────────────────────────────────────────────────────────────────────\n",
      "        valid acc                    0.5\n",
      "valid false_negatives_perc           0.0\n",
      "valid false_positives_perc           0.5\n",
      "valid true_negatives_perc            0.0\n",
      "valid true_positives_perc            0.5\n",
      "        valid_loss            0.514125645160675\n",
      "────────────────────────────────────────────────────────────────────────────────────────────────────────────────────────\n"
     ]
    },
    {
     "data": {
      "text/plain": [
       "[{'valid_loss': 0.514125645160675,\n",
       "  'valid true_negatives_perc': 0.0,\n",
       "  'valid false_negatives_perc': 0.0,\n",
       "  'valid true_positives_perc': 0.5,\n",
       "  'valid false_positives_perc': 0.5,\n",
       "  'valid acc': 0.5}]"
      ]
     },
     "execution_count": 4,
     "metadata": {},
     "output_type": "execute_result"
    }
   ],
   "source": [
    "config = {\n",
    "    'pos_files':'5eu_nanoid_mix',\n",
    "    'neg_files':'empty',\n",
    "    'window':4096,\n",
    "    'split': get_fullvalid_split(limit=3),\n",
    "    'arch': RodanPretrained,\n",
    "    'checkpoint': '/home/jovyan/RNAModif/rnamodif/checkpoints_pl/rodan_2022_clean_0of5/epoch=0-step=729500.ckpt',\n",
    "}\n",
    "run_eval(config)"
   ]
  },
  {
   "cell_type": "code",
   "execution_count": 3,
   "id": "1d86813b-2f05-413d-a747-311040757ba8",
   "metadata": {},
   "outputs": [
    {
     "name": "stdout",
     "output_type": "stream",
     "text": [
      "valid files indicies\n"
     ]
    },
    {
     "name": "stderr",
     "output_type": "stream",
     "text": [
      "Using 16bit native Automatic Mixed Precision (AMP)\n",
      "GPU available: True (cuda), used: True\n",
      "TPU available: False, using: 0 TPU cores\n",
      "IPU available: False, using: 0 IPUs\n",
      "HPU available: False, using: 0 HPUs\n",
      "LOCAL_RANK: 0 - CUDA_VISIBLE_DEVICES: [0]\n"
     ]
    },
    {
     "data": {
      "application/vnd.jupyter.widget-view+json": {
       "model_id": "28a83a4e0ccc43de9caeabdb655e7915",
       "version_major": 2,
       "version_minor": 0
      },
      "text/plain": [
       "Validation: 0it [00:00, ?it/s]"
      ]
     },
     "metadata": {},
     "output_type": "display_data"
    },
    {
     "name": "stdout",
     "output_type": "stream",
     "text": [
      "────────────────────────────────────────────────────────────────────────────────────────────────────────────────────────\n",
      "     Validate metric             DataLoader 0\n",
      "────────────────────────────────────────────────────────────────────────────────────────────────────────────────────────\n",
      "        valid acc             0.7001803517341614\n",
      "valid false_negatives_perc           0.0\n",
      "valid false_positives_perc   0.29981961846351624\n",
      "valid true_negatives_perc            0.0\n",
      "valid true_positives_perc     0.7001803517341614\n",
      "        valid_loss           0.45774734020233154\n",
      "────────────────────────────────────────────────────────────────────────────────────────────────────────────────────────\n"
     ]
    },
    {
     "data": {
      "text/plain": [
       "[{'valid_loss': 0.45774734020233154,\n",
       "  'valid true_negatives_perc': 0.0,\n",
       "  'valid false_negatives_perc': 0.0,\n",
       "  'valid true_positives_perc': 0.7001803517341614,\n",
       "  'valid false_positives_perc': 0.29981961846351624,\n",
       "  'valid acc': 0.7001803517341614}]"
      ]
     },
     "execution_count": 3,
     "metadata": {},
     "output_type": "execute_result"
    }
   ],
   "source": [
    "config = {\n",
    "    'pos_files':'m6A_33',\n",
    "    'neg_files':'empty',\n",
    "    'window':4096,\n",
    "    'split': get_default_split,\n",
    "    'arch': RodanPretrained,\n",
    "    'checkpoint': '/home/jovyan/RNAModif/rnamodif/checkpoints_pl/rodan_m6a_0vs33/epoch=0-step=48500.ckpt',\n",
    "}\n",
    "run_eval(config)"
   ]
  },
  {
   "cell_type": "code",
   "execution_count": 3,
   "id": "49c482d4-5041-45c2-8814-79f828ca5f42",
   "metadata": {},
   "outputs": [
    {
     "name": "stdout",
     "output_type": "stream",
     "text": [
      "valid files indicies\n"
     ]
    },
    {
     "name": "stderr",
     "output_type": "stream",
     "text": [
      "Using 16bit native Automatic Mixed Precision (AMP)\n",
      "GPU available: True (cuda), used: True\n",
      "TPU available: False, using: 0 TPU cores\n",
      "IPU available: False, using: 0 IPUs\n",
      "HPU available: False, using: 0 HPUs\n",
      "LOCAL_RANK: 0 - CUDA_VISIBLE_DEVICES: [0]\n"
     ]
    },
    {
     "data": {
      "application/vnd.jupyter.widget-view+json": {
       "model_id": "d4bb45208e2e423cac30101e16fb6410",
       "version_major": 2,
       "version_minor": 0
      },
      "text/plain": [
       "Validation: 0it [00:00, ?it/s]"
      ]
     },
     "metadata": {},
     "output_type": "display_data"
    },
    {
     "name": "stdout",
     "output_type": "stream",
     "text": [
      "────────────────────────────────────────────────────────────────────────────────────────────────────────────────────────\n",
      "     Validate metric             DataLoader 0\n",
      "────────────────────────────────────────────────────────────────────────────────────────────────────────────────────────\n",
      "        valid acc            0.12356147915124893\n",
      "valid false_negatives_perc           0.0\n",
      "valid false_positives_perc    0.8764384984970093\n",
      "valid true_negatives_perc            0.0\n",
      "valid true_positives_perc    0.12356147915124893\n",
      "        valid_loss            1.917173981666565\n",
      "────────────────────────────────────────────────────────────────────────────────────────────────────────────────────────\n"
     ]
    },
    {
     "data": {
      "text/plain": [
       "[{'valid_loss': 1.917173981666565,\n",
       "  'valid true_negatives_perc': 0.0,\n",
       "  'valid false_negatives_perc': 0.0,\n",
       "  'valid true_positives_perc': 0.12356147915124893,\n",
       "  'valid false_positives_perc': 0.8764384984970093,\n",
       "  'valid acc': 0.12356147915124893}]"
      ]
     },
     "execution_count": 3,
     "metadata": {},
     "output_type": "execute_result"
    }
   ],
   "source": [
    "config = {\n",
    "    'pos_files':'m6a_oguzhan',\n",
    "    'neg_files':'empty',\n",
    "    'window':4096,\n",
    "    'split': get_fullvalid_split(limit=1000),\n",
    "    'arch': RodanPretrained,\n",
    "    'checkpoint': '/home/jovyan/RNAModif/rnamodif/checkpoints_pl/rodan_m6a_0vs33/epoch=0-step=48500.ckpt',\n",
    "}\n",
    "run_eval(config)"
   ]
  }
 ],
 "metadata": {
  "kernelspec": {
   "display_name": "Python [conda env:RNAmodEnvRod]",
   "language": "python",
   "name": "conda-env-RNAmodEnvRod-py"
  },
  "language_info": {
   "codemirror_mode": {
    "name": "ipython",
    "version": 3
   },
   "file_extension": ".py",
   "mimetype": "text/x-python",
   "name": "python",
   "nbconvert_exporter": "python",
   "pygments_lexer": "ipython3",
   "version": "3.8.13"
  }
 },
 "nbformat": 4,
 "nbformat_minor": 5
}
