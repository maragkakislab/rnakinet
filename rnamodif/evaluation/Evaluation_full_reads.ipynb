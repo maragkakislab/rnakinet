{
 "cells": [
  {
   "cell_type": "code",
   "execution_count": 1,
   "id": "2d0bfba1-0264-4c82-bfba-0f736e53a714",
   "metadata": {},
   "outputs": [],
   "source": [
    "from rnamodif.data_utils.dataloading import get_test_dataset\n",
    "from rnamodif.data_utils.datamap import experiment_files\n",
    "import torch\n",
    "from rnamodif.evaluation.evaluation import run_test\n",
    "from rnamodif.architectures.rodan_pretrained_MIL import RodanPretrainedMIL\n",
    "\n",
    "#TODO do only valid split?\n",
    "def get_dsets_preds(checkpoint):\n",
    "    workers=4\n",
    "    architecture=RodanPretrainedMIL\n",
    "    window=4096\n",
    "    stride = 2048\n",
    "    batch_size=64\n",
    "    \n",
    "    test_dset_covid0 = get_test_dataset(experiment_files['m6A_0_covid'], window=window, normalization='rodan', trim_primer=False, stride=stride)\n",
    "    predictions_covid0 = run_test(test_dset_covid0,checkpoint=checkpoint, workers=workers, architecture=architecture, batch_size=batch_size)\n",
    "\n",
    "    test_dset_covid5 = get_test_dataset(experiment_files['m6A_5_covid'], window=window, normalization='rodan', trim_primer=False, stride=stride)\n",
    "    predictions_covid5 = run_test(test_dset_covid5,checkpoint=checkpoint, workers=workers, architecture=architecture, batch_size=batch_size)\n",
    "\n",
    "    test_dset_covid10 = get_test_dataset(experiment_files['m6A_10_covid'], window=window, normalization='rodan', trim_primer=False, stride=stride)\n",
    "    predictions_covid10 = run_test(test_dset_covid10,checkpoint=checkpoint, workers=workers, architecture=architecture, batch_size=batch_size)\n",
    "\n",
    "    test_dset_covid33 = get_test_dataset(experiment_files['m6A_33_covid'], window=window, normalization='rodan', trim_primer=False, stride=stride)\n",
    "    predictions_covid33 = run_test(test_dset_covid33,checkpoint=checkpoint, workers=workers, architecture=architecture, batch_size=batch_size)\n",
    "\n",
    "    test_dset_novoa_1 = get_test_dataset(experiment_files['m6a_novoa_1'], window=window, normalization='rodan', trim_primer=False, stride=stride)\n",
    "    predictions_novoa_1 = run_test(test_dset_novoa_1,checkpoint=checkpoint, workers=workers, architecture=architecture, batch_size=batch_size)\n",
    "\n",
    "    test_dset_novoa_2 = get_test_dataset(experiment_files['m6a_novoa_2'], window=window, normalization='rodan', trim_primer=False, stride=stride)\n",
    "    predictions_novoa_2 = run_test(test_dset_novoa_2,checkpoint=checkpoint, workers=workers, architecture=architecture, batch_size=batch_size)\n",
    "\n",
    "    test_dset_unm_1 = get_test_dataset(experiment_files['UNM_novoa_1'], window=window, normalization='rodan', trim_primer=False, stride=stride)\n",
    "    predictions_novoa_unm_1 = run_test(test_dset_unm_1,checkpoint=checkpoint, workers=workers, architecture=architecture, batch_size=batch_size)\n",
    "\n",
    "    test_dset_unm_2 = get_test_dataset(experiment_files['UNM_novoa_2'], window=window, normalization='rodan', trim_primer=False, stride=stride)\n",
    "    predictions_novoa_unm_2 = run_test(test_dset_unm_2,checkpoint=checkpoint, workers=workers, architecture=architecture, batch_size=batch_size)\n",
    "\n",
    "    test_dset_unm_short = get_test_dataset(experiment_files['UNM_novoa_short'], window=window, normalization='rodan', trim_primer=False, stride=stride)\n",
    "    predictions_novoa_unm_short = run_test(test_dset_unm_short,checkpoint=checkpoint, workers=workers, architecture=architecture, batch_size=batch_size)\n",
    "\n",
    "    dsets_preds = [(predictions_covid0,0,'covid 0'), (predictions_covid5,1,'covid 5'),\n",
    "                   (predictions_covid10,1,'covid 10'),(predictions_covid33,1,'covid 33'),\n",
    "                  (predictions_novoa_1, 1,'novoa 1'), (predictions_novoa_2, 1,'novoa 2'), \n",
    "                   (predictions_novoa_unm_1, 0,'novoa UNM 1'), (predictions_novoa_unm_2, 0,'novoa UNM 2'),\n",
    "                  (predictions_novoa_unm_short, 0,'novoa UNM short')]\n",
    "    return dsets_preds"
   ]
  },
  {
   "cell_type": "code",
   "execution_count": 2,
   "id": "44dee9b4-7059-46fc-bcbd-06f87eef7163",
   "metadata": {},
   "outputs": [],
   "source": [
    "import numpy as np\n",
    "def predictions_to_read_predictions(predictions):\n",
    "    agg_preds = []\n",
    "    read_ids = []\n",
    "    for preds, ids in predictions:\n",
    "        agg_preds.append(preds.numpy())\n",
    "        read_ids.append(ids['readid'])\n",
    "    read_ids = np.concatenate(read_ids)\n",
    "    agg_preds = np.concatenate(agg_preds)\n",
    "    results = {}\n",
    "    for un_read_id in np.unique(read_ids):\n",
    "        indicies = np.where(read_ids == un_read_id)\n",
    "        # print(agg_preds[indicies])\n",
    "        results[un_read_id] = agg_preds[indicies]\n",
    "        # read_ids\n",
    "    return results\n",
    "    \n",
    "\n",
    "def get_metrics(read_predictions, label, mean_threshold=0.5, max_threshold=0.9):\n",
    "    mean_accs = []\n",
    "    max_accs = []\n",
    "    for k,v in read_predictions.items():\n",
    "        if(label == 1):\n",
    "            mean_accs.append(np.mean(v) > mean_threshold)\n",
    "            max_accs.append(np.max(v) > max_threshold)\n",
    "        else:\n",
    "            mean_accs.append(np.mean(v) < mean_threshold)\n",
    "            max_accs.append(np.max(v) < max_threshold)\n",
    "    mean_based_acc = np.mean(mean_accs)\n",
    "    max_based_acc = np.mean(max_accs)\n",
    "    print('mean based', mean_based_acc)\n",
    "    print('max based', max_based_acc)\n",
    "    return mean_based_acc, max_based_acc\n",
    "\n",
    "\n",
    "\n",
    "\n",
    "def test_thresholds(dsets_preds, mean_threshold, max_threshold):\n",
    "    me_t = mean_threshold #0.35\n",
    "    ma_t = max_threshold #0.75 \n",
    "    means = []\n",
    "    maxes = []\n",
    "    for preds, label, dset in dsets_preds:\n",
    "        # print('_______')\n",
    "        print(dset)\n",
    "        res = predictions_to_read_predictions(preds)\n",
    "        mean_based, max_based = get_metrics(res, label=label, mean_threshold=me_t, max_threshold=ma_t)\n",
    "        means.append(mean_based)\n",
    "        maxes.append(max_based)\n",
    "    print('-------------')\n",
    "    print('MEAN BASED ACC', np.mean(means))\n",
    "    print('MAX BASED ACC', np.mean(maxes))\n",
    "    print('mean based covid', np.mean(means[:4]))\n",
    "    print('mean based novoa', np.mean(means[4:]))\n",
    "\n",
    "    print('max based covid', np.mean(maxes[:4]))\n",
    "    print('max based novoa', np.mean(maxes[4:]))\n",
    "\n"
   ]
  },
  {
   "cell_type": "code",
   "execution_count": 3,
   "id": "7c0b4700-d149-4678-8b93-6a5f91e3cff5",
   "metadata": {},
   "outputs": [],
   "source": [
    "from sklearn import metrics\n",
    "from matplotlib import pyplot as plt\n",
    "\n",
    "def plot_roc(dsets_preds, pooling='max'):\n",
    "    predictions = []\n",
    "    labels = []\n",
    "    exps = []\n",
    "    for log in dsets_preds:\n",
    "        preds, label, exp = log\n",
    "        exps.append(exp)\n",
    "        preds = predictions_to_read_predictions(preds)\n",
    "        mod_probs = []\n",
    "        for k,v in preds.items():\n",
    "            if(pooling == 'max'):\n",
    "                mod_probability = np.max(v)\n",
    "            elif(pooling == 'mean'):\n",
    "                mod_probability = np.mean(v)\n",
    "            else:\n",
    "                raise Exception('pooling unspecified')\n",
    "            mod_probs.append(mod_probability)\n",
    "        predictions = predictions + mod_probs\n",
    "        labels = labels + [label]*len(mod_probs)\n",
    "\n",
    "    # print(predictions)\n",
    "    # print(labels)\n",
    "\n",
    "    fpr, tpr, thresholds = metrics.roc_curve(labels, predictions)\n",
    "    cutoff_1 = thresholds[np.argmax(tpr-fpr)]\n",
    "    cutoff_1_tpr = tpr[np.argmax(tpr-fpr)]\n",
    "    \n",
    "    cutoff_2 = thresholds[np.argmin((1-tpr) ** 2 + fpr ** 2)]\n",
    "    cutoff_2_tpr = tpr[np.argmin((1-tpr) ** 2 + fpr ** 2)]\n",
    "    \n",
    "    auc = metrics.roc_auc_score(labels, predictions)\n",
    "    plt.plot(fpr, tpr, label = f'{exps} \\n AUC %.3f CUTOFFS {str(cutoff_1)[:4]} (tpr {str(cutoff_1_tpr)[:4]}) or {str(cutoff_2)[:4]} (tpr {str(cutoff_2_tpr)[:4]})' % auc)\n",
    "    plt.title(pooling)\n",
    "    plt.ylabel('True Positive Rate')\n",
    "    plt.xlabel('False Positive Rate')\n",
    "    plt.legend(loc='center left', bbox_to_anchor=(1,0.5))"
   ]
  },
  {
   "cell_type": "code",
   "execution_count": 4,
   "id": "abbceed5-6536-4322-8a6b-b1c44d8530e2",
   "metadata": {},
   "outputs": [],
   "source": [
    "def plot_covid_roc(dsets_preds):\n",
    "    plot_roc([dsets_preds[i] for i in [0,1]], pooling='max')\n",
    "    plot_roc([dsets_preds[i] for i in [0,2]], pooling='max')\n",
    "    plot_roc([dsets_preds[i] for i in [0,3]], pooling='max')\n",
    "    plt.show()\n",
    "    plot_roc([dsets_preds[i] for i in [0,1]], pooling='mean')\n",
    "    plot_roc([dsets_preds[i] for i in [0,2]], pooling='mean')\n",
    "    plot_roc([dsets_preds[i] for i in [0,3]], pooling='mean')\n",
    "    plt.show()\n"
   ]
  },
  {
   "cell_type": "code",
   "execution_count": 5,
   "id": "5d5e4e5a-6543-415d-ab36-bb4c1541d5d8",
   "metadata": {},
   "outputs": [],
   "source": [
    "def plot_roc_curves(dsets_preds):\n",
    "    pooling = 'max'\n",
    "    plot_roc(dsets_preds, pooling=pooling)\n",
    "    plot_roc(dsets_preds[:4], pooling=pooling)\n",
    "    plot_roc(dsets_preds[4:], pooling=pooling)\n",
    "    plt.show()\n",
    "    #Balance data?\n",
    "    pooling = 'mean'\n",
    "    plot_roc(dsets_preds, pooling=pooling)\n",
    "    plot_roc(dsets_preds[:4], pooling=pooling)\n",
    "    plot_roc(dsets_preds[4:], pooling=pooling)\n",
    "    plt.show()"
   ]
  },
  {
   "cell_type": "code",
   "execution_count": null,
   "id": "3c3dc53c-a70a-4c5c-a840-10bedc454827",
   "metadata": {},
   "outputs": [
    {
     "name": "stdout",
     "output_type": "stream",
     "text": [
      "LIMITED!!!!!!!!!!!!1\n"
     ]
    },
    {
     "name": "stderr",
     "output_type": "stream",
     "text": [
      "/home/jovyan/my-conda-envs/RNAmodEnvRod/lib/python3.8/site-packages/pytorch_lightning/loops/utilities.py:93: PossibleUserWarning: `max_epochs` was not set. Setting it to 1000 epochs. To train without an epoch limit, set `max_epochs=-1`.\n",
      "  rank_zero_warn(\n",
      "GPU available: True (cuda), used: True\n",
      "TPU available: False, using: 0 TPU cores\n",
      "IPU available: False, using: 0 IPUs\n",
      "HPU available: False, using: 0 HPUs\n",
      "LOCAL_RANK: 0 - CUDA_VISIBLE_DEVICES: [0]\n"
     ]
    },
    {
     "data": {
      "application/vnd.jupyter.widget-view+json": {
       "model_id": "94fe2419d85b46bfbcda4cb2241ab3b7",
       "version_major": 2,
       "version_minor": 0
      },
      "text/plain": [
       "Predicting: 0it [00:00, ?it/s]"
      ]
     },
     "metadata": {},
     "output_type": "display_data"
    },
    {
     "name": "stdout",
     "output_type": "stream",
     "text": [
      "dset has 7 files\n",
      "dset has 7 files\n",
      "dset has 7 filesdset has 9 files\n",
      "\n"
     ]
    },
    {
     "name": "stderr",
     "output_type": "stream",
     "text": [
      "/home/jovyan/my-conda-envs/RNAmodEnvRod/lib/python3.8/site-packages/pytorch_lightning/loops/epoch/prediction_epoch_loop.py:173: UserWarning: Lightning couldn't infer the indices fetched for your dataloader.\n",
      "  warning_cache.warn(\"Lightning couldn't infer the indices fetched for your dataloader.\")\n"
     ]
    },
    {
     "name": "stdout",
     "output_type": "stream",
     "text": [
      "LIMITED!!!!!!!!!!!!1\n"
     ]
    },
    {
     "name": "stderr",
     "output_type": "stream",
     "text": [
      "GPU available: True (cuda), used: True\n",
      "TPU available: False, using: 0 TPU cores\n",
      "IPU available: False, using: 0 IPUs\n",
      "HPU available: False, using: 0 HPUs\n",
      "LOCAL_RANK: 0 - CUDA_VISIBLE_DEVICES: [0]\n"
     ]
    },
    {
     "data": {
      "application/vnd.jupyter.widget-view+json": {
       "model_id": "23834b17a8dc4ff3b63574fa3d575b06",
       "version_major": 2,
       "version_minor": 0
      },
      "text/plain": [
       "Predicting: 0it [00:00, ?it/s]"
      ]
     },
     "metadata": {},
     "output_type": "display_data"
    },
    {
     "name": "stdout",
     "output_type": "stream",
     "text": [
      "dset has 7 files\n",
      "dset has 7 files\n",
      "dset has 7 files\n",
      "dset has 7 files\n"
     ]
    }
   ],
   "source": [
    "import pickle\n",
    "#TODO bigger btch size?\n",
    "mix_preds = get_dsets_preds(checkpoint='/home/jovyan/RNAModif/rnamodif/checkpoints_pl/m6a_nih_mix_deploy/epoch=0-step=557500.ckpt')\n",
    "zero33_preds = get_dsets_preds(checkpoint='/home/jovyan/RNAModif/rnamodif/checkpoints_pl/m6a_nih_33_deploy/epoch=0-step=443500.ckpt')\n",
    "\n",
    "with open('mix_preds.pkl', 'wb') as f:\n",
    "    pickle.dump(mix_preds, f)\n",
    "    \n",
    "with open('zero33_preds.pkl', 'wb') as f:\n",
    "    pickle.dump(zero33_preds, f)\n"
   ]
  },
  {
   "cell_type": "code",
   "execution_count": null,
   "id": "a61d9452-0d6c-4202-95f1-f863c4393ea8",
   "metadata": {},
   "outputs": [],
   "source": [
    "plot_roc_curves(mix_preds)\n",
    "plot_roc_curves(zero33_preds)"
   ]
  },
  {
   "cell_type": "code",
   "execution_count": null,
   "id": "0f62a539-0185-4ae7-95a7-3ea4e1aedfd7",
   "metadata": {},
   "outputs": [],
   "source": [
    "plot_covid_roc(mix_preds)\n",
    "plot_covid_roc(zero33_preds)"
   ]
  },
  {
   "cell_type": "code",
   "execution_count": null,
   "id": "497c3d09-8f06-4416-a8ec-17850d84e21c",
   "metadata": {},
   "outputs": [],
   "source": [
    "test_thresholds(zero33_preds, mean_threshold=0.33, max_threshold=0.81)"
   ]
  },
  {
   "cell_type": "code",
   "execution_count": null,
   "id": "5960a8f5-e906-440c-b47c-ca846b286160",
   "metadata": {},
   "outputs": [],
   "source": [
    "test_thresholds(mix_preds, mean_threshold=0.33, max_threshold=0.8)"
   ]
  }
 ],
 "metadata": {
  "kernelspec": {
   "display_name": "Python [conda env:RNAmodEnvRod]",
   "language": "python",
   "name": "conda-env-RNAmodEnvRod-py"
  },
  "language_info": {
   "codemirror_mode": {
    "name": "ipython",
    "version": 3
   },
   "file_extension": ".py",
   "mimetype": "text/x-python",
   "name": "python",
   "nbconvert_exporter": "python",
   "pygments_lexer": "ipython3",
   "version": "3.8.13"
  }
 },
 "nbformat": 4,
 "nbformat_minor": 5
}
