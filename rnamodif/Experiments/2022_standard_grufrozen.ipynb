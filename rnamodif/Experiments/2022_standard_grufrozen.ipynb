{
 "cells": [
  {
   "cell_type": "code",
   "execution_count": 1,
   "id": "a58fe5d4-bc5c-4971-aa5f-a171cc25f791",
   "metadata": {},
   "outputs": [],
   "source": [
    "from pathlib import Path\n",
    "from rnamodif.data_utils.data_paths import name_to_files\n",
    "\n",
    "train_pos_files = name_to_files['nia_2022_pos']['train']\n",
    "train_neg_files = name_to_files['nia_2022_neg']['train']\n",
    "\n",
    "valid_exp_to_files_pos = {\n",
    "    '5eu_2020_pos':name_to_files['nia_2020_pos']['test'], \n",
    "    'Nanoid_pos':name_to_files['nano_pos_1']['test'], \n",
    "    '5eu_2022_chr1_pos':name_to_files['nia_2022_pos']['test']\n",
    "}\n",
    "\n",
    "valid_exp_to_files_neg = {\n",
    "    'UNM_2020':name_to_files['nia_2020_neg']['test'], \n",
    "    'Nanoid_neg':name_to_files['nano_neg_1']['test'], \n",
    "    '5eu_2022_chr1_neg':name_to_files['nia_2022_neg']['test']\n",
    "}"
   ]
  },
  {
   "cell_type": "code",
   "execution_count": 4,
   "id": "d2d8ec3a-2a40-45a3-9681-fda92347d41b",
   "metadata": {},
   "outputs": [
    {
     "name": "stderr",
     "output_type": "stream",
     "text": [
      "/home/jovyan/my-conda-envs/RNAmodEnvRod/lib/python3.8/site-packages/torch/nn/modules/rnn.py:62: UserWarning: dropout option adds dropout after all but last recurrent layer, so non-zero dropout expects num_layers greater than 1, but got dropout=0.5 and num_layers=1\n",
      "  warnings.warn(\"dropout option adds dropout after all but last \"\n",
      "CometLogger will be initialized in online mode\n",
      "Using 16bit native Automatic Mixed Precision (AMP)\n",
      "GPU available: True (cuda), used: True\n",
      "TPU available: False, using: 0 TPU cores\n",
      "IPU available: False, using: 0 IPUs\n",
      "HPU available: False, using: 0 HPUs\n"
     ]
    },
    {
     "name": "stdout",
     "output_type": "stream",
     "text": [
      "Generating valid dataset\n"
     ]
    },
    {
     "name": "stderr",
     "output_type": "stream",
     "text": [
      " 17%|█▋        | 1/6 [00:02<00:11,  2.23s/it]"
     ]
    },
    {
     "name": "stdout",
     "output_type": "stream",
     "text": [
      "5eu_2020_pos 250\n"
     ]
    },
    {
     "name": "stderr",
     "output_type": "stream",
     "text": [
      " 33%|███▎      | 2/6 [00:04<00:09,  2.47s/it]"
     ]
    },
    {
     "name": "stdout",
     "output_type": "stream",
     "text": [
      "Nanoid_pos 250\n"
     ]
    },
    {
     "name": "stderr",
     "output_type": "stream",
     "text": [
      " 50%|█████     | 3/6 [00:07<00:07,  2.38s/it]"
     ]
    },
    {
     "name": "stdout",
     "output_type": "stream",
     "text": [
      "5eu_2022_chr1_pos 250\n"
     ]
    },
    {
     "name": "stderr",
     "output_type": "stream",
     "text": [
      " 67%|██████▋   | 4/6 [00:09<00:04,  2.39s/it]"
     ]
    },
    {
     "name": "stdout",
     "output_type": "stream",
     "text": [
      "UNM_2020 250\n"
     ]
    },
    {
     "name": "stderr",
     "output_type": "stream",
     "text": [
      " 83%|████████▎ | 5/6 [00:12<00:02,  2.56s/it]"
     ]
    },
    {
     "name": "stdout",
     "output_type": "stream",
     "text": [
      "Nanoid_neg 250\n"
     ]
    },
    {
     "name": "stderr",
     "output_type": "stream",
     "text": [
      "100%|██████████| 6/6 [00:14<00:00,  2.41s/it]"
     ]
    },
    {
     "name": "stdout",
     "output_type": "stream",
     "text": [
      "5eu_2022_chr1_neg 250\n"
     ]
    },
    {
     "name": "stderr",
     "output_type": "stream",
     "text": [
      "\n",
      "LOCAL_RANK: 0 - CUDA_VISIBLE_DEVICES: [0]\n",
      "\n",
      "  | Name            | Type              | Params\n",
      "------------------------------------------------------\n",
      "0 | trainable_rodan | network           | 10.7 M\n",
      "1 | head            | Sequential        | 159 K \n",
      "2 | acc             | BinaryAccuracy    | 0     \n",
      "3 | ce              | BCEWithLogitsLoss | 0     \n",
      "------------------------------------------------------\n",
      "10.8 M    Trainable params\n",
      "0         Non-trainable params\n",
      "10.8 M    Total params\n",
      "21.659    Total estimated model params size (MB)\n"
     ]
    },
    {
     "data": {
      "application/vnd.jupyter.widget-view+json": {
       "model_id": "",
       "version_major": 2,
       "version_minor": 0
      },
      "text/plain": [
       "Sanity Checking: 0it [00:00, ?it/s]"
      ]
     },
     "metadata": {},
     "output_type": "display_data"
    },
    {
     "name": "stderr",
     "output_type": "stream",
     "text": [
      "/home/jovyan/my-conda-envs/RNAmodEnvRod/lib/python3.8/site-packages/pytorch_lightning/trainer/connectors/data_connector.py:219: PossibleUserWarning: The dataloader, val_dataloader 0, does not have many workers which may be a bottleneck. Consider increasing the value of the `num_workers` argument` (try 128 which is the number of cpus on this machine) in the `DataLoader` init to improve performance.\n",
      "  rank_zero_warn(\n"
     ]
    },
    {
     "name": "stdout",
     "output_type": "stream",
     "text": [
      "Found array with 0 sample(s) (shape=(0,)) while a minimum of 1 is required.\n",
      "Found array with 0 sample(s) (shape=(0,)) while a minimum of 1 is required.\n",
      "Only one class present in y_true. ROC AUC score is not defined in that case.\n",
      "Only one class present in y_true. ROC AUC score is not defined in that case.\n",
      "Found array with 0 sample(s) (shape=(0,)) while a minimum of 1 is required.\n",
      "Found array with 0 sample(s) (shape=(0,)) while a minimum of 1 is required.\n"
     ]
    },
    {
     "name": "stderr",
     "output_type": "stream",
     "text": [
      "/home/jovyan/my-conda-envs/RNAmodEnvRod/lib/python3.8/site-packages/pytorch_lightning/utilities/data.py:86: UserWarning: Trying to infer the `batch_size` from an ambiguous collection. The batch size we found is 64. To avoid any miscalculations, use `self.log(..., batch_size=batch_size)`.\n",
      "  warning_cache.warn(\n"
     ]
    },
    {
     "data": {
      "application/vnd.jupyter.widget-view+json": {
       "model_id": "7a77021be8d544f29e34a6abc05442c2",
       "version_major": 2,
       "version_minor": 0
      },
      "text/plain": [
       "Training: 0it [00:00, ?it/s]"
      ]
     },
     "metadata": {},
     "output_type": "display_data"
    },
    {
     "name": "stderr",
     "output_type": "stream",
     "text": [
      "/home/jovyan/my-conda-envs/RNAmodEnvRod/lib/python3.8/site-packages/torch/optim/lr_scheduler.py:131: UserWarning: Detected call of `lr_scheduler.step()` before `optimizer.step()`. In PyTorch 1.1.0 and later, you should call them in the opposite order: `optimizer.step()` before `lr_scheduler.step()`.  Failure to do this will result in PyTorch skipping the first value of the learning rate schedule. See more details at https://pytorch.org/docs/stable/optim.html#how-to-adjust-learning-rate\n",
      "  warnings.warn(\"Detected call of `lr_scheduler.step()` before `optimizer.step()`. \"\n",
      "/home/jovyan/my-conda-envs/RNAmodEnvRod/lib/python3.8/site-packages/pytorch_lightning/trainer/trainer.py:657: UserWarning: Detected KeyboardInterrupt, attempting graceful shutdown...\n",
      "  rank_zero_warn(\"Detected KeyboardInterrupt, attempting graceful shutdown...\")\n"
     ]
    }
   ],
   "source": [
    "from rnamodif.rodan_seq_5eu import RodanPretrained\n",
    "from rnamodif.data_utils.dataloading_5eu import TrainingDatamodule\n",
    "import pytorch_lightning as pl\n",
    "from pytorch_lightning.loggers import CometLogger\n",
    "from pytorch_lightning.callbacks import ModelCheckpoint\n",
    "\n",
    "\n",
    "model = RodanPretrained(lr=1e-4, warmup_steps=3000, frozen_layers=0, gru_layers=1, gru_dropout=0.5, gru_hidden=32)\n",
    "\n",
    "dm = TrainingDatamodule(\n",
    "    train_pos_files=train_pos_files,\n",
    "    train_neg_files=train_neg_files,\n",
    "    valid_exp_to_files_pos=valid_exp_to_files_pos,\n",
    "    valid_exp_to_files_neg=valid_exp_to_files_neg,\n",
    "    batch_size=64, \n",
    "    window=4096,\n",
    "    per_dset_read_limit=250, \n",
    "    shuffle_valid=True,\n",
    "    workers=8,\n",
    ")\n",
    "\n",
    "experiment_name = '5eu_2022_unfrozen_gru32_lowLR_smakesplit'\n",
    "checkpoint_callback = ModelCheckpoint(\n",
    "    dirpath=f\"/home/jovyan/RNAModif/rnamodif/checkpoints_pl/{experiment_name}\", \n",
    "    save_top_k=2, \n",
    "    monitor=\"valid_loss\", \n",
    "    save_last=True, \n",
    "    save_weights_only=False\n",
    ")\n",
    "\n",
    "logger = CometLogger(api_key=\"TEVQbgxxvilM1WdTyqZLJ57ac\", project_name='RNAModif', experiment_name=experiment_name) \n",
    "trainer= pl.Trainer(\n",
    "    max_steps = 1000000, logger=logger, accelerator='gpu',\n",
    "    auto_lr_find=False, val_check_interval=1000,  \n",
    "    log_every_n_steps=1000, benchmark=True, precision=16,\n",
    "    callbacks=[checkpoint_callback],\n",
    "    # resume_from_checkpoint=f'/home/jovyan/RNAModif/rnamodif/checkpoints_pl/{experiment_name}/lastX.ckpt'\n",
    ")\n",
    "\n",
    "\n",
    "trainer.fit(model, dm)"
   ]
  }
 ],
 "metadata": {
  "kernelspec": {
   "display_name": "Python [conda env:RNAmodEnvRod]",
   "language": "python",
   "name": "conda-env-RNAmodEnvRod-py"
  },
  "language_info": {
   "codemirror_mode": {
    "name": "ipython",
    "version": 3
   },
   "file_extension": ".py",
   "mimetype": "text/x-python",
   "name": "python",
   "nbconvert_exporter": "python",
   "pygments_lexer": "ipython3",
   "version": "3.8.13"
  }
 },
 "nbformat": 4,
 "nbformat_minor": 5
}
