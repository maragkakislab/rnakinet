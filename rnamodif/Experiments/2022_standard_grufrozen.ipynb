{
 "cells": [
  {
   "cell_type": "code",
   "execution_count": 1,
   "id": "a58fe5d4-bc5c-4971-aa5f-a171cc25f791",
   "metadata": {},
   "outputs": [
    {
     "name": "stdout",
     "output_type": "stream",
     "text": [
      "5eu_2022_nia_chr2-X 891131\n",
      "UNM_2022_nia_chr2-X 1758977\n",
      "5eu_2020_pos 150\n",
      "Nanoid_pos 177088\n",
      "5eu_2022_chr1_pos 73607\n",
      "UNM_2020 203\n",
      "Nanoid_neg 216906\n",
      "5eu_2022_chr1_neg 176093\n"
     ]
    }
   ],
   "source": [
    "from pathlib import Path\n",
    "import pickle\n",
    "\n",
    "\n",
    "path = '/home/jovyan/RNAModif/rnamodif/2022_chr_split.pickle'\n",
    "with open(path, 'rb') as handle:\n",
    "    split_dict = pickle.load(handle)\n",
    "\n",
    "pos_files_5eu_chr1 = split_dict['5eu_2022_nia_chr1']\n",
    "neg_files_5eu_chr1 = split_dict['UNM_2022_nia_chr1']\n",
    "\n",
    "pos_files_5eu_chr2X = split_dict['5eu_2022_nia_chr2-X']\n",
    "neg_files_5eu_chr2X = split_dict['UNM_2022_nia_chr2-X']\n",
    "\n",
    "print('5eu_2022_nia_chr2-X', len(pos_files_5eu_chr2X))\n",
    "print('UNM_2022_nia_chr2-X', len(neg_files_5eu_chr2X))\n",
    "\n",
    "fiveEU_nanoid_path = Path('/home/jovyan/local_store/nanoid/20180514_1054_K562_5EU_1440_labeled_run')\n",
    "pos_files_nanoid_24h = list(fiveEU_nanoid_path.rglob('*.fast5'))\n",
    "\n",
    "fiveEU_nanoid_path_neg = Path('/home/jovyan/local_store/nanoid/20180403_1208_K562_5EU_0_unlabeled_III_run')\n",
    "neg_files_nanoid = list(fiveEU_nanoid_path_neg.rglob('*.fast5'))\n",
    "\n",
    "pos_2020_path = Path('/home/jovyan/local_store/store/seq/ont/experiments/20201016_hsa_dRNASeq_HeLa_5EU_polyA_REL5_short_1/runs')\n",
    "pos_files_2020 = list(pos_2020_path.rglob('*.fast5'))\n",
    "\n",
    "neg_2020_path = Path('/home/jovyan/local_store/store/seq/ont/experiments/20201016_hsa_dRNASeq_HeLa_dmso_polyA_REL5_short_1/runs')\n",
    "neg_files_2020 = list(neg_2020_path.rglob('*.fast5'))\n",
    "\n",
    "valid_exp_to_files_pos = {'5eu_2020_pos':pos_files_2020, 'Nanoid_pos':pos_files_nanoid_24h, '5eu_2022_chr1_pos':pos_files_5eu_chr1}\n",
    "valid_exp_to_files_neg = {'UNM_2020':neg_files_2020, 'Nanoid_neg':neg_files_nanoid, '5eu_2022_chr1_neg':neg_files_5eu_chr1}\n",
    "\n",
    "for k,v in valid_exp_to_files_pos.items():\n",
    "    print(k, len(v))\n",
    "\n",
    "for k,v in valid_exp_to_files_neg.items():\n",
    "    print(k, len(v))\n",
    "\n"
   ]
  },
  {
   "cell_type": "code",
   "execution_count": null,
   "id": "d2d8ec3a-2a40-45a3-9681-fda92347d41b",
   "metadata": {},
   "outputs": [
    {
     "name": "stderr",
     "output_type": "stream",
     "text": [
      "/home/jovyan/my-conda-envs/RNAmodEnvRod/lib/python3.8/site-packages/torch/nn/modules/rnn.py:62: UserWarning: dropout option adds dropout after all but last recurrent layer, so non-zero dropout expects num_layers greater than 1, but got dropout=0.5 and num_layers=1\n",
      "  warnings.warn(\"dropout option adds dropout after all but last \"\n",
      "CometLogger will be initialized in online mode\n"
     ]
    },
    {
     "name": "stdout",
     "output_type": "stream",
     "text": [
      "FREEZING 0 layers\n"
     ]
    },
    {
     "name": "stderr",
     "output_type": "stream",
     "text": [
      "Using 16bit native Automatic Mixed Precision (AMP)\n",
      "GPU available: True (cuda), used: True\n",
      "TPU available: False, using: 0 TPU cores\n",
      "IPU available: False, using: 0 IPUs\n",
      "HPU available: False, using: 0 HPUs\n"
     ]
    },
    {
     "name": "stdout",
     "output_type": "stream",
     "text": [
      "Generating valid dataset\n"
     ]
    },
    {
     "name": "stderr",
     "output_type": "stream",
     "text": [
      " 17%|█▋        | 1/6 [00:01<00:06,  1.33s/it]"
     ]
    },
    {
     "name": "stdout",
     "output_type": "stream",
     "text": [
      "5eu_2020_pos 250\n"
     ]
    }
   ],
   "source": [
    "from rnamodif.rodan_seq_5eu import RodanPretrainedSeqcaller5eu\n",
    "from rnamodif.data_utils.dataloading_5eu import nanopore_datamodule_5eu\n",
    "import pytorch_lightning as pl\n",
    "from pytorch_lightning.loggers import CometLogger\n",
    "from pytorch_lightning.callbacks import ModelCheckpoint\n",
    "\n",
    "\n",
    "model = RodanPretrainedSeqcaller5eu(lr=1e-4, warmup_steps=3000, freeze=False, fr_layers=0, gru_layers=1, gru_dropout=0.5, gru_hidden=32)\n",
    "\n",
    "#TODO make my files into multifast5 files for faster dataloading\n",
    "dm = nanopore_datamodule_5eu(\n",
    "    train_pos_files=pos_files_5eu_chr2X,\n",
    "    train_neg_files=neg_files_5eu_chr2X,\n",
    "    valid_exp_to_files_pos=valid_exp_to_files_pos,\n",
    "    valid_exp_to_files_neg=valid_exp_to_files_neg,\n",
    "    batch_size=64, \n",
    "    window=4096,\n",
    "    per_dset_read_limit=250, \n",
    "    shuffle_valid=True,\n",
    "    workers=1,\n",
    ")\n",
    "\n",
    "experiment_name = '5eu_2022_unfrozen_gru32_lowLR'\n",
    "checkpoint_callback = ModelCheckpoint(\n",
    "    dirpath=f\"/home/jovyan/RNAModif/rnamodif/checkpoints_pl/{experiment_name}\", \n",
    "    save_top_k=2, \n",
    "    monitor=\"valid_loss\", \n",
    "    save_last=True, \n",
    "    save_weights_only=False\n",
    ")\n",
    "\n",
    "logger = CometLogger(api_key=\"TEVQbgxxvilM1WdTyqZLJ57ac\", project_name='RNAModif', experiment_name=experiment_name) \n",
    "trainer= pl.Trainer(\n",
    "    max_steps = 1000000, logger=logger, accelerator='gpu',\n",
    "    auto_lr_find=False, val_check_interval=1000,  \n",
    "    log_every_n_steps=1000, benchmark=True, precision=16,\n",
    "    callbacks=[checkpoint_callback],\n",
    "    # resume_from_checkpoint=f'/home/jovyan/RNAModif/rnamodif/checkpoints_pl/{experiment_name}/lastX.ckpt'\n",
    ")\n",
    "\n",
    "\n",
    "trainer.fit(model, dm)"
   ]
  }
 ],
 "metadata": {
  "kernelspec": {
   "display_name": "Python [conda env:RNAmodEnvRod]",
   "language": "python",
   "name": "conda-env-RNAmodEnvRod-py"
  },
  "language_info": {
   "codemirror_mode": {
    "name": "ipython",
    "version": 3
   },
   "file_extension": ".py",
   "mimetype": "text/x-python",
   "name": "python",
   "nbconvert_exporter": "python",
   "pygments_lexer": "ipython3",
   "version": "3.8.13"
  }
 },
 "nbformat": 4,
 "nbformat_minor": 5
}
