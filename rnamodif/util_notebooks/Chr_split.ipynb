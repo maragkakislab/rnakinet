{
 "cells": [
  {
   "cell_type": "code",
   "execution_count": 1,
   "id": "64269274-45dc-4e89-8a19-6f957535109c",
   "metadata": {},
   "outputs": [
    {
     "name": "stdout",
     "output_type": "stream",
     "text": [
      "adding 1 to test, len 73607\n",
      "adding 10 to train, len 17942\n",
      "adding 11 to train, len 84456\n",
      "adding 12 to train, len 53057\n",
      "adding 13 to train, len 6158\n",
      "adding 14 to train, len 13180\n",
      "adding 15 to train, len 26040\n",
      "adding 16 to train, len 34836\n",
      "adding 17 to train, len 57175\n",
      "adding 18 to train, len 5089\n",
      "adding 19 to train, len 86953\n",
      "adding 2 to train, len 40221\n",
      "adding 20 to train, len 19672\n",
      "adding 21 to train, len 12464\n",
      "adding 22 to train, len 17673\n",
      "adding 3 to train, len 38288\n",
      "adding 4 to train, len 13979\n",
      "adding 5 to train, len 58794\n",
      "adding 6 to train, len 32823\n",
      "adding 7 to train, len 31785\n",
      "adding 8 to train, len 27471\n",
      "adding 9 to train, len 38796\n",
      "adding MT to train, len 152342\n",
      "adding X to train, len 22876\n",
      "ignoring Y, len 31\n",
      "ignoring KI270727.1, len 3\n",
      "ignoring GL000009.2, len 5\n",
      "ignoring GL000194.1, len 2\n",
      "ignoring KI270742.1, len 2\n",
      "ignoring GL000205.2, len 4\n",
      "ignoring GL000195.1, len 5\n",
      "ignoring KI270733.1, len 7622\n",
      "ignoring GL000219.1, len 2\n",
      "ignoring GL000216.2, len 1\n",
      "ignoring KI270712.1, len 4\n",
      "ignoring KI270706.1, len 1\n",
      "ignoring KI270734.1, len 5\n",
      "ignoring GL000220.1, len 2535\n",
      "ignoring GL000218.1, len 1\n",
      "ignoring KI270751.1, len 1\n",
      "ignoring GL000214.1, len 1\n",
      "ignoring KI270721.1, len 5\n",
      "ignoring KI270711.1, len 1\n",
      "ignoring KI270713.1, len 14\n",
      "ignoring KI270718.1, len 2\n",
      "ignoring KI270467.1, len 1\n",
      "ignoring None, len 140697\n",
      "adding 1 to test, len 176093\n",
      "adding 10 to train, len 46133\n",
      "adding 11 to train, len 146458\n",
      "adding 12 to train, len 123941\n",
      "adding 13 to train, len 17079\n",
      "adding 14 to train, len 39137\n",
      "adding 15 to train, len 66126\n",
      "adding 16 to train, len 73961\n",
      "adding 17 to train, len 129905\n",
      "adding 18 to train, len 15909\n",
      "adding 19 to train, len 141718\n",
      "adding 2 to train, len 95545\n",
      "adding 20 to train, len 44086\n",
      "adding 21 to train, len 14828\n",
      "adding 22 to train, len 37736\n",
      "adding 3 to train, len 85789\n",
      "adding 4 to train, len 37130\n",
      "adding 5 to train, len 116012\n",
      "adding 6 to train, len 73620\n",
      "adding 7 to train, len 95026\n",
      "adding 8 to train, len 54605\n",
      "adding 9 to train, len 90144\n",
      "adding MT to train, len 161202\n",
      "adding X to train, len 54907\n",
      "ignoring Y, len 59\n",
      "ignoring KI270728.1, len 5\n",
      "ignoring KI270727.1, len 3\n",
      "ignoring KI270442.1, len 1\n",
      "ignoring GL000008.2, len 1\n",
      "ignoring GL000009.2, len 16\n",
      "ignoring GL000194.1, len 22\n",
      "ignoring KI270742.1, len 3\n",
      "ignoring GL000205.2, len 13\n",
      "ignoring GL000195.1, len 19\n",
      "ignoring KI270733.1, len 920\n",
      "ignoring GL000219.1, len 9\n",
      "ignoring KI270712.1, len 8\n",
      "ignoring KI270706.1, len 7\n",
      "ignoring KI270744.1, len 1\n",
      "ignoring KI270734.1, len 23\n",
      "ignoring GL000220.1, len 306\n",
      "ignoring GL000218.1, len 11\n",
      "ignoring KI270731.1, len 1\n",
      "ignoring KI270751.1, len 2\n",
      "ignoring GL000214.1, len 2\n",
      "ignoring KI270721.1, len 14\n",
      "ignoring KI270711.1, len 11\n",
      "ignoring KI270714.1, len 1\n",
      "ignoring KI270718.1, len 1\n",
      "ignoring KI270467.1, len 1\n",
      "ignoring KI270333.1, len 2\n",
      "ignoring None, len 152581\n"
     ]
    }
   ],
   "source": [
    "import pickle\n",
    "\n",
    "with open(f'../../../minimap_test/2022_pos_orig_chrom_map.pickle', 'rb') as handle:\n",
    "    pos_data = pickle.load(handle)\n",
    "    \n",
    "exp_files_add = {'5eu_2022_nia_chr2-X':[], '5eu_2022_nia_chr1':[], 'UNM_2022_nia_chr2-X':[], 'UNM_2022_nia_chr1':[]}\n",
    "train_chromosomes = [2,3,4,5,6,7,8,9,10,11,12,13,14,15,16,17,18,19,20,21,22,'X', 'MT']\n",
    "train_chromosomes = [str(ch) for ch in train_chromosomes]\n",
    "test_chromosomes = [1]\n",
    "test_chromosomes = [str(ch) for ch in test_chromosomes]\n",
    "\n",
    "for k,v in pos_data.items():\n",
    "    if(k in train_chromosomes):\n",
    "        print(f'adding {k} to train, len {len(v)}')\n",
    "        exp_files_add['5eu_2022_nia_chr2-X']+=v\n",
    "    elif(k in test_chromosomes):\n",
    "        print(f'adding {k} to test, len {len(v)}')\n",
    "        exp_files_add['5eu_2022_nia_chr1']+=v\n",
    "    else:\n",
    "        print(f'ignoring {k}, len {len(v)}')\n",
    "        \n",
    "with open(f'../../../minimap_test/2022_neg_orig_chrom_map.pickle', 'rb') as handle:\n",
    "    neg_data = pickle.load(handle)\n",
    "\n",
    "    \n",
    "for k,v in neg_data.items():\n",
    "    if(k in train_chromosomes):\n",
    "        print(f'adding {k} to train, len {len(v)}')\n",
    "        exp_files_add['UNM_2022_nia_chr2-X']+=v\n",
    "    elif(k in test_chromosomes):\n",
    "        print(f'adding {k} to test, len {len(v)}')\n",
    "        exp_files_add['UNM_2022_nia_chr1']+=v\n",
    "    else:\n",
    "        print(f'ignoring {k}, len {len(v)}')"
   ]
  },
  {
   "cell_type": "code",
   "execution_count": 2,
   "id": "bf7e5a11-f62c-4b83-9941-c5e6398f1e95",
   "metadata": {},
   "outputs": [
    {
     "name": "stdout",
     "output_type": "stream",
     "text": [
      "5eu_2022_nia_chr2-X 5eu_2022_nia_chr2-X : 875999\n",
      "5eu_2022_nia_chr2-X 5eu_2022_nia_chr1 : 920\n"
     ]
    },
    {
     "name": "stderr",
     "output_type": "stream",
     "text": [
      "100%|██████████| 920/920 [01:27<00:00, 10.49it/s]\n"
     ]
    },
    {
     "name": "stdout",
     "output_type": "stream",
     "text": [
      "5eu_2022_nia_chr2-X UNM_2022_nia_chr2-X : 0\n",
      "5eu_2022_nia_chr2-X UNM_2022_nia_chr1 : 0\n",
      "5eu_2022_nia_chr1 5eu_2022_nia_chr2-X : 19\n"
     ]
    },
    {
     "name": "stderr",
     "output_type": "stream",
     "text": [
      "100%|██████████| 19/19 [00:02<00:00,  8.09it/s]\n"
     ]
    },
    {
     "name": "stdout",
     "output_type": "stream",
     "text": [
      "5eu_2022_nia_chr1 5eu_2022_nia_chr1 : 73542\n",
      "5eu_2022_nia_chr1 UNM_2022_nia_chr2-X : 0\n",
      "5eu_2022_nia_chr1 UNM_2022_nia_chr1 : 0\n",
      "UNM_2022_nia_chr2-X 5eu_2022_nia_chr2-X : 0\n",
      "UNM_2022_nia_chr2-X 5eu_2022_nia_chr1 : 0\n",
      "UNM_2022_nia_chr2-X UNM_2022_nia_chr2-X : 1749175\n",
      "UNM_2022_nia_chr2-X UNM_2022_nia_chr1 : 1996\n"
     ]
    },
    {
     "name": "stderr",
     "output_type": "stream",
     "text": [
      "100%|██████████| 1996/1996 [05:56<00:00,  5.60it/s]\n"
     ]
    },
    {
     "name": "stdout",
     "output_type": "stream",
     "text": [
      "UNM_2022_nia_chr1 5eu_2022_nia_chr2-X : 0\n",
      "UNM_2022_nia_chr1 5eu_2022_nia_chr1 : 0\n",
      "UNM_2022_nia_chr1 UNM_2022_nia_chr2-X : 24\n"
     ]
    },
    {
     "name": "stderr",
     "output_type": "stream",
     "text": [
      "100%|██████████| 24/24 [00:05<00:00,  4.51it/s]\n"
     ]
    },
    {
     "name": "stdout",
     "output_type": "stream",
     "text": [
      "UNM_2022_nia_chr1 UNM_2022_nia_chr1 : 175924\n"
     ]
    }
   ],
   "source": [
    "# for k,v in exp_files_add.items():\n",
    "    # print(f'{k}, len {len(v)}')\n",
    "    # print(v[:10])\n",
    "\n",
    "from tqdm import tqdm\n",
    "for k1 in exp_files_add.keys():\n",
    "    for k2 in exp_files_add.keys():\n",
    "        ints = list(set(exp_files_add[k1]).intersection(set(exp_files_add[k2])))\n",
    "        count = len(ints)\n",
    "        print(f'{k1} {k2} : {count}')\n",
    "        if(k1 != k2 and len(ints)>0):\n",
    "            if('chr2-X' in k1):\n",
    "                remove_from = k1\n",
    "            elif('chr2-X' in k2):\n",
    "                remove_from = k2\n",
    "            else:\n",
    "                print(k1, k2)\n",
    "                raise Exception()\n",
    "            for i in tqdm(ints):\n",
    "                exp_files_add[remove_from].remove(i)\n",
    "            "
   ]
  },
  {
   "cell_type": "code",
   "execution_count": 3,
   "id": "cae8e560-d4f5-44fe-86e1-d8e9923733de",
   "metadata": {},
   "outputs": [
    {
     "name": "stdout",
     "output_type": "stream",
     "text": [
      "5eu_2022_nia_chr2-X 5eu_2022_nia_chr2-X : 875080\n",
      "5eu_2022_nia_chr2-X 5eu_2022_nia_chr1 : 1\n",
      "5eu_2022_nia_chr2-X UNM_2022_nia_chr2-X : 0\n",
      "5eu_2022_nia_chr2-X UNM_2022_nia_chr1 : 0\n",
      "5eu_2022_nia_chr1 5eu_2022_nia_chr2-X : 1\n",
      "5eu_2022_nia_chr1 5eu_2022_nia_chr1 : 73542\n",
      "5eu_2022_nia_chr1 UNM_2022_nia_chr2-X : 0\n",
      "5eu_2022_nia_chr1 UNM_2022_nia_chr1 : 0\n",
      "UNM_2022_nia_chr2-X 5eu_2022_nia_chr2-X : 0\n",
      "UNM_2022_nia_chr2-X 5eu_2022_nia_chr1 : 0\n",
      "UNM_2022_nia_chr2-X UNM_2022_nia_chr2-X : 1747180\n",
      "UNM_2022_nia_chr2-X UNM_2022_nia_chr1 : 1\n",
      "UNM_2022_nia_chr1 5eu_2022_nia_chr2-X : 0\n",
      "UNM_2022_nia_chr1 5eu_2022_nia_chr1 : 0\n",
      "UNM_2022_nia_chr1 UNM_2022_nia_chr2-X : 1\n",
      "UNM_2022_nia_chr1 UNM_2022_nia_chr1 : 175924\n"
     ]
    }
   ],
   "source": [
    "for k1 in exp_files_add.keys():\n",
    "    for k2 in exp_files_add.keys():\n",
    "        ints = list(set(exp_files_add[k1]).intersection(set(exp_files_add[k2])))\n",
    "        count = len(ints)\n",
    "        print(f'{k1} {k2} : {count}')\n",
    "\n",
    "        "
   ]
  },
  {
   "cell_type": "code",
   "execution_count": 4,
   "id": "d284e7b3-57d6-4f24-9f04-5a63ed98c840",
   "metadata": {},
   "outputs": [],
   "source": [
    "with open('2022_chr_split.pickle', 'wb') as handle:\n",
    "    pickle.dump(exp_files_add, handle, protocol=pickle.HIGHEST_PROTOCOL)\n"
   ]
  },
  {
   "cell_type": "code",
   "execution_count": 1,
   "id": "520b4fcc-fa83-49da-a289-ae48e61d9906",
   "metadata": {},
   "outputs": [],
   "source": [
    "import pickle\n",
    "\n",
    "with open('2022_chr_split.pickle', 'rb') as handle:\n",
    "    split_dict = pickle.load(handle)\n"
   ]
  },
  {
   "cell_type": "code",
   "execution_count": 2,
   "id": "f3d8427a-3c7c-4b74-a174-e1b19fa5e3be",
   "metadata": {},
   "outputs": [
    {
     "name": "stdout",
     "output_type": "stream",
     "text": [
      "5eu_2022_nia_chr2-X 5eu_2022_nia_chr2-X : 875080\n",
      "5eu_2022_nia_chr2-X 5eu_2022_nia_chr1 : 1\n",
      "5eu_2022_nia_chr2-X UNM_2022_nia_chr2-X : 0\n",
      "5eu_2022_nia_chr2-X UNM_2022_nia_chr1 : 0\n",
      "5eu_2022_nia_chr1 5eu_2022_nia_chr2-X : 1\n",
      "5eu_2022_nia_chr1 5eu_2022_nia_chr1 : 73542\n",
      "5eu_2022_nia_chr1 UNM_2022_nia_chr2-X : 0\n",
      "5eu_2022_nia_chr1 UNM_2022_nia_chr1 : 0\n",
      "UNM_2022_nia_chr2-X 5eu_2022_nia_chr2-X : 0\n",
      "UNM_2022_nia_chr2-X 5eu_2022_nia_chr1 : 0\n",
      "UNM_2022_nia_chr2-X UNM_2022_nia_chr2-X : 1747180\n",
      "UNM_2022_nia_chr2-X UNM_2022_nia_chr1 : 1\n",
      "UNM_2022_nia_chr1 5eu_2022_nia_chr2-X : 0\n",
      "UNM_2022_nia_chr1 5eu_2022_nia_chr1 : 0\n",
      "UNM_2022_nia_chr1 UNM_2022_nia_chr2-X : 1\n",
      "UNM_2022_nia_chr1 UNM_2022_nia_chr1 : 175924\n"
     ]
    }
   ],
   "source": [
    "for k1 in split_dict.keys():\n",
    "    for k2 in split_dict.keys():\n",
    "        ints = list(set(split_dict[k1]).intersection(set(split_dict[k2])))\n",
    "        count = len(ints)\n",
    "        print(f'{k1} {k2} : {count}')\n"
   ]
  },
  {
   "cell_type": "code",
   "execution_count": 5,
   "id": "0b78e2fb-dd41-4576-980e-bbe0ba52cd85",
   "metadata": {},
   "outputs": [
    {
     "name": "stdout",
     "output_type": "stream",
     "text": [
      "exp\n",
      "train_pos_files\n",
      "891131\n",
      "valid_pos_files\n",
      "73607\n",
      "exp\n",
      "train_neg_files\n",
      "1758977\n",
      "valid_neg_files\n",
      "176093\n"
     ]
    }
   ],
   "source": [
    "import pickle\n",
    "\n",
    "def get_5eu_chr_split():\n",
    "    with open('2022_chr_split.pickle', 'rb') as handle:\n",
    "        split_dict = pickle.load(handle)\n",
    "    pos_split = {\n",
    "        'exp':'5eu_2022_nia',\n",
    "        'train_pos_files':split_dict['5eu_2022_nia_chr2-X'],\n",
    "        'valid_pos_files':split_dict['5eu_2022_nia_chr1'],\n",
    "    }\n",
    "    neg_split = {\n",
    "        'exp':'UNM_2022_nia',\n",
    "        'train_neg_files':split_dict['UNM_2022_nia_chr2-X'],\n",
    "        'valid_neg_files':split_dict['UNM_2022_nia_chr1'],\n",
    "    }\n",
    "    return [pos_split, neg_split]\n",
    "\n",
    "splits = get_5eu_chr_split()\n",
    "for split in splits:\n",
    "    for k in split.keys():\n",
    "        print(k)\n",
    "        if(k!='exp'):\n",
    "            print(len(split[k]))"
   ]
  },
  {
   "cell_type": "code",
   "execution_count": null,
   "id": "fad7cb4f-7834-4102-99cf-31d081f4a8ea",
   "metadata": {},
   "outputs": [],
   "source": []
  }
 ],
 "metadata": {
  "kernelspec": {
   "display_name": "Python [conda env:RNAmodEnvRod]",
   "language": "python",
   "name": "conda-env-RNAmodEnvRod-py"
  },
  "language_info": {
   "codemirror_mode": {
    "name": "ipython",
    "version": 3
   },
   "file_extension": ".py",
   "mimetype": "text/x-python",
   "name": "python",
   "nbconvert_exporter": "python",
   "pygments_lexer": "ipython3",
   "version": "3.8.13"
  }
 },
 "nbformat": 4,
 "nbformat_minor": 5
}
