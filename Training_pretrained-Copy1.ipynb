{
 "cells": [
  {
   "cell_type": "code",
   "execution_count": 1,
   "id": "126eef1e-ce61-4853-97d5-f59403bbea98",
   "metadata": {},
   "outputs": [
    {
     "name": "stderr",
     "output_type": "stream",
     "text": [
      "/home/jovyan/my-conda-envs/RNAmodEnv/lib/python3.8/site-packages/torchvision/io/image.py:13: UserWarning: Failed to load image Python extension: /home/jovyan/my-conda-envs/RNAmodEnv/lib/python3.8/site-packages/torchvision/image.so: undefined symbol: _ZN3c106detail19maybe_wrap_dim_slowEllb\n",
      "  warn(f\"Failed to load image Python extension: {e}\")\n"
     ]
    }
   ],
   "source": [
    "from bonito_pretrained import BonitoPretrained\n",
    "model = BonitoPretrained(pretrained_lr=1e-4, my_layers_lr=1e-3, warmup_steps = 10000)"
   ]
  },
  {
   "cell_type": "code",
   "execution_count": 2,
   "id": "767743c7-4f1c-4ba9-8d8b-5a81f14d9754",
   "metadata": {},
   "outputs": [
    {
     "name": "stdout",
     "output_type": "stream",
     "text": [
      "valid files indicies\n",
      "[15, 46, 109, 112, 138, 145, 162, 200, 210, 224]\n",
      "[74, 79, 111, 144, 184, 251, 295, 316, 473, 497]\n",
      "SKIP too long 5810 5483\n",
      "SKIP too long 7930 7125\n",
      "SKIP too long 6170 5357\n",
      "SKIP too long 7450 6862\n",
      "SKIP too long 5930 5174\n",
      "SKIP too long 6610 5836\n",
      "SKIP too long 6650 5818\n",
      "SKIP too long 7850 7108\n",
      "SKIP too long 7770 7446\n",
      "SKIP too long 6290 6006\n"
     ]
    }
   ],
   "source": [
    "from dataloading import get_demo_dataset, get_my_dataset\n",
    "\n",
    "train_dset, valid_dset = get_my_dataset(valid_limit=10000, valid_files_count=10, window=1000)"
   ]
  },
  {
   "cell_type": "code",
   "execution_count": null,
   "id": "ff0a2bc8-5006-4397-8a59-1dd70975a15a",
   "metadata": {},
   "outputs": [
    {
     "name": "stderr",
     "output_type": "stream",
     "text": [
      "CometLogger will be initialized in online mode\n",
      "Using 16bit native Automatic Mixed Precision (AMP)\n",
      "GPU available: True (cuda), used: True\n",
      "TPU available: False, using: 0 TPU cores\n",
      "IPU available: False, using: 0 IPUs\n",
      "HPU available: False, using: 0 HPUs\n",
      "LOCAL_RANK: 0 - CUDA_VISIBLE_DEVICES: [0]\n",
      "\n",
      "  | Name  | Type       | Params\n",
      "-------------------------------------\n",
      "0 | model | Sequential | 523 K \n",
      "1 | acc   | Accuracy   | 0     \n",
      "-------------------------------------\n",
      "521 K     Trainable params\n",
      "1.9 K     Non-trainable params\n",
      "523 K     Total params\n",
      "1.046     Total estimated model params size (MB)\n"
     ]
    },
    {
     "data": {
      "application/vnd.jupyter.widget-view+json": {
       "model_id": "",
       "version_major": 2,
       "version_minor": 0
      },
      "text/plain": [
       "Sanity Checking: 0it [00:00, ?it/s]"
      ]
     },
     "metadata": {},
     "output_type": "display_data"
    },
    {
     "data": {
      "application/vnd.jupyter.widget-view+json": {
       "model_id": "69a78c4d0da64aa9a9d2e3423d50ee27",
       "version_major": 2,
       "version_minor": 0
      },
      "text/plain": [
       "Training: 0it [00:00, ?it/s]"
      ]
     },
     "metadata": {},
     "output_type": "display_data"
    },
    {
     "name": "stdout",
     "output_type": "stream",
     "text": [
      "SKIP too long 7330 6366\n",
      "SKIP too long 7330 6366\n",
      "SKIP too longSKIP too long  73307330  6366\n",
      "6366\n",
      "SKIP too long 7330 6366\n",
      "SKIP too long 7330 6366\n",
      "SKIP too long 7330 6366\n",
      "SKIP too longSKIP too long  73307330  63666366\n",
      "\n",
      "SKIP too long 7330 6366\n",
      "SKIP too long 7330 6366\n",
      "SKIP too long 7330 6366\n",
      "SKIP too longSKIP too longSKIP too long   733073307330   636663666366\n",
      "\n",
      "\n",
      "SKIP too longSKIP too longSKIP too long 7330   73307330 6366 6366\n",
      "6366\n",
      "\n",
      "SKIP too longSKIP too long 7330  7330 63666366\n",
      "\n",
      "SKIP too longSKIP too long 7330  63667330\n",
      " 6366\n",
      "SKIP too longSKIP too long  73307330  63666366\n",
      "\n",
      "SKIP too long 7330 6366\n",
      "SKIP too long 7850 6975\n",
      "SKIP too longSKIP too long  73307330  63666366\n",
      "\n"
     ]
    },
    {
     "name": "stderr",
     "output_type": "stream",
     "text": [
      "/home/jovyan/my-conda-envs/RNAmodEnv/lib/python3.8/site-packages/torch/optim/lr_scheduler.py:131: UserWarning: Detected call of `lr_scheduler.step()` before `optimizer.step()`. In PyTorch 1.1.0 and later, you should call them in the opposite order: `optimizer.step()` before `lr_scheduler.step()`.  Failure to do this will result in PyTorch skipping the first value of the learning rate schedule. See more details at https://pytorch.org/docs/stable/optim.html#how-to-adjust-learning-rate\n",
      "  warnings.warn(\"Detected call of `lr_scheduler.step()` before `optimizer.step()`. \"\n"
     ]
    },
    {
     "name": "stdout",
     "output_type": "stream",
     "text": [
      "SKIP too longSKIP too long SKIP too long 78507850   697569757330\n",
      "\n",
      " 6366\n",
      "SKIP too long 7850 6975\n",
      "SKIP too long 7330 6366\n",
      "SKIP too longSKIP too long 7850  69757330\n",
      " 6366\n",
      "SKIP too long 7850SKIP too long 6975 \n",
      "7330 6366\n",
      "SKIP too long 7850 6975SKIP too long\n",
      " 7850 6975\n",
      "SKIP too long 7850 6975\n",
      "SKIP too longSKIP too long 7850  73306975\n",
      " 6366\n",
      "SKIP too long 7850 6975\n",
      "SKIP too long 7850 6975\n",
      "SKIP too longSKIP too long SKIP too long7850   78506975 7850\n",
      "6975 \n",
      "6975\n",
      "SKIP too longSKIP too long  78507850  69756975\n",
      "\n",
      "SKIP too long SKIP too long 78507850  69756975\n",
      "\n",
      "SKIP too long 7850 6975\n",
      "SKIP too long 7850 6975\n",
      "SKIP too long 7850 6975\n",
      "SKIP too longSKIP too long  78507850  69756975\n",
      "\n",
      "SKIP too longSKIP too long  78507850  69756975\n",
      "\n",
      "SKIP too long 7850 6975SKIP too long\n",
      " 7850 6975\n",
      "SKIP too long 7850 6975\n",
      "SKIP too long 7850 6975\n",
      "SKIP too long 7850 6975\n",
      "SKIP too long 7850 6975\n",
      "SKIP too long 7490 6514\n",
      "SKIP too long 7490 6514\n",
      "SKIP too long 7490 6514\n",
      "SKIP too long 7490 6514\n",
      "SKIP too long 7490 6514\n",
      "SKIP too long 7490 6514\n",
      "SKIP too long 7490 6514\n",
      "SKIP too long 7490 6514\n",
      "SKIP too long 7490SKIP too long  74906514 \n",
      "6514\n",
      "SKIP too long 7490 6514\n",
      "SKIP too long 7490 6514\n",
      "SKIP too long 7490 6514\n",
      "SKIP too long 7490 SKIP too long6514 \n",
      "7490 6514\n",
      "SKIP too long 7490 6514\n",
      "SKIP too long 7490 6514\n",
      "SKIP too long 7490 6514\n",
      "SKIP too long 7490SKIP too long 6514 \n",
      "7490 6514\n",
      "SKIP too long SKIP too longSKIP too long 7490 7490 7490 6514 6514\n",
      "6514\n",
      "\n",
      "SKIP too long 7490 6514\n",
      "SKIP too long SKIP too long7490  74906514 \n",
      "6514\n",
      "SKIP too longSKIP too long  74907490  65146514\n",
      "\n",
      "SKIP too long 7490 6514\n",
      "SKIP too long 7490 6514\n",
      "SKIP too long 7490 6514\n",
      "SKIP too long 7490 6514\n"
     ]
    },
    {
     "name": "stderr",
     "output_type": "stream",
     "text": [
      "COMET WARNING: Comet has disabled auto-logging functionality as it has been imported after the following ML modules: sklearn, torch. Metrics and hyperparameters can still be logged using comet_ml.log_metrics() and comet_ml.log_parameters()\n",
      "COMET WARNING: As you are running in a Jupyter environment, you will need to call `experiment.end()` when finished to ensure all metrics and code are logged before exiting.\n",
      "COMET INFO: Experiment is live on comet.ml https://www.comet.com/vlasta/rnamodif/a69461a90cf54706bd82b76dd133ec07\n",
      "\n"
     ]
    },
    {
     "data": {
      "application/vnd.jupyter.widget-view+json": {
       "model_id": "",
       "version_major": 2,
       "version_minor": 0
      },
      "text/plain": [
       "Validation: 0it [00:00, ?it/s]"
      ]
     },
     "metadata": {},
     "output_type": "display_data"
    },
    {
     "name": "stdout",
     "output_type": "stream",
     "text": [
      "SKIP too long 6690 6121\n",
      "SKIP too long 6690 6121\n",
      "SKIP too long 6690 6121\n",
      "SKIP too long 6690 6121\n",
      "SKIP too long 6690 6121\n",
      "SKIP too long 6690 6121\n",
      "SKIP too long 6690 6121\n",
      "SKIP too long 6690 6121\n",
      "SKIP too long 6690 6121\n",
      "SKIP too long 6690 6121\n",
      "SKIP too long 6690 6121\n",
      "SKIP too long 6690 6121\n",
      "SKIP too long 6690 6121\n",
      "SKIP too long 6690 6121\n",
      "SKIP too long 6690 6121\n",
      "SKIP too long 6690 6121\n",
      "SKIP too long 6690 6121\n",
      "SKIP too long 6690 6121\n",
      "SKIP too long 6690 6121\n",
      "SKIP too long 6690 6121\n",
      "SKIP too long 6690 6121\n",
      "SKIP too long 6690 6121\n",
      "SKIP too longSKIP too long 7450  74506742 \n",
      "6742\n",
      "SKIP too long 6690 6121\n",
      "SKIP too long 6690 6121\n",
      "SKIP too long 7450 6742\n",
      "SKIP too long 6690 6121\n",
      "SKIP too long 6690 6121\n",
      "SKIP too long 7450 6742\n",
      "SKIP too long 6690 6121\n",
      "SKIP too long 7450 6742\n",
      "SKIP too long 6690 6121\n",
      "SKIP too long 7450 6742\n",
      "SKIP too long 6690 6121\n",
      "SKIP too long 7450 6742\n",
      "SKIP too long 6690 6121\n",
      "SKIP too long 6690 6121\n",
      "SKIP too long 7450 6742\n",
      "SKIP too long 7450 6742\n",
      "SKIP too long 7450 6742\n",
      "SKIP too long 7450 6742\n",
      "SKIP too long 7450 6742\n",
      "SKIP too long 7450 6742\n",
      "SKIP too long 7450 6742\n"
     ]
    },
    {
     "data": {
      "application/vnd.jupyter.widget-view+json": {
       "model_id": "",
       "version_major": 2,
       "version_minor": 0
      },
      "text/plain": [
       "Validation: 0it [00:00, ?it/s]"
      ]
     },
     "metadata": {},
     "output_type": "display_data"
    },
    {
     "name": "stdout",
     "output_type": "stream",
     "text": [
      "SKIP too long 7450 6742\n",
      "SKIP too long 6690 6121\n",
      "SKIP too long 7450 6742\n",
      "SKIP too long 7450 6742\n",
      "SKIP too long 7450 6742\n",
      "SKIP too long 7450 6742\n",
      "SKIP too long 7450 6742\n",
      "SKIP too long 7450 6742\n",
      "SKIP too long 7450 6742\n",
      "SKIP too long 7450 6742\n",
      "SKIP too long 7450 6742\n",
      "SKIP too long 7450 6742\n",
      "SKIP too long 7450 6742\n",
      "SKIP too long 7450 6742\n",
      "SKIP too long 7450 6742\n",
      "SKIP too long 7450 6742\n",
      "SKIP too long 7450 6742\n",
      "SKIP too long 7450 6742\n",
      "SKIP too long 7450 6742\n",
      "SKIP too long 6210 5449\n",
      "SKIP too long 6210 5449\n",
      "SKIP too long 7570 7389\n",
      "SKIP too long 6210 5449\n",
      "SKIP too long 6210 5449\n",
      "SKIP too long 6210 5449\n",
      "SKIP too long 7570 7389\n",
      "SKIP too long 6210 5449\n",
      "SKIP too long 6210 5449\n",
      "SKIP too long 6210 5449\n",
      "SKIP too long 6210 5449\n",
      "SKIP too long 7570 7389\n",
      "SKIP too long 7570 7389\n",
      "SKIP too long 6210 5449\n",
      "SKIP too long 6210 5449\n",
      "SKIP too long 7570 7389\n",
      "SKIP too long 6210 5449\n",
      "SKIP too long 7570 7389\n",
      "SKIP too long 7570 7389\n",
      "SKIP too long 6210 5449\n",
      "SKIP too long 6210 5449\n",
      "SKIP too long 7570 7389\n",
      "SKIP too long 7570 7389\n",
      "SKIP too long 6210 5449\n",
      "SKIP too long 7570 7389\n",
      "SKIP too long 6210 5449\n",
      "SKIP too long 7570 7389\n",
      "SKIP too long 6210 5449\n",
      "SKIP too long 7570 7389\n",
      "SKIP too long 6210 SKIP too long5449 \n",
      "6210 5449\n",
      "SKIP too long 7570 7389\n",
      "SKIP too long 6210 5449\n",
      "SKIP too long 6210 5449\n",
      "SKIP too long 6210 5449\n",
      "SKIP too long 7570 7389\n",
      "SKIP too long 6210 5449\n",
      "SKIP too long 7570 7389\n",
      "SKIP too long 7570 7389\n",
      "SKIP too long 6210 5449\n",
      "SKIP too long 7570 7389\n",
      "SKIP too long 7570 7389\n",
      "SKIP too long 6210 5449\n",
      "SKIP too long 6210 5449\n",
      "SKIP too long 7570 7389\n",
      "SKIP too long 7570 7389\n",
      "SKIP too long 6210 5449\n",
      "SKIP too long 6210 5449\n",
      "SKIP too long 6210 5449\n",
      "SKIP too long 7570 7389\n",
      "SKIP too long 6210 5449\n",
      "SKIP too long 6210 5449\n",
      "SKIP too long 7570 7389\n",
      "SKIP too long 7570 7389\n",
      "SKIP too long 7570 7389\n",
      "SKIP too long 7570 7389\n",
      "SKIP too long 6210 5449\n",
      "SKIP too long 7570SKIP too long  73897570\n",
      " 7389\n",
      "SKIP too long 7570 7389\n",
      "SKIP too long 7570 7389\n",
      "SKIP too long 7570 7389\n",
      "SKIP too long 7570 7389\n",
      "SKIP too long 7570 7389\n"
     ]
    },
    {
     "data": {
      "application/vnd.jupyter.widget-view+json": {
       "model_id": "",
       "version_major": 2,
       "version_minor": 0
      },
      "text/plain": [
       "Validation: 0it [00:00, ?it/s]"
      ]
     },
     "metadata": {},
     "output_type": "display_data"
    },
    {
     "data": {
      "application/vnd.jupyter.widget-view+json": {
       "model_id": "",
       "version_major": 2,
       "version_minor": 0
      },
      "text/plain": [
       "Validation: 0it [00:00, ?it/s]"
      ]
     },
     "metadata": {},
     "output_type": "display_data"
    },
    {
     "name": "stdout",
     "output_type": "stream",
     "text": [
      "SKIP too long 5970 5107\n",
      "SKIP too long 5970 5107\n",
      "SKIP too long 5970 5107\n",
      "SKIP too long 5970 5107\n",
      "SKIP too long 5970 5107\n",
      "SKIP too long 5970 5107\n",
      "SKIP too long 5970 5107\n",
      "SKIP too long 5970 5107\n",
      "SKIP too long 5970 5107\n",
      "SKIP too long 5970 5107\n",
      "SKIP too long 5970 5107\n",
      "SKIP too long 5970 5107\n",
      "SKIP too long 5970 5107\n",
      "SKIP too long 5970 5107\n",
      "SKIP too long 5970 5107\n",
      "SKIP too long 5970 5107\n",
      "SKIP too long 5970 5107\n",
      "SKIP too long 5970 5107\n",
      "SKIP too long 5970 5107\n",
      "SKIP too long 5970 5107\n",
      "SKIP too long 5970 5107\n",
      "SKIP too long 5970 5107\n",
      "SKIP too long 5970 5107\n",
      "SKIP too long 5970 5107\n",
      "SKIP too long 5970 5107\n",
      "SKIP too long 5970 5107\n",
      "SKIP too long 5970 5107\n",
      "SKIP too long 5970 5107\n",
      "SKIP too long 5970 5107\n",
      "SKIP too long 5970 5107\n",
      "SKIP too long 5970 5107\n",
      "SKIP too long 5970 5107\n",
      "SKIP too long 7490 6560\n",
      "SKIP too long 7490 6560\n",
      "SKIP too long 7490 6560\n",
      "SKIP too long 7490 6560\n",
      "SKIP too long 7490 6560\n",
      "SKIP too long 7490 6560\n",
      "SKIP too long 7490 6560\n",
      "SKIP too long 7490 6560\n",
      "SKIP too long 7490 6560\n",
      "SKIP too long 7490 6560\n",
      "SKIP too long 7490 6560\n",
      "SKIP too long 7490 6560\n",
      "SKIP too long 7490 6560\n",
      "SKIP too long 7490 6560\n",
      "SKIP too long 7490 6560\n",
      "SKIP too long 7490 6560\n",
      "SKIP too long 7490 6560\n",
      "SKIP too long 7490 6560\n",
      "SKIP too long 7490 6560\n",
      "SKIP too long 7490 6560\n",
      "SKIP too long 7490 6560\n",
      "SKIP too long 7490 6560\n",
      "SKIP too long 7490 6560\n",
      "SKIP too long 7490 6560\n",
      "SKIP too long 7490 6560\n",
      "SKIP too long 7490 6560\n",
      "SKIP too long 7490 6560\n",
      "SKIP too long 7490 6560\n",
      "SKIP too long 7490 6560\n",
      "SKIP too long 7490 6560\n",
      "SKIP too long 7490 6560\n",
      "SKIP too long 7490 6560\n"
     ]
    },
    {
     "data": {
      "application/vnd.jupyter.widget-view+json": {
       "model_id": "",
       "version_major": 2,
       "version_minor": 0
      },
      "text/plain": [
       "Validation: 0it [00:00, ?it/s]"
      ]
     },
     "metadata": {},
     "output_type": "display_data"
    },
    {
     "name": "stdout",
     "output_type": "stream",
     "text": [
      "SKIP too long 6210 5500\n",
      "SKIP too long 6210 5500\n",
      "SKIP too long 6210 5500\n",
      "SKIP too long 6210 5500\n",
      "SKIP too long 6210 5500\n",
      "SKIP too long 6210 5500\n",
      "SKIP too long 6210 5500\n",
      "SKIP too long 6210 5500\n",
      "SKIP too long 6210 5500\n",
      "SKIP too long 6210 5500\n",
      "SKIP too long 6210 5500\n",
      "SKIP too long 6210 5500\n",
      "SKIP too long 6210 5500\n",
      "SKIP too long 6210 5500\n",
      "SKIP too long 6210 5500\n",
      "SKIP too long 6210 5500\n",
      "SKIP too long 6210 5500\n",
      "SKIP too long 6210 5500\n",
      "SKIP too long 6210 5500\n",
      "SKIP too long 6210 5500\n",
      "SKIP too long 6210 5500\n",
      "SKIP too long 6210 5500\n",
      "SKIP too long 6210 5500\n",
      "SKIP too long 6210 5500\n",
      "SKIP too long 6210 5500\n",
      "SKIP too long 6210 5500\n",
      "SKIP too long 6210 5500\n",
      "SKIP too long 6210 5500\n",
      "SKIP too long 6210 5500\n",
      "SKIP too long 6210 5500\n",
      "SKIP too long 6210 5500\n",
      "SKIP too long 6210 5500\n",
      "SKIP too long 5170 5077\n",
      "SKIP too long 5170 5077\n",
      "SKIP too long 5170 5077\n",
      "SKIP too long 5170 5077\n",
      "SKIP too long 5170 5077\n",
      "SKIP too long 5170 5077\n",
      "SKIP too long 5170 5077\n",
      "SKIP too long 5170 5077\n",
      "SKIP too long 5170 5077\n",
      "SKIP too long 5170 5077\n",
      "SKIP too long 5170 5077\n",
      "SKIP too long 5170 5077\n",
      "SKIP too long 5170 5077\n",
      "SKIP too long 5170 5077\n",
      "SKIP too long 5170 5077\n",
      "SKIP too long 5170 5077\n",
      "SKIP too long 5170 5077\n",
      "SKIP too long 5170 5077\n",
      "SKIP too long 5170 5077\n",
      "SKIP too long 5170 5077\n",
      "SKIP too long 5170 5077\n",
      "SKIP too long 5170 5077\n",
      "SKIP too long 5170 5077\n",
      "SKIP too long 5170 5077\n",
      "SKIP too long 5170 5077\n",
      "SKIP too long 5170 5077\n",
      "SKIP too long 5170 5077\n",
      "SKIP too long 5170 5077\n",
      "SKIP too long 5170 5077\n",
      "SKIP too long 5170 5077\n",
      "SKIP too long 5170 5077\n",
      "SKIP too long 5170 5077\n"
     ]
    },
    {
     "data": {
      "application/vnd.jupyter.widget-view+json": {
       "model_id": "",
       "version_major": 2,
       "version_minor": 0
      },
      "text/plain": [
       "Validation: 0it [00:00, ?it/s]"
      ]
     },
     "metadata": {},
     "output_type": "display_data"
    },
    {
     "name": "stdout",
     "output_type": "stream",
     "text": [
      "SKIP too long 7370 6424\n",
      "SKIP too long 7370 6424\n",
      "SKIP too long 7370 6424\n",
      "SKIP too long 7370 6424\n",
      "SKIP too long 7370 6424\n",
      "SKIP too long 7370 6424\n",
      "SKIP too long 7370 6424\n",
      "SKIP too long 7370 6424\n",
      "SKIP too long 7370 6424\n",
      "SKIP too long 7370 6424\n",
      "SKIP too long 7370 6424\n",
      "SKIP too long 7370 6424\n",
      "SKIP too long 7370 6424\n",
      "SKIP too long 7370 6424\n",
      "SKIP too long 7370 6424\n",
      "SKIP too long 7370 6424\n",
      "SKIP too long 7370 6424\n",
      "SKIP too long 7370 6424\n",
      "SKIP too long 7370 6424\n",
      "SKIP too long 7370 6424\n",
      "SKIP too long 7370 6424\n",
      "SKIP too long SKIP too long 73707370 6424 6424\n",
      "\n",
      "SKIP too long 7370 6424\n",
      "SKIP too long 7370 6424\n",
      "SKIP too long 7370 6424\n",
      "SKIP too long 7370 6424\n",
      "SKIP too long 7370 6424\n",
      "SKIP too long 7370 6424\n",
      "SKIP too long 7370 6424\n",
      "SKIP too long 7370 6424\n",
      "SKIP too long 7370 6424\n",
      "SKIP too long 7090 6362\n",
      "SKIP too long 7090 6362\n",
      "SKIP too long 7090 6362\n",
      "SKIP too long 7090 6362\n",
      "SKIP too long 7090 6362\n",
      "SKIP too long 7090 6362\n",
      "SKIP too long 7090 6362\n",
      "SKIP too long 7090 6362\n",
      "SKIP too long 7090 6362\n",
      "SKIP too long 7090 6362\n",
      "SKIP too long 7090 6362\n",
      "SKIP too long 7090 6362\n",
      "SKIP too long 7090 6362\n",
      "SKIP too long 7090 6362\n",
      "SKIP too long 7090 6362\n",
      "SKIP too long 7090 6362\n",
      "SKIP too long 7090 6362\n",
      "SKIP too long 7090 6362\n",
      "SKIP too long 7090 6362\n",
      "SKIP too long 7090 6362\n",
      "SKIP too long 7090 6362\n",
      "SKIP too long 7090 6362\n",
      "SKIP too long 7090 6362\n",
      "SKIP too long 7090 6362\n",
      "SKIP too long 7090 6362\n",
      "SKIP too long 7090 6362\n"
     ]
    },
    {
     "data": {
      "application/vnd.jupyter.widget-view+json": {
       "model_id": "",
       "version_major": 2,
       "version_minor": 0
      },
      "text/plain": [
       "Validation: 0it [00:00, ?it/s]"
      ]
     },
     "metadata": {},
     "output_type": "display_data"
    },
    {
     "name": "stdout",
     "output_type": "stream",
     "text": [
      "SKIP too long 7090 6362\n",
      "SKIP too long 7090 6362\n",
      "SKIP too long 7090 6362\n",
      "SKIP too long 7090 6362\n",
      "SKIP too long 7090 6362\n",
      "SKIP too long 7090 6362\n",
      "SKIP too long 7250 6296\n"
     ]
    },
    {
     "data": {
      "application/vnd.jupyter.widget-view+json": {
       "model_id": "",
       "version_major": 2,
       "version_minor": 0
      },
      "text/plain": [
       "Validation: 0it [00:00, ?it/s]"
      ]
     },
     "metadata": {},
     "output_type": "display_data"
    },
    {
     "name": "stdout",
     "output_type": "stream",
     "text": [
      "SKIP too long 7250 6296\n",
      "SKIP too long 7250 6296\n",
      "SKIP too long 7250 6296\n",
      "SKIP too long 7250 6296\n",
      "SKIP too long 6090 5264\n",
      "SKIP too long 7250 6296\n",
      "SKIP too longSKIP too long  72506090  62965264\n",
      "\n",
      "SKIP too long 7250 6296\n",
      "SKIP too long 7250 6296\n",
      "SKIP too long 7250 6296\n",
      "SKIP too long 7250 6296\n",
      "SKIP too long 7250 6296\n",
      "SKIP too long 7250 6296\n",
      "SKIP too longSKIP too long  72507250  62966296\n",
      "\n",
      "SKIP too long 7250 6296\n",
      "SKIP too long 7250 6296\n",
      "SKIP too long 7250 6296\n",
      "SKIP too long 6090 5264\n",
      "SKIP too long 7250 6296\n",
      "SKIP too long 7250 6296\n",
      "SKIP too long 7250 6296\n",
      "SKIP too long 6090 5264\n",
      "SKIP too long 7250 6296\n",
      "SKIP too long 7250 6296\n",
      "SKIP too long 6090 5264\n",
      "SKIP too long 7250 6296\n",
      "SKIP too long 7250 6296\n",
      "SKIP too long 7250 6296\n",
      "SKIP too long 7250 6296\n",
      "SKIP too long 7250 6296\n",
      "SKIP too long 7250 6296\n",
      "SKIP too long 7250 6296\n",
      "SKIP too long 7250 6296\n",
      "SKIP too long 6090 5264\n",
      "SKIP too long 7250 6296\n",
      "SKIP too long 6090 5264\n",
      "SKIP too long 6090 5264\n",
      "SKIP too long 6090 5264\n",
      "SKIP too long 6090 5264\n",
      "SKIP too long 6090 5264\n",
      "SKIP too long 6090 5264\n",
      "SKIP too long 6090 5264\n",
      "SKIP too long 6090 5264\n",
      "SKIP too long 6090 5264\n",
      "SKIP too long 6090 5264\n",
      "SKIP too long 6090 5264\n",
      "SKIP too long 6090 5264\n",
      "SKIP too long 6090 5264\n",
      "SKIP too long 6090 5264\n",
      "SKIP too long 6090 5264\n",
      "SKIP too long 6090 5264\n",
      "SKIP too long 6090 5264\n",
      "SKIP too long 6890 6552\n",
      "SKIP too long 6090 5264\n",
      "SKIP too long 6890 6552\n",
      "SKIP too long 6890 6552\n",
      "SKIP too long 6890 6552\n",
      "SKIP too long 6090 5264\n",
      "SKIP too long 6890 6552\n",
      "SKIP too long 6890 6552\n",
      "SKIP too long 6090 5264\n",
      "SKIP too long 6890 6552\n",
      "SKIP too long 6090 5264\n",
      "SKIP too long 6090 5264\n",
      "SKIP too long 6890 6552\n",
      "SKIP too long 6890 6552\n",
      "SKIP too long 6890 6552\n",
      "SKIP too long 6890 6552\n",
      "SKIP too long 6890 6552\n",
      "SKIP too long 6890 6552\n",
      "SKIP too long 6890 6552\n",
      "SKIP too long 6890 6552\n",
      "SKIP too long SKIP too long6890  68906552 \n",
      "6552\n",
      "SKIP too long 6890 6552\n",
      "SKIP too long 6890 6552\n",
      "SKIP too long 6890 6552\n",
      "SKIP too long 6090 5264\n",
      "SKIP too long 6890 6552\n",
      "SKIP too long 6090 5264\n",
      "SKIP too long 6890 6552\n",
      "SKIP too long 6090 5264\n",
      "SKIP too long 6890 6552\n",
      "SKIP too long 6890 6552\n",
      "SKIP too long 6890 6552\n",
      "SKIP too long 6890 6552\n",
      "SKIP too long 6890 6552\n",
      "SKIP too long 6890 6552\n",
      "SKIP too long 6090 5264\n",
      "SKIP too long 6890 6552\n",
      "SKIP too long 6890 6552\n",
      "SKIP too long 6890 6552\n",
      "SKIP too long 6890 6552\n",
      "SKIP too long 7410 6718\n",
      "SKIP too long 7410 6718\n",
      "SKIP too long 7410 6718\n",
      "SKIP too long 7410 6718\n",
      "SKIP too long SKIP too long7410  74106718 \n",
      "6718\n",
      "SKIP too long 7410 6718\n",
      "SKIP too long 7410 6718\n",
      "SKIP too long 7410 6718\n",
      "SKIP too long 7410 6718\n",
      "SKIP too long 7410 6718\n",
      "SKIP too long 7410 6718\n",
      "SKIP too long 7410 6718\n",
      "SKIP too long 7410 6718\n",
      "SKIP too long 7410 6718\n",
      "SKIP too long 7410 6718\n",
      "SKIP too long 7410 6718\n",
      "SKIP too long 7410 6718\n",
      "SKIP too long 7410 6718\n",
      "SKIP too long 7410 6718\n",
      "SKIP too long 7410 6718\n",
      "SKIP too long 7410 6718\n",
      "SKIP too long 7410 6718\n",
      "SKIP too long 7410 6718\n",
      "SKIP too long 7410 6718\n",
      "SKIP too long 7410 6718\n",
      "SKIP too long 7410 6718\n",
      "SKIP too long 7410 6718\n",
      "SKIP too long 7410 6718\n",
      "SKIP too long 7410 6718\n",
      "SKIP too long 7410 6718\n",
      "SKIP too long 7410 6718\n"
     ]
    },
    {
     "data": {
      "application/vnd.jupyter.widget-view+json": {
       "model_id": "",
       "version_major": 2,
       "version_minor": 0
      },
      "text/plain": [
       "Validation: 0it [00:00, ?it/s]"
      ]
     },
     "metadata": {},
     "output_type": "display_data"
    },
    {
     "name": "stdout",
     "output_type": "stream",
     "text": [
      "SKIP too long 5250 5092\n",
      "SKIP too long 5250 5092\n",
      "SKIP too long 5250 5092\n",
      "SKIP too long 5250 5092\n",
      "SKIP too long 5250 5092\n",
      "SKIP too long 5250 5092\n",
      "SKIP too long 5250 5092\n",
      "SKIP too long 5250 5092\n",
      "SKIP too long 5250 5092\n",
      "SKIP too long 5250 5092\n",
      "SKIP too long 5250 5092\n",
      "SKIP too long 5250 5092\n",
      "SKIP too long 5250 5092\n",
      "SKIP too long 5250 5092\n",
      "SKIP too long 5250 5092\n",
      "SKIP too long 5250 5092\n",
      "SKIP too long 5250 5092\n",
      "SKIP too long 5250 5092\n",
      "SKIP too long 5250 5092\n",
      "SKIP too long 5250SKIP too long  50925250\n",
      " 5092\n",
      "SKIP too long 5250 5092\n",
      "SKIP too long 5250 5092\n",
      "SKIP too long 5250 5092\n",
      "SKIP too long 5250 5092\n",
      "SKIP too long 5250 5092\n",
      "SKIP too long 5250 5092\n",
      "SKIP too long 5250 5092\n",
      "SKIP too long 5250 5092\n",
      "SKIP too long 5250 5092\n",
      "SKIP too long 5250 5092\n",
      "SKIP too long 5250 5092\n"
     ]
    },
    {
     "data": {
      "application/vnd.jupyter.widget-view+json": {
       "model_id": "",
       "version_major": 2,
       "version_minor": 0
      },
      "text/plain": [
       "Validation: 0it [00:00, ?it/s]"
      ]
     },
     "metadata": {},
     "output_type": "display_data"
    },
    {
     "name": "stdout",
     "output_type": "stream",
     "text": [
      "SKIP too long 7450 6596\n",
      "SKIP too long 7450 6596\n",
      "SKIP too long 7450 6596\n",
      "SKIP too long 7450 6596\n",
      "SKIP too long 7450 6596\n",
      "SKIP too long 7450 6596\n",
      "SKIP too long 7450 6596\n",
      "SKIP too long 7450 6596\n",
      "SKIP too long 7450 6596\n",
      "SKIP too long 7450 6596\n",
      "SKIP too long 7450 6596\n",
      "SKIP too long 6410 5825\n",
      "SKIP too long 7450 6596\n",
      "SKIP too long 7450 \n",
      "6596SKIP too long 7450 6596\n",
      "SKIP too long 6410 5825\n",
      "SKIP too long 6410 5825\n",
      "SKIP too long 6410 5825\n",
      "SKIP too long 7450 6596\n",
      "SKIP too long 6410 5825\n",
      "SKIP too long 6410 5825\n",
      "SKIP too long 7450 6596\n",
      "SKIP too long 7450 6596\n",
      "SKIP too long 7450 6596\n",
      "SKIP too long 7450 6596\n",
      "SKIP too long 7450 6596\n",
      "SKIP too long 7450 6596\n",
      "SKIP too long 6410 5825\n",
      "SKIP too long 6410 5825\n",
      "SKIP too longSKIP too long  6410 74505825 \n",
      "6596\n",
      "SKIP too long 7450 6596\n",
      "SKIP too long 6410 5825\n",
      "SKIP too long 6410 5825\n",
      "SKIP too long 6410 5825\n",
      "SKIP too long 6410 5825\n",
      "SKIP too long 6410 5825\n",
      "SKIP too long 6410 5825\n",
      "SKIP too long 6410 5825\n",
      "SKIP too long 6410 5825\n",
      "SKIP too long 6410 5825\n",
      "SKIP too long 7450 6596\n",
      "SKIP too long 6410 5825\n",
      "SKIP too long 7450 6596\n",
      "SKIP too long 6410 5825\n",
      "SKIP too long 6410 5825\n",
      "SKIP too long 6410 5825\n",
      "SKIP too long 7450 6596\n",
      "SKIP too long 6410 5825\n",
      "SKIP too long 6410 5825\n",
      "SKIP too long 6410 5825\n",
      "SKIP too long 6410 5825\n",
      "SKIP too long 6410 5825\n",
      "SKIP too long 7450 6596\n",
      "SKIP too long 6410 5825\n",
      "SKIP too long 6410 5825\n",
      "SKIP too long 7450 6596\n",
      "SKIP too long 6410 5825\n",
      "SKIP too long 6410 5825\n",
      "SKIP too long 7450 6596\n",
      "SKIP too long 6410 5825\n",
      "SKIP too long 7450 6596\n",
      "SKIP too long 7450 6596\n",
      "SKIP too long 7450 6596\n",
      "SKIP too long 5170 5037\n",
      "SKIP too long 5170 5037\n",
      "SKIP too long 5170 5037\n",
      "SKIP too long 5170 5037\n",
      "SKIP too long 5170 5037\n",
      "SKIP too long 5170 5037\n",
      "SKIP too long 5170 5037\n",
      "SKIP too long 5170 5037\n",
      "SKIP too long 5170 5037\n",
      "SKIP too long 5170 5037\n",
      "SKIP too long 5170 5037\n",
      "SKIP too long 5170 5037\n",
      "SKIP too long 5170 5037\n",
      "SKIP too long 5170 5037\n",
      "SKIP too long 5170 5037\n",
      "SKIP too long 5170 5037\n",
      "SKIP too long 5170 5037\n",
      "SKIP too long 5170 5037\n",
      "SKIP too long 5170 5037\n",
      "SKIP too long 5170 5037\n",
      "SKIP too long 5170 5037\n",
      "SKIP too long 5170 5037\n",
      "SKIP too long 5170 5037\n",
      "SKIP too long 5170 5037\n",
      "SKIP too long 5170 5037\n",
      "SKIP too long 5170SKIP too long  50375170\n",
      " 5037\n",
      "SKIP too long 5170 5037\n",
      "SKIP too long 5170 5037\n",
      "SKIP too long 5170 5037\n",
      "SKIP too long 5170 5037\n"
     ]
    },
    {
     "data": {
      "application/vnd.jupyter.widget-view+json": {
       "model_id": "",
       "version_major": 2,
       "version_minor": 0
      },
      "text/plain": [
       "Validation: 0it [00:00, ?it/s]"
      ]
     },
     "metadata": {},
     "output_type": "display_data"
    },
    {
     "name": "stdout",
     "output_type": "stream",
     "text": [
      "SKIP too long 5170 5037\n",
      "SKIP too long 5890 5433\n",
      "SKIP too long 5890 5433\n",
      "SKIP too long 5890 5433\n",
      "SKIP too long 5890 5433\n",
      "SKIP too long 5890 5433\n",
      "SKIP too long 5890 5433\n",
      "SKIP too long 5890 5433\n",
      "SKIP too long 5890 5433\n",
      "SKIP too long 5890 5433\n",
      "SKIP too long 5890 5433\n",
      "SKIP too long 5890 5433\n",
      "SKIP too long 5890 5433\n",
      "SKIP too long 5890 5433\n",
      "SKIP too long 5890 5433\n",
      "SKIP too long 5890 5433\n",
      "SKIP too long 5890 5433\n",
      "SKIP too long 5890 5433\n",
      "SKIP too long 5890 5433\n",
      "SKIP too long 5890 5433\n",
      "SKIP too long 5890 5433\n",
      "SKIP too long 5890 5433\n",
      "SKIP too long 5890 5433\n",
      "SKIP too long 5890 5433\n",
      "SKIP too long 5890 5433\n",
      "SKIP too long 5890 5433\n",
      "SKIP too long 5890 5433\n",
      "SKIP too long 5890 5433\n",
      "SKIP too long 5890 5433\n",
      "SKIP too long 5890 5433\n",
      "SKIP too long 5890 5433\n",
      "SKIP too long 5890 5433\n",
      "SKIP too long 5890 5433\n",
      "SKIP too longSKIP too longSKIP too longSKIP too longSKIP too long     60906090609060906090    5395539553955395 \n",
      "\n",
      "\n",
      "\n",
      "5395\n",
      "SKIP too longSKIP too long  60906090  53955395\n",
      "\n",
      "SKIP too long 6090 5395\n",
      "SKIP too long 6090 5395\n",
      "SKIP too long 6090 5395\n"
     ]
    },
    {
     "data": {
      "application/vnd.jupyter.widget-view+json": {
       "model_id": "",
       "version_major": 2,
       "version_minor": 0
      },
      "text/plain": [
       "Validation: 0it [00:00, ?it/s]"
      ]
     },
     "metadata": {},
     "output_type": "display_data"
    },
    {
     "name": "stdout",
     "output_type": "stream",
     "text": [
      "SKIP too longSKIP too longSKIP too longSKIP too longSKIP too longSKIP too long     6090 609060906090 60906090   5395  539553955395\n",
      "5395\n",
      "\n",
      "\n",
      "\n",
      "5395\n",
      "SKIP too longSKIP too long  60906090  53955395\n",
      "\n",
      "SKIP too longSKIP too long 6890  68905908 \n",
      "5908\n",
      "SKIP too long 6890 5908\n",
      "SKIP too long 6090 5395\n",
      "SKIP too long 6890 5908\n",
      "SKIP too long 6890 5908\n",
      "SKIP too long 6890 5908\n",
      "SKIP too long  60905395\n",
      "SKIP too long 6890 5908\n",
      "SKIP too long 6090 5395\n",
      "SKIP too long 6090 5395\n",
      "SKIP too long 6890 5908\n",
      "SKIP too long 6090 5395\n",
      "SKIP too long 6890 5908\n",
      "SKIP too long 6890 5908\n",
      "SKIP too long 6890 5908\n",
      "SKIP too long 6890 5908\n",
      "SKIP too long 6890 5908\n",
      "SKIP too long 6890 5908\n",
      "SKIP too long 6890 5908\n",
      "SKIP too long 6890 5908\n",
      "SKIP too long 6890 5908\n",
      "SKIP too long 6890 5908\n",
      "SKIP too long 6890 5908\n",
      "SKIP too long 6890 5908\n",
      "SKIP too long 6890 5908\n",
      "SKIP too long 6090 5395\n",
      "SKIP too long 6090 5395\n",
      "SKIP too long 6090 5395\n",
      "SKIP too long 6890 5908\n",
      "SKIP too long 6890 5908\n",
      "SKIP too long 6090 5395\n",
      "SKIP too long 6890 5908\n",
      "SKIP too long 6090 5395\n",
      "SKIP too long 6890 5908\n",
      "SKIP too long 6090 5395\n",
      "SKIP too long 6890 5908\n",
      "SKIP too long 6890 5908\n",
      "SKIP too long 6890 5908\n",
      "SKIP too long 6890 5908\n",
      "SKIP too long 6890 5908\n",
      "SKIP too long 6890 5908\n",
      "SKIP too long 6090 5395\n",
      "SKIP too long 6090 5395\n",
      "SKIP too long 6890 5908\n",
      "SKIP too long 6090 5395\n"
     ]
    },
    {
     "data": {
      "application/vnd.jupyter.widget-view+json": {
       "model_id": "",
       "version_major": 2,
       "version_minor": 0
      },
      "text/plain": [
       "Validation: 0it [00:00, ?it/s]"
      ]
     },
     "metadata": {},
     "output_type": "display_data"
    },
    {
     "name": "stdout",
     "output_type": "stream",
     "text": [
      "SKIP too long 5890 5505\n",
      "SKIP too long 5890 5505\n",
      "SKIP too long 5890 5505\n",
      "SKIP too long 5890 5505\n",
      "SKIP too long 5890 5505\n",
      "SKIP too long 5890 5505\n",
      "SKIP too long 5890 5505\n",
      "SKIP too long 5890 5505\n",
      "SKIP too long 5890 5505\n",
      "SKIP too long 5890 5505\n",
      "SKIP too long 5890 5505\n",
      "SKIP too long 5890 5505\n",
      "SKIP too long 5890 5505\n",
      "SKIP too long 5890 5505\n",
      "SKIP too long 5890 5505\n",
      "SKIP too long 5890 5505\n",
      "SKIP too long 5890 \n",
      "5505SKIP too long 5890 5505\n",
      "SKIP too long 5890 5505\n",
      "SKIP too long 5890 5505\n",
      "SKIP too long 5890 5505\n",
      "SKIP too long 5890 5505\n",
      "SKIP too long 5890 5505\n",
      "SKIP too long 5890 5505\n",
      "SKIP too long 5890 5505\n",
      "SKIP too long 5890 5505\n",
      "SKIP too long 5890 5505\n",
      "SKIP too long 5890 5505\n",
      "SKIP too long 5890 5505\n",
      "SKIP too long 5890 5505\n",
      "SKIP too long 5890 5505\n",
      "SKIP too long 5890 5505\n"
     ]
    },
    {
     "data": {
      "application/vnd.jupyter.widget-view+json": {
       "model_id": "",
       "version_major": 2,
       "version_minor": 0
      },
      "text/plain": [
       "Validation: 0it [00:00, ?it/s]"
      ]
     },
     "metadata": {},
     "output_type": "display_data"
    },
    {
     "data": {
      "application/vnd.jupyter.widget-view+json": {
       "model_id": "",
       "version_major": 2,
       "version_minor": 0
      },
      "text/plain": [
       "Validation: 0it [00:00, ?it/s]"
      ]
     },
     "metadata": {},
     "output_type": "display_data"
    },
    {
     "data": {
      "application/vnd.jupyter.widget-view+json": {
       "model_id": "",
       "version_major": 2,
       "version_minor": 0
      },
      "text/plain": [
       "Validation: 0it [00:00, ?it/s]"
      ]
     },
     "metadata": {},
     "output_type": "display_data"
    },
    {
     "name": "stdout",
     "output_type": "stream",
     "text": [
      "SKIP too long 6810 5910\n",
      "SKIP too long 6810 5910\n",
      "SKIP too long 6810 5910\n",
      "SKIP too long 6810 5910\n",
      "SKIP too long 6810 5910\n",
      "SKIP too long 6810 5910\n",
      "SKIP too long 6810 5910\n",
      "SKIP too long 6810 5910\n",
      "SKIP too long 6810 5910\n",
      "SKIP too long 6810 5910\n",
      "SKIP too long 6810 5910\n",
      "SKIP too long 6810 5910\n",
      "SKIP too long 6810 5910\n",
      "SKIP too long 6810 5910\n",
      "SKIP too long 6810 5910\n",
      "SKIP too long 6810SKIP too long  59106810\n",
      " 5910\n",
      "SKIP too long 6810 5910\n",
      "SKIP too long 6810 5910\n",
      "SKIP too long 6810 5910\n",
      "SKIP too long 6810 5910\n",
      "SKIP too long 6810 5910\n",
      "SKIP too long 6810 5910\n",
      "SKIP too long 6810 5910\n",
      "SKIP too long 6810 5910\n",
      "SKIP too long 6810 5910\n",
      "SKIP too long 6810 5910\n",
      "SKIP too long 6810 5910\n",
      "SKIP too long 6810 5910\n",
      "SKIP too long 6810 5910\n",
      "SKIP too long 6810 5910\n",
      "SKIP too long 6810 5910\n"
     ]
    },
    {
     "data": {
      "application/vnd.jupyter.widget-view+json": {
       "model_id": "",
       "version_major": 2,
       "version_minor": 0
      },
      "text/plain": [
       "Validation: 0it [00:00, ?it/s]"
      ]
     },
     "metadata": {},
     "output_type": "display_data"
    },
    {
     "data": {
      "application/vnd.jupyter.widget-view+json": {
       "model_id": "",
       "version_major": 2,
       "version_minor": 0
      },
      "text/plain": [
       "Validation: 0it [00:00, ?it/s]"
      ]
     },
     "metadata": {},
     "output_type": "display_data"
    },
    {
     "name": "stdout",
     "output_type": "stream",
     "text": [
      "SKIP too long 6330 5491\n",
      "SKIP too long 6330 5491\n",
      "SKIP too long 6330 5491\n",
      "SKIP too long 6330 5491\n"
     ]
    },
    {
     "data": {
      "application/vnd.jupyter.widget-view+json": {
       "model_id": "",
       "version_major": 2,
       "version_minor": 0
      },
      "text/plain": [
       "Validation: 0it [00:00, ?it/s]"
      ]
     },
     "metadata": {},
     "output_type": "display_data"
    },
    {
     "name": "stdout",
     "output_type": "stream",
     "text": [
      "SKIP too long 6330 5491\n",
      "SKIP too long 6330 5491\n",
      "SKIP too long 6330 5491\n",
      "SKIP too long 6330 5491\n",
      "SKIP too long 6330 5491\n",
      "SKIP too long 6330 5491\n",
      "SKIP too long 6330 5491\n",
      "SKIP too long 6330 5491\n",
      "SKIP too long 6330 5491\n",
      "SKIP too long 6330 5491\n",
      "SKIP too long 6330 5491\n",
      "SKIP too long 6330 5491\n",
      "SKIP too long 6330 5491\n",
      "SKIP too long 6330 5491\n",
      "SKIP too long 6330 5491\n",
      "SKIP too long 6330 5491\n",
      "SKIP too long 6330 5491\n",
      "SKIP too long 6330 5491\n",
      "SKIP too long 6330 5491\n",
      "SKIP too long 6330 5491\n",
      "SKIP too long 6330 5491\n",
      "SKIP too long 6330 5491\n",
      "SKIP too longSKIP too long  63306330  54915491\n",
      "\n",
      "SKIP too long 6330 5491\n",
      "SKIP too long 6330 5491\n",
      "SKIP too long 6330 5491\n",
      "SKIP too long 6330 5491\n"
     ]
    },
    {
     "data": {
      "application/vnd.jupyter.widget-view+json": {
       "model_id": "",
       "version_major": 2,
       "version_minor": 0
      },
      "text/plain": [
       "Validation: 0it [00:00, ?it/s]"
      ]
     },
     "metadata": {},
     "output_type": "display_data"
    },
    {
     "data": {
      "application/vnd.jupyter.widget-view+json": {
       "model_id": "",
       "version_major": 2,
       "version_minor": 0
      },
      "text/plain": [
       "Validation: 0it [00:00, ?it/s]"
      ]
     },
     "metadata": {},
     "output_type": "display_data"
    },
    {
     "data": {
      "application/vnd.jupyter.widget-view+json": {
       "model_id": "",
       "version_major": 2,
       "version_minor": 0
      },
      "text/plain": [
       "Validation: 0it [00:00, ?it/s]"
      ]
     },
     "metadata": {},
     "output_type": "display_data"
    },
    {
     "name": "stdout",
     "output_type": "stream",
     "text": [
      "SKIP too longSKIP too long  75707570  67776777\n",
      "\n",
      "SKIP too long 7570 6777\n",
      "SKIP too long 7570 6777\n",
      "SKIP too long 7570 6777\n",
      "SKIP too long 7570 6777\n",
      "SKIP too long 7570 6777\n",
      "SKIP too long 7570 6777\n",
      "SKIP too long 7570 6777\n",
      "SKIP too long 7570 6777\n",
      "SKIP too long 7570 6777\n",
      "SKIP too long 7570 6777\n",
      "SKIP too long 7570 6777\n",
      "SKIP too long 7570 6777\n",
      "SKIP too long 7570 6777\n",
      "SKIP too long 7570 6777\n",
      "SKIP too long 7570 6777\n",
      "SKIP too long 7570 6777\n",
      "SKIP too long 7570 6777\n",
      "SKIP too long 7570 6777\n",
      "SKIP too long 7570 6777\n"
     ]
    },
    {
     "data": {
      "application/vnd.jupyter.widget-view+json": {
       "model_id": "",
       "version_major": 2,
       "version_minor": 0
      },
      "text/plain": [
       "Validation: 0it [00:00, ?it/s]"
      ]
     },
     "metadata": {},
     "output_type": "display_data"
    },
    {
     "name": "stdout",
     "output_type": "stream",
     "text": [
      "SKIP too long 7570 6777\n",
      "SKIP too long 7570 6777\n",
      "SKIP too long 7570 6777\n",
      "SKIP too long 7570 6777\n",
      "SKIP too long 7570 6777\n",
      "SKIP too long 7570 6777\n",
      "SKIP too long 7570 6777\n",
      "SKIP too long 7570 6777\n",
      "SKIP too long 7570 6777\n",
      "SKIP too long 7570 6777\n",
      "SKIP too long 7570 6777\n",
      "SKIP too long 7930 7282\n",
      "SKIP too long 7930 7282\n",
      "SKIP too long 7930 7282\n",
      "SKIP too long 7930 7282\n",
      "SKIP too long 7930 7282\n",
      "SKIP too long 7930 7282\n",
      "SKIP too long 7930 7282\n",
      "SKIP too long 7930 7282\n",
      "SKIP too long 7930 7282\n",
      "SKIP too long 7930 7282\n",
      "SKIP too long 7930 7282\n",
      "SKIP too long 7930 7282\n",
      "SKIP too long 7930 7282\n",
      "SKIP too long 7930 7282\n",
      "SKIP too long 7930 7282\n",
      "SKIP too long 7930 7282\n",
      "SKIP too long 7930 7282\n",
      "SKIP too long 7930 7282\n",
      "SKIP too long 7930 7282\n",
      "SKIP too long 7930 7282\n",
      "SKIP too long 7930 7282\n",
      "SKIP too long 7930 7282\n",
      "SKIP too long 7930 7282\n",
      "SKIP too long 7930 7282\n",
      "SKIP too long 7930 7282\n",
      "SKIP too long 7930 7282\n",
      "SKIP too long 7930 7282\n",
      "SKIP too long 7930 7282\n",
      "SKIP too long 7930 7282\n",
      "SKIP too long 7930 7282\n",
      "SKIP too long 7930 7282\n",
      "SKIP too longSKIP too longSKIP too longSKIP too long    6530653065306530    5750575057505750\n",
      "\n",
      "\n",
      "\n",
      "SKIP too long 6530 5750\n",
      "SKIP too long 6530 5750\n",
      "SKIP too long 6530SKIP too long  57506530 \n",
      "5750\n",
      "SKIP too long 6530 5750\n",
      "SKIP too longSKIP too long  65306530  57505750\n",
      "\n",
      "SKIP too long 7930 7282\n",
      "SKIP too long 6530 5750\n",
      "SKIP too long 6530 5750\n",
      "SKIP too long 6530 5750\n",
      "SKIP too long 6530 5750\n",
      "SKIP too long 6530 5750\n",
      "SKIP too long 6530 5750\n",
      "SKIP too long 6530 5750\n",
      "SKIP too long 6530 5750\n",
      "SKIP too long 6530 5750\n",
      "SKIP too long 6530 5750\n",
      "SKIP too long 6530 5750\n",
      "SKIP too long 6530 5750\n",
      "SKIP too long 6530 5750\n",
      "SKIP too long 6530 5750\n",
      "SKIP too long 6530 5750\n",
      "SKIP too long 6530 5750\n"
     ]
    },
    {
     "data": {
      "application/vnd.jupyter.widget-view+json": {
       "model_id": "",
       "version_major": 2,
       "version_minor": 0
      },
      "text/plain": [
       "Validation: 0it [00:00, ?it/s]"
      ]
     },
     "metadata": {},
     "output_type": "display_data"
    },
    {
     "name": "stdout",
     "output_type": "stream",
     "text": [
      "SKIP too long SKIP too long6530  5750\n",
      "6530 5750\n",
      "SKIP too long 6530 5750\n",
      "SKIP too long 6530 5750\n",
      "SKIP too long 6530 5750\n",
      "SKIP too longSKIP too longSKIP too longSKIP too long SKIP too long   74107410 74107410  7410 6986  69866986\n",
      "6986\n",
      "6986\n",
      "\n",
      "\n",
      "SKIP too long 7410 6986\n",
      "SKIP too long 7410 6986\n",
      "SKIP too long 7410 6986\n",
      "SKIP too long 7410 6986\n",
      "SKIP too long 7410 6986\n",
      "SKIP too long 7410 6986\n",
      "SKIP too long 7410 6986\n",
      "SKIP too long 7410 6986\n",
      "SKIP too long 7410 6986\n",
      "SKIP too long 7410 6986\n",
      "SKIP too long 7410 6986\n",
      "SKIP too long 7410 6986\n",
      "SKIP too long 7410 6986\n",
      "SKIP too long 7410 6986\n",
      "SKIP too long 7410 6986\n",
      "SKIP too long 7410 6986\n",
      "SKIP too long 7410 6986\n",
      "SKIP too long 7410 6986\n",
      "SKIP too long 7410 6986\n",
      "SKIP too long 7410 6986\n",
      "SKIP too long 7410 6986\n",
      "SKIP too long 7410 6986\n",
      "SKIP too long 7410 6986\n",
      "SKIP too long 7410 6986\n",
      "SKIP too long 7410 6986\n",
      "SKIP too long 7410 6986\n",
      "SKIP too long 7410 6986\n"
     ]
    },
    {
     "data": {
      "application/vnd.jupyter.widget-view+json": {
       "model_id": "",
       "version_major": 2,
       "version_minor": 0
      },
      "text/plain": [
       "Validation: 0it [00:00, ?it/s]"
      ]
     },
     "metadata": {},
     "output_type": "display_data"
    },
    {
     "data": {
      "application/vnd.jupyter.widget-view+json": {
       "model_id": "",
       "version_major": 2,
       "version_minor": 0
      },
      "text/plain": [
       "Validation: 0it [00:00, ?it/s]"
      ]
     },
     "metadata": {},
     "output_type": "display_data"
    },
    {
     "name": "stdout",
     "output_type": "stream",
     "text": [
      "SKIP too long 6090 5478\n",
      "SKIP too long 6090 5478\n",
      "SKIP too long 6090 5478\n",
      "SKIP too long 6090 5478\n",
      "SKIP too long 6090 5478\n",
      "SKIP too long 6090 5478\n",
      "SKIP too long 6090 5478SKIP too long\n",
      " 6090 5478\n",
      "SKIP too long 6090 5478\n",
      "SKIP too long 6090 5478\n",
      "SKIP too long 6090 5478\n",
      "SKIP too long 6090 5478\n",
      "SKIP too long 6090 5478\n",
      "SKIP too long 6090 5478\n",
      "SKIP too long 6090 5478\n",
      "SKIP too long 6090 5478\n",
      "SKIP too long 6090 5478\n",
      "SKIP too long 6090 5478\n",
      "SKIP too long 6090 5478\n",
      "SKIP too long 6090 5478\n",
      "SKIP too long 6090 5478\n",
      "SKIP too long 6090 5478\n",
      "SKIP too long 6090 5478\n",
      "SKIP too long 6090 5478\n",
      "SKIP too long 6090 5478\n",
      "SKIP too long 6090 5478\n",
      "SKIP too long 6090 5478\n",
      "SKIP too long 6090 5478\n",
      "SKIP too long 6090 5478\n",
      "SKIP too long 6090 5478\n",
      "SKIP too long 6090 5478\n",
      "SKIP too long 6090 5478\n",
      "SKIP too long 6530 5975\n",
      "SKIP too long 6530 5975\n",
      "SKIP too long 6530 5975\n",
      "SKIP too long 6530 5975\n",
      "SKIP too long 6530 5975\n",
      "SKIP too long 6530 5975\n",
      "SKIP too long 6530 5975\n",
      "SKIP too long 6530 5975\n",
      "SKIP too long 6530 5975\n",
      "SKIP too long 6530 5975\n",
      "SKIP too long 6530 5975\n",
      "SKIP too long 6530 5975\n",
      "SKIP too long 6530 5975\n",
      "SKIP too long 6530 5975\n",
      "SKIP too long 6530 5975\n",
      "SKIP too long 6530 5975\n",
      "SKIP too long 6530 5975\n",
      "SKIP too long6530  5975\n",
      "SKIP too long 6530 5975\n",
      "SKIP too long 6530 5975\n",
      "SKIP too long 6530 5975\n",
      "SKIP too long 6530 5975\n",
      "SKIP too long 6530 5975\n",
      "SKIP too long 6530 5975\n",
      "SKIP too long 6530 5975\n",
      "SKIP too long 6530 5975\n",
      "SKIP too long 6530 5975\n",
      "SKIP too long 6530 5975\n",
      "SKIP too long 6530 5975\n",
      "SKIP too long  65305975\n",
      "SKIP too long 6530 5975\n",
      "SKIP too long 6530 5975\n"
     ]
    },
    {
     "data": {
      "application/vnd.jupyter.widget-view+json": {
       "model_id": "",
       "version_major": 2,
       "version_minor": 0
      },
      "text/plain": [
       "Validation: 0it [00:00, ?it/s]"
      ]
     },
     "metadata": {},
     "output_type": "display_data"
    },
    {
     "name": "stdout",
     "output_type": "stream",
     "text": [
      "SKIP too long 5410 5243\n",
      "SKIP too long 5410 5243\n",
      "SKIP too long 7810 7123\n",
      "SKIP too long 5410 5243\n",
      "SKIP too long 5410 5243\n",
      "SKIP too long 7810 7123\n",
      "SKIP too long 5410 5243\n",
      "SKIP too long 5410 5243\n",
      "SKIP too long 5410 5243\n",
      "SKIP too long 5410 5243\n",
      "SKIP too long 5410 5243\n",
      "SKIP too long 7810 7123\n",
      "SKIP too long 5410 5243\n",
      "SKIP too long 5410 5243\n",
      "SKIP too long 7810 7123\n",
      "SKIP too long 5410 5243\n",
      "SKIP too long 7810 7123\n",
      "SKIP too long 5410 5243\n",
      "SKIP too long 5410 5243\n",
      "SKIP too long 5410 5243\n",
      "SKIP too long 5410 5243\n",
      "SKIP too long 7810 7123\n",
      "SKIP too long 7810 7123\n",
      "SKIP too long 5410 5243\n",
      "SKIP too long 7810 7123\n",
      "SKIP too long 7810 7123\n",
      "SKIP too long 7810 7123\n",
      "SKIP too long 5410 5243\n",
      "SKIP too long  78107123\n",
      "SKIP too long 7810 7123\n",
      "SKIP too long 5410 5243\n",
      "SKIP too long SKIP too long5410  78105243 \n",
      "7123\n",
      "SKIP too long 5410 5243\n",
      "SKIP too long 7810 7123\n",
      "SKIP too long 5410 5243\n",
      "SKIP too long 5410 5243\n",
      "SKIP too long 7810 7123\n",
      "SKIP too long 7810 7123\n",
      "SKIP too long 5410 5243\n",
      "SKIP too long 5410 5243\n",
      "SKIP too long 7810 7123\n",
      "SKIP too long 7810 7123\n",
      "SKIP too long 7810 7123\n",
      "SKIP too long 7810 7123\n",
      "SKIP too long 7810 7123\n",
      "SKIP too long 7810 7123\n",
      "SKIP too long 7810 7123\n",
      "SKIP too long 5410 5243\n",
      "SKIP too long 5410 5243\n",
      "SKIP too long 7810 7123\n",
      "SKIP too long 7810 7123\n",
      "SKIP too long 5410 5243\n",
      "SKIP too long 7810 7123\n",
      "SKIP too long 5410 5243\n",
      "SKIP too long 7810 7123\n",
      "SKIP too long 5410 5243\n",
      "SKIP too long 7810 7123\n",
      "SKIP too long 7810 7123\n",
      "SKIP too long 5410 5243\n",
      "SKIP too long 7810 7123\n",
      "SKIP too long 7810 7123\n",
      "SKIP too long 5410 5243\n",
      "SKIP too long 7810 7123\n"
     ]
    },
    {
     "data": {
      "application/vnd.jupyter.widget-view+json": {
       "model_id": "",
       "version_major": 2,
       "version_minor": 0
      },
      "text/plain": [
       "Validation: 0it [00:00, ?it/s]"
      ]
     },
     "metadata": {},
     "output_type": "display_data"
    },
    {
     "name": "stdout",
     "output_type": "stream",
     "text": [
      "SKIP too long 5490 5445\n",
      "SKIP too long 54905445 \n"
     ]
    },
    {
     "data": {
      "application/vnd.jupyter.widget-view+json": {
       "model_id": "",
       "version_major": 2,
       "version_minor": 0
      },
      "text/plain": [
       "Validation: 0it [00:00, ?it/s]"
      ]
     },
     "metadata": {},
     "output_type": "display_data"
    },
    {
     "name": "stdout",
     "output_type": "stream",
     "text": [
      "SKIP too long 5490 5445\n",
      "SKIP too long 5490 5445\n",
      "SKIP too long 5490 5445\n",
      "SKIP too long 5490 5445\n",
      "SKIP too long 5490 5445\n",
      "SKIP too long 5490 5445\n",
      "SKIP too long 5490 5445\n",
      "SKIP too long 5490 5445\n",
      "SKIP too long 5490 5445\n",
      "SKIP too long 5490 5445\n",
      "SKIP too long 5490 5445\n",
      "SKIP too long 5490 5445\n",
      "SKIP too long 5490 5445\n",
      "SKIP too long 5490 5445\n",
      "SKIP too long 5490 5445\n",
      "SKIP too long 5490 5445\n",
      "SKIP too long 5490 5445\n",
      "SKIP too long 5490 5445\n",
      "SKIP too long 5490 5445\n",
      "SKIP too long 5490 5445\n",
      "SKIP too long 5490 5445\n",
      "SKIP too long 5490 5445\n",
      "SKIP too long 5490 5445\n",
      "SKIP too long 5490 5445\n",
      "SKIP too long 5490 5445\n",
      "SKIP too long 5490 5445\n",
      "SKIP too long 5490 5445\n",
      "SKIP too long 5490 5445\n",
      "SKIP too long 5490 5445\n",
      "SKIP too long  6212\n",
      "SKIP too long 6450 6212\n",
      "SKIP too long 6450 6212\n",
      "SKIP too long 5490 5445\n",
      "SKIP too long 6450 6212\n",
      "SKIP too long  64506212\n",
      "SKIP too long 6450 6212\n",
      "SKIP too long 6450 6212\n",
      "SKIP too long 6450 6212\n",
      "SKIP too long 6450 6212\n",
      "SKIP too long 6450 6212\n",
      "SKIP too long 6450 6212\n",
      "SKIP too long 6450 6212\n",
      "SKIP too long 6450 6212\n",
      "SKIP too long 6450 6212\n",
      "SKIP too long 6450 6212\n",
      "SKIP too long 6450 6212\n",
      "SKIP too long 6450 6212\n",
      "SKIP too long 6450 6212\n",
      "SKIP too long SKIP too long6450  64506212 \n",
      "6212\n",
      "SKIP too long 6450 6212\n",
      "SKIP too long 6450 6212\n",
      "SKIP too long 6450 6212\n",
      "SKIP too long 6450 6212\n",
      "SKIP too long 6450 6212\n",
      "SKIP too long 6450 6212\n",
      "SKIP too long 6450 6212\n",
      "SKIP too long 6450 6212\n",
      "SKIP too long 6450 6212\n",
      "SKIP too long 6450 6212\n",
      "SKIP too long 6450 6212\n",
      "SKIP too long 6450 6212\n"
     ]
    },
    {
     "data": {
      "application/vnd.jupyter.widget-view+json": {
       "model_id": "",
       "version_major": 2,
       "version_minor": 0
      },
      "text/plain": [
       "Validation: 0it [00:00, ?it/s]"
      ]
     },
     "metadata": {},
     "output_type": "display_data"
    },
    {
     "name": "stdout",
     "output_type": "stream",
     "text": [
      "SKIP too long 6410 5457\n",
      "SKIP too long SKIP too long7490  74906647 \n",
      "6647\n",
      "SKIP too long 6570 6127\n",
      "SKIP too long 7490 6647\n",
      "SKIP too long 6410 5457\n",
      "SKIP too long 6570 6127\n",
      "SKIP too long 7490 6647\n",
      "SKIP too long 6570 6127\n",
      "SKIP too long 7490 6647\n",
      "SKIP too long 7490 6647\n",
      "SKIP too long 6570 6127\n",
      "SKIP too long 7490 6647\n",
      "SKIP too long 7490 6647\n",
      "SKIP too long 6570 6127\n",
      "SKIP too long 6570 6127\n",
      "SKIP too long 7490 6647\n",
      "SKIP too long 7490 6647\n",
      "SKIP too long 7490 6647\n",
      "SKIP too long 7490 6647\n",
      "SKIP too long 6570 6127\n",
      "SKIP too long 7490 6647\n",
      "SKIP too long 6570 6127\n",
      "SKIP too long SKIP too long6570  65706127 \n",
      "6127\n",
      "SKIP too long 7490 6647\n",
      "SKIP too long 7490 6647\n",
      "SKIP too long 6570 6127\n",
      "SKIP too long 7490 6647\n",
      "SKIP too long 6570 6127\n",
      "SKIP too long 7490 6647\n",
      "SKIP too long 6410 5457\n",
      "SKIP too long 6570 6127\n",
      "SKIP too long 7490 6647\n",
      "SKIP too long 6570 6127\n",
      "SKIP too long 6410 5457\n",
      "SKIP too long 6410 5457\n",
      "SKIP too long 7490 6647\n",
      "SKIP too long 6410 5457\n",
      "SKIP too long 6570 6127\n",
      "SKIP too long 6410 5457\n",
      "SKIP too long 7490 6647\n",
      "SKIP too long 6570 6127\n",
      "SKIP too long 7490 6647\n",
      "SKIP too long 7490 6647\n",
      "SKIP too long 6570 6127\n",
      "SKIP too long 6410 5457\n",
      "SKIP too long 7490 6647\n",
      "SKIP too long 7490 6647\n",
      "SKIP too long 6570 6127\n",
      "SKIP too long 6570 6127\n",
      "SKIP too long 6570 6127\n",
      "SKIP too long 7490 6647\n",
      "SKIP too long 6570 6127\n",
      "SKIP too long 7490 6647\n",
      "SKIP too long 6570 6127\n",
      "SKIP too long 6570 6127\n",
      "SKIP too long 6410 5457\n",
      "SKIP too long 7490 6647\n",
      "SKIP too long 6570 6127\n",
      "SKIP too long 6410 5457\n",
      "SKIP too long 6410 5457\n",
      "SKIP too long 7490 6647\n",
      "SKIP too long 6570 6127\n",
      "SKIP too long 6570 6127\n",
      "SKIP too long 7490 6647\n",
      "SKIP too long 6570 6127\n",
      "SKIP too long 7490 6647\n",
      "SKIP too long 6570 6127\n",
      "SKIP too long 6570 6127\n",
      "SKIP too long 6410 5457\n",
      "SKIP too long 6410 5457\n",
      "SKIP too long 7490 6647\n",
      "SKIP too long 6570 6127\n",
      "SKIP too long 6410 5457\n",
      "SKIP too long 6410 5457\n",
      "SKIP too long 6410 5457\n",
      "SKIP too long 6570 6127\n",
      "SKIP too long 6410 5457\n",
      "SKIP too long 6410 5457\n",
      "SKIP too long 6410 5457\n",
      "SKIP too long 6410 5457\n",
      "SKIP too long 6410 5457\n",
      "SKIP too long 6410 5457\n",
      "SKIP too long 7490 6647\n",
      "SKIP too long 6570 6127\n",
      "SKIP too long 6410 5457\n",
      "SKIP too long 6410 5457\n",
      "SKIP too long 6410 5457\n",
      "SKIP too long 6410 5457\n",
      "SKIP too long 6490 5530\n",
      "SKIP too long 6410 5457\n",
      "SKIP too long 6490 5530\n",
      "SKIP too long 6410 5457\n",
      "SKIP too long 6410 5457\n",
      "SKIP too long 6410 5457\n",
      "SKIP too long 6410 5457\n",
      "SKIP too long 6490 5530\n",
      "SKIP too long 6490 5530\n",
      "SKIP too long 6490 5530\n"
     ]
    },
    {
     "data": {
      "application/vnd.jupyter.widget-view+json": {
       "model_id": "",
       "version_major": 2,
       "version_minor": 0
      },
      "text/plain": [
       "Validation: 0it [00:00, ?it/s]"
      ]
     },
     "metadata": {},
     "output_type": "display_data"
    },
    {
     "name": "stdout",
     "output_type": "stream",
     "text": [
      "SKIP too long 6490 5530\n",
      "SKIP too long 6490 5530\n",
      "SKIP too long 6490 5530\n",
      "SKIP too long 6490 5530\n",
      "SKIP too long 6490 5530\n",
      "SKIP too long 6490 5530\n",
      "SKIP too long 6490 5530\n",
      "SKIP too long 6490 5530\n",
      "SKIP too long 6490 5530\n",
      "SKIP too long 6490 5530\n",
      "SKIP too long 6490 5530\n",
      "SKIP too long 6490 5530\n",
      "SKIP too long 6490 5530\n",
      "SKIP too long 6410 5457\n",
      "SKIP too long 6490 5530\n",
      "SKIP too long 6490 5530\n",
      "SKIP too long 6490 5530\n",
      "SKIP too long 6490 5530\n",
      "SKIP too long 6490 5530\n",
      "SKIP too long 6490 5530\n",
      "SKIP too long 6490 5530\n",
      "SKIP too long 6490 5530\n",
      "SKIP too long 6490 5530\n",
      "SKIP too long 6490 5530\n",
      "SKIP too long 6490 5530\n",
      "SKIP too long 6490 5530\n",
      "SKIP too long 6490 5530\n",
      "SKIP too long 6490 5530\n",
      "SKIP too long 6010 5046\n",
      "SKIP too long 6010 5046\n",
      "SKIP too long 6010 5046\n",
      "SKIP too long 6010 5046\n",
      "SKIP too long 6010 5046\n",
      "SKIP too long 6010 5046\n",
      "SKIP too long 6010 5046\n",
      "SKIP too long 6010 5046\n",
      "SKIP too long 6010 5046\n"
     ]
    },
    {
     "data": {
      "application/vnd.jupyter.widget-view+json": {
       "model_id": "",
       "version_major": 2,
       "version_minor": 0
      },
      "text/plain": [
       "Validation: 0it [00:00, ?it/s]"
      ]
     },
     "metadata": {},
     "output_type": "display_data"
    },
    {
     "name": "stdout",
     "output_type": "stream",
     "text": [
      "SKIP too long 6010 5046\n",
      "SKIP too long 6010 5046\n",
      "SKIP too long 6010 5046\n",
      "SKIP too long 6010 5046\n",
      "SKIP too long 6010 5046\n",
      "SKIP too long 6010 5046\n",
      "SKIP too long 50466010 \n",
      "SKIP too long 6010 5046\n",
      "SKIP too long 6010 5046\n",
      "SKIP too long 6010 5046\n",
      "SKIP too long 6010 5046\n",
      "SKIP too long 6010 5046\n",
      "SKIP too long 6010 5046\n",
      "SKIP too long 6930 6150\n",
      "SKIP too long 6010 5046\n",
      "SKIP too long 6010 5046\n",
      "SKIP too long 6010 5046\n",
      "SKIP too long 6010 5046\n",
      "SKIP too long 6010 5046\n",
      "SKIP too long 6010 5046\n",
      "SKIP too long 6010 5046\n",
      "SKIP too long 6010 5046\n",
      "SKIP too long 6930 6150\n",
      "SKIP too long 6010 5046\n",
      "SKIP too long 6930 6150\n",
      "SKIP too long 6930 6150\n",
      "SKIP too long 6930 6150\n",
      "SKIP too long 6010 5046\n",
      "SKIP too long 6930 6150\n",
      "SKIP too long 6930 6150\n",
      "SKIP too long 6930 6150\n",
      "SKIP too long 6930 6150\n",
      "SKIP too long 6930 6150\n",
      "SKIP too long 6930 6150\n",
      "SKIP too long 6930 6150\n",
      "SKIP too long 6930 6150\n",
      "SKIP too long 6930 6150\n",
      "SKIP too long 6930 6150\n",
      "SKIP too long 6930 6150\n",
      "SKIP too long 6930 6150\n",
      "SKIP too long 6930 6150\n",
      "SKIP too long 6930 6150\n",
      "SKIP too long 6930 6150\n",
      "SKIP too long 6930 6150\n",
      "SKIP too long 6930 6150\n",
      "SKIP too long 6930 6150\n",
      "SKIP too long 6930 6150\n",
      "SKIP too long 6930 6150\n",
      "SKIP too long 6930 6150\n",
      "SKIP too long 6930 6150\n",
      "SKIP too long 6930 6150\n",
      "SKIP too long 6930 6150\n",
      "SKIP too long 6930 6150\n",
      "SKIP too long 6930 6150\n",
      "SKIP too long 6930 6150\n"
     ]
    },
    {
     "data": {
      "application/vnd.jupyter.widget-view+json": {
       "model_id": "",
       "version_major": 2,
       "version_minor": 0
      },
      "text/plain": [
       "Validation: 0it [00:00, ?it/s]"
      ]
     },
     "metadata": {},
     "output_type": "display_data"
    },
    {
     "name": "stdout",
     "output_type": "stream",
     "text": [
      "SKIP too long 6970 6439\n",
      "SKIP too long 6970 6439\n",
      "SKIP too long 6970 6439\n",
      "SKIP too long 6970 6439\n",
      "SKIP too long 6970 6439\n",
      "SKIP too long 6970 6439\n",
      "SKIP too long 6970 6439\n",
      "SKIP too long 6970 6439\n",
      "SKIP too long 6970 6439\n",
      "SKIP too long 6970 6439\n",
      "SKIP too long  69706439\n",
      "SKIP too long 6970 6439\n",
      "SKIP too long 6970 6439\n",
      "SKIP too long 6970 6439\n",
      "SKIP too long 6970 6439\n",
      "SKIP too long 7170 7145\n",
      "SKIP too long 6970 6439\n",
      "SKIP too long 6970 6439\n",
      "SKIP too long 6970 6439\n",
      "SKIP too long 6970 6439\n",
      "SKIP too long 6970 6439\n",
      "SKIP too long 6970 6439\n",
      "SKIP too long 6970 6439\n",
      "SKIP too long 6970 6439\n",
      "SKIP too long 6970 6439\n",
      "SKIP too long 6970 6439\n",
      "SKIP too long 6970 6439\n",
      "SKIP too long 6970 6439\n",
      "SKIP too long 6970 6439\n",
      "SKIP too long 6970 6439\n",
      "SKIP too long 6970 6439\n",
      "SKIP too long 6970 6439\n",
      "SKIP too long 7170 7145\n",
      "SKIP too long 6970 6439\n"
     ]
    },
    {
     "data": {
      "application/vnd.jupyter.widget-view+json": {
       "model_id": "",
       "version_major": 2,
       "version_minor": 0
      },
      "text/plain": [
       "Validation: 0it [00:00, ?it/s]"
      ]
     },
     "metadata": {},
     "output_type": "display_data"
    },
    {
     "name": "stdout",
     "output_type": "stream",
     "text": [
      "SKIP too long 7170 7145\n",
      "SKIP too long 7170 7145\n",
      "SKIP too long 7170 7145\n",
      "SKIP too long 7170 7145\n",
      "SKIP too long 7170 7145\n",
      "SKIP too long 7170 7145\n",
      "SKIP too long 7170 7145\n",
      "SKIP too long 7170 7145\n",
      "SKIP too long 7170 7145\n",
      "SKIP too long 7170 7145\n",
      "SKIP too long 7170 7145\n",
      "SKIP too long 7170 7145\n",
      "SKIP too long 7170 7145\n",
      "SKIP too long 7170 7145\n",
      "SKIP too long 7170 7145\n",
      "SKIP too long 7170 7145\n",
      "SKIP too long 7170 7145\n",
      "SKIP too long 7170 7145\n",
      "SKIP too long 7170 7145\n",
      "SKIP too long 7170 7145\n",
      "SKIP too long 7170 7145\n",
      "SKIP too long 7170 7145\n",
      "SKIP too long 7170 7145\n",
      "SKIP too long 7170 7145\n",
      "SKIP too long 7170 7145\n",
      "SKIP too long 7170 7145\n",
      "SKIP too long 7170 7145\n",
      "SKIP too long 7170 7145\n",
      "SKIP too long 7170 7145\n",
      "SKIP too long 7170 7145\n",
      "SKIP too long 7690 7175\n",
      "SKIP too long 7690 7175\n",
      "SKIP too long 7690 7175\n",
      "SKIP too long 7690 7175\n",
      "SKIP too long 7690 7175\n",
      "SKIP too long 6770 5799\n",
      "SKIP too long 7690 7175\n",
      "SKIP too long 7690 7175\n",
      "SKIP too long 7690 7175\n",
      "SKIP too long 7690 7175\n",
      "SKIP too long 7690 7175\n",
      "SKIP too long 7690 7175\n",
      "SKIP too long 7690 7175\n",
      "SKIP too long 7690 7175\n",
      "SKIP too long 7690 7175\n",
      "SKIP too long 6770 5799\n",
      "SKIP too long 7690 7175\n",
      "SKIP too long 7690 7175\n",
      "SKIP too long 7690 7175\n",
      "SKIP too long 7690 7175\n",
      "SKIP too long 7690 7175\n",
      "SKIP too long 7690 7175\n",
      "SKIP too long 7690 7175\n",
      "SKIP too long 7690 7175\n",
      "SKIP too long 7690 7175\n",
      "SKIP too long 7690 7175\n",
      "SKIP too long 7690 7175\n",
      "SKIP too long 7690 7175\n",
      "SKIP too long 7690 7175\n",
      "SKIP too long 7690 7175\n",
      "SKIP too long 7690 7175\n",
      "SKIP too long 7690 7175\n",
      "SKIP too long 7690 7175\n",
      "SKIP too long 6770 5799\n",
      "SKIP too long 6770 5799\n",
      "SKIP too long 6770 5799\n",
      "SKIP too long 6770 5799\n",
      "SKIP too long 6770 5799\n",
      "SKIP too long 7690 7175\n",
      "SKIP too long 6770 5799\n",
      "SKIP too long 6770 5799\n",
      "SKIP too long 6770 5799\n",
      "SKIP too long 6770 5799\n",
      "SKIP too long 6770 5799\n",
      "SKIP too long 6770 5799\n",
      "SKIP too long 6770 5799\n",
      "SKIP too long  67705799\n",
      "SKIP too long 6770 5799\n",
      "SKIP too long 6770 5799\n",
      "SKIP too long 6770 5799\n",
      "SKIP too long 6770 5799\n",
      "SKIP too long 6770 5799\n",
      "SKIP too long 6770 5799\n"
     ]
    },
    {
     "data": {
      "application/vnd.jupyter.widget-view+json": {
       "model_id": "",
       "version_major": 2,
       "version_minor": 0
      },
      "text/plain": [
       "Validation: 0it [00:00, ?it/s]"
      ]
     },
     "metadata": {},
     "output_type": "display_data"
    },
    {
     "name": "stdout",
     "output_type": "stream",
     "text": [
      "SKIP too long 6770 5799\n",
      "SKIP too long 6770 5799\n",
      "SKIP too long 6770 5799\n",
      "SKIP too long 6770 5799\n",
      "SKIP too long 6770 5799\n",
      "SKIP too long 6770 5799\n",
      "SKIP too long 6770 5799\n",
      "SKIP too long 6770 5799\n",
      "SKIP too long 6770 5799\n",
      "SKIP too long 6770 5799\n",
      "SKIP too long 6770 5799\n"
     ]
    },
    {
     "data": {
      "application/vnd.jupyter.widget-view+json": {
       "model_id": "",
       "version_major": 2,
       "version_minor": 0
      },
      "text/plain": [
       "Validation: 0it [00:00, ?it/s]"
      ]
     },
     "metadata": {},
     "output_type": "display_data"
    },
    {
     "data": {
      "application/vnd.jupyter.widget-view+json": {
       "model_id": "",
       "version_major": 2,
       "version_minor": 0
      },
      "text/plain": [
       "Validation: 0it [00:00, ?it/s]"
      ]
     },
     "metadata": {},
     "output_type": "display_data"
    },
    {
     "data": {
      "application/vnd.jupyter.widget-view+json": {
       "model_id": "",
       "version_major": 2,
       "version_minor": 0
      },
      "text/plain": [
       "Validation: 0it [00:00, ?it/s]"
      ]
     },
     "metadata": {},
     "output_type": "display_data"
    },
    {
     "name": "stdout",
     "output_type": "stream",
     "text": [
      "SKIP too long 5770 5087\n",
      "SKIP too long 5770 5087\n",
      "SKIP too long 5770 5087\n",
      "SKIP too long 5770 5087\n",
      "SKIP too long 5770 5087\n",
      "SKIP too long 5770 5087\n",
      "SKIP too long 5770 5087\n",
      "SKIP too long 5770 5087\n",
      "SKIP too long 5770 5087\n",
      "SKIP too long 5770 5087\n",
      "SKIP too long 5770 5087\n"
     ]
    },
    {
     "data": {
      "application/vnd.jupyter.widget-view+json": {
       "model_id": "",
       "version_major": 2,
       "version_minor": 0
      },
      "text/plain": [
       "Validation: 0it [00:00, ?it/s]"
      ]
     },
     "metadata": {},
     "output_type": "display_data"
    },
    {
     "name": "stdout",
     "output_type": "stream",
     "text": [
      "SKIP too long 5770 5087\n",
      "SKIP too long 5770 5087\n",
      "SKIP too long 5770 5087\n",
      "SKIP too long 5770 5087\n",
      "SKIP too long 5770 5087\n",
      "SKIP too long 5770 5087\n",
      "SKIP too long 5770 5087\n",
      "SKIP too long 5770 5087\n",
      "SKIP too long 5770 5087\n",
      "SKIP too long 5770 5087\n",
      "SKIP too long 5770 5087\n",
      "SKIP too long 5770 5087\n",
      "SKIP too long 5770 5087\n",
      "SKIP too long 5770 5087\n",
      "SKIP too long 5770 5087\n",
      "SKIP too long 5770 5087\n",
      "SKIP too long 5570 5071\n",
      "SKIP too long 5770 5087\n",
      "SKIP too long 5770 5087\n",
      "SKIP too long 5770 5087\n",
      "SKIP too long 5770 5087\n",
      "SKIP too long 5770 5087\n",
      "SKIP too long 5570 5071\n",
      "SKIP too long 5570 5071\n",
      "SKIP too long 5570 5071\n",
      "SKIP too long 5570 5071\n",
      "SKIP too long 5570 5071\n",
      "SKIP too long 5570 5071\n",
      "SKIP too long 5570 5071\n",
      "SKIP too long 5570 5071\n",
      "SKIP too long 5570 5071\n",
      "SKIP too long 5570 5071\n",
      "SKIP too long 5570 5071\n",
      "SKIP too long 5570 5071\n",
      "SKIP too long 5570 5071\n",
      "SKIP too long 5570 5071\n",
      "SKIP too long 5570 5071\n",
      "SKIP too long 5570 5071\n",
      "SKIP too long 5570 5071\n",
      "SKIP too long 5570 5071\n",
      "SKIP too long 5570 5071\n",
      "SKIP too long 5570 5071\n",
      "SKIP too long 5570 5071\n",
      "SKIP too long 5570 5071\n",
      "SKIP too long 5570 5071\n",
      "SKIP too long 5570 5071\n",
      "SKIP too long 5570 5071\n",
      "SKIP too long 5570 5071\n",
      "SKIP too long 5570 5071\n",
      "SKIP too long 5570 5071\n",
      "SKIP too long 5570 5071\n",
      "SKIP too long 5570 5071\n",
      "SKIP too long 5570 5071\n"
     ]
    },
    {
     "data": {
      "application/vnd.jupyter.widget-view+json": {
       "model_id": "",
       "version_major": 2,
       "version_minor": 0
      },
      "text/plain": [
       "Validation: 0it [00:00, ?it/s]"
      ]
     },
     "metadata": {},
     "output_type": "display_data"
    },
    {
     "name": "stdout",
     "output_type": "stream",
     "text": [
      "SKIP too long 7210 6848\n",
      "SKIP too long 7210 6848\n",
      "SKIP too long 7210 6848\n",
      "SKIP too long 7210 6848\n",
      "SKIP too long 7210 6848\n",
      "SKIP too long 7210 6848\n",
      "SKIP too long 7210 6848\n",
      "SKIP too long 7210 6848\n",
      "SKIP too long 7210 6848\n",
      "SKIP too long 7210 6848\n",
      "SKIP too long 7210 6848\n",
      "SKIP too long 7210 6848\n",
      "SKIP too long 7210 6848\n",
      "SKIP too long 7210 6848\n",
      "SKIP too long 7210 6848\n",
      "SKIP too long 7210 6585\n",
      "SKIP too long 7210 6848\n",
      "SKIP too long 7210 6848\n",
      "SKIP too long 7210 6848\n",
      "SKIP too long 7210 6848\n",
      "SKIP too long 7210 6848\n",
      "SKIP too long 7210 6848\n",
      "SKIP too long 7210 6848\n",
      "SKIP too long 7210 6848\n",
      "SKIP too long 7210 6848\n",
      "SKIP too long 7210 6848\n",
      "SKIP too long 7210 6848\n",
      "SKIP too long 7210 6848\n",
      "SKIP too long 7210 6848\n",
      "SKIP too long 7210 6848\n",
      "SKIP too long 7210 6585\n",
      "SKIP too long 7210 6848\n",
      "SKIP too long 7210 6848\n",
      "SKIP too long 7210 6585\n",
      "SKIP too long 7210 6585\n",
      "SKIP too long 7210 6848\n",
      "SKIP too long 7210 6585\n",
      "SKIP too long 7210 6585\n",
      "SKIP too long 7210 6585\n",
      "SKIP too long 7210 6585\n",
      "SKIP too long 7210 6585\n",
      "SKIP too long 7210 6585\n"
     ]
    },
    {
     "data": {
      "application/vnd.jupyter.widget-view+json": {
       "model_id": "",
       "version_major": 2,
       "version_minor": 0
      },
      "text/plain": [
       "Validation: 0it [00:00, ?it/s]"
      ]
     },
     "metadata": {},
     "output_type": "display_data"
    },
    {
     "name": "stdout",
     "output_type": "stream",
     "text": [
      "SKIP too long 7210 6585\n",
      "SKIP too long 7210 6585\n",
      "SKIP too long 7210 6585\n",
      "SKIP too long 7210 6585\n",
      "SKIP too long 7210 6585\n",
      "SKIP too long 7210 6585\n",
      "SKIP too long 7210 6585\n",
      "SKIP too long 7210 6585\n",
      "SKIP too long 7210 6585\n",
      "SKIP too long 7210 6585\n",
      "SKIP too long 7210 6585\n",
      "SKIP too long 7210 6585\n",
      "SKIP too long 7210 6585\n",
      "SKIP too long 7210 6585\n",
      "SKIP too long 7210 6585\n",
      "SKIP too long 7210 6585\n",
      "SKIP too long 7210 6585\n",
      "SKIP too long 7210 6585\n",
      "SKIP too long 7210 6585\n",
      "SKIP too long 7210 6585\n",
      "SKIP too long 7210 6585\n",
      "SKIP too long 7210 6585\n",
      "SKIP too long 6290 5937\n",
      "SKIP too long 6290 5937\n",
      "SKIP too long 6290 5937\n",
      "SKIP too long 6290 5937\n",
      "SKIP too long 6290 5937\n",
      "SKIP too long 6290 5937\n",
      "SKIP too long 6290 5937\n"
     ]
    },
    {
     "data": {
      "application/vnd.jupyter.widget-view+json": {
       "model_id": "",
       "version_major": 2,
       "version_minor": 0
      },
      "text/plain": [
       "Validation: 0it [00:00, ?it/s]"
      ]
     },
     "metadata": {},
     "output_type": "display_data"
    },
    {
     "name": "stdout",
     "output_type": "stream",
     "text": [
      "SKIP too long 6290 5937\n",
      "SKIP too long 6290 5937\n",
      "SKIP too long 6290 5937\n",
      "SKIP too long 6290 5937\n",
      "SKIP too long 6290 5937\n",
      "SKIP too long 6290 5937\n",
      "SKIP too long 6290 5937\n",
      "SKIP too long 6290 5937\n",
      "SKIP too long 6290 5937\n",
      "SKIP too long 6290 5937\n",
      "SKIP too long 6290 5937\n",
      "SKIP too long 6290 5937\n",
      "SKIP too long 6290 5937\n",
      "SKIP too long 6290 5937\n",
      "SKIP too long 6290 5937\n",
      "SKIP too long 6290 5937\n",
      "SKIP too long 6290 5937\n",
      "SKIP too long 6290 5937\n",
      "SKIP too long 6290 5937\n",
      "SKIP too long 6290 5937\n",
      "SKIP too long 6290 5937\n",
      "SKIP too long 6290 5937\n",
      "SKIP too long 6290 5937\n",
      "SKIP too long 6290 5937\n",
      "SKIP too long 6290 5937\n",
      "SKIP too longSKIP too long  72507250  71247124\n",
      "\n",
      "SKIP too long 7250 7124\n",
      "SKIP too long 7250 7124\n",
      "SKIP too long 7250 7124\n",
      "SKIP too long 7250 7124\n",
      "SKIP too long 7250 7124\n",
      "SKIP too long 7250 7124\n",
      "SKIP too long 7250 7124\n",
      "SKIP too long 7250 7124\n",
      "SKIP too long  72507124\n",
      "SKIP too long 7250 7124\n",
      "SKIP too long 7250 7124\n",
      "SKIP too long 7250 7124\n",
      "SKIP too long 7250 7124\n",
      "SKIP too long 7250 7124\n",
      "SKIP too long 7250 7124\n",
      "SKIP too long 7250 7124\n",
      "SKIP too long 7250 7124\n",
      "SKIP too long 7250 7124\n",
      "SKIP too long 7250 7124\n",
      "SKIP too long  72507124\n",
      "SKIP too long 7250 7124\n",
      "SKIP too long 7250 7124\n",
      "SKIP too long 7250 7124\n",
      "SKIP too long 7250 7124\n",
      "SKIP too long 7250 7124\n",
      "SKIP too long 7250 7124\n",
      "SKIP too long 7250 7124\n",
      "SKIP too long 7250 7124\n",
      "SKIP too long 7250 7124\n",
      "SKIP too long 7250 7124\n"
     ]
    },
    {
     "data": {
      "application/vnd.jupyter.widget-view+json": {
       "model_id": "",
       "version_major": 2,
       "version_minor": 0
      },
      "text/plain": [
       "Validation: 0it [00:00, ?it/s]"
      ]
     },
     "metadata": {},
     "output_type": "display_data"
    },
    {
     "data": {
      "application/vnd.jupyter.widget-view+json": {
       "model_id": "",
       "version_major": 2,
       "version_minor": 0
      },
      "text/plain": [
       "Validation: 0it [00:00, ?it/s]"
      ]
     },
     "metadata": {},
     "output_type": "display_data"
    },
    {
     "data": {
      "application/vnd.jupyter.widget-view+json": {
       "model_id": "",
       "version_major": 2,
       "version_minor": 0
      },
      "text/plain": [
       "Validation: 0it [00:00, ?it/s]"
      ]
     },
     "metadata": {},
     "output_type": "display_data"
    },
    {
     "name": "stdout",
     "output_type": "stream",
     "text": [
      "SKIP too long 7805 6815\n"
     ]
    },
    {
     "data": {
      "application/vnd.jupyter.widget-view+json": {
       "model_id": "",
       "version_major": 2,
       "version_minor": 0
      },
      "text/plain": [
       "Validation: 0it [00:00, ?it/s]"
      ]
     },
     "metadata": {},
     "output_type": "display_data"
    },
    {
     "name": "stdout",
     "output_type": "stream",
     "text": [
      "SKIP too long 7805 6815\n",
      "SKIP too long 7805 6815\n",
      "SKIP too long 7805 6815\n",
      "SKIP too long 7805 \n",
      "6815SKIP too long 7805 6815\n",
      "SKIP too long 7805 6815\n",
      "SKIP too long 7805 6815\n",
      "SKIP too long 7805 6815\n",
      "SKIP too long 7890 7456\n",
      "SKIP too long 7890 7456\n",
      "SKIP too long 7890 7456\n",
      "SKIP too long 7805 6815\n",
      "SKIP too long 7805 6815\n",
      "SKIP too long 7805 6815\n",
      "SKIP too long 7890 7456\n",
      "SKIP too long 7805 6815\n",
      "SKIP too long 7805 6815\n",
      "SKIP too long 7890 7456\n",
      "SKIP too long 7805 6815\n",
      "SKIP too long 7890 7456\n",
      "SKIP too long 7890 7456\n",
      "SKIP too long 7805 6815\n",
      "SKIP too long 7890 7456\n",
      "SKIP too long 7890 7456\n",
      "SKIP too long 7890 7456\n",
      "SKIP too long 7805 6815\n",
      "SKIP too long 7890 7456\n",
      "SKIP too long 7890 7456\n",
      "SKIP too long 7890 7456\n",
      "SKIP too long 7805 6815\n",
      "SKIP too long 7890 7456\n",
      "SKIP too long 7805 6815\n",
      "SKIP too long 7890 7456\n",
      "SKIP too long 7890 7456\n",
      "SKIP too long 7890 7456\n",
      "SKIP too long 7890 7456\n",
      "SKIP too long 7805 6815\n",
      "SKIP too long 7805 6815\n",
      "SKIP too long 7890 7456\n",
      "SKIP too long 7805 6815\n",
      "SKIP too long7805  6815\n",
      "SKIP too long 7890 7456\n",
      "SKIP too long 7805 6815\n",
      "SKIP too long 7890 7456\n",
      "SKIP too long 7890 7456\n",
      "SKIP too long 7890 7456\n",
      "SKIP too long 7805 6815\n",
      "SKIP too long 7890 7456\n",
      "SKIP too long 7890 7456\n",
      "SKIP too long 7890 7456\n",
      "SKIP too long 7805 6815\n",
      "SKIP too long 7890 7456\n",
      "SKIP too long 7890 7456\n",
      "SKIP too long 7890 7456\n",
      "SKIP too long 7805 6815\n",
      "SKIP too long 7890 7456\n",
      "SKIP too long 7805 6815\n",
      "SKIP too long 7890 7456\n",
      "SKIP too long 7805 6815\n",
      "SKIP too long 7890 7456\n",
      "SKIP too long 7805 6815\n",
      "SKIP too long 7805 6815\n",
      "SKIP too long 7805 6815\n"
     ]
    },
    {
     "data": {
      "application/vnd.jupyter.widget-view+json": {
       "model_id": "",
       "version_major": 2,
       "version_minor": 0
      },
      "text/plain": [
       "Validation: 0it [00:00, ?it/s]"
      ]
     },
     "metadata": {},
     "output_type": "display_data"
    },
    {
     "data": {
      "application/vnd.jupyter.widget-view+json": {
       "model_id": "",
       "version_major": 2,
       "version_minor": 0
      },
      "text/plain": [
       "Validation: 0it [00:00, ?it/s]"
      ]
     },
     "metadata": {},
     "output_type": "display_data"
    },
    {
     "name": "stdout",
     "output_type": "stream",
     "text": [
      "SKIP too longSKIP too longSKIP too longSKIP too long    7050705070507050    6741674167416741\n",
      "\n",
      "\n",
      "\n",
      "SKIP too long 7050 6741\n",
      "SKIP too long 7050 6741\n",
      "SKIP too long 7050 6741\n",
      "SKIP too long 7050 6741\n",
      "SKIP too long 7050 6741\n",
      "SKIP too long 7050 6741\n",
      "SKIP too long 7050 6741\n",
      "SKIP too long 7050 6741\n",
      "SKIP too long 7050 6741\n",
      "SKIP too long 7050 6741\n",
      "SKIP too long 7050 6741\n",
      "SKIP too long 7050 6741\n",
      "SKIP too long 7050 6741\n",
      "SKIP too long 7050 6741\n",
      "SKIP too long 7050 6741\n",
      "SKIP too long 7050 6741\n",
      "SKIP too long 7050 6741\n",
      "SKIP too long 7050 6741\n",
      "SKIP too long 7050 6741\n",
      "SKIP too long 7050 6741\n",
      "SKIP too long 7050 6741\n",
      "SKIP too long 7050 6741\n",
      "SKIP too long 7050 6741\n",
      "SKIP too long 7050 6741\n",
      "SKIP too long 7050 6741\n",
      "SKIP too long 7050 6741\n",
      "SKIP too long 7050 6741\n",
      "SKIP too long 7050 6741\n"
     ]
    },
    {
     "data": {
      "application/vnd.jupyter.widget-view+json": {
       "model_id": "",
       "version_major": 2,
       "version_minor": 0
      },
      "text/plain": [
       "Validation: 0it [00:00, ?it/s]"
      ]
     },
     "metadata": {},
     "output_type": "display_data"
    },
    {
     "data": {
      "application/vnd.jupyter.widget-view+json": {
       "model_id": "",
       "version_major": 2,
       "version_minor": 0
      },
      "text/plain": [
       "Validation: 0it [00:00, ?it/s]"
      ]
     },
     "metadata": {},
     "output_type": "display_data"
    },
    {
     "data": {
      "application/vnd.jupyter.widget-view+json": {
       "model_id": "",
       "version_major": 2,
       "version_minor": 0
      },
      "text/plain": [
       "Validation: 0it [00:00, ?it/s]"
      ]
     },
     "metadata": {},
     "output_type": "display_data"
    },
    {
     "name": "stdout",
     "output_type": "stream",
     "text": [
      "SKIP too long 6042 5052\n",
      "SKIP too long 6042 5052\n",
      "SKIP too long 6042 5052\n",
      "SKIP too long 6042 5052\n",
      "SKIP too long 6042 5052\n",
      "SKIP too long 6042 5052\n",
      "SKIP too long 6042 5052\n",
      "SKIP too long 6042 5052\n",
      "SKIP too long 6042 5052\n",
      "SKIP too long 6042 5052\n",
      "SKIP too long 6042 5052\n",
      "SKIP too long 6330 5959\n",
      "SKIP too long 6042 5052\n",
      "SKIP too long 6330 5959\n",
      "SKIP too long 6042 5052\n",
      "SKIP too long 6042 5052\n",
      "SKIP too long 6042 5052\n",
      "SKIP too long 6042 5052\n",
      "SKIP too long 6330 5959\n",
      "SKIP too long 6042 5052\n",
      "SKIP too long 6042 5052\n",
      "SKIP too long 6330 5959\n",
      "SKIP too long 6042 5052\n",
      "SKIP too long 6330 5959\n",
      "SKIP too long 6042 5052\n",
      "SKIP too long 6330 5959\n",
      "SKIP too long 6042 5052\n",
      "SKIP too long 6042 5052\n",
      "SKIP too long 6042 5052\n",
      "SKIP too long 6330 5959\n",
      "SKIP too long 6042 5052\n",
      "SKIP too long 6042 5052\n",
      "SKIP too long 6042 5052\n",
      "SKIP too long 6330 5959\n",
      "SKIP too long 6330 5959\n",
      "SKIP too long 6330 5959\n",
      "SKIP too long 6042 5052\n",
      "SKIP too long 6330 5959\n",
      "SKIP too long 6042 5052\n",
      "SKIP too long 6330 5959\n",
      "SKIP too long 6042 5052\n",
      "SKIP too long 6330 5959\n",
      "SKIP too long 6330 5959\n",
      "SKIP too long 6330 5959\n",
      "SKIP too long 6042 5052\n",
      "SKIP too long 6330 5959\n",
      "SKIP too long 6330 5959\n",
      "SKIP too long 6330 5959\n",
      "SKIP too long 6330 5959\n",
      "SKIP too long 6330 5959\n",
      "SKIP too long 6330 5959\n",
      "SKIP too long 6330 5959\n",
      "SKIP too long 6330 5959\n",
      "SKIP too long 6042 5052\n",
      "SKIP too long 6330 5959\n",
      "SKIP too long 6330 5959\n",
      "SKIP too long 6330 5959\n",
      "SKIP too long 6330 5959\n",
      "SKIP too long 6042 5052\n",
      "SKIP too long 6330 5959\n",
      "SKIP too long 6330 5959\n",
      "SKIP too long 6330 5959\n"
     ]
    },
    {
     "data": {
      "application/vnd.jupyter.widget-view+json": {
       "model_id": "",
       "version_major": 2,
       "version_minor": 0
      },
      "text/plain": [
       "Validation: 0it [00:00, ?it/s]"
      ]
     },
     "metadata": {},
     "output_type": "display_data"
    },
    {
     "name": "stdout",
     "output_type": "stream",
     "text": [
      "SKIP too long 6330 5959\n",
      "SKIP too long 6330 5959\n",
      "SKIP too long 7210 7187\n",
      "SKIP too long 7210 7187\n",
      "SKIP too long 7210 7187\n",
      "SKIP too long 7210 7187\n",
      "SKIP too long 6850 6523\n",
      "SKIP too long 6850 6523\n",
      "SKIP too long 7210 7187\n",
      "SKIP too long 7210 7187\n",
      "SKIP too long 7210 7187\n",
      "SKIP too long 7210 7187\n",
      "SKIP too long 6850 6523\n",
      "SKIP too long 7210 7187\n",
      "SKIP too long 7210 7187\n",
      "SKIP too long 7210 7187\n",
      "SKIP too long 7210 7187\n",
      "SKIP too long 6850 6523\n",
      "SKIP too long 7210 7187\n",
      "SKIP too long 7210 7187\n",
      "SKIP too long 6850 6523\n",
      "SKIP too long 6850 6523\n",
      "SKIP too long 6850 6523\n",
      "SKIP too long 7210 7187\n",
      "SKIP too long 6850 6523\n",
      "SKIP too long 7210 7187\n",
      "SKIP too long 7210 7187\n",
      "SKIP too long 7210 7187\n",
      "SKIP too long 7210 7187\n",
      "SKIP too long 6850 6523\n",
      "SKIP too long 7210 7187\n",
      "SKIP too long 7210 7187\n",
      "SKIP too long 7210 7187\n",
      "SKIP too long 6850 6523\n",
      "SKIP too long6850  6523\n",
      "SKIP too long 6850 6523\n",
      "SKIP too long 7210 7187\n",
      "SKIP too long 6850 6523\n",
      "SKIP too long 6850 6523\n",
      "SKIP too long 7210 7187\n",
      "SKIP too long 6850 6523\n",
      "SKIP too long 7210 7187\n",
      "SKIP too long 7210 7187\n",
      "SKIP too long 6850 6523\n",
      "SKIP too long 6850 6523\n",
      "SKIP too long 6850 6523\n",
      "SKIP too long 7210 7187\n",
      "SKIP too long 6850 6523\n",
      "SKIP too long 6850 6523\n",
      "SKIP too long 7210 7187\n",
      "SKIP too long 6850 6523\n",
      "SKIP too long 6850 6523\n",
      "SKIP too long 7210 7187\n",
      "SKIP too long 6850 6523\n",
      "SKIP too long 7210 7187\n",
      "SKIP too long 6850 6523\n",
      "SKIP too long 6850 6523\n",
      "SKIP too long 7210 7187\n",
      "SKIP too long 6850 6523\n",
      "SKIP too long 7210 7187\n",
      "SKIP too long 6850 6523SKIP too long\n",
      " 6850 6523\n",
      "SKIP too long 6850 6523\n",
      "SKIP too long 6850 6523\n",
      "SKIP too long 6850 6523\n",
      "SKIP too long 6850 6523\n",
      "SKIP too long 6970 6595\n",
      "SKIP too long 6970 6595\n",
      "SKIP too long 6970 6595\n",
      "SKIP too long 6970 6595\n",
      "SKIP too long 6970 6595\n",
      "SKIP too long 6970 6595\n",
      "SKIP too long 6970 6595\n",
      "SKIP too long 6970 6595\n",
      "SKIP too long 6970 6595\n",
      "SKIP too long 6970 6595\n",
      "SKIP too long 6970 6595\n",
      "SKIP too long 6970 6595\n",
      "SKIP too long 6970 6595\n"
     ]
    },
    {
     "data": {
      "application/vnd.jupyter.widget-view+json": {
       "model_id": "",
       "version_major": 2,
       "version_minor": 0
      },
      "text/plain": [
       "Validation: 0it [00:00, ?it/s]"
      ]
     },
     "metadata": {},
     "output_type": "display_data"
    },
    {
     "name": "stdout",
     "output_type": "stream",
     "text": [
      "SKIP too long 6970 6595\n",
      "SKIP too long 6970 6595\n",
      "SKIP too long 6970 6595\n",
      "SKIP too long 6970 6595\n",
      "SKIP too long 6970 6595\n",
      "SKIP too long 6970 6595\n",
      "SKIP too long 6970 6595\n",
      "SKIP too long 6970 6595\n",
      "SKIP too long 6970 6595\n",
      "SKIP too long 6970 6595\n",
      "SKIP too long 6970 6595\n",
      "SKIP too long 6970 6595\n",
      "SKIP too long 6970 6595\n",
      "SKIP too long 6970 6595\n",
      "SKIP too long 6970 6595\n",
      "SKIP too long 6970 6595\n",
      "SKIP too long 6970 6595\n",
      "SKIP too long 6970 6595\n",
      "SKIP too long 6970 6595\n",
      "SKIP too long 6170 5829\n",
      "SKIP too long 6170 5829\n",
      "SKIP too long 6170 5829\n",
      "SKIP too long 6170 5829\n",
      "SKIP too long 6170 5829\n",
      "SKIP too long 6170 5829\n",
      "SKIP too long 6170 5829\n",
      "SKIP too long 6170 5829\n",
      "SKIP too long 6170 5829\n",
      "SKIP too long 6170 5829\n",
      "SKIP too long 6170 5829\n",
      "SKIP too long 6170 5829\n",
      "SKIP too long 6170 5829\n",
      "SKIP too long 6170 5829\n",
      "SKIP too long 6170 5829\n",
      "SKIP too long 6170 5829\n",
      "SKIP too long 6170 5829\n",
      "SKIP too long 6170 5829\n",
      "SKIP too long 6170 5829\n",
      "SKIP too long 6170 5829\n",
      "SKIP too long 6170 5829\n",
      "SKIP too long 6170 5829\n",
      "SKIP too long 6170 5829\n",
      "SKIP too long 6170 5829\n",
      "SKIP too long 6170 5829\n",
      "SKIP too long 6170 5829\n",
      "SKIP too long 6170 5829\n",
      "SKIP too long 6170 5829\n",
      "SKIP too long 6170 5829\n"
     ]
    },
    {
     "data": {
      "application/vnd.jupyter.widget-view+json": {
       "model_id": "",
       "version_major": 2,
       "version_minor": 0
      },
      "text/plain": [
       "Validation: 0it [00:00, ?it/s]"
      ]
     },
     "metadata": {},
     "output_type": "display_data"
    },
    {
     "name": "stdout",
     "output_type": "stream",
     "text": [
      "SKIP too long 6170 5829\n",
      "SKIP too long 6170 5829\n",
      "SKIP too long 6170 5829\n"
     ]
    },
    {
     "data": {
      "application/vnd.jupyter.widget-view+json": {
       "model_id": "",
       "version_major": 2,
       "version_minor": 0
      },
      "text/plain": [
       "Validation: 0it [00:00, ?it/s]"
      ]
     },
     "metadata": {},
     "output_type": "display_data"
    },
    {
     "data": {
      "application/vnd.jupyter.widget-view+json": {
       "model_id": "",
       "version_major": 2,
       "version_minor": 0
      },
      "text/plain": [
       "Validation: 0it [00:00, ?it/s]"
      ]
     },
     "metadata": {},
     "output_type": "display_data"
    },
    {
     "name": "stdout",
     "output_type": "stream",
     "text": [
      "SKIP too long 6690 6478\n",
      "SKIP too long 6690 6478\n",
      "SKIP too long 6690 6478\n",
      "SKIP too long 6690 6478\n",
      "SKIP too long 6690 6478\n",
      "SKIP too long 6730 5946\n",
      "SKIP too long 6690 6478\n",
      "SKIP too long 6690 6478\n",
      "SKIP too long 6690 6478\n",
      "SKIP too long 6730 5946\n",
      "SKIP too long 6690 6478\n",
      "SKIP too long 6690 6478\n",
      "SKIP too long 6690 6478\n",
      "SKIP too long 6730 5946\n",
      "SKIP too long 6690 6478\n",
      "SKIP too long 6730 5946\n",
      "SKIP too long 6690 6478\n",
      "SKIP too long 6690 6478\n",
      "SKIP too long 6690 6478\n",
      "SKIP too long 6730 5946\n",
      "SKIP too long 6730 5946\n",
      "SKIP too long 6690 6478\n"
     ]
    },
    {
     "data": {
      "application/vnd.jupyter.widget-view+json": {
       "model_id": "",
       "version_major": 2,
       "version_minor": 0
      },
      "text/plain": [
       "Validation: 0it [00:00, ?it/s]"
      ]
     },
     "metadata": {},
     "output_type": "display_data"
    },
    {
     "name": "stdout",
     "output_type": "stream",
     "text": [
      "SKIP too long 6690 6478\n",
      "SKIP too long 6690 6478\n",
      "SKIP too long 6690 6478\n",
      "SKIP too long 6690 6478\n",
      "SKIP too long 6690 6478\n",
      "SKIP too long 6730 5946\n",
      "SKIP too long 6730 5946\n",
      "SKIP too long 6690 6478\n",
      "SKIP too long 6690 6478\n",
      "SKIP too long 6690 6478\n",
      "SKIP too long 6690 6478\n",
      "SKIP too long 6730 5946\n",
      "SKIP too long 6690 6478\n",
      "SKIP too long 6690 6478\n",
      "SKIP too long 6730 5946\n",
      "SKIP too long 6730 5946\n",
      "SKIP too long 6690 6478\n",
      "SKIP too long 6690 6478\n",
      "SKIP too long 6730 5946\n",
      "SKIP too long 6730 5946\n",
      "SKIP too long 6730 5946\n",
      "SKIP too long 6730 5946\n",
      "SKIP too long 6690 6478\n",
      "SKIP too long 6730 5946\n",
      "SKIP too long 6730 5946\n",
      "SKIP too long 6730 5946\n",
      "SKIP too long 6730 5946\n",
      "SKIP too long 6730 5946\n",
      "SKIP too long 6730 5946\n",
      "SKIP too long 6730 5946\n",
      "SKIP too long 6730 5946\n",
      "SKIP too long 6690 6478\n",
      "SKIP too long 6730 5946\n",
      "SKIP too long 6730 5946\n",
      "SKIP too long 6690 6478\n",
      "SKIP too long 6730 5946\n",
      "SKIP too long 6730 5946\n",
      "SKIP too long 6730 5946\n",
      "SKIP too long 6730 5946\n",
      "SKIP too long 6730 5946\n",
      "SKIP too long 6730 5946\n",
      "SKIP too long 6730 5946\n"
     ]
    },
    {
     "data": {
      "application/vnd.jupyter.widget-view+json": {
       "model_id": "",
       "version_major": 2,
       "version_minor": 0
      },
      "text/plain": [
       "Validation: 0it [00:00, ?it/s]"
      ]
     },
     "metadata": {},
     "output_type": "display_data"
    },
    {
     "name": "stdout",
     "output_type": "stream",
     "text": [
      "SKIP too long 7010 6396\n",
      "SKIP too long 7010 6396\n",
      "SKIP too long 7010 6396\n",
      "SKIP too long 7010 6396\n",
      "SKIP too long 7010 6396\n",
      "SKIP too long 7010 6396\n",
      "SKIP too long 7010 6396\n",
      "SKIP too long 7010 6396\n",
      "SKIP too long 7010 6396\n",
      "SKIP too long 7010 6396\n",
      "SKIP too long 7010 6396\n",
      "SKIP too long 7010 6396\n",
      "SKIP too long 7010 6396\n",
      "SKIP too long 7010 6396\n",
      "SKIP too long 7010 6396\n",
      "SKIP too long 7010 6396\n",
      "SKIP too long 7010 6396\n",
      "SKIP too long 7010 6396\n",
      "SKIP too long 7010 6396\n",
      "SKIP too long 7010 6396\n",
      "SKIP too long 7010 6396\n"
     ]
    },
    {
     "data": {
      "application/vnd.jupyter.widget-view+json": {
       "model_id": "",
       "version_major": 2,
       "version_minor": 0
      },
      "text/plain": [
       "Validation: 0it [00:00, ?it/s]"
      ]
     },
     "metadata": {},
     "output_type": "display_data"
    },
    {
     "name": "stdout",
     "output_type": "stream",
     "text": [
      "SKIP too long 7010 6396\n",
      "SKIP too long 7010 6396\n",
      "SKIP too long 7010 6396\n",
      "SKIP too long 7010 6396\n",
      "SKIP too long 7010 6396\n",
      "SKIP too long 7010 6396\n",
      "SKIP too long 7010 6396\n",
      "SKIP too long 7010 6396\n",
      "SKIP too long 6530 6359\n",
      "SKIP too long 6530 6359\n",
      "SKIP too long 6530 6359\n",
      "SKIP too long 6530 6359\n",
      "SKIP too long 6530 6359\n",
      "SKIP too long 6530 6359\n",
      "SKIP too long 6530 6359\n",
      "SKIP too long 7010 6396\n",
      "SKIP too long 7010 6396\n",
      "SKIP too long 6530 6359\n",
      "SKIP too long 7010 6396\n",
      "SKIP too long 6530 6359\n",
      "SKIP too long 6530 6359\n",
      "SKIP too long 6530 6359\n",
      "SKIP too long 6530 6359\n",
      "SKIP too long 6530 6359\n",
      "SKIP too long 6530 6359\n",
      "SKIP too long 6530 6359\n",
      "SKIP too long 6530 6359\n",
      "SKIP too long 6530 6359\n",
      "SKIP too long 6530 6359\n",
      "SKIP too long 6530 6359\n",
      "SKIP too long 6530 6359\n",
      "SKIP too long 6530 6359\n",
      "SKIP too long 6530 6359\n",
      "SKIP too long 6530 6359\n",
      "SKIP too long 6530 6359\n",
      "SKIP too long 6530 6359\n",
      "SKIP too long 6530 6359\n",
      "SKIP too long 6530 6359\n",
      "SKIP too long 6530 6359\n",
      "SKIP too long 6530 6359\n",
      "SKIP too long 6530 6359\n",
      "SKIP too long 6530 6359\n",
      "SKIP too long 6530 6359\n"
     ]
    },
    {
     "data": {
      "application/vnd.jupyter.widget-view+json": {
       "model_id": "",
       "version_major": 2,
       "version_minor": 0
      },
      "text/plain": [
       "Validation: 0it [00:00, ?it/s]"
      ]
     },
     "metadata": {},
     "output_type": "display_data"
    },
    {
     "data": {
      "application/vnd.jupyter.widget-view+json": {
       "model_id": "",
       "version_major": 2,
       "version_minor": 0
      },
      "text/plain": [
       "Validation: 0it [00:00, ?it/s]"
      ]
     },
     "metadata": {},
     "output_type": "display_data"
    },
    {
     "name": "stdout",
     "output_type": "stream",
     "text": [
      "SKIP too long 6970 6596\n",
      "SKIP too long 6970 6596\n"
     ]
    },
    {
     "data": {
      "application/vnd.jupyter.widget-view+json": {
       "model_id": "",
       "version_major": 2,
       "version_minor": 0
      },
      "text/plain": [
       "Validation: 0it [00:00, ?it/s]"
      ]
     },
     "metadata": {},
     "output_type": "display_data"
    },
    {
     "name": "stdout",
     "output_type": "stream",
     "text": [
      "SKIP too long 6970 6596\n",
      "SKIP too long 6970 6596\n",
      "SKIP too long 6970 6596\n",
      "SKIP too long 6970 6596\n",
      "SKIP too long 6970 6596\n",
      "SKIP too long 6970 6596\n",
      "SKIP too long 6970 6596\n",
      "SKIP too long 6970 6596\n",
      "SKIP too long 6970 6596\n",
      "SKIP too long 6970 6596\n",
      "SKIP too long 6970 6596\n",
      "SKIP too long 6970 6596\n",
      "SKIP too long 6970 6596\n",
      "SKIP too long 6970 6596\n",
      "SKIP too long 6970 6596\n",
      "SKIP too long 6970 6596\n",
      "SKIP too long 6970 6596\n",
      "SKIP too long 6970 6596\n",
      "SKIP too long 6970 6596\n",
      "SKIP too long 6970 6596\n",
      "SKIP too long 6970 6596\n",
      "SKIP too long 6970 6596\n",
      "SKIP too long 6970 6596\n",
      "SKIP too long 6970 6596\n",
      "SKIP too long 6970 6596\n",
      "SKIP too long 6970 6596\n",
      "SKIP too long 6970 6596\n",
      "SKIP too long 6970 6596\n",
      "SKIP too long 6970 6596\n",
      "SKIP too long 6970 6596\n",
      "SKIP too long 5810 5268\n",
      "SKIP too long 5810 5268\n",
      "SKIP too long 5810 5268\n",
      "SKIP too long 5810 5268\n",
      "SKIP too long 5810 5268\n",
      "SKIP too long 5810 5268\n",
      "SKIP too long 5810 5268\n",
      "SKIP too long 5810 5268\n",
      "SKIP too long 5810 5268\n",
      "SKIP too long 5810 5268\n",
      "SKIP too long 5810 5268\n",
      "SKIP too long 5810 5268\n",
      "SKIP too long 5810 5268\n",
      "SKIP too long 5810 5268\n",
      "SKIP too long 5810 5268\n"
     ]
    },
    {
     "data": {
      "application/vnd.jupyter.widget-view+json": {
       "model_id": "",
       "version_major": 2,
       "version_minor": 0
      },
      "text/plain": [
       "Validation: 0it [00:00, ?it/s]"
      ]
     },
     "metadata": {},
     "output_type": "display_data"
    },
    {
     "name": "stdout",
     "output_type": "stream",
     "text": [
      "SKIP too long 5810 5268\n",
      "SKIP too long 5810 5268\n",
      "SKIP too long 5810 5268\n",
      "SKIP too long 5810 5268\n",
      "SKIP too long 5810 5268\n",
      "SKIP too long 5810 5268\n",
      "SKIP too long 5810 5268\n",
      "SKIP too long 5810 5268\n",
      "SKIP too long 5810 5268\n",
      "SKIP too long 5810 5268\n",
      "SKIP too long 5810 5268\n",
      "SKIP too long 5810 5268\n",
      "SKIP too long 5810 5268\n",
      "SKIP too long 5810 5268\n",
      "SKIP too long 5810 5268\n",
      "SKIP too long 5810 5268\n",
      "SKIP too long 5810 5268\n",
      "SKIP too long 6330 5520\n",
      "SKIP too long 6330 5520\n"
     ]
    },
    {
     "data": {
      "application/vnd.jupyter.widget-view+json": {
       "model_id": "",
       "version_major": 2,
       "version_minor": 0
      },
      "text/plain": [
       "Validation: 0it [00:00, ?it/s]"
      ]
     },
     "metadata": {},
     "output_type": "display_data"
    },
    {
     "name": "stdout",
     "output_type": "stream",
     "text": [
      "SKIP too long 6330 5520\n",
      "SKIP too long 6330 5520\n",
      "SKIP too long 6330 5520\n",
      "SKIP too long 6330 5520\n",
      "SKIP too long 6330 5520\n",
      "SKIP too long 6330 5520\n",
      "SKIP too long 6330 5520\n",
      "SKIP too long 6330 5520\n",
      "SKIP too long 6330 5520\n",
      "SKIP too long 6330 5520\n",
      "SKIP too long 6330 5520\n",
      "SKIP too long 6330 5520\n",
      "SKIP too long 6330 5520\n",
      "SKIP too long 6330 5520\n",
      "SKIP too long 6330 5520\n",
      "SKIP too long6330  5520\n",
      "SKIP too long 6330 5520\n",
      "SKIP too long 6330 5520\n",
      "SKIP too long 6330 5520\n",
      "SKIP too long 6330 5520\n",
      "SKIP too long 6330 5520\n",
      "SKIP too long 6330 5520\n",
      "SKIP too long 6330 5520\n",
      "SKIP too long 6330 5520\n",
      "SKIP too long 6330 5520\n",
      "SKIP too long 6330 5520\n",
      "SKIP too long 6330 5520\n",
      "SKIP too long 6330 5520\n",
      "SKIP too long 6330 5520\n",
      "SKIP too long 6330 5520\n"
     ]
    },
    {
     "data": {
      "application/vnd.jupyter.widget-view+json": {
       "model_id": "",
       "version_major": 2,
       "version_minor": 0
      },
      "text/plain": [
       "Validation: 0it [00:00, ?it/s]"
      ]
     },
     "metadata": {},
     "output_type": "display_data"
    },
    {
     "name": "stdout",
     "output_type": "stream",
     "text": [
      "SKIP too long 5890 5154\n",
      "SKIP too long 5890 5154\n",
      "SKIP too long 5890 5154\n",
      "SKIP too long 5890 5154\n",
      "SKIP too long 5890 5154\n",
      "SKIP too long 5890 5154\n",
      "SKIP too long 5890 5154\n",
      "SKIP too long 5890 5154\n",
      "SKIP too long 5890 5154\n",
      "SKIP too long 5890 5154\n",
      "SKIP too long 5890 5154\n",
      "SKIP too long 5890 5154\n",
      "SKIP too long 5890 5154\n",
      "SKIP too long 5890 5154\n",
      "SKIP too long 5890 5154\n",
      "SKIP too long 5890 5154\n",
      "SKIP too long 6610 5826\n",
      "SKIP too long 5890 5154\n",
      "SKIP too long 5890 5154\n",
      "SKIP too long 5890 5154\n",
      "SKIP too long 6610 5826\n",
      "SKIP too long 5890 5154\n",
      "SKIP too long 5890 5154\n",
      "SKIP too long 5890 5154\n",
      "SKIP too long 5890 5154\n",
      "SKIP too long 5890 5154\n",
      "SKIP too long 6610 5826\n",
      "SKIP too long 6610 5826\n",
      "SKIP too long 5890 5154\n",
      "SKIP too long 5890 5154\n",
      "SKIP too long 6610 5826\n",
      "SKIP too long 5890 5154\n",
      "SKIP too long 6610 5826\n",
      "SKIP too long 6610 5826\n",
      "SKIP too long 6610 5826\n",
      "SKIP too long 6610 5826\n",
      "SKIP too long 6610 5826\n",
      "SKIP too long 6610 5826\n",
      "SKIP too long 6610 5826\n",
      "SKIP too long 5890 5154\n",
      "SKIP too long 6610 5826\n",
      "SKIP too long 6610 5826\n",
      "SKIP too long 6610 5826\n",
      "SKIP too long 5890 5154\n",
      "SKIP too long 5890 5154\n",
      "SKIP too long 6610 5826\n",
      "SKIP too long 6610 5826\n",
      "SKIP too long 6610 5826\n",
      "SKIP too long 6610 5826\n",
      "SKIP too long 6610 5826\n",
      "SKIP too long 6610 5826\n",
      "SKIP too long 6610 5826\n",
      "SKIP too long 6610 5826\n",
      "SKIP too long 6610 5826\n",
      "SKIP too long 6610 5826\n",
      "SKIP too long 6610 5826\n",
      "SKIP too long 6610 5826\n",
      "SKIP too long 6610 5826\n",
      "SKIP too long 6610 5826\n"
     ]
    },
    {
     "data": {
      "application/vnd.jupyter.widget-view+json": {
       "model_id": "",
       "version_major": 2,
       "version_minor": 0
      },
      "text/plain": [
       "Validation: 0it [00:00, ?it/s]"
      ]
     },
     "metadata": {},
     "output_type": "display_data"
    },
    {
     "name": "stdout",
     "output_type": "stream",
     "text": [
      "SKIP too long 5890 5154\n",
      "SKIP too long 6610 5826\n",
      "SKIP too long 6610 5826\n",
      "SKIP too long 6610 5826\n",
      "SKIP too long 5890 5154\n",
      "SKIP too long 5970 5086\n",
      "SKIP too long 5970 5086\n",
      "SKIP too long 5970 5086\n",
      "SKIP too long 5970 5086\n",
      "SKIP too long 5970 5086\n",
      "SKIP too long 5970 5086\n",
      "SKIP too long 5970 5086\n",
      "SKIP too long 5970 5086\n",
      "SKIP too long 5970 5086\n",
      "SKIP too long 5970 5086\n"
     ]
    },
    {
     "data": {
      "application/vnd.jupyter.widget-view+json": {
       "model_id": "",
       "version_major": 2,
       "version_minor": 0
      },
      "text/plain": [
       "Validation: 0it [00:00, ?it/s]"
      ]
     },
     "metadata": {},
     "output_type": "display_data"
    },
    {
     "name": "stdout",
     "output_type": "stream",
     "text": [
      "SKIP too long 5970 5086\n",
      "SKIP too long 5970 5086\n",
      "SKIP too long 5970 5086\n",
      "SKIP too long 5970 5086\n",
      "SKIP too long 5970 5086\n",
      "SKIP too long 5970 5086\n",
      "SKIP too long 5970 5086\n",
      "SKIP too long 5970 5086\n",
      "SKIP too long 5970 5086\n",
      "SKIP too long 5970 5086\n",
      "SKIP too long 5970 5086\n",
      "SKIP too long 5970 5086\n",
      "SKIP too long 5970 5086\n",
      "SKIP too long 5970 5086\n",
      "SKIP too long 5970 5086\n",
      "SKIP too long 5970 5086\n",
      "SKIP too long 5970 5086\n",
      "SKIP too long 5970 5086\n",
      "SKIP too long 5970 5086\n",
      "SKIP too long 5970 5086\n",
      "SKIP too long 5970 5086\n",
      "SKIP too long 7130 6489\n",
      "SKIP too long 5970 5086\n",
      "SKIP too long 7130 6489\n",
      "SKIP too long 7130 6489\n",
      "SKIP too long 7130 6489\n",
      "SKIP too long 7130 6489\n",
      "SKIP too long 7130 6489\n",
      "SKIP too long 7130 6489\n",
      "SKIP too long 7130 6489\n",
      "SKIP too long SKIP too long7130  7130 64896489\n",
      "\n",
      "SKIP too long 7130 6489\n",
      "SKIP too long 7130 6489\n",
      "SKIP too long 7130 6489\n",
      "SKIP too long 7130 6489\n",
      "SKIP too long 7130 6489\n",
      "SKIP too long 7130 6489\n",
      "SKIP too long 7130 6489\n",
      "SKIP too long 7130 6489\n",
      "SKIP too long 7130 6489\n",
      "SKIP too long 7130 6489\n",
      "SKIP too long 7130 6489\n",
      "SKIP too long 7130 6489\n",
      "SKIP too long 7130 6489\n",
      "SKIP too long 7130 6489\n",
      "SKIP too long 7130 6489\n",
      "SKIP too long 7130 6489\n",
      "SKIP too long 7130 6489\n"
     ]
    },
    {
     "data": {
      "application/vnd.jupyter.widget-view+json": {
       "model_id": "",
       "version_major": 2,
       "version_minor": 0
      },
      "text/plain": [
       "Validation: 0it [00:00, ?it/s]"
      ]
     },
     "metadata": {},
     "output_type": "display_data"
    },
    {
     "name": "stdout",
     "output_type": "stream",
     "text": [
      "SKIP too long 7130 6489\n",
      "SKIP too long 7130 6489\n",
      "SKIP too long 7130 6489\n",
      "SKIP too long 7130 6489\n",
      "SKIP too long 7130 6489\n",
      "SKIP too long 6810 6627\n",
      "SKIP too long 7130 6435\n",
      "SKIP too long 6810 6627\n",
      "SKIP too long 7130 6435\n",
      "SKIP too long 6810 6627\n",
      "SKIP too long 6810 6627\n",
      "SKIP too long 7130 6435\n",
      "SKIP too long 7130 6435\n",
      "SKIP too long 6810 6627\n",
      "SKIP too long 7130 6435\n",
      "SKIP too long 6810 6627\n",
      "SKIP too long 6810 6627\n",
      "SKIP too long 7130 6435\n",
      "SKIP too long 6810 6627\n",
      "SKIP too long 7130 6435\n",
      "SKIP too long 6810 6627\n",
      "SKIP too long 7130 6435\n",
      "SKIP too long 6810 6627\n",
      "SKIP too long 7130 6435\n",
      "SKIP too long 7130 6435\n",
      "SKIP too long 6810 6627\n",
      "SKIP too long 6810 6627\n",
      "SKIP too long 7130 6435\n",
      "SKIP too long 6810 6627\n",
      "SKIP too long 7130 6435\n",
      "SKIP too long 7130 6435\n",
      "SKIP too long 6810 6627\n",
      "SKIP too long 6810 6627\n",
      "SKIP too long 7130 6435\n",
      "SKIP too long 6810 6627\n",
      "SKIP too long 6810 6627\n",
      "SKIP too long 7130 6435\n",
      "SKIP too long 6810 6627\n",
      "SKIP too long 7130 6435\n",
      "SKIP too long 6810 6627\n",
      "SKIP too long 7130 6435\n",
      "SKIP too long 6810 6627\n",
      "SKIP too long 7130 6435\n",
      "SKIP too long 7130 6435\n",
      "SKIP too long 6810 6627\n",
      "SKIP too long 7130 6435\n",
      "SKIP too long 6810 6627\n",
      "SKIP too long 7130 6435\n",
      "SKIP too long 7130 6435\n",
      "SKIP too long 6810 6627\n",
      "SKIP too long 7130 6435\n",
      "SKIP too long 6810 6627\n",
      "SKIP too long 6810 6627\n",
      "SKIP too long 7130 6435\n",
      "SKIP too long 7130 6435\n",
      "SKIP too long 6810 6627\n",
      "SKIP too long 6810 6627\n",
      "SKIP too long 7130 6435\n",
      "SKIP too long 6810 6627\n",
      "SKIP too long 7130 6435\n",
      "SKIP too long 6810 6627\n",
      "SKIP too long 7130 6435\n",
      "SKIP too long 6810 6627\n",
      "SKIP too long 7130 6435\n",
      "SKIP too long 7690 6724\n",
      "SKIP too long 7130 6435\n",
      "SKIP too long 7690 6724\n"
     ]
    },
    {
     "data": {
      "application/vnd.jupyter.widget-view+json": {
       "model_id": "",
       "version_major": 2,
       "version_minor": 0
      },
      "text/plain": [
       "Validation: 0it [00:00, ?it/s]"
      ]
     },
     "metadata": {},
     "output_type": "display_data"
    },
    {
     "name": "stdout",
     "output_type": "stream",
     "text": [
      "SKIP too long 7690 6724\n",
      "SKIP too long 7690 6724\n",
      "SKIP too long 6810 6627\n",
      "SKIP too long 7130 6435\n",
      "SKIP too long 7690 6724\n",
      "SKIP too long 7690 6724\n",
      "SKIP too long 7690 6724\n",
      "SKIP too long 7690 6724\n",
      "SKIP too long 7690 6724\n",
      "SKIP too long 7690 6724\n",
      "SKIP too long 6810 6627\n",
      "SKIP too long 7130 6435\n",
      "SKIP too long 7690 6724\n",
      "SKIP too long 7690 6724\n",
      "SKIP too long 7690 6724\n",
      "SKIP too long 7690 6724\n",
      "SKIP too long 7690 6724\n",
      "SKIP too long 7690 6724\n",
      "SKIP too long 7690 6724\n",
      "SKIP too long 7690 6724\n",
      "SKIP too long 7690 6724\n",
      "SKIP too long 7690 6724\n",
      "SKIP too long 7690 6724\n",
      "SKIP too long 7690 6724\n",
      "SKIP too long 7690 6724\n",
      "SKIP too longSKIP too long  76907690  6724\n",
      "6724\n",
      "SKIP too long 7690 6724\n",
      "SKIP too long 7690 6724\n",
      "SKIP too long 7690 6724\n",
      "SKIP too long 7690 6724\n",
      "SKIP too long 7690 6724\n",
      "SKIP too long 7690 6724\n"
     ]
    },
    {
     "data": {
      "application/vnd.jupyter.widget-view+json": {
       "model_id": "",
       "version_major": 2,
       "version_minor": 0
      },
      "text/plain": [
       "Validation: 0it [00:00, ?it/s]"
      ]
     },
     "metadata": {},
     "output_type": "display_data"
    },
    {
     "name": "stdout",
     "output_type": "stream",
     "text": [
      "SKIP too long 7690 6724\n",
      "SKIP too long 6730 5755\n",
      "SKIP too long 6730 5755\n",
      "SKIP too long 6730 5755\n",
      "SKIP too long 6730 5755\n",
      "SKIP too long 6730 5755\n",
      "SKIP too long 6730 5755\n",
      "SKIP too long 6730 5755\n",
      "SKIP too long 6730 5755\n",
      "SKIP too long 6730 5755\n",
      "SKIP too long 6730 5755\n",
      "SKIP too long 6730 5755\n",
      "SKIP too long 6730 5755\n",
      "SKIP too long 6730 5755\n",
      "SKIP too long 6730 5755\n",
      "SKIP too long 6730 5755\n",
      "SKIP too long 6730 5755\n",
      "SKIP too long 6730 5755\n",
      "SKIP too long 6730 5755\n",
      "SKIP too long 6730 5755\n",
      "SKIP too long 6730 5755\n",
      "SKIP too long 6730 5755\n",
      "SKIP too long 6730 5755\n",
      "SKIP too long 6730 5755\n",
      "SKIP too long 6730 5755\n",
      "SKIP too long 6730 5755\n"
     ]
    },
    {
     "data": {
      "application/vnd.jupyter.widget-view+json": {
       "model_id": "",
       "version_major": 2,
       "version_minor": 0
      },
      "text/plain": [
       "Validation: 0it [00:00, ?it/s]"
      ]
     },
     "metadata": {},
     "output_type": "display_data"
    },
    {
     "name": "stdout",
     "output_type": "stream",
     "text": [
      "SKIP too long 6730 5755\n",
      "SKIP too long 6730 5755\n",
      "SKIP too long 7810 7768\n",
      "SKIP too long 6730 5755\n",
      "SKIP too long 6730 5755\n",
      "SKIP too long 7810 7768\n",
      "SKIP too long 6730 5755\n",
      "SKIP too long 6730 5755\n",
      "SKIP too long 6730 5755\n",
      "SKIP too long 7810 7768\n",
      "SKIP too long 7810 7768\n",
      "SKIP too long 7810 7768\n",
      "SKIP too long 7810 7768\n",
      "SKIP too long 7810 7768\n",
      "SKIP too long 7810 7768\n",
      "SKIP too long 7810 7768\n",
      "SKIP too long 7810 7768\n",
      "SKIP too long 7810 7768\n",
      "SKIP too long 7810 7768\n",
      "SKIP too long 7810 7768\n",
      "SKIP too long 7810 7768\n",
      "SKIP too long 7810 7768\n",
      "SKIP too long 7810 7768\n",
      "SKIP too long 7810 7768\n",
      "SKIP too long 7810 7768\n",
      "SKIP too long 7810 7768\n",
      "SKIP too long 7810 7768\n",
      "SKIP too long 7810 7768\n",
      "SKIP too long 7810 7768\n",
      "SKIP too long 7810 7768\n",
      "SKIP too long 7810 7768\n",
      "SKIP too long 7810 7768\n",
      "SKIP too long 7810 7768\n",
      "SKIP too long 7810 7768\n",
      "SKIP too long 7810 7768\n",
      "SKIP too long 7810 7768\n",
      "SKIP too long 7810 7768\n",
      "SKIP too long 7810 7768\n"
     ]
    },
    {
     "data": {
      "application/vnd.jupyter.widget-view+json": {
       "model_id": "",
       "version_major": 2,
       "version_minor": 0
      },
      "text/plain": [
       "Validation: 0it [00:00, ?it/s]"
      ]
     },
     "metadata": {},
     "output_type": "display_data"
    },
    {
     "name": "stdout",
     "output_type": "stream",
     "text": [
      "SKIP too long 7810 7768\n"
     ]
    },
    {
     "data": {
      "application/vnd.jupyter.widget-view+json": {
       "model_id": "",
       "version_major": 2,
       "version_minor": 0
      },
      "text/plain": [
       "Validation: 0it [00:00, ?it/s]"
      ]
     },
     "metadata": {},
     "output_type": "display_data"
    },
    {
     "name": "stdout",
     "output_type": "stream",
     "text": [
      "SKIP too long 6250 6071\n",
      "SKIP too long 6850 6666\n",
      "SKIP too long 6250 6071\n",
      "SKIP too long 6250 6071\n",
      "SKIP too long 6850 6666\n",
      "SKIP too long 6250 6071\n",
      "SKIP too long  68506666\n",
      "SKIP too long 6850 6666\n",
      "SKIP too long 6850 6666\n",
      "SKIP too long 6850 6666\n",
      "SKIP too long 6850 6666\n",
      "SKIP too long 6850 6666\n",
      "SKIP too long 6850 6666\n",
      "SKIP too long 6850 6666\n",
      "SKIP too long 6850 6666\n",
      "SKIP too long 6850 6666\n",
      "SKIP too long 6850 6666\n",
      "SKIP too long 6850 6666\n",
      "SKIP too long 6850 6666\n",
      "SKIP too long 6850 6666\n",
      "SKIP too long 6850 6666\n",
      "SKIP too longSKIP too long  68106810  60286028\n",
      "\n",
      "SKIP too long 6250 6071\n",
      "SKIP too long 6810 6028\n",
      "SKIP too long 6250 6071\n",
      "SKIP too long 6850 6666\n",
      "SKIP too long 6850 6666\n",
      "SKIP too long 6810 6028\n",
      "SKIP too long 6850 6666\n",
      "SKIP too long 6250 6071\n",
      "SKIP too long 6850 6666\n",
      "SKIP too long 6850 6666\n",
      "SKIP too long 6250 6071\n",
      "SKIP too long 6850 6666\n",
      "SKIP too long 6250 6071\n",
      "SKIP too long 6850 6666\n",
      "SKIP too long 6250 6071\n",
      "SKIP too long 6850 6666\n",
      "SKIP too long 6850 6666\n",
      "SKIP too long 6250 6071\n",
      "SKIP too long 6850 6666\n",
      "SKIP too long 6850 6666\n",
      "SKIP too long 6250 6071\n",
      "SKIP too long 6850 6666\n",
      "SKIP too long 6250 6071\n",
      "SKIP too long 6850 6666\n",
      "SKIP too long 6810 6028\n",
      "SKIP too long 6250 6071\n",
      "SKIP too long 6850 6666\n",
      "SKIP too long 6250 6071\n",
      "SKIP too long 6250 6071\n",
      "SKIP too long 6250 6071\n",
      "SKIP too long 6850 6666\n",
      "SKIP too long 6250 6071\n",
      "SKIP too long 6250 6071\n",
      "SKIP too long 6810 6028\n",
      "SKIP too long 6810 6028\n",
      "SKIP too long 6250 6071\n",
      "SKIP too long 6250 6071\n",
      "SKIP too long 6250 6071\n",
      "SKIP too long 6810 6028\n",
      "SKIP too long 6810 6028\n",
      "SKIP too long 6810 6028\n",
      "SKIP too long 6250 6071\n",
      "SKIP too long 6810 6028\n",
      "SKIP too long 6250 6071\n",
      "SKIP too long 6250 6071\n",
      "SKIP too long 6250 6071\n",
      "SKIP too long 6250 6071\n",
      "SKIP too long 6250 6071\n",
      "SKIP too long 6250 6071\n",
      "SKIP too long 6810 6028\n",
      "SKIP too long 6810 6028\n",
      "SKIP too long 6810 6028\n",
      "SKIP too long 6810 6028\n",
      "SKIP too long 6250 6071\n",
      "SKIP too long 6810 6028\n",
      "SKIP too long 6810 6028\n",
      "SKIP too long 6810 6028\n",
      "SKIP too long 6810 6028\n",
      "SKIP too long 6810 6028\n",
      "SKIP too long 6810 6028\n",
      "SKIP too long 6250 6071\n",
      "SKIP too long 6810 6028\n",
      "SKIP too long 6810 6028\n",
      "SKIP too long 6810 6028\n",
      "SKIP too long 6810 6028\n",
      "SKIP too long 6810 6028\n",
      "SKIP too long 6810 6028\n",
      "SKIP too long 6810 6028\n",
      "SKIP too long 6810 6028\n",
      "SKIP too long 6810 6028\n"
     ]
    },
    {
     "data": {
      "application/vnd.jupyter.widget-view+json": {
       "model_id": "",
       "version_major": 2,
       "version_minor": 0
      },
      "text/plain": [
       "Validation: 0it [00:00, ?it/s]"
      ]
     },
     "metadata": {},
     "output_type": "display_data"
    },
    {
     "name": "stdout",
     "output_type": "stream",
     "text": [
      "SKIP too long 6810 6028\n",
      "SKIP too long 6250 6071\n",
      "SKIP too long 6810 6028\n",
      "SKIP too longSKIP too longSKIP too long   733073307330   680068006800\n",
      "\n",
      "\n",
      "SKIP too long 7330 6800\n"
     ]
    },
    {
     "data": {
      "application/vnd.jupyter.widget-view+json": {
       "model_id": "",
       "version_major": 2,
       "version_minor": 0
      },
      "text/plain": [
       "Validation: 0it [00:00, ?it/s]"
      ]
     },
     "metadata": {},
     "output_type": "display_data"
    },
    {
     "name": "stdout",
     "output_type": "stream",
     "text": [
      "SKIP too long 7330 6800\n",
      "SKIP too long 7330 6800\n",
      "SKIP too long 7330 6800\n",
      "SKIP too long 7330 6800\n",
      "SKIP too long 7330 6800\n",
      "SKIP too long 7330 6800\n",
      "SKIP too long 7330 6800\n",
      "SKIP too long 7330 6800\n",
      "SKIP too long 7330 6800\n",
      "SKIP too long 7330 6800\n",
      "SKIP too long 7330 6800\n",
      "SKIP too long 7330 6800\n",
      "SKIP too long 7330 6800\n",
      "SKIP too long 7330 6800\n",
      "SKIP too long 7330 6800\n",
      "SKIP too long 7330 6800\n",
      "SKIP too long 7330 6800\n",
      "SKIP too long 7330 6800\n",
      "SKIP too long 7330 6800\n",
      "SKIP too long 7330 6800\n",
      "SKIP too long 7330 6800\n",
      "SKIP too long 7330 6800\n",
      "SKIP too long 7330 6800\n",
      "SKIP too long 7330 6800\n",
      "SKIP too long 7330 6800\n",
      "SKIP too long 7330 6800\n",
      "SKIP too long 7330 6800\n",
      "SKIP too long 7130 6422\n",
      "SKIP too long 7130 6422\n",
      "SKIP too long 7130 6422\n",
      "SKIP too long 7130 6422\n",
      "SKIP too long 7330 6800\n"
     ]
    },
    {
     "data": {
      "application/vnd.jupyter.widget-view+json": {
       "model_id": "",
       "version_major": 2,
       "version_minor": 0
      },
      "text/plain": [
       "Validation: 0it [00:00, ?it/s]"
      ]
     },
     "metadata": {},
     "output_type": "display_data"
    },
    {
     "name": "stdout",
     "output_type": "stream",
     "text": [
      "SKIP too long 7130 6422\n",
      "SKIP too long 7130 6422\n",
      "SKIP too long 7130 6422\n",
      "SKIP too long 6170SKIP too long  58236170\n",
      " 5823\n",
      "SKIP too long 7130 6422\n",
      "SKIP too long 7130 6422\n",
      "SKIP too long 7130 6422\n",
      "SKIP too long 6170 5823\n",
      "SKIP too long 6170 5823\n",
      "SKIP too long 7130 6422\n",
      "SKIP too long 7130 6422\n",
      "SKIP too long 6170 5823\n",
      "SKIP too long 6170 5823\n",
      "SKIP too long 6170 5823\n",
      "SKIP too long 6170 5823\n",
      "SKIP too long 6170 5823\n",
      "SKIP too long 6170 5823\n",
      "SKIP too long 6170 5823\n",
      "SKIP too long 6170 5823\n",
      "SKIP too long 6170 5823\n",
      "SKIP too long 7130 6422\n",
      "SKIP too long 6170 5823\n",
      "SKIP too long 6170 5823\n",
      "SKIP too long 7130 6422\n",
      "SKIP too long 6170 5823\n",
      "SKIP too long 7130 6422\n",
      "SKIP too long 6170 5823\n",
      "SKIP too long 6170 5823\n",
      "SKIP too long 7130 6422\n",
      "SKIP too long 6170 5823\n",
      "SKIP too long 7130 6422\n",
      "SKIP too long 7130 6422\n",
      "SKIP too long 6170 5823\n",
      "SKIP too long 7130 6422\n",
      "SKIP too long 6170 5823\n",
      "SKIP too long 6170 5823\n",
      "SKIP too long 6170 5823\n",
      "SKIP too long 6170 5823\n",
      "SKIP too long 6170 5823\n",
      "SKIP too long 6170 5823\n",
      "SKIP too long 7130 6422\n",
      "SKIP too long 6170 5823\n",
      "SKIP too long 7130 6422\n",
      "SKIP too long 7130 6422\n",
      "SKIP too long 6170 5823\n",
      "SKIP too long 7130 6422\n",
      "SKIP too long 7130 6422\n",
      "SKIP too long 7130 6422\n",
      "SKIP too long 7130 6422\n",
      "SKIP too long 6170 5823\n",
      "SKIP too long 7130 6422\n",
      "SKIP too long 6170 5823\n",
      "SKIP too long 7130 6422\n",
      "SKIP too long 7130 6422\n",
      "SKIP too long 7130 6422\n",
      "SKIP too long 6170 5823\n",
      "SKIP too long 6170 5823\n",
      "SKIP too long 7130 6422\n",
      "SKIP too long 7130 6422\n"
     ]
    },
    {
     "data": {
      "application/vnd.jupyter.widget-view+json": {
       "model_id": "",
       "version_major": 2,
       "version_minor": 0
      },
      "text/plain": [
       "Validation: 0it [00:00, ?it/s]"
      ]
     },
     "metadata": {},
     "output_type": "display_data"
    },
    {
     "data": {
      "application/vnd.jupyter.widget-view+json": {
       "model_id": "",
       "version_major": 2,
       "version_minor": 0
      },
      "text/plain": [
       "Validation: 0it [00:00, ?it/s]"
      ]
     },
     "metadata": {},
     "output_type": "display_data"
    },
    {
     "name": "stdout",
     "output_type": "stream",
     "text": [
      "SKIP too long 7810 7055\n",
      "SKIP too long 7810 7055\n",
      "SKIP too long 7810 7055\n",
      "SKIP too long 7810 7055\n",
      "SKIP too long 7810 7055\n"
     ]
    },
    {
     "data": {
      "application/vnd.jupyter.widget-view+json": {
       "model_id": "",
       "version_major": 2,
       "version_minor": 0
      },
      "text/plain": [
       "Validation: 0it [00:00, ?it/s]"
      ]
     },
     "metadata": {},
     "output_type": "display_data"
    },
    {
     "name": "stdout",
     "output_type": "stream",
     "text": [
      "SKIP too long 7810 7055\n",
      "SKIP too long 7810 7055\n",
      "SKIP too long 7810 7055\n",
      "SKIP too long 7810 7055\n",
      "SKIP too long 7810 7055\n",
      "SKIP too long 7810 7055\n",
      "SKIP too long 7810 7055\n",
      "SKIP too long 7810 7055\n",
      "SKIP too long 7810 7055\n",
      "SKIP too long 7810 7055\n",
      "SKIP too long 7810 7055\n",
      "SKIP too long 7810 7055\n",
      "SKIP too long 7810 7055\n",
      "SKIP too long 7810 7055\n",
      "SKIP too long 7810 7055\n",
      "SKIP too long 7810 7055\n",
      "SKIP too long 7810 7055\n",
      "SKIP too long 7810 7055\n",
      "SKIP too long 7810 7055\n",
      "SKIP too long 7810 7055\n",
      "SKIP too long 7810 7055\n",
      "SKIP too long 7810 7055\n",
      "SKIP too long 7810 7055\n",
      "SKIP too long 7810 7055\n",
      "SKIP too long 7810 7055\n",
      "SKIP too long 7810 7055\n",
      "SKIP too long 7810 7055\n",
      "SKIP too long 7290 6979\n"
     ]
    },
    {
     "data": {
      "application/vnd.jupyter.widget-view+json": {
       "model_id": "",
       "version_major": 2,
       "version_minor": 0
      },
      "text/plain": [
       "Validation: 0it [00:00, ?it/s]"
      ]
     },
     "metadata": {},
     "output_type": "display_data"
    },
    {
     "name": "stdout",
     "output_type": "stream",
     "text": [
      "SKIP too long 7290 6979\n",
      "SKIP too long 7290 6979\n",
      "SKIP too long 7290 6979\n",
      "SKIP too long 7290 6979\n",
      "SKIP too long 7290 6979\n",
      "SKIP too long 7290 6979\n",
      "SKIP too long 7290 6979\n",
      "SKIP too long 7290 6979\n",
      "SKIP too long 7290 6979\n",
      "SKIP too long 7290 6979\n",
      "SKIP too long 7290 6979\n",
      "SKIP too long 7290 6979\n",
      "SKIP too long 7290 6979\n",
      "SKIP too long 7290 6979\n",
      "SKIP too long 7290 6979\n",
      "SKIP too long 7290 6979\n",
      "SKIP too long 7290 6979\n",
      "SKIP too long 7290 6979\n",
      "SKIP too long 7290 6979\n",
      "SKIP too longSKIP too long  72907290  69796979\n",
      "\n",
      "SKIP too long 7290 6979\n",
      "SKIP too long 7290 6979\n",
      "SKIP too long 7290 6979\n",
      "SKIP too long 7290 6979\n",
      "SKIP too long 7290 6979\n",
      "SKIP too long 7290 6979\n",
      "SKIP too long 7290 6979\n",
      "SKIP too long 7290 6979\n",
      "SKIP too long 7290 6979\n",
      "SKIP too long 7290 6979\n",
      "SKIP too long 7130 6231\n",
      "SKIP too long 7130 6231\n",
      "SKIP too long 7130 6231\n"
     ]
    },
    {
     "data": {
      "application/vnd.jupyter.widget-view+json": {
       "model_id": "",
       "version_major": 2,
       "version_minor": 0
      },
      "text/plain": [
       "Validation: 0it [00:00, ?it/s]"
      ]
     },
     "metadata": {},
     "output_type": "display_data"
    },
    {
     "name": "stdout",
     "output_type": "stream",
     "text": [
      "SKIP too long 7130 6231\n",
      "SKIP too long 7130 6231\n",
      "SKIP too long 7130 6231\n",
      "SKIP too long 7130 6231\n",
      "SKIP too long 7130 6231\n",
      "SKIP too long 7130 6231\n",
      "SKIP too long 7130 6231\n",
      "SKIP too long 7130 6231\n",
      "SKIP too long 7130 6231\n",
      "SKIP too long 7130 6231\n",
      "SKIP too long 7130 6231\n",
      "SKIP too long 7130 6231\n",
      "SKIP too long 7130 6231\n",
      "SKIP too long 7130 6231\n",
      "SKIP too long 7130 6231\n",
      "SKIP too long 7130 6231\n",
      "SKIP too long 7130 6231\n",
      "SKIP too long 7130 6231\n",
      "SKIP too long 7130 6231\n",
      "SKIP too long 7130 6231\n",
      "SKIP too long 7130 6231\n",
      "SKIP too long 7130 6231\n",
      "SKIP too long 7130 6231\n",
      "SKIP too long 7130 6231\n",
      "SKIP too long 7130 6231\n",
      "SKIP too long 7130 6231\n",
      "SKIP too long 7130 6231\n",
      "SKIP too long  71306231\n",
      "SKIP too long 7130 6231\n"
     ]
    },
    {
     "data": {
      "application/vnd.jupyter.widget-view+json": {
       "model_id": "",
       "version_major": 2,
       "version_minor": 0
      },
      "text/plain": [
       "Validation: 0it [00:00, ?it/s]"
      ]
     },
     "metadata": {},
     "output_type": "display_data"
    },
    {
     "data": {
      "application/vnd.jupyter.widget-view+json": {
       "model_id": "",
       "version_major": 2,
       "version_minor": 0
      },
      "text/plain": [
       "Validation: 0it [00:00, ?it/s]"
      ]
     },
     "metadata": {},
     "output_type": "display_data"
    },
    {
     "data": {
      "application/vnd.jupyter.widget-view+json": {
       "model_id": "",
       "version_major": 2,
       "version_minor": 0
      },
      "text/plain": [
       "Validation: 0it [00:00, ?it/s]"
      ]
     },
     "metadata": {},
     "output_type": "display_data"
    },
    {
     "name": "stdout",
     "output_type": "stream",
     "text": [
      "SKIP too long 6250 5300\n",
      "SKIP too long 6250 5300\n",
      "SKIP too long 6250 5300\n",
      "SKIP too long 6250 5300\n",
      "SKIP too long 6250 5300\n",
      "SKIP too long 6250 5300\n",
      "SKIP too long 6250 5300\n",
      "SKIP too long 6250 5300\n",
      "SKIP too long 6250 5300\n",
      "SKIP too long 6250 5300\n",
      "SKIP too long 6250 5300\n",
      "SKIP too long 6250 5300\n",
      "SKIP too long 6250 5300\n",
      "SKIP too long 6250 5300\n",
      "SKIP too long 6250 5300\n",
      "SKIP too long 6250 5300\n",
      "SKIP too long 6250 5300\n",
      "SKIP too long 6250 5300\n",
      "SKIP too long 6250 5300\n",
      "SKIP too long 6250 5300\n",
      "SKIP too long 5970 5043\n",
      "SKIP too long 6250 5300\n",
      "SKIP too long 5970 5043\n",
      "SKIP too long 6250 5300\n",
      "SKIP too long 6250 5300\n",
      "SKIP too long 6250 5300\n",
      "SKIP too long 5970 5043\n",
      "SKIP too long 6250 5300\n",
      "SKIP too long 6250 5300\n",
      "SKIP too long 6250 5300\n",
      "SKIP too long 6250 5300\n",
      "SKIP too long 5970 5043\n"
     ]
    },
    {
     "data": {
      "application/vnd.jupyter.widget-view+json": {
       "model_id": "",
       "version_major": 2,
       "version_minor": 0
      },
      "text/plain": [
       "Validation: 0it [00:00, ?it/s]"
      ]
     },
     "metadata": {},
     "output_type": "display_data"
    },
    {
     "name": "stdout",
     "output_type": "stream",
     "text": [
      "SKIP too long 6250 5300\n",
      "SKIP too long 5970 5043\n",
      "SKIP too long 6250 5300\n",
      "SKIP too long 6250 5300\n",
      "SKIP too long 5970 5043\n",
      "SKIP too long 5970 \n",
      "5043SKIP too long 5970 5043\n",
      "SKIP too long 5970 5043\n",
      "SKIP too long 5970 5043\n",
      "SKIP too long 5970 5043\n",
      "SKIP too long 5970 5043\n",
      "SKIP too long 5043\n",
      "5970 SKIP too long 5970 5043\n",
      "SKIP too long 5970 5043\n",
      "SKIP too long 5970 5043\n",
      "SKIP too long 5970 5043\n",
      "SKIP too long 5970 5043\n",
      "SKIP too long 6250 5300\n",
      "SKIP too long 5970 5043\n",
      "SKIP too long 5970 5043\n",
      "SKIP too long 5970 5043\n",
      "SKIP too long 5970 5043\n",
      "SKIP too long 5970 5043\n",
      "SKIP too long 5970 5043\n",
      "SKIP too long 5970 5043\n",
      "SKIP too long 5970 5043\n",
      "SKIP too long 5970 5043\n",
      "SKIP too long 5970 5043\n",
      "SKIP too long 5970 5043\n",
      "SKIP too long 5970 5043\n",
      "SKIP too long 5970 5043\n"
     ]
    },
    {
     "data": {
      "application/vnd.jupyter.widget-view+json": {
       "model_id": "",
       "version_major": 2,
       "version_minor": 0
      },
      "text/plain": [
       "Validation: 0it [00:00, ?it/s]"
      ]
     },
     "metadata": {},
     "output_type": "display_data"
    },
    {
     "name": "stdout",
     "output_type": "stream",
     "text": [
      "SKIP too long 5970 5043\n",
      "SKIP too long 6890 6537\n",
      "SKIP too long 6890 6537\n",
      "SKIP too long 6890 6537\n",
      "SKIP too long 6890 6537\n",
      "SKIP too long 6890 6537\n",
      "SKIP too long 6890 6537\n",
      "SKIP too long 6890 6537\n",
      "SKIP too long 6890 6537\n",
      "SKIP too long 6890 6537\n",
      "SKIP too long 6890 6537\n",
      "SKIP too long 6890 6537\n",
      "SKIP too long 6890 6537\n",
      "SKIP too long 6890 6537\n",
      "SKIP too long 6890 6537\n",
      "SKIP too long 6890 6537\n",
      "SKIP too long 6890 6537\n",
      "SKIP too long 6890 6537\n",
      "SKIP too long 6890 6537\n",
      "SKIP too long 6890 6537\n",
      "SKIP too long 6890 6537\n",
      "SKIP too long 6890 6537\n",
      "SKIP too long 6890 6537\n",
      "SKIP too long 6890 6537\n",
      "SKIP too long 6890 6537\n",
      "SKIP too long 6890 6537\n",
      "SKIP too long 6890 6537\n",
      "SKIP too long 6890 6537\n",
      "SKIP too long 6890 6537\n",
      "SKIP too long 6890 6537\n",
      "SKIP too long 6890 6537\n",
      "SKIP too long 6890 6537\n"
     ]
    },
    {
     "data": {
      "application/vnd.jupyter.widget-view+json": {
       "model_id": "",
       "version_major": 2,
       "version_minor": 0
      },
      "text/plain": [
       "Validation: 0it [00:00, ?it/s]"
      ]
     },
     "metadata": {},
     "output_type": "display_data"
    },
    {
     "name": "stdout",
     "output_type": "stream",
     "text": [
      "SKIP too long 6690 6409\n",
      "SKIP too long 7570 6664\n",
      "SKIP too long 6690 6409\n",
      "SKIP too long 7570 6664\n",
      "SKIP too long 6690 6409\n",
      "SKIP too long 6690 6409\n",
      "SKIP too long 6690 6409\n",
      "SKIP too long 6690 6409\n",
      "SKIP too long 6690 6409\n",
      "SKIP too long 6690 6409\n",
      "SKIP too long 6690 6409\n",
      "SKIP too long 7570 6664\n",
      "SKIP too long 6690 6409\n",
      "SKIP too long 6690 6409SKIP too long\n",
      " 6890 6537\n",
      "SKIP too long 6690 6409\n",
      "SKIP too long 7570 6664\n",
      "SKIP too long 6690 6409\n",
      "SKIP too long 6690 6409\n",
      "SKIP too long 6690 6409\n",
      "SKIP too long 6690 6409\n",
      "SKIP too long 6690 6409\n",
      "SKIP too long 6690 6409\n",
      "SKIP too long 7570 6664\n",
      "SKIP too long 6690 6409\n",
      "SKIP too long 6690 6409\n",
      "SKIP too long 6690 6409\n",
      "SKIP too long 6690 6409\n",
      "SKIP too long 6690 6409\n",
      "SKIP too long 6690 6409\n",
      "SKIP too long 7570 6664\n",
      "SKIP too long 6690 6409\n",
      "SKIP too long 6690 6409\n",
      "SKIP too long 6690 6409\n",
      "SKIP too long 7570 6664\n",
      "SKIP too long 6690 6409\n",
      "SKIP too long 7570 6664\n",
      "SKIP too long 6690 6409\n",
      "SKIP too long 7570 6664\n",
      "SKIP too long 6970 6173\n",
      "SKIP too long 7570 6664\n",
      "SKIP too long 6970 6173\n",
      "SKIP too long 7570 6664\n",
      "SKIP too long 7570 6664\n",
      "SKIP too long 7570 6664\n",
      "SKIP too long 7570 6664\n",
      "SKIP too long 6690 6409\n",
      "SKIP too long 7570 6664\n",
      "SKIP too long 7570 6664\n",
      "SKIP too long 6690 6409\n",
      "SKIP too long 6690 6409\n",
      "SKIP too long 6970 6173\n",
      "SKIP too long 7570 6664\n",
      "SKIP too long 7570 6664\n",
      "SKIP too long 6970 6173\n",
      "SKIP too long 7570 6664\n",
      "SKIP too long 6330 6164\n",
      "SKIP too long 7570 6664\n",
      "SKIP too long 7570 6664\n",
      "SKIP too long 7570 6664\n",
      "SKIP too long 6970 6173\n",
      "SKIP too long 6330 6164\n",
      "SKIP too long 7570 6664\n",
      "SKIP too long 7570 6664\n",
      "SKIP too long 7570 6664\n",
      "SKIP too long 7570 6664\n",
      "SKIP too long 7570 6664\n",
      "SKIP too long 6970 6173\n",
      "SKIP too long 6970 6173\n",
      "SKIP too long 6970 6173\n",
      "SKIP too long 7570 6664\n",
      "SKIP too long 6970 6173\n",
      "SKIP too long 6970 6173\n",
      "SKIP too long 7570 6664\n",
      "SKIP too long 6330 6164\n",
      "SKIP too long 7570 6664\n",
      "SKIP too long 6330 6164\n",
      "SKIP too long 6970 6173\n",
      "SKIP too long 6970 6173\n",
      "SKIP too long 6970 6173\n",
      "SKIP too long 6970 6173\n",
      "SKIP too long 6970 6173\n",
      "SKIP too longSKIP too long  69706970 6173 \n",
      "6173\n",
      "SKIP too long 6330 6164\n",
      "SKIP too long 7570 6664\n",
      "SKIP too long 6970 6173\n",
      "SKIP too long 6330 6164\n",
      "SKIP too long 6970 6173\n",
      "SKIP too long 6330 6164\n"
     ]
    },
    {
     "data": {
      "application/vnd.jupyter.widget-view+json": {
       "model_id": "",
       "version_major": 2,
       "version_minor": 0
      },
      "text/plain": [
       "Validation: 0it [00:00, ?it/s]"
      ]
     },
     "metadata": {},
     "output_type": "display_data"
    },
    {
     "name": "stdout",
     "output_type": "stream",
     "text": [
      "SKIP too long 6330 6164\n",
      "SKIP too long 6330 6164\n",
      "SKIP too long 6330 6164\n",
      "SKIP too long 6970 6173\n",
      "SKIP too long 6970 6173\n",
      "SKIP too long 6330 6164\n",
      "SKIP too long 6970 6173\n",
      "SKIP too long 6970 6173\n",
      "SKIP too long 6330 6164\n",
      "SKIP too long 6970 6173\n",
      "SKIP too long 6970 6173\n",
      "SKIP too long 6330 6164\n",
      "SKIP too long 6330 6164\n",
      "SKIP too long 6970 6173\n",
      "SKIP too long 6330 6164\n",
      "SKIP too long 6970 6173\n",
      "SKIP too long 6330 6164\n",
      "SKIP too long 6330 6164\n",
      "SKIP too long 6970 6173\n",
      "SKIP too long 6970 6173\n",
      "SKIP too long 6330 6164\n",
      "SKIP too long 7570 6664\n",
      "SKIP too long 6970 6173\n",
      "SKIP too long 6330 6164\n",
      "SKIP too long 6330 6164\n",
      "SKIP too long 6330 6164\n",
      "SKIP too long 7610 7032\n",
      "SKIP too longSKIP too long  63306970  61646173\n",
      "\n",
      "SKIP too long 6330 6164\n",
      "SKIP too long 7610 7032\n",
      "SKIP too long 6330 6164\n",
      "SKIP too long 6330 6164\n",
      "SKIP too long 6330 6164\n",
      "SKIP too long 6330 6164\n",
      "SKIP too long 6330 6164\n",
      "SKIP too long 6330 6164\n",
      "SKIP too long 6330 6164\n",
      "SKIP too long 7610 7032\n",
      "SKIP too long 7610 7032\n",
      "SKIP too long 7610 7032\n",
      "SKIP too long 6330 6164\n",
      "SKIP too long 6970 6173\n",
      "SKIP too long 7610 7032\n",
      "SKIP too long 7610 7032\n",
      "SKIP too long 7610 7032\n",
      "SKIP too long 7610 7032\n",
      "SKIP too long 7610 7032\n",
      "SKIP too long 7610 7032\n",
      "SKIP too long 7610 7032\n",
      "SKIP too long 7610 7032\n",
      "SKIP too long 7610 7032\n",
      "SKIP too long 7610 7032\n",
      "SKIP too long 7610 7032\n",
      "SKIP too long 6330 6164\n",
      "SKIP too long 7610 7032\n",
      "SKIP too long 7610 7032\n",
      "SKIP too long 7610 7032\n",
      "SKIP too long 7610 7032\n",
      "SKIP too long 7610 7032\n",
      "SKIP too long 7610 7032\n",
      "SKIP too long 7610 7032\n",
      "SKIP too long 7610 7032\n",
      "SKIP too long 7610 7032\n",
      "SKIP too long 7610 7032\n",
      "SKIP too long 7610 7032\n",
      "SKIP too long 7610 7032\n"
     ]
    },
    {
     "data": {
      "application/vnd.jupyter.widget-view+json": {
       "model_id": "",
       "version_major": 2,
       "version_minor": 0
      },
      "text/plain": [
       "Validation: 0it [00:00, ?it/s]"
      ]
     },
     "metadata": {},
     "output_type": "display_data"
    },
    {
     "name": "stdout",
     "output_type": "stream",
     "text": [
      "SKIP too long 7610 7032\n",
      "SKIP too long 7610 7032\n",
      "SKIP too long 7610 7032\n",
      "SKIP too long 7730 6754\n",
      "SKIP too long 7730 6754\n",
      "SKIP too long 7730 6754\n",
      "SKIP too long 7610 7032\n",
      "SKIP too long 7730 6754\n",
      "SKIP too long 7730 6754\n",
      "SKIP too long 7730 6754\n",
      "SKIP too long 7730 6754\n",
      "SKIP too long 7730 6754\n",
      "SKIP too long 7730 6754\n",
      "SKIP too long 7730 6754\n",
      "SKIP too long 7730 6754\n",
      "SKIP too long 7730 6754\n",
      "SKIP too long 7730 6754\n",
      "SKIP too long 7730 6754\n",
      "SKIP too long 7730 6754\n",
      "SKIP too long 7730 6754\n",
      "SKIP too long 7730 6754\n",
      "SKIP too long 7730 6754\n",
      "SKIP too long 7730 6754\n",
      "SKIP too long 7730 6754\n",
      "SKIP too long 7730 6754\n",
      "SKIP too long 7730 6754\n",
      "SKIP too long 7730 6754\n",
      "SKIP too long 7730 6754\n",
      "SKIP too long 7730 6754\n",
      "SKIP too long 7730 6754\n",
      "SKIP too long 7730 6754\n",
      "SKIP too long 7730 6754\n",
      "SKIP too long  77306754\n"
     ]
    },
    {
     "data": {
      "application/vnd.jupyter.widget-view+json": {
       "model_id": "",
       "version_major": 2,
       "version_minor": 0
      },
      "text/plain": [
       "Validation: 0it [00:00, ?it/s]"
      ]
     },
     "metadata": {},
     "output_type": "display_data"
    },
    {
     "name": "stdout",
     "output_type": "stream",
     "text": [
      "SKIP too long 7730 6754\n",
      "SKIP too long 7730 6754\n",
      "SKIP too long 7730 6754\n",
      "SKIP too long 5570 5035\n"
     ]
    },
    {
     "data": {
      "application/vnd.jupyter.widget-view+json": {
       "model_id": "",
       "version_major": 2,
       "version_minor": 0
      },
      "text/plain": [
       "Validation: 0it [00:00, ?it/s]"
      ]
     },
     "metadata": {},
     "output_type": "display_data"
    },
    {
     "name": "stdout",
     "output_type": "stream",
     "text": [
      "SKIP too long 5570 5035\n",
      "SKIP too long 6690 5846\n",
      "SKIP too long 6690 5846\n",
      "SKIP too long 5570 5035\n",
      "SKIP too long 58466690 \n",
      "SKIP too long 5570 5035\n",
      "SKIP too long 5570 5035\n",
      "SKIP too long 5570 5035\n",
      "SKIP too long 6690 5846\n",
      "SKIP too long 6690 5846\n",
      "SKIP too long 6690 5846\n",
      "SKIP too long 5570 5035\n",
      "SKIP too long 5570 5035\n",
      "SKIP too long 5570 5035\n",
      "SKIP too long 5570 5035\n",
      "SKIP too long 5570 5035\n",
      "SKIP too long 5570 5035\n",
      "SKIP too long 6690 5846\n",
      "SKIP too long 5570 5035\n",
      "SKIP too long 6690 5846\n",
      "SKIP too long 5570 5035\n",
      "SKIP too long 6690 5846\n",
      "SKIP too long 5570 5035\n",
      "SKIP too long 5570 5035\n",
      "SKIP too long 6690 5846\n",
      "SKIP too long 6690 5846\n",
      "SKIP too long 6690 5846\n",
      "SKIP too long 6690 5846\n",
      "SKIP too long 6690 5846\n",
      "SKIP too long 6690 5846\n",
      "SKIP too long 6690 5846\n",
      "SKIP too long 5570 5035\n",
      "SKIP too long 5570 5035\n",
      "SKIP too long 5570 5035\n",
      "SKIP too long 5570 5035\n",
      "SKIP too long 5570 5035\n",
      "SKIP too long 5570 5035\n",
      "SKIP too long 5570 5035\n",
      "SKIP too long 6690 5846\n",
      "SKIP too long 5570 5035\n",
      "SKIP too long 6690 5846\n",
      "SKIP too long 5570 5035\n",
      "SKIP too long 6690 5846\n",
      "SKIP too long 5570 5035\n",
      "SKIP too long 66905846 \n",
      "SKIP too long 6690 5846\n",
      "SKIP too long 6690 5846\n",
      "SKIP too long 6690 5846\n",
      "SKIP too long 5570 5035\n",
      "SKIP too long 6690 5846\n",
      "SKIP too long 6690 5846\n",
      "SKIP too long 6690 5846\n",
      "SKIP too long 5570 5035\n",
      "SKIP too long 5570 5035\n",
      "SKIP too long 6690 5846\n",
      "SKIP too long 6690 5846\n",
      "SKIP too long 5570 5035\n",
      "SKIP too long 6690 5846\n",
      "SKIP too long 5570 5035\n",
      "SKIP too long 6690 5846\n",
      "SKIP too long 6690 5846\n"
     ]
    },
    {
     "data": {
      "application/vnd.jupyter.widget-view+json": {
       "model_id": "",
       "version_major": 2,
       "version_minor": 0
      },
      "text/plain": [
       "Validation: 0it [00:00, ?it/s]"
      ]
     },
     "metadata": {},
     "output_type": "display_data"
    },
    {
     "name": "stdout",
     "output_type": "stream",
     "text": [
      "SKIP too long 5570 5035\n",
      "SKIP too long 7250 7237\n",
      "SKIP too long 7250 7237\n",
      "SKIP too long 6690 5846\n",
      "SKIP too long 7250 7237\n",
      "SKIP too long 7250 7237\n",
      "SKIP too long 7250 7237\n",
      "SKIP too long 7250 7237\n",
      "SKIP too long 7250 7237\n",
      "SKIP too long 7250 7237\n",
      "SKIP too long 7250 7237\n",
      "SKIP too long 7250 7237\n",
      "SKIP too long 7250 7237\n",
      "SKIP too long 7250 7237\n",
      "SKIP too long 7250 7237\n",
      "SKIP too long 7250 7237\n",
      "SKIP too long 7250 7237\n",
      "SKIP too long 7250 7237\n",
      "SKIP too long 7250 7237\n",
      "SKIP too long 7250 7237\n",
      "SKIP too long 7250 7237\n",
      "SKIP too long 7250 7237\n",
      "SKIP too long 7250 7237\n",
      "SKIP too long 7250 7237\n",
      "SKIP too long 7250 7237\n",
      "SKIP too long 7250 7237\n",
      "SKIP too long 7250 7237\n",
      "SKIP too long 7250 7237\n",
      "SKIP too long 7250 7237\n",
      "SKIP too long 7250 7237\n",
      "SKIP too long 7250 7237\n",
      "SKIP too long 7250 7237\n"
     ]
    },
    {
     "data": {
      "application/vnd.jupyter.widget-view+json": {
       "model_id": "",
       "version_major": 2,
       "version_minor": 0
      },
      "text/plain": [
       "Validation: 0it [00:00, ?it/s]"
      ]
     },
     "metadata": {},
     "output_type": "display_data"
    },
    {
     "name": "stdout",
     "output_type": "stream",
     "text": [
      "SKIP too long 7250 7237\n",
      "SKIP too longSKIP too long  72907290  66966696\n",
      "\n",
      "SKIP too long 7290 6696\n",
      "SKIP too long 7290 6696\n",
      "SKIP too long 7290 6696\n",
      "SKIP too long 7290 6696\n",
      "SKIP too long 7250 7237\n",
      "SKIP too long 7290 6696\n",
      "SKIP too long 7290 6696\n",
      "SKIP too long 7290 6696\n",
      "SKIP too long 7290 6696\n",
      "SKIP too long 7290 6696\n",
      "SKIP too long 7290 6696\n",
      "SKIP too long 7290 6696\n",
      "SKIP too long 7290 6696\n",
      "SKIP too long 7290 6696\n",
      "SKIP too long 7290 6696\n",
      "SKIP too long 7290 6696\n",
      "SKIP too long 7290 6696\n",
      "SKIP too long 7290 6696\n",
      "SKIP too long 7290 6696\n",
      "SKIP too long 7290 6696\n",
      "SKIP too long 7290 6696\n",
      "SKIP too long 7290 6696\n",
      "SKIP too long 7290 6696\n",
      "SKIP too long 7290 6696\n",
      "SKIP too long 7290 6696\n",
      "SKIP too long 7290 6696\n",
      "SKIP too long 7290 6696\n",
      "SKIP too long 7290 6696\n",
      "SKIP too long 6930 6147\n",
      "SKIP too long 7290 6696\n",
      "SKIP too long 7290 6696\n",
      "SKIP too long 7290 6696\n",
      "SKIP too long 6930 6147\n",
      "SKIP too long 6930 6147\n",
      "SKIP too long 6930 6147\n",
      "SKIP too long 6930 6147\n",
      "SKIP too long 6930 6147\n",
      "SKIP too long 6930 6147\n",
      "SKIP too long 6930 6147\n",
      "SKIP too long 6930 6147\n",
      "SKIP too long 6930 6147\n",
      "SKIP too long 6930 6147\n",
      "SKIP too long 6930 6147\n"
     ]
    },
    {
     "data": {
      "application/vnd.jupyter.widget-view+json": {
       "model_id": "",
       "version_major": 2,
       "version_minor": 0
      },
      "text/plain": [
       "Validation: 0it [00:00, ?it/s]"
      ]
     },
     "metadata": {},
     "output_type": "display_data"
    },
    {
     "name": "stdout",
     "output_type": "stream",
     "text": [
      "SKIP too long 6930 6147\n",
      "SKIP too long 6930 6147\n",
      "SKIP too long 6930 6147\n",
      "SKIP too long 6930 6147\n",
      "SKIP too long 6930 6147\n",
      "SKIP too long 6930 6147\n",
      "SKIP too long 6930 6147\n",
      "SKIP too long 6930 6147\n",
      "SKIP too long 6930 6147\n",
      "SKIP too long 6930 6147\n",
      "SKIP too long 6930 6147\n",
      "SKIP too long 6930 6147\n",
      "SKIP too long 6930 6147\n",
      "SKIP too long 6930 6147\n",
      "SKIP too long 6930 6147\n",
      "SKIP too long 6930 6147\n",
      "SKIP too long 7370 6403\n",
      "SKIP too long 6930 6147\n",
      "SKIP too long 7370 6403\n",
      "SKIP too long 6930 6147\n",
      "SKIP too long 6930 6147\n",
      "SKIP too long 7370 6403\n",
      "SKIP too long 7370 6403\n",
      "SKIP too long 7370 6403\n",
      "SKIP too long 7370 6403\n",
      "SKIP too long 6930 6147\n",
      "SKIP too long 7370 6403\n",
      "SKIP too long 7370 6403\n",
      "SKIP too long 7370 6403\n",
      "SKIP too long 7370 6403\n",
      "SKIP too long 7370 6403\n",
      "SKIP too long 7370 6403\n",
      "SKIP too long 7370 6403\n",
      "SKIP too long 7370 6403\n",
      "SKIP too long 5530 5067\n",
      "SKIP too long 7370 6403\n",
      "SKIP too long 5530 5067\n",
      "SKIP too long 7370 6403\n",
      "SKIP too long 7370 6403\n",
      "SKIP too long 7370 6403\n",
      "SKIP too long 5530 5067\n",
      "SKIP too long 5530 5067\n",
      "SKIP too long 5530 5067\n",
      "SKIP too long 5530 5067\n",
      "SKIP too long 7370 6403\n",
      "SKIP too long 7370 6403\n",
      "SKIP too long 5530 5067\n",
      "SKIP too long 7370 6403\n",
      "SKIP too long 7370 6403\n",
      "SKIP too long 5530 5067\n",
      "SKIP too long 5570 5061\n",
      "SKIP too long 5530 5067\n",
      "SKIP too long 7370 6403\n",
      "SKIP too long 5530 5067\n",
      "SKIP too long 5530 5067\n",
      "SKIP too long 5530 5067\n",
      "SKIP too long 5530 5067\n",
      "SKIP too long 7370 6403\n",
      "SKIP too long 5530 5067\n",
      "SKIP too long 7370 6403\n",
      "SKIP too long 5530 5067\n"
     ]
    },
    {
     "data": {
      "application/vnd.jupyter.widget-view+json": {
       "model_id": "",
       "version_major": 2,
       "version_minor": 0
      },
      "text/plain": [
       "Validation: 0it [00:00, ?it/s]"
      ]
     },
     "metadata": {},
     "output_type": "display_data"
    },
    {
     "name": "stdout",
     "output_type": "stream",
     "text": [
      "SKIP too long 5530 5067\n",
      "SKIP too long 5530 5067\n",
      "SKIP too long 7370 6403\n",
      "SKIP too long 5530 5067\n",
      "SKIP too long 5530 5067\n",
      "SKIP too long 5570 5061\n",
      "SKIP too long 7370 6403\n",
      "SKIP too long 5530 5067\n",
      "SKIP too long 5530 5067\n",
      "SKIP too long 7370 6403\n",
      "SKIP too long 5530 5067\n",
      "SKIP too long 5530 5067\n",
      "SKIP too long 5530 5067\n",
      "SKIP too long 5530 5067\n",
      "SKIP too long 7370 6403\n",
      "SKIP too long 7370 6403\n",
      "SKIP too long 5530 5067\n",
      "SKIP too long 5530 5067\n",
      "SKIP too long 5570 5061\n",
      "SKIP too long 5530 5067\n",
      "SKIP too long 5530 5067\n",
      "SKIP too long 5570 5061\n",
      "SKIP too long 7370 6403\n",
      "SKIP too long 5530 5067\n",
      "SKIP too long 5570 5061\n",
      "SKIP too long 5530 5067\n",
      "SKIP too long 5530 5067\n",
      "SKIP too long 5570 5061\n",
      "SKIP too long 5570 5061\n",
      "SKIP too long 7370 6403\n",
      "SKIP too long 5570 5061\n",
      "SKIP too long 5570 5061\n",
      "SKIP too long 5570 5061\n",
      "SKIP too long 5570 5061\n",
      "SKIP too long 5570 5061\n",
      "SKIP too long 5570 5061\n",
      "SKIP too long 5570 5061\n",
      "SKIP too long 5570 5061\n",
      "SKIP too long 5570 5061\n",
      "SKIP too long 5570 5061\n",
      "SKIP too long 5570 5061\n",
      "SKIP too long 5570 5061\n",
      "SKIP too long 5570 5061\n",
      "SKIP too long 5570 5061\n",
      "SKIP too long 5570 5061\n",
      "SKIP too long 5570 5061\n",
      "SKIP too long 5570 5061\n",
      "SKIP too long 5570 5061\n",
      "SKIP too long 5570 5061\n",
      "SKIP too long 5570 5061\n",
      "SKIP too long 5570 5061\n",
      "SKIP too long 5570 5061\n",
      "SKIP too long 5570 5061\n",
      "SKIP too long 5570 5061\n",
      "SKIP too longSKIP too long  73307330  72017201\n",
      "\n"
     ]
    },
    {
     "data": {
      "application/vnd.jupyter.widget-view+json": {
       "model_id": "",
       "version_major": 2,
       "version_minor": 0
      },
      "text/plain": [
       "Validation: 0it [00:00, ?it/s]"
      ]
     },
     "metadata": {},
     "output_type": "display_data"
    },
    {
     "name": "stdout",
     "output_type": "stream",
     "text": [
      "SKIP too long 7330 7201\n",
      "SKIP too long 7330 6365\n",
      "SKIP too long 7330 7201\n",
      "SKIP too long 7330 7201\n",
      "SKIP too long 7330 7201\n",
      "SKIP too long 7330 7201\n",
      "SKIP too long 5570 5061\n",
      "SKIP too long 7330 7201\n",
      "SKIP too longSKIP too long  73307330  72017201\n",
      "\n",
      "SKIP too long 7330 7201\n",
      "SKIP too long 6130 5555\n",
      "SKIP too long 7330 6365\n",
      "SKIP too longSKIP too longSKIP too longSKIP too long    733073307330 7330   7201720172017201\n",
      "\n",
      "\n",
      "\n",
      "SKIP too long 7330 7201\n",
      "SKIP too long 7330 7201\n",
      "SKIP too long 7330 7201\n",
      "SKIP too longSKIP too long  73307330  7201\n",
      "7201\n",
      "SKIP too long 7330 SKIP too long7201 \n",
      "7330 7201\n",
      "SKIP too long 6130 5555\n",
      "SKIP too long 7330 7201\n",
      "SKIP too long 7330 7201\n",
      "SKIP too long 7330 6365\n",
      "SKIP too long 7330 7201\n",
      "SKIP too long 7330 7201\n",
      "SKIP too long 7330SKIP too long  72017330\n",
      " 7201\n",
      "SKIP too long 7330 6365\n",
      "SKIP too long 7330 7201\n",
      "SKIP too long 6130 5555\n",
      "SKIP too long 7330 6365\n",
      "SKIP too long 7330 7201\n",
      "SKIP too long 6130 5555\n",
      "SKIP too longSKIP too long  7330 61306365 \n",
      "5555\n",
      "SKIP too long 7330 7201\n",
      "SKIP too long 7330 7201\n",
      "SKIP too long 7330 6365\n",
      "SKIP too long 7330 6365\n",
      "SKIP too long 7330 6365\n",
      "SKIP too long 7330 6365\n",
      "SKIP too long 7330 6365\n",
      "SKIP too long 7330 6365\n",
      "SKIP too long 7330 6365\n",
      "SKIP too long SKIP too long6130  73305555 \n",
      "6365\n",
      "SKIP too long 6130 5555\n",
      "SKIP too long 7330 6365\n",
      "SKIP too long 7170 6789\n",
      "SKIP too long 7170 6789\n",
      "SKIP too long 7330 6365\n",
      "SKIP too long 6130 5555\n",
      "SKIP too long 7330 6365\n",
      "SKIP too long 6130 5555\n",
      "SKIP too long 7170 6789\n",
      "SKIP too long 6130 5555\n",
      "SKIP too long 6130 5555\n",
      "SKIP too long 7170 6789\n",
      "SKIP too long 6130 5555\n",
      "SKIP too long 7170 6789\n",
      "SKIP too long 6130 5555\n",
      "SKIP too long 7170 6789\n",
      "SKIP too long 6130 5555\n",
      "SKIP too long 6130 5555\n",
      "SKIP too longSKIP too long  61307170  55556789\n",
      "\n",
      "SKIP too long 7330 6365\n",
      "SKIP too long 7330 6365\n",
      "SKIP too long 6130 5555\n",
      "SKIP too long 7170 6789\n",
      "SKIP too long 7170 6789\n",
      "SKIP too long 7330 6365\n",
      "SKIP too long 7330 6365\n",
      "SKIP too long 6130 5555\n",
      "SKIP too long 6130 5555\n",
      "SKIP too long 7330 6365\n",
      "SKIP too longSKIP too long  71707170  67896789\n",
      "\n",
      "SKIP too long 7170 6789\n",
      "SKIP too long 7330 6365\n",
      "SKIP too long 7170 6789\n",
      "SKIP too long 7170 6789\n",
      "SKIP too long 7330 6365\n",
      "SKIP too long 7170 6789\n",
      "SKIP too long 7170 6789\n",
      "SKIP too long 7170 6789\n",
      "SKIP too long 6130 5555\n",
      "SKIP too long 7170 6789\n",
      "SKIP too long 6130 5555\n",
      "SKIP too long 7170 6789\n",
      "SKIP too long 7170 6789\n",
      "SKIP too long 7330 6365\n",
      "SKIP too long 7330 6365\n",
      "SKIP too long 7170 6789\n",
      "SKIP too long 7170 6789\n",
      "SKIP too long 7330 6365\n",
      "SKIP too long 6130 5555\n",
      "SKIP too long 7170 6789\n",
      "SKIP too long 7330 6365\n",
      "SKIP too long 7330 6365\n",
      "SKIP too long 7170 6789\n",
      "SKIP too long 7170 6789\n",
      "SKIP too long 7330 6365\n",
      "SKIP too long 7170 6789\n",
      "SKIP too long 6130 5555\n",
      "SKIP too long 6130 5555\n",
      "SKIP too long 7170 6789\n",
      "SKIP too long 6130 5555\n",
      "SKIP too long 7170 6789\n",
      "SKIP too long 7170 6789\n",
      "SKIP too long 6130 5555\n",
      "SKIP too long 6130 5555\n",
      "SKIP too long 6130 5555\n",
      "SKIP too long 6130 5555\n",
      "SKIP too long 7330 6365\n",
      "SKIP too long 5530 5528\n",
      "SKIP too long 6130 5555\n",
      "SKIP too long 7170 6789\n",
      "SKIP too long 7330 7079\n",
      "SKIP too long 7330 7079\n",
      "SKIP too long 7170 6789\n",
      "SKIP too long 5530 5528\n",
      "SKIP too long"
     ]
    },
    {
     "data": {
      "application/vnd.jupyter.widget-view+json": {
       "model_id": "",
       "version_major": 2,
       "version_minor": 0
      },
      "text/plain": [
       "Validation: 0it [00:00, ?it/s]"
      ]
     },
     "metadata": {},
     "output_type": "display_data"
    },
    {
     "name": "stdout",
     "output_type": "stream",
     "text": [
      " 7170 6789\n",
      "SKIP too long 7330 7079\n",
      "SKIP too long 7330 7079\n",
      "SKIP too long 6130 5555\n",
      "SKIP too long 7330 7079\n",
      "SKIP too long 7330 7079\n",
      "SKIP too long 7330 7079\n",
      "SKIP too long 7330 7079\n",
      "SKIP too long 7330 7079\n",
      "SKIP too long 5530 5528\n",
      "SKIP too long 7330 6365\n",
      "SKIP too long 7330 7079\n",
      "SKIP too long 7330 7079\n",
      "SKIP too long 7330 7079\n",
      "SKIP too long 7330 7079\n",
      "SKIP too long 7330 7079\n",
      "SKIP too long 7330 7079\n",
      "SKIP too long 7330 7079\n",
      "SKIP too long 5530 5528\n",
      "SKIP too long 6130 5555\n",
      "SKIP too long 7330 7079\n",
      "SKIP too long 7330 7079\n",
      "SKIP too long 7330 7079\n",
      "SKIP too long 7330 7079\n",
      "SKIP too long 5530 5528\n",
      "SKIP too longSKIP too long  73307330  70797079\n",
      "\n",
      "SKIP too long 7330 7079\n",
      "SKIP too long 7330 7079\n",
      "SKIP too long 7330 7079\n",
      "SKIP too long 7330 7079\n",
      "SKIP too long 7330 7079\n",
      "SKIP too long 7330 7079\n",
      "SKIP too long 7330 7079\n",
      "SKIP too long 5530 5528\n",
      "SKIP too long 5530 5528\n",
      "SKIP too long 5530 5528\n",
      "SKIP too long 5530 5528\n",
      "SKIP too long 7330 7079\n",
      "SKIP too long 5530 5528\n",
      "SKIP too long 5530 5528\n",
      "SKIP too long 5530 5528\n",
      "SKIP too long 5530 5528\n",
      "SKIP too long 7050 6800\n",
      "SKIP too long 5530 5528\n",
      "SKIP too long 7330 7079SKIP too long\n",
      " 5530 5528\n",
      "SKIP too long 5530 5528\n",
      "SKIP too long 5530 5528\n",
      "SKIP too long 7330 7079\n",
      "SKIP too long 7050 6800\n",
      "SKIP too long 5530 5528\n",
      "SKIP too long 5530 5528\n",
      "SKIP too long 5530 5528\n",
      "SKIP too long 5530 5528\n",
      "SKIP too long 5530 5528\n",
      "SKIP too long 5530 5528\n",
      "SKIP too long 7050 6800\n",
      "SKIP too long 5530 5528\n",
      "SKIP too long 5530 5528\n",
      "SKIP too long 5530 5528\n",
      "SKIP too long 5530 5528\n",
      "SKIP too long 7050 6800\n",
      "SKIP too long 5530 5528\n",
      "SKIP too long 7050 6800\n",
      "SKIP too long 5530 5528\n",
      "SKIP too long 5530 5528\n",
      "SKIP too long 7050 6800\n",
      "SKIP too long 5530 5528\n",
      "SKIP too long 7050 6800\n",
      "SKIP too long 7050 6800\n",
      "SKIP too long 7050 6800\n",
      "SKIP too long 7050 6800\n",
      "SKIP too long 7050 6800\n",
      "SKIP too long 7050 6800\n",
      "SKIP too long 7050 6800\n",
      "SKIP too long 7050 6800\n",
      "SKIP too long 7050 6800\n",
      "SKIP too long 7050 6800\n",
      "SKIP too long 7050 6800\n",
      "SKIP too long 7050 6800\n"
     ]
    },
    {
     "data": {
      "application/vnd.jupyter.widget-view+json": {
       "model_id": "",
       "version_major": 2,
       "version_minor": 0
      },
      "text/plain": [
       "Validation: 0it [00:00, ?it/s]"
      ]
     },
     "metadata": {},
     "output_type": "display_data"
    },
    {
     "name": "stdout",
     "output_type": "stream",
     "text": [
      "SKIP too long 7050 6800\n",
      "SKIP too long 5530 5528\n",
      "SKIP too long 7050 6800\n",
      "SKIP too long 7050 6800\n",
      "SKIP too long 7050 6800\n",
      "SKIP too long 7050 6800\n",
      "SKIP too long 7050 6800\n",
      "SKIP too long 7050 6800\n",
      "SKIP too long 7050 6800\n",
      "SKIP too long 7050 6800\n",
      "SKIP too long 7050 6800\n",
      "SKIP too long 7050 6800\n",
      "SKIP too long 6690 6007\n",
      "SKIP too long 7050 6800\n",
      "SKIP too long 6690 6007\n",
      "SKIP too long 7050 6800\n",
      "SKIP too long 6690 6007\n",
      "SKIP too long 7050 6800\n",
      "SKIP too long 6690 6007\n",
      "SKIP too long 6690 6007\n",
      "SKIP too long 6690 6007\n",
      "SKIP too long 6690 6007\n",
      "SKIP too long 6690 6007\n",
      "SKIP too long 6690 6007\n",
      "SKIP too long 6690 6007\n",
      "SKIP too long 6690 6007\n",
      "SKIP too long 6730 5802\n",
      "SKIP too long 6690 6007\n",
      "SKIP too long 6690 6007\n",
      "SKIP too long 6690 6007\n",
      "SKIP too long 6730 5802\n",
      "SKIP too long 6690 6007\n",
      "SKIP too long 6690 6007\n",
      "SKIP too long 6690 6007\n",
      "SKIP too long 6690 6007\n",
      "SKIP too long 6690 6007\n",
      "SKIP too long 6690 6007\n",
      "SKIP too long 6690 6007\n",
      "SKIP too long 6050 5085\n",
      "SKIP too long 6690 6007\n",
      "SKIP too long 6050 5085\n",
      "SKIP too long 6050 5085\n",
      "SKIP too long 6690 6007\n",
      "SKIP too long 6730 5802\n",
      "SKIP too long 6690 6007\n",
      "SKIP too long 6050 5085\n",
      "SKIP too long 6690 6007\n",
      "SKIP too long 6050 5085\n",
      "SKIP too long 6050 5085\n",
      "SKIP too long 6690 6007\n",
      "SKIP too long 6050 5085\n"
     ]
    },
    {
     "data": {
      "application/vnd.jupyter.widget-view+json": {
       "model_id": "",
       "version_major": 2,
       "version_minor": 0
      },
      "text/plain": [
       "Validation: 0it [00:00, ?it/s]"
      ]
     },
     "metadata": {},
     "output_type": "display_data"
    },
    {
     "name": "stdout",
     "output_type": "stream",
     "text": [
      "SKIP too long 6690 6007\n",
      "SKIP too long 6050 5085\n",
      "SKIP too long 6050 5085\n",
      "SKIP too long 6690 6007\n",
      "SKIP too long 6730 5802\n",
      "SKIP too long 6730 5802\n",
      "SKIP too long 6050 5085\n",
      "SKIP too long 6050 5085\n",
      "SKIP too long 6690 6007\n",
      "SKIP too long 6050 5085\n",
      "SKIP too long 6050 5085\n",
      "SKIP too long 6050 5085\n",
      "SKIP too long 6050 5085\n",
      "SKIP too long 6690 6007\n",
      "SKIP too long 6690 6007\n",
      "SKIP too long 6050 5085\n",
      "SKIP too long 6050 5085\n",
      "SKIP too long 6050 5085\n",
      "SKIP too long 6050 5085\n",
      "SKIP too long 6050 5085\n",
      "SKIP too long 6050 5085\n",
      "SKIP too long 6730 5802\n",
      "SKIP too long 6050 5085\n",
      "SKIP too long 6730 5802\n",
      "SKIP too long 6730 5802\n",
      "SKIP too long 6050 5085\n",
      "SKIP too long 6050 5085\n",
      "SKIP too long 6730 5802\n",
      "SKIP too long 6050 5085\n",
      "SKIP too long 6730 5802\n",
      "SKIP too long 6050 5085\n",
      "SKIP too long 6730 5802\n",
      "SKIP too long 6050 5085\n",
      "SKIP too long 6730 5802\n",
      "SKIP too long 6050 5085\n",
      "SKIP too long 6730 5802\n",
      "SKIP too long 6050 5085\n",
      "SKIP too long 6730 5802\n",
      "SKIP too long 6730 5802\n",
      "SKIP too long 6730 5802\n",
      "SKIP too long 6730 5802\n",
      "SKIP too long 6730 5802\n",
      "SKIP too long 7810 7772\n",
      "SKIP too long 6730 5802\n",
      "SKIP too long 6050 5085\n",
      "SKIP too long 6730 5802\n",
      "SKIP too long 6730 5802\n",
      "SKIP too long 6690 6007\n",
      "SKIP too long 6730 5802\n",
      "SKIP too long 6730 5802\n",
      "SKIP too long 7810 7772\n",
      "SKIP too long 6050 5085\n",
      "SKIP too long 6050 5085\n",
      "SKIP too long 6730 5802\n",
      "SKIP too long 6730 5802\n",
      "SKIP too long 6730 5802\n",
      "SKIP too long 6730 5802\n",
      "SKIP too long 6730 5802\n",
      "SKIP too long 6730 5802\n",
      "SKIP too long 7810 7772\n",
      "SKIP too long 6730 5802\n",
      "SKIP too long  78107772\n",
      "SKIP too long 6730 5802\n",
      "SKIP too long 7570 6832\n",
      "SKIP too long 7810 7772\n",
      "SKIP too long 7570 6832\n",
      "SKIP too long 7570 6832\n",
      "SKIP too long 7570 6832\n",
      "SKIP too long 7810 7772\n",
      "SKIP too long 7810 7772\n",
      "SKIP too long 7810 7772\n",
      "SKIP too long 7570 6832\n",
      "SKIP too long 7570 6832\n",
      "SKIP too long 7570 6832\n",
      "SKIP too long 7570 6832\n",
      "SKIP too long 7810 7772\n",
      "SKIP too long 7570 6832\n",
      "SKIP too long 6730 5802\n",
      "SKIP too long 7810 7772\n",
      "SKIP too long 7810 7772\n",
      "SKIP too long 7570 6832\n",
      "SKIP too long 7810 7772\n",
      "SKIP too long 7810 7772\n",
      "SKIP too long 7570 6832\n",
      "SKIP too long 7570 6832\n",
      "SKIP too long 7570 6832\n",
      "SKIP too long 7810 7772\n",
      "SKIP too long 7570 6832\n",
      "SKIP too long 7570 6832\n",
      "SKIP too long 7570 6832\n",
      "SKIP too long 7570 6832\n",
      "SKIP too long 7570 6832\n",
      "SKIP too long 7570 6832\n",
      "SKIP too long 7810 7772\n",
      "SKIP too long 7570 6832\n",
      "SKIP too long 7810 7772\n",
      "SKIP too long 7570 6832\n",
      "SKIP too long 7570 6832\n",
      "SKIP too long 7810 7772\n",
      "SKIP too long 7570 6832\n",
      "SKIP too long 7810 7772\n",
      "SKIP too long 7570 6832\n",
      "SKIP too long 7570 6832\n",
      "SKIP too long 7570 6832\n",
      "SKIP too long 7570 6832\n",
      "SKIP too long 7810 7772\n",
      "SKIP too long 7810 7772\n",
      "SKIP too long 7810 7772\n",
      "SKIP too long 7810 7772\n",
      "SKIP too long 7570 6832\n",
      "SKIP too long 7570 6832\n",
      "SKIP too long 7810 7772\n"
     ]
    },
    {
     "data": {
      "application/vnd.jupyter.widget-view+json": {
       "model_id": "",
       "version_major": 2,
       "version_minor": 0
      },
      "text/plain": [
       "Validation: 0it [00:00, ?it/s]"
      ]
     },
     "metadata": {},
     "output_type": "display_data"
    },
    {
     "name": "stdout",
     "output_type": "stream",
     "text": [
      "SKIP too long 7570 6832\n",
      "SKIP too long 7810 7772\n",
      "SKIP too long 7810 7772\n",
      "SKIP too long 7810 7772\n",
      "SKIP too long 7810 7772\n",
      "SKIP too long 7570 6832\n",
      "SKIP too long 7810 7772\n",
      "SKIP too long 7810 7772\n",
      "SKIP too long 7810 7772\n",
      "SKIP too long 7570 6832\n",
      "SKIP too long 7810 7772\n",
      "SKIP too long 7810 7772\n",
      "SKIP too long 6050 5739\n",
      "SKIP too long 6050 5739\n",
      "SKIP too long 6050 5739\n",
      "SKIP too long 6050 5739\n",
      "SKIP too long 6050 5739\n",
      "SKIP too long 6050 5739\n",
      "SKIP too long 6050 5739\n",
      "SKIP too long 6050 5739\n",
      "SKIP too long 6050 5739\n",
      "SKIP too long 6050 5739\n",
      "SKIP too long 6050 5739\n",
      "SKIP too long 6050 5739\n",
      "SKIP too long 6050 5739\n",
      "SKIP too long 6050 5739\n",
      "SKIP too long 6050 5739\n",
      "SKIP too long 6050 5739\n",
      "SKIP too long 6050 5739\n",
      "SKIP too long 6050 5739\n",
      "SKIP too long 6050 5739\n",
      "SKIP too long 6050 5739\n",
      "SKIP too long 6050 5739\n",
      "SKIP too long 6050 5739\n",
      "SKIP too long 6050 5739\n",
      "SKIP too long 6050 5739\n",
      "SKIP too long 6050 5739\n",
      "SKIP too long 6050 5739\n",
      "SKIP too long 6050 5739\n",
      "SKIP too long 6050 5739\n",
      "SKIP too long 6050 5739\n",
      "SKIP too long 6050 5739\n",
      "SKIP too long 6410 5468\n",
      "SKIP too long 7050 6739\n",
      "SKIP too long 7050 6739\n"
     ]
    },
    {
     "data": {
      "application/vnd.jupyter.widget-view+json": {
       "model_id": "",
       "version_major": 2,
       "version_minor": 0
      },
      "text/plain": [
       "Validation: 0it [00:00, ?it/s]"
      ]
     },
     "metadata": {},
     "output_type": "display_data"
    },
    {
     "name": "stdout",
     "output_type": "stream",
     "text": [
      "SKIP too long 7050 6739\n",
      "SKIP too long 6050 5739\n",
      "SKIP too long 7050 6739\n",
      "SKIP too long 6410 5468\n",
      "SKIP too long 6050 5739\n",
      "SKIP too long 7050 6739\n",
      "SKIP too long 7050 6739\n",
      "SKIP too long 7050 6739\n",
      "SKIP too long 7050 6739\n",
      "SKIP too long 7050 6739\n",
      "SKIP too long 7050 6739\n",
      "SKIP too long 7050 6739\n",
      "SKIP too long 7050 6739\n",
      "SKIP too long 7050 6739\n",
      "SKIP too long 7250 6728\n",
      "SKIP too long 7050 6739\n",
      "SKIP too long 7050 6739\n",
      "SKIP too long 7050 6739\n",
      "SKIP too long 7250 6728\n",
      "SKIP too long 7050 6739\n",
      "SKIP too long 7050 6739\n",
      "SKIP too long 7050 6739\n",
      "SKIP too long 7050 6739\n",
      "SKIP too long 7050 6739\n",
      "SKIP too long 6410 5468\n",
      "SKIP too long 7050 6739\n",
      "SKIP too long 7050 6739\n",
      "SKIP too long 7050 6739\n",
      "SKIP too long 7250 6728\n",
      "SKIP too long 7050 6739\n",
      "SKIP too long 7050 6739\n",
      "SKIP too long 7050 6739\n",
      "SKIP too long 7250 6728\n",
      "SKIP too long 6410 5468\n",
      "SKIP too long 7050 6739\n",
      "SKIP too long 7250 6728\n",
      "SKIP too long 7250 6728\n",
      "SKIP too long 7250 6728\n",
      "SKIP too long 7250 6728\n",
      "SKIP too long 6410 5468\n",
      "SKIP too long 6410 5468\n",
      "SKIP too long 6410 5468\n",
      "SKIP too long 7050 6739\n",
      "SKIP too long 7250 6728\n",
      "SKIP too long 7050 6739\n",
      "SKIP too long 7250 6728\n",
      "SKIP too long 7250 6728\n",
      "SKIP too long 6410 5468\n",
      "SKIP too long 6410 5468\n",
      "SKIP too long 6410 5468\n",
      "SKIP too long 6410 5468\n",
      "SKIP too long 6410 5468\n",
      "SKIP too long 7250 6728\n",
      "SKIP too long 7250 6728\n",
      "SKIP too long 7050 6739\n",
      "SKIP too long 7250 6728\n",
      "SKIP too long 7250 6728\n",
      "SKIP too long 7250 6728\n",
      "SKIP too long 7250 6728\n",
      "SKIP too long 7250 6728\n",
      "SKIP too long 7250 6728\n",
      "SKIP too long 7250 6728\n",
      "SKIP too long 6410 5468\n",
      "SKIP too long 7250 6728\n",
      "SKIP too long 7250 6728\n",
      "SKIP too long 7250 6728\n",
      "SKIP too long 7250 6728\n",
      "SKIP too long 7050 6739\n",
      "SKIP too long 7250 6728\n",
      "SKIP too long 7250 6728\n",
      "SKIP too long 7250 6728\n",
      "SKIP too long 6410 5468\n",
      "SKIP too long 6410 5468\n",
      "SKIP too long 6410 5468\n",
      "SKIP too long 6410 5468\n",
      "SKIP too long 7250 6728\n",
      "SKIP too long 7250 6728\n",
      "SKIP too long 6410 5468\n",
      "SKIP too long 6410 5468\n",
      "SKIP too long 6410 5468\n",
      "SKIP too long 7250 6728\n",
      "SKIP too long 6410 5468\n",
      "SKIP too long 6410 5468\n",
      "SKIP too long 6410 5468\n",
      "SKIP too long 7250 6728\n",
      "SKIP too long 6410 5468\n",
      "SKIP too long 6410 5468\n",
      "SKIP too long 7250 6728\n",
      "SKIP too long 6410 5468\n",
      "SKIP too long 6410 5468\n",
      "SKIP too long 6410 5468\n",
      "SKIP too long 6410 5468\n",
      "SKIP too long 6410 5468\n",
      "SKIP too long 6410 5468\n"
     ]
    },
    {
     "data": {
      "application/vnd.jupyter.widget-view+json": {
       "model_id": "",
       "version_major": 2,
       "version_minor": 0
      },
      "text/plain": [
       "Validation: 0it [00:00, ?it/s]"
      ]
     },
     "metadata": {},
     "output_type": "display_data"
    },
    {
     "name": "stdout",
     "output_type": "stream",
     "text": [
      "SKIP too long 6410 5468\n",
      "SKIP too long 5930 5572\n",
      "SKIP too long 5930 5572\n",
      "SKIP too long 5930 5572\n",
      "SKIP too long 5930 5572\n",
      "SKIP too long 5930 5572\n",
      "SKIP too long 5930 5572\n",
      "SKIP too long 5930 5572\n",
      "SKIP too long 5930 5572\n",
      "SKIP too long SKIP too long5690  56905070 \n",
      "5070\n",
      "SKIP too long 5930 5572\n",
      "SKIP too long 5930 5572\n",
      "SKIP too long 5930 5572\n",
      "SKIP too long 5930 5572\n",
      "SKIP too long 5930 5572\n",
      "SKIP too long 5930 5572\n",
      "SKIP too long 5930 5572\n",
      "SKIP too long 5930 5572\n",
      "SKIP too long 5690 5070\n",
      "SKIP too long 5930 5572\n",
      "SKIP too long 5690 5070\n",
      "SKIP too long 5930 5572\n",
      "SKIP too long 5930 5572\n",
      "SKIP too long 5930 5572\n",
      "SKIP too long 5690 5070\n",
      "SKIP too long 5930 5572\n",
      "SKIP too long 5930 5572\n",
      "SKIP too long 5690 5070\n",
      "SKIP too long 59305572 \n",
      "SKIP too long 5930 5572\n",
      "SKIP too long 5930 5572\n",
      "SKIP too long 5930 5572\n",
      "SKIP too long 5690 5070\n",
      "SKIP too long 5930 5572\n",
      "SKIP too long 5930 5572\n",
      "SKIP too long 5690 5070\n",
      "SKIP too long 5690 5070\n",
      "SKIP too long 5930 5572\n",
      "SKIP too long 5690 5070SKIP too long\n",
      " 5690 5070\n",
      "SKIP too long 5930 5572\n",
      "SKIP too long 5690 5070\n",
      "SKIP too long 5690 5070\n",
      "SKIP too long 5690 5070\n",
      "SKIP too long 5690 5070\n",
      "SKIP too long 5690 5070\n",
      "SKIP too long 5690 5070\n",
      "SKIP too long 5690 5070\n",
      "SKIP too long 5690 5070\n",
      "SKIP too long 5690 5070\n",
      "SKIP too long 5690 5070\n",
      "SKIP too long 5690 5070\n",
      "SKIP too long 5690 5070\n",
      "SKIP too long 5690 5070\n",
      "SKIP too long 5930 5572\n",
      "SKIP too long 5690 5070\n",
      "SKIP too long 5690 5070\n",
      "SKIP too long 5690 5070\n",
      "SKIP too long 5690 5070\n",
      "SKIP too long 5690 5070\n",
      "SKIP too long 5930 5572\n",
      "SKIP too long 5690 5070\n"
     ]
    },
    {
     "data": {
      "application/vnd.jupyter.widget-view+json": {
       "model_id": "",
       "version_major": 2,
       "version_minor": 0
      },
      "text/plain": [
       "Validation: 0it [00:00, ?it/s]"
      ]
     },
     "metadata": {},
     "output_type": "display_data"
    },
    {
     "name": "stdout",
     "output_type": "stream",
     "text": [
      "SKIP too long 5690 5070\n",
      "SKIP too long 5690 5070\n",
      "SKIP too long 7650 7311\n"
     ]
    },
    {
     "data": {
      "application/vnd.jupyter.widget-view+json": {
       "model_id": "",
       "version_major": 2,
       "version_minor": 0
      },
      "text/plain": [
       "Validation: 0it [00:00, ?it/s]"
      ]
     },
     "metadata": {},
     "output_type": "display_data"
    },
    {
     "name": "stdout",
     "output_type": "stream",
     "text": [
      "SKIP too long 7650 7311\n",
      "SKIP too long 6690 6637\n",
      "SKIP too long 7650 7311\n",
      "SKIP too long 6690 6637\n",
      "SKIP too long 7650 7311\n",
      "SKIP too long 7650 7311\n",
      "SKIP too long 7650 7311\n",
      "SKIP too long 7650 7311\n",
      "SKIP too long 6690 6637\n",
      "SKIP too long 7650 7311\n",
      "SKIP too long 7650 7311\n",
      "SKIP too long 6690 6637\n",
      "SKIP too long 7650 7311\n",
      "SKIP too long  6690SKIP too long 66377650\n",
      " 7311\n",
      "SKIP too long 7650 7311\n",
      "SKIP too long 7650 7311\n",
      "SKIP too long 7650 7311\n",
      "SKIP too long 6690 6637\n",
      "SKIP too long 7650 7311\n",
      "SKIP too long 7650 7311\n",
      "SKIP too long 7650 7311\n",
      "SKIP too long 6690 6637\n",
      "SKIP too long 6690 6637\n",
      "SKIP too long 7650 7311\n",
      "SKIP too long 7650 7311\n",
      "SKIP too long 6690 6637\n",
      "SKIP too long 6690 6637\n",
      "SKIP too long 6690 6637\n",
      "SKIP too long 6690 6637\n",
      "SKIP too long 6690 6637\n",
      "SKIP too long 6690 6637\n",
      "SKIP too long 7650 7311\n",
      "SKIP too long 6690 6637\n",
      "SKIP too long 6690 6637\n",
      "SKIP too long 7650 7311\n",
      "SKIP too long 7522 6532\n",
      "SKIP too long 7650 7311\n",
      "SKIP too long 6690 6637\n",
      "SKIP too long 6690 6637\n",
      "SKIP too long 6690 6637\n",
      "SKIP too long 7650 7311\n",
      "SKIP too long 7650 7311\n",
      "SKIP too long 7650 7311\n",
      "SKIP too long 7522 6532\n",
      "SKIP too long 6690 6637\n",
      "SKIP too long 6690 6637\n",
      "SKIP too long 6690 6637\n",
      "SKIP too longSKIP too long  76506690  73116637\n",
      "\n",
      "SKIP too long 7650 7311\n",
      "SKIP too long 6690 6637\n",
      "SKIP too long 7650 7311\n",
      "SKIP too long 7650 7311\n",
      "SKIP too long 6690 6637\n",
      "SKIP too long 7650 7311\n",
      "SKIP too long 7650 7311\n",
      "SKIP too long 7522 6532\n",
      "SKIP too long 7522 6532\n",
      "SKIP too long 6690 6637\n",
      "SKIP too long 7522 6532\n",
      "SKIP too long 7522 6532\n",
      "SKIP too long 6690 6637\n",
      "SKIP too long 6690 6637\n",
      "SKIP too long 6690 6637\n",
      "SKIP too long 6690 6637\n",
      "SKIP too long 7522 6532\n",
      "SKIP too long 6690 6637\n"
     ]
    },
    {
     "data": {
      "application/vnd.jupyter.widget-view+json": {
       "model_id": "",
       "version_major": 2,
       "version_minor": 0
      },
      "text/plain": [
       "Validation: 0it [00:00, ?it/s]"
      ]
     },
     "metadata": {},
     "output_type": "display_data"
    },
    {
     "name": "stdout",
     "output_type": "stream",
     "text": [
      "SKIP too long 7522 6532\n",
      "SKIP too long 7522 6532\n",
      "SKIP too long 7522 6532\n",
      "SKIP too long 7522 6532\n",
      "SKIP too long 7522 6532\n",
      "SKIP too long 7522 6532\n",
      "SKIP too long 7522 6532\n",
      "SKIP too long 7522 6532\n",
      "SKIP too long 7522 6532\n",
      "SKIP too long 7522 6532\n",
      "SKIP too long 7522 6532\n",
      "SKIP too long 7522 6532\n",
      "SKIP too long 7650 7311\n",
      "SKIP too long 7522 6532\n",
      "SKIP too long 7522 6532\n",
      "SKIP too long 7522 6532\n",
      "SKIP too long 6690 6637\n",
      "SKIP too long 7522 6532\n",
      "SKIP too long 7522 6532\n",
      "SKIP too long 7522 6532\n",
      "SKIP too long 7522 6532\n",
      "SKIP too long 7522 6532\n",
      "SKIP too long 7522 6532\n",
      "SKIP too long 7522 6532\n",
      "SKIP too long 7522 6532\n",
      "SKIP too long 7522 6532\n",
      "SKIP too long 7522 6532\n"
     ]
    },
    {
     "data": {
      "application/vnd.jupyter.widget-view+json": {
       "model_id": "",
       "version_major": 2,
       "version_minor": 0
      },
      "text/plain": [
       "Validation: 0it [00:00, ?it/s]"
      ]
     },
     "metadata": {},
     "output_type": "display_data"
    },
    {
     "name": "stdout",
     "output_type": "stream",
     "text": [
      "SKIP too long 7170 6341\n",
      "SKIP too long 7170 6341\n",
      "SKIP too long 7170 6341\n",
      "SKIP too long 7170 6341\n",
      "SKIP too long 7170 6341\n",
      "SKIP too long 7170 6341\n",
      "SKIP too long 7170 6341\n",
      "SKIP too long 7170 6341\n",
      "SKIP too long 7170 6341\n",
      "SKIP too long 7170 6341\n",
      "SKIP too long 7170 6341\n",
      "SKIP too long 7170 6341\n",
      "SKIP too long 5530 5066\n",
      "SKIP too long 7170 6341\n",
      "SKIP too long 7170 6341\n",
      "SKIP too long 5530 5066\n",
      "SKIP too long 7170 6341\n",
      "SKIP too long 7170 6341\n",
      "SKIP too long 7170 6341\n",
      "SKIP too long 7170 6341\n",
      "SKIP too long 7170 6341\n",
      "SKIP too long 7170 6341\n",
      "SKIP too long 7170 6341\n",
      "SKIP too long 7170 6341\n",
      "SKIP too long 7170 6341\n",
      "SKIP too long 7170 6341\n",
      "SKIP too long 7170 6341\n",
      "SKIP too long 7170 6341\n",
      "SKIP too long 7170 6341\n",
      "SKIP too long 7170 6341\n",
      "SKIP too long 7490 6746\n",
      "SKIP too long 7170 6341\n",
      "SKIP too long 5530 5066\n",
      "SKIP too long 7170 6341\n",
      "SKIP too long 7490 6746\n"
     ]
    },
    {
     "data": {
      "application/vnd.jupyter.widget-view+json": {
       "model_id": "",
       "version_major": 2,
       "version_minor": 0
      },
      "text/plain": [
       "Validation: 0it [00:00, ?it/s]"
      ]
     },
     "metadata": {},
     "output_type": "display_data"
    },
    {
     "name": "stdout",
     "output_type": "stream",
     "text": [
      "SKIP too long 7170 6341\n",
      "SKIP too long 7170 6341\n",
      "SKIP too long 5530 5066\n",
      "SKIP too long 5530 5066\n",
      "SKIP too long 5530 5066\n",
      "SKIP too long 7490 6746\n",
      "SKIP too long 5530 5066\n",
      "SKIP too long 5530 5066\n",
      "SKIP too long 5530 5066\n",
      "SKIP too long  55305066\n",
      "SKIP too long 5530 5066\n",
      "SKIP too long 5530 5066\n",
      "SKIP too long 7490 6746\n",
      "SKIP too long 5530 5066\n",
      "SKIP too long 7490 6746\n",
      "SKIP too longSKIP too long 5530 5530  50665066\n",
      "\n",
      "SKIP too long 5530 5066\n",
      "SKIP too long 5530 5066\n",
      "SKIP too long 7490 6746\n",
      "SKIP too long 7490 6746\n",
      "SKIP too long7490  6746\n",
      "SKIP too long 5530 5066\n",
      "SKIP too long 7490 6746\n",
      "SKIP too long 7490 6746\n",
      "SKIP too long 5530 5066\n",
      "SKIP too long 5530 5066\n",
      "SKIP too long 7490 6746\n",
      "SKIP too long 7490 6746\n",
      "SKIP too long 7490 6746\n",
      "SKIP too long 7490 6746\n",
      "SKIP too long 7490 6746\n",
      "SKIP too long 5530 5066\n",
      "SKIP too long 5530 5066\n",
      "SKIP too long 7490 6746\n",
      "SKIP too long 7490 6746\n",
      "SKIP too long 5530 5066\n",
      "SKIP too long 7490 6746\n",
      "SKIP too long 5530 5066\n",
      "SKIP too long 5530 5066\n",
      "SKIP too long 7490 6746\n",
      "SKIP too long 7490 6746\n",
      "SKIP too long 7490 6746\n",
      "SKIP too long 7490 6746\n",
      "SKIP too long 5530 5066\n",
      "SKIP too long 5530 5066\n",
      "SKIP too long 7490 6746\n",
      "SKIP too long 7490 6746\n",
      "SKIP too long 5530 5066\n",
      "SKIP too long 5530 5066\n",
      "SKIP too long 7490 6746\n",
      "SKIP too long 5530 5066\n",
      "SKIP too long 7490 6746\n",
      "SKIP too long 7490 6746\n",
      "SKIP too long 5530 5066\n",
      "SKIP too long 7490 6746\n",
      "SKIP too long 7490 6746\n",
      "SKIP too long 7490 6746\n",
      "SKIP too long 7490 6746\n"
     ]
    },
    {
     "data": {
      "application/vnd.jupyter.widget-view+json": {
       "model_id": "",
       "version_major": 2,
       "version_minor": 0
      },
      "text/plain": [
       "Validation: 0it [00:00, ?it/s]"
      ]
     },
     "metadata": {},
     "output_type": "display_data"
    },
    {
     "name": "stdout",
     "output_type": "stream",
     "text": [
      "SKIP too long 5530 5066\n",
      "SKIP too long 7490 6746\n"
     ]
    },
    {
     "data": {
      "application/vnd.jupyter.widget-view+json": {
       "model_id": "",
       "version_major": 2,
       "version_minor": 0
      },
      "text/plain": [
       "Validation: 0it [00:00, ?it/s]"
      ]
     },
     "metadata": {},
     "output_type": "display_data"
    },
    {
     "name": "stdout",
     "output_type": "stream",
     "text": [
      "SKIP too long 5690 5026\n",
      "SKIP too long 5690 5026\n",
      "SKIP too long 5690 5026\n",
      "SKIP too long 6010 5075\n",
      "SKIP too long 5690 5026\n",
      "SKIP too long 5690 5026\n",
      "SKIP too long 6010 5075\n",
      "SKIP too long 5690 5026\n",
      "SKIP too long 5690 5026\n",
      "SKIP too long 5690 5026\n",
      "SKIP too long 6010 5075\n",
      "SKIP too long 5690 5026\n",
      "SKIP too long 5690 5026\n",
      "SKIP too long 5690 5026\n",
      "SKIP too long 5690 5026\n",
      "SKIP too long 5690 5026\n",
      "SKIP too long 5690 5026\n",
      "SKIP too long 5690 5026\n",
      "SKIP too long 5690 5026\n",
      "SKIP too long 5690 5026\n",
      "SKIP too long 5690 5026\n",
      "SKIP too long 5690 5026\n",
      "SKIP too long 5690 5026\n",
      "SKIP too long 5690 5026\n",
      "SKIP too long 5690 5026\n",
      "SKIP too long 5690 5026\n",
      "SKIP too long 5690 5026\n",
      "SKIP too long 5690 5026\n",
      "SKIP too long 5690 5026\n",
      "SKIP too long 5690 5026\n",
      "SKIP too long 5690 5026\n",
      "SKIP too long 6010 5075\n",
      "SKIP too long 5690 5026\n",
      "SKIP too long 6010 5075\n",
      "SKIP too long 6010 5075\n",
      "SKIP too long 6010 5075\n",
      "SKIP too long 5690 5026\n",
      "SKIP too long 6010 5075\n",
      "SKIP too long 6010 5075\n",
      "SKIP too long 6010 5075\n",
      "SKIP too long 5690 5026\n",
      "SKIP too long 6010 5075\n",
      "SKIP too long 6010 5075\n",
      "SKIP too long 5690 5026\n",
      "SKIP too long 6010 5075\n",
      "SKIP too long 6010 5075\n",
      "SKIP too long 6010 5075\n",
      "SKIP too long 6010 5075\n",
      "SKIP too long 6010 5075\n",
      "SKIP too long 6010 5075\n",
      "SKIP too long 6010 5075\n",
      "SKIP too long 6010 5075\n",
      "SKIP too long 6010 5075\n",
      "SKIP too long 6010 5075\n",
      "SKIP too long  60105075\n",
      "SKIP too long 6010 5075\n",
      "SKIP too long 6010 5075\n",
      "SKIP too long 6010 5075\n",
      "SKIP too long 6010 5075\n",
      "SKIP too long 6010 5075\n"
     ]
    },
    {
     "data": {
      "application/vnd.jupyter.widget-view+json": {
       "model_id": "",
       "version_major": 2,
       "version_minor": 0
      },
      "text/plain": [
       "Validation: 0it [00:00, ?it/s]"
      ]
     },
     "metadata": {},
     "output_type": "display_data"
    },
    {
     "name": "stdout",
     "output_type": "stream",
     "text": [
      "SKIP too long 6010 5075\n",
      "SKIP too long 6010 5075\n",
      "SKIP too long 6010 5075\n",
      "SKIP too long 6010 5075\n"
     ]
    },
    {
     "data": {
      "application/vnd.jupyter.widget-view+json": {
       "model_id": "",
       "version_major": 2,
       "version_minor": 0
      },
      "text/plain": [
       "Validation: 0it [00:00, ?it/s]"
      ]
     },
     "metadata": {},
     "output_type": "display_data"
    },
    {
     "name": "stdout",
     "output_type": "stream",
     "text": [
      "SKIP too long 6450 5743\n",
      "SKIP too long 6450 5743\n",
      "SKIP too long 6450 5743\n",
      "SKIP too long 6450 5743\n",
      "SKIP too long 6450 5743\n",
      "SKIP too long 6450 5743\n",
      "SKIP too long 6450 5743\n",
      "SKIP too long 6450 5743\n",
      "SKIP too long 6450 5743\n",
      "SKIP too long 6450 5743\n",
      "SKIP too long 6450 5743\n",
      "SKIP too long 6450 5743\n",
      "SKIP too long 6450 5743\n",
      "SKIP too long 6450 5743\n",
      "SKIP too long 6450 5743\n",
      "SKIP too long 6450 5743\n",
      "SKIP too long 6450 5743\n",
      "SKIP too long 6450 5743\n",
      "SKIP too long 6450 5743\n",
      "SKIP too long 6450 5743\n",
      "SKIP too long 6450 5743\n",
      "SKIP too long 6450 5743\n",
      "SKIP too long 6450 5743\n",
      "SKIP too long 6450 5743\n",
      "SKIP too long 6450 5743\n",
      "SKIP too long 6450 5743\n",
      "SKIP too long 6450 5743\n",
      "SKIP too long 6450 5743\n",
      "SKIP too long 6450 5743\n",
      "SKIP too long 6450 5743\n",
      "SKIP too long 6450 5743\n",
      "SKIP too long 6450 5743\n"
     ]
    },
    {
     "data": {
      "application/vnd.jupyter.widget-view+json": {
       "model_id": "",
       "version_major": 2,
       "version_minor": 0
      },
      "text/plain": [
       "Validation: 0it [00:00, ?it/s]"
      ]
     },
     "metadata": {},
     "output_type": "display_data"
    }
   ],
   "source": [
    "# %%time\n",
    "from torch.utils.data import DataLoader\n",
    "import pytorch_lightning as pl\n",
    "from pytorch_lightning.loggers import CometLogger\n",
    "#TODO more workers? bigger batch size?\n",
    "train_loader = DataLoader(train_dset, batch_size=64, num_workers=32,\n",
    "                          pin_memory=True, persistent_workers=True)\n",
    "valid_loader = DataLoader(valid_dset, batch_size=64, num_workers=32,\n",
    "                          pin_memory=True, persistent_workers=True)\n",
    "\n",
    "\n",
    "logger = CometLogger(api_key=\"TEVQbgxxvilM1WdTyqZLJ57ac\", project_name='RNAModif')\n",
    "trainer= pl.Trainer(\n",
    "    max_steps = 5000000, logger=logger, accelerator='gpu', #max_epochs=-1,\n",
    "    auto_lr_find=False, val_check_interval=500, #500 \n",
    "    log_every_n_steps=500, benchmark=True, precision=16)#, profiler=\"simple\") #precision 16 remove for PL scheduler bug suppresion (warning only)\n",
    "trainer.fit(model, train_loader, valid_loader)\n",
    "\n"
   ]
  }
 ],
 "metadata": {
  "kernelspec": {
   "display_name": "Python [conda env:RNAmodEnv]",
   "language": "python",
   "name": "conda-env-RNAmodEnv-py"
  },
  "language_info": {
   "codemirror_mode": {
    "name": "ipython",
    "version": 3
   },
   "file_extension": ".py",
   "mimetype": "text/x-python",
   "name": "python",
   "nbconvert_exporter": "python",
   "pygments_lexer": "ipython3",
   "version": "3.8.13"
  }
 },
 "nbformat": 4,
 "nbformat_minor": 5
}
