{
 "cells": [
  {
   "cell_type": "markdown",
   "id": "d6130b85-7368-4d14-bbca-da2d7d689561",
   "metadata": {
    "tags": []
   },
   "source": [
    "# Read lengths exploration"
   ]
  },
  {
   "cell_type": "code",
   "execution_count": 6,
   "id": "555fe14d-9dc6-4741-b800-80de4dfc2394",
   "metadata": {},
   "outputs": [],
   "source": [
    "from datamap import experiment_files, experiments_dict\n",
    "from Fast5Fetch.fast5fetch.fast5data import get_all_fast5s\n",
    "from ont_fast5_api.fast5_interface import get_fast5_file\n",
    "from matplotlib import pyplot as plt\n",
    "\n",
    "def get_read_lengths(exp_list):\n",
    "    exp_lengths = {}\n",
    "    for k in exp_list:\n",
    "        file_lengths = {}\n",
    "        feu_to_index=lambda x: int(x.stem.split('_')[-1])\n",
    "        covid_to_index=lambda x: int(x.stem[5:])\n",
    "        if(k in ['pos_2022','pos_2020','neg_2022','neg_2020']):\n",
    "            index_func = feu_to_index\n",
    "        else:\n",
    "            index_func = covid_to_index\n",
    "        for f in sorted(experiment_files[k], key=index_func):\n",
    "            # print(f.stem)\n",
    "            lengths = []\n",
    "            with get_fast5_file(f, mode='r') as f5:\n",
    "                for i,read in enumerate(f5.get_reads()):\n",
    "                    x = read.get_raw_data(scale=True)\n",
    "                    lengths.append(len(x))\n",
    "            file_lengths[f.stem]=lengths\n",
    "        exp_lengths[k]= file_lengths\n",
    "        print(f'EXP {k} done')\n",
    "    return exp_lengths\n",
    "\n"
   ]
  },
  {
   "cell_type": "code",
   "execution_count": 7,
   "id": "5cbb1852-f67f-4d1e-b396-13120977c4ab",
   "metadata": {},
   "outputs": [],
   "source": [
    "from statistics import mean\n",
    "\n",
    "def plot_avg_lengths(exp_lengths):\n",
    "    #TODO add medians\n",
    "    fig, ax = plt.subplots(figsize=(8,4))\n",
    "    for j, (exp, file_lengths) in enumerate(exp_lengths.items()):\n",
    "        means = []\n",
    "        for i,(k,v) in enumerate(file_lengths.items()):\n",
    "            means.append(int(mean(v)))\n",
    "        ax.plot(means, label=exp)\n",
    "\n",
    "    ax.set_title('READS LENGTHS DIFFERENCES')\n",
    "    ax.set_ylabel('AVG read length')\n",
    "    ax.set_xlabel('Experiment file order (suffix number)')\n",
    "    ax.legend(loc=\"upper left\")\n"
   ]
  },
  {
   "cell_type": "code",
   "execution_count": 8,
   "id": "a27d0b4d-0392-4b5a-9fb8-b4668229c1cc",
   "metadata": {},
   "outputs": [
    {
     "name": "stdout",
     "output_type": "stream",
     "text": [
      "EXP 2-OmeATP_0 done\n",
      "EXP 2-OmeATP_10 done\n"
     ]
    },
    {
     "data": {
      "image/png": "[encoded data removed]",
      "text/plain": [
       "<Figure size 576x288 with 1 Axes>"
      ]
     },
     "metadata": {
      "needs_background": "light"
     },
     "output_type": "display_data"
    }
   ],
   "source": [
    "plot_avg_lengths(get_read_lengths(['2-OmeATP_0','2-OmeATP_10']))"
   ]
  },
  {
   "cell_type": "markdown",
   "id": "8b5df9e8-e60e-474e-a72e-8a71bb8f85dc",
   "metadata": {},
   "source": [
    "# Signal and cutoff exploration"
   ]
  },
  {
   "cell_type": "code",
   "execution_count": 63,
   "id": "64396414-1036-49b1-93e3-eee6b6200890",
   "metadata": {},
   "outputs": [],
   "source": [
    "from scipy import stats\n",
    "import numpy as np\n",
    "from matplotlib import pyplot as plt\n",
    "from itertools import islice\n",
    "from bonito_pulled.bonito.reader import trim\n",
    "from datamap import experiment_files\n",
    "import random\n",
    "from ont_fast5_api.fast5_interface import get_fast5_file\n",
    "from dataloading import my_trim\n",
    "from bonito_pulled.bonito.reader import trim\n",
    "\n",
    "\n",
    "\n",
    "\n",
    "def process_fast5_read(read, window, skip=0, zscore=True, scale=True, smartskip=True, exp_label=None, total_limit=None):\n",
    "    \"\"\" Normalizes and extracts specified region from raw signal \"\"\"\n",
    "    \n",
    "    #zscore normalization matters - computes statistics from the whole sequence\n",
    "    start = 0\n",
    "    end = 1000\n",
    "    cut = False\n",
    "    stand_before_cut = True\n",
    "    if(cut and not stand_before_cut):\n",
    "        s = read.get_raw_data(scale=scale, start=start, end=end)  # Expensive\n",
    "    else:\n",
    "        s = read.get_raw_data(scale=scale)  # Expensive\n",
    "    \n",
    "    if zscore:\n",
    "        s = stats.zscore(s)\n",
    "        \n",
    "        \n",
    "    if(smartskip):\n",
    "        skip, _ = my_trim(signal=s[:26000], window_size=200, threshold=1.9, min_elements=25)\n",
    "        \n",
    "        \n",
    "    if(window):\n",
    "        pos = random.randint(skip, len(s)-window)\n",
    "        print('starting position:',pos)\n",
    "        return s[pos:pos+window].reshape((window, 1))\n",
    "    if(cut):\n",
    "        return s[start:end]\n",
    "    \n",
    "    if(smartskip):\n",
    "        cutoffs[exp_label] = skip\n",
    "        \n",
    "    if(total_limit):\n",
    "        return s[:total_limit], skip\n",
    "    \n",
    "    return s, skip\n",
    "\n",
    "\n",
    "def myite(files, window, index, zscore, scale, smartskip, exp_label, total_limit):\n",
    "    while True:\n",
    "        fast5 = random.choice(files)\n",
    "        # fast5 = files[0] #uncomment for deterministic\n",
    "        with get_fast5_file(fast5, mode='r') as f5:\n",
    "            #Visualization shows index-th read of the file\n",
    "            read = next(islice(f5.get_reads(), index, None))\n",
    "            x, cutoff = process_fast5_read(read, window, zscore=zscore, scale=scale, smartskip=smartskip, exp_label=exp_label, total_limit=total_limit)\n",
    "            # print('R',Path(fast5).stem)\n",
    "            yield x.reshape(-1,1).swapaxes(0,1), cutoff\n",
    "    \n",
    "def plot_classes_all(exp_list, total_limit=None, index=random.randint(0,100)):\n",
    "    zscore=True\n",
    "    scale=True\n",
    "    smartskip = True\n",
    "    \n",
    "    seqs = {}\n",
    "    cutoffs = {}\n",
    "    for exp in exp_list:\n",
    "        \n",
    "        ite = myite(experiment_files[exp], window=None, index=index, zscore=zscore, scale=scale, smartskip=smartskip, exp_label=exp, total_limit=total_limit) # picking from the first 100 reads\n",
    "        sample = next(ite)\n",
    "        seqs[exp] = sample[0][0]\n",
    "        cutoffs[exp] = sample[1]\n",
    "    \n",
    "    fig, axs = plt.subplots(len(exp_list), sharey=True, sharex=True, figsize=(10,len(exp_list)*2.5))\n",
    "    max_x = max([len(seq) for seq in seqs.values()])\n",
    "    \n",
    "    for i,exp in enumerate(exp_list):\n",
    "        axs[i].plot(seqs[exp])\n",
    "        axs[i].hlines(y=[-2,2], xmin=0, xmax=max_x, colors='red')\n",
    "        axs[i].vlines(x=cutoffs[exp], color='purple',ymin=-5, ymax=5)\n",
    "        axs[i].set_title(exp)\n",
    "        \n"
   ]
  },
  {
   "cell_type": "code",
   "execution_count": 64,
   "id": "e0819bf4-78d0-4aea-9556-7420ba9f8052",
   "metadata": {},
   "outputs": [
    {
     "data": {
      "image/png": "[encoded data removed]",
      "text/plain": [
       "<Figure size 720x360 with 2 Axes>"
      ]
     },
     "metadata": {
      "needs_background": "light"
     },
     "output_type": "display_data"
    }
   ],
   "source": [
    "# %%time\n",
    "import time\n",
    "from statistics import mean\n",
    "\n",
    "plot_classes_all(['2-OmeATP_0','2-OmeATP_10'])\n",
    "\n"
   ]
  },
  {
   "cell_type": "markdown",
   "id": "5d838e53-1607-4e63-8eb2-7ed6301f50a5",
   "metadata": {},
   "source": [
    "# Lengths distribution across labels "
   ]
  },
  {
   "cell_type": "code",
   "execution_count": 61,
   "id": "2b6512e5-6de3-4107-99f4-e65d8e674857",
   "metadata": {},
   "outputs": [],
   "source": [
    "from datamap import experiment_files, experiments_dict\n",
    "from Fast5Fetch.fast5fetch.fast5data import get_all_fast5s\n",
    "from ont_fast5_api.fast5_interface import get_fast5_file\n",
    "from matplotlib import pyplot as plt\n",
    "import pickle\n",
    "\n",
    "def precompute_lengths():\n",
    "    exp_lengths = {}\n",
    "    for k in experiment_files.keys():\n",
    "        file_lengths = {}\n",
    "        \n",
    "        #TODO remove sorting or add split for covid data\n",
    "        for f in sorted(experiment_files[k], key=lambda x: int(x.stem.split('_')[-1])):\n",
    "            print(f.stem)\n",
    "            lengths = []\n",
    "            with get_fast5_file(f, mode='r') as f5:\n",
    "                for i,read in enumerate(f5.get_reads()):\n",
    "                    x = read.get_raw_data(scale=True)\n",
    "                    lengths.append(len(x))\n",
    "            file_lengths[f.stem]=lengths\n",
    "        exp_lengths[k]= file_lengths\n",
    "        print(f'EXP {k} done')\n",
    "\n",
    "\n",
    "    with open('saved_lengths.pkl', 'wb') as f:\n",
    "        pickle.dump(exp_lengths, f)\n",
    "        \n",
    "# with open('saved_lengths.pkl', 'rb') as f:\n",
    "    # loaded_dict = pickle.load(f)\n"
   ]
  },
  {
   "cell_type": "code",
   "execution_count": 62,
   "id": "194c6f1a-346f-485d-9a28-a2222880bf27",
   "metadata": {},
   "outputs": [],
   "source": [
    "from statistics import mean\n",
    "import pandas as pd\n",
    "import pickle\n",
    "def get_lengths_df():\n",
    "    data = []\n",
    "    with open('saved_lengths.pkl', 'rb') as f:\n",
    "        loaded_dict = pickle.load(f)\n",
    "        for exp in loaded_dict.keys():\n",
    "            print('#'*10, exp)\n",
    "            subdict = loaded_dict[exp]\n",
    "            for fast5file in subdict.keys():\n",
    "                lengths_list = subdict[fast5file]\n",
    "                for length in lengths_list:\n",
    "                    datapoint = {\n",
    "                        'exp':exp,\n",
    "                        'file':fast5file,\n",
    "                        'len':length,\n",
    "\n",
    "                    }\n",
    "                    data.append(datapoint)\n",
    "                # print(mean(lengths_list))\n",
    "    df = pd.DataFrame(data)\n",
    "    return df\n",
    "\n"
   ]
  },
  {
   "cell_type": "code",
   "execution_count": 66,
   "id": "0fdc2937-0a74-4bf4-83fd-478d3e247097",
   "metadata": {},
   "outputs": [],
   "source": [
    "from matplotlib import pyplot as plt\n",
    "\n",
    "def plot_len_dist(exp_list, df):\n",
    "    fig, axs = plt.subplots(len(exp_list), sharex=True, sharey=True, figsize=(10,len(exp_list)*2.5))\n",
    "    plt.ticklabel_format(useOffset=False,style='plain')\n",
    "    plt.xticks(np.arange(0, 1e7, 5e5))\n",
    "    plt.ticklabel_format(style='sci', axis='x', scilimits=(0,0))\n",
    "    \n",
    "    for i,exp in enumerate(exp_list):\n",
    "        sub_df = df[df['exp']==exp]\n",
    "        lengths = sub_df['len'].values\n",
    "        axs[i].hist(lengths, bins=50, cumulative=False, log=True, density=False)\n",
    "        print(f'{exp} max length',max(lengths))\n"
   ]
  },
  {
   "cell_type": "code",
   "execution_count": 67,
   "id": "db53b0eb-98cc-47b4-a447-0450fa79e208",
   "metadata": {},
   "outputs": [
    {
     "name": "stdout",
     "output_type": "stream",
     "text": [
      "########## pos_2022\n",
      "########## neg_2022\n",
      "########## pos_2020\n",
      "########## neg_2020\n"
     ]
    }
   ],
   "source": [
    "df = get_lengths_df()"
   ]
  },
  {
   "cell_type": "code",
   "execution_count": 68,
   "id": "a4d0fdc3-ca72-4df0-844e-a934ea7624e5",
   "metadata": {},
   "outputs": [
    {
     "name": "stdout",
     "output_type": "stream",
     "text": [
      "pos_2022 max length 7973214\n",
      "neg_2022 max length 10851786\n"
     ]
    },
    {
     "data": {
      "image/png": "[encoded data removed]",
      "text/plain": [
       "<Figure size 720x360 with 2 Axes>"
      ]
     },
     "metadata": {
      "needs_background": "light"
     },
     "output_type": "display_data"
    }
   ],
   "source": [
    "plot_len_dist(['pos_2022','neg_2022'], df)"
   ]
  },
  {
   "cell_type": "code",
   "execution_count": 69,
   "id": "88827e00-0c5d-4779-82b4-5e5a08008a3a",
   "metadata": {},
   "outputs": [
    {
     "name": "stdout",
     "output_type": "stream",
     "text": [
      "pos_2020 max length 4565427\n",
      "neg_2020 max length 3541231\n"
     ]
    },
    {
     "data": {
      "image/png": "[encoded data removed]",
      "text/plain": [
       "<Figure size 720x360 with 2 Axes>"
      ]
     },
     "metadata": {
      "needs_background": "light"
     },
     "output_type": "display_data"
    }
   ],
   "source": [
    "plot_len_dist(['pos_2020','neg_2020'], df)"
   ]
  },
  {
   "cell_type": "markdown",
   "id": "af3445a8-be32-407a-9dc1-cae6e36be2e8",
   "metadata": {},
   "source": [
    "# Predicting labels based on length"
   ]
  },
  {
   "cell_type": "code",
   "execution_count": 31,
   "id": "ccf6db8f-3ecd-4feb-9d0e-6b302ea10d8e",
   "metadata": {},
   "outputs": [],
   "source": [
    "import optuna\n",
    "\n",
    "optuna.logging.set_verbosity(optuna.logging.WARNING)\n",
    "\n",
    "def objective_factory(exp1, exp2, aggregate_files=False):\n",
    "    def objective(trial):\n",
    "        threshold = trial.suggest_int('x', 0, 1000000)\n",
    "        pos_sub = df[df['exp'].isin([exp1])]\n",
    "        neg_sub = df[df['exp'].isin([exp2])]\n",
    "        \n",
    "        if(aggregate_files):\n",
    "            pos_lengths = pos_sub.groupby('file').agg('mean')['len'].values\n",
    "            neg_lengths = neg_sub.groupby('file').agg('mean')['len'].values\n",
    "        else:\n",
    "            pos_lengths = pos_sub['len'].values\n",
    "            neg_lengths = neg_sub['len'].values\n",
    "            \n",
    "        pos_perc = sum(pos_lengths < threshold)/len(pos_lengths)\n",
    "        neg_perc = sum(neg_lengths > threshold)/len(neg_lengths)\n",
    "        return (pos_perc+neg_perc)/2\n",
    "    return objective\n",
    "\n",
    "def run_threshold(exp1, exp2, trials=250, agg_files=False):\n",
    "    study = optuna.create_study(direction='maximize')\n",
    "    study.optimize(objective_factory(exp1, exp2, agg_files), n_trials=trials)\n",
    "\n",
    "    trial = study.best_trial\n",
    "    # print(\"  Value: \", trial.value)\n",
    "    # print(\"  Params: \")\n",
    "    # for key, value in trial.params.items():\n",
    "    #     print(\"    {}: {}\".format(key, value))\n",
    "    return trial.value"
   ]
  },
  {
   "cell_type": "code",
   "execution_count": 36,
   "id": "3d79a69d-952a-4962-be6a-13bbb904b798",
   "metadata": {},
   "outputs": [],
   "source": [
    "import itertools\n",
    "from datamap import experiment_files\n",
    "\n",
    "def get_length_based_acc(agg_files):\n",
    "    experiments = experiment_files.keys()\n",
    "    combs = list(itertools.combinations(experiments, 2))\n",
    "    results = []\n",
    "    for exp1, exp2 in combs:\n",
    "        acc = run_threshold(exp1, exp2, agg_files=agg_files)\n",
    "        results.append([exp1, exp2, acc])\n",
    "    return results"
   ]
  },
  {
   "cell_type": "code",
   "execution_count": 38,
   "id": "c99563d0-061c-4e06-b2fd-86a0672eaa52",
   "metadata": {},
   "outputs": [
    {
     "name": "stdout",
     "output_type": "stream",
     "text": [
      "  Value:  0.5631598394259446\n",
      "  Params: \n",
      "    x: 40721\n",
      "  Value:  0.5096248272114465\n",
      "  Params: \n",
      "    x: 40880\n",
      "  Value:  0.5515924234662197\n",
      "  Params: \n",
      "    x: 38899\n",
      "  Value:  0.500006934887959\n",
      "  Params: \n",
      "    x: 986425\n",
      "  Value:  0.5007653955554808\n",
      "  Params: \n",
      "    x: 15260\n",
      "  Value:  0.5425644746227534\n",
      "  Params: \n",
      "    x: 36325\n"
     ]
    }
   ],
   "source": [
    "readwise_results = get_length_based_acc(agg_files=False)"
   ]
  },
  {
   "cell_type": "code",
   "execution_count": 39,
   "id": "392b4d86-47d8-44d4-8201-2818ae282fc9",
   "metadata": {},
   "outputs": [
    {
     "name": "stdout",
     "output_type": "stream",
     "text": [
      "  Value:  0.9861013986013987\n",
      "  Params: \n",
      "    x: 43643\n",
      "  Value:  0.5127272727272727\n",
      "  Params: \n",
      "    x: 42470\n",
      "  Value:  0.5\n",
      "  Params: \n",
      "    x: 555828\n",
      "  Value:  0.5\n",
      "  Params: \n",
      "    x: 917213\n",
      "  Value:  0.5\n",
      "  Params: \n",
      "    x: 835646\n",
      "  Value:  0.9769622331691297\n",
      "  Params: \n",
      "    x: 43173\n"
     ]
    }
   ],
   "source": [
    "filewise_results = get_length_based_acc(agg_files=True)"
   ]
  },
  {
   "cell_type": "code",
   "execution_count": 44,
   "id": "9273c69a-a0a0-4c0b-a42e-1d4e827a80af",
   "metadata": {},
   "outputs": [
    {
     "data": {
      "text/plain": [
       "[['pos_2022', 'neg_2022', 0.5631598394259446],\n",
       " ['pos_2022', 'pos_2020', 0.5096248272114465],\n",
       " ['pos_2022', 'neg_2020', 0.5515924234662197],\n",
       " ['neg_2022', 'pos_2020', 0.500006934887959],\n",
       " ['neg_2022', 'neg_2020', 0.5007653955554808],\n",
       " ['pos_2020', 'neg_2020', 0.5425644746227534]]"
      ]
     },
     "execution_count": 44,
     "metadata": {},
     "output_type": "execute_result"
    }
   ],
   "source": [
    "readwise_results"
   ]
  },
  {
   "cell_type": "code",
   "execution_count": 45,
   "id": "fcc9bce0-c680-42a4-a055-b0405c4bc7bd",
   "metadata": {},
   "outputs": [
    {
     "data": {
      "text/plain": [
       "[['pos_2022', 'neg_2022', 0.9861013986013987],\n",
       " ['pos_2022', 'pos_2020', 0.5127272727272727],\n",
       " ['pos_2022', 'neg_2020', 0.5],\n",
       " ['neg_2022', 'pos_2020', 0.5],\n",
       " ['neg_2022', 'neg_2020', 0.5],\n",
       " ['pos_2020', 'neg_2020', 0.9769622331691297]]"
      ]
     },
     "execution_count": 45,
     "metadata": {},
     "output_type": "execute_result"
    }
   ],
   "source": [
    "filewise_results"
   ]
  },
  {
   "cell_type": "markdown",
   "id": "a0633137-6961-436f-b618-dfe7b2035e27",
   "metadata": {
    "jp-MarkdownHeadingCollapsed": true,
    "tags": []
   },
   "source": [
    "# Testing heterogenity of batches (OLD)"
   ]
  },
  {
   "cell_type": "code",
   "execution_count": 7,
   "id": "c705be1d-48d6-4cca-9e31-9678f8214b79",
   "metadata": {},
   "outputs": [
    {
     "name": "stdout",
     "output_type": "stream",
     "text": [
      "valid files indicies\n",
      "[15, 46, 109, 112, 138, 145, 162, 200, 210, 224]\n",
      "[74, 79, 111, 144, 184, 251, 295, 316, 473, 497]\n"
     ]
    },
    {
     "data": {
      "text/plain": [
       "<torch.utils.data.dataloader.DataLoader at 0x7fb103cde4f0>"
      ]
     },
     "execution_count": 7,
     "metadata": {},
     "output_type": "execute_result"
    }
   ],
   "source": [
    "from torch.utils.data import DataLoader\n",
    "\n",
    "from dataloading import get_demo_dataset, get_my_dataset\n",
    "train_dset, valid_dset = get_my_dataset(valid_limit=10, valid_files_count=10, window=1000)\n",
    "# train_loader = DataLoader(train_dset, batch_size=64)\n",
    "\n",
    "train_loader = DataLoader(train_dset, batch_size=64, num_workers=32,\n",
    "                          pin_memory=True, persistent_workers=True)\n",
    "# valid_loader = DataLoader(valid_dset, batch_size=64, num_workers=32,\n",
    "#                           pin_memory=True, persistent_workers=True)\n",
    "\n",
    "train_loader"
   ]
  },
  {
   "cell_type": "code",
   "execution_count": null,
   "id": "155d2b6d-4694-42ee-b93a-c666128e09c4",
   "metadata": {},
   "outputs": [],
   "source": [
    "#TODO try to evaluate only on samples where threshold <0.1 or >0.9 -> compute accuracy on confident samples only, rest undecided "
   ]
  },
  {
   "cell_type": "code",
   "execution_count": 8,
   "id": "0b23d706-eb40-4cf1-a70b-a355e6c418c1",
   "metadata": {},
   "outputs": [
    {
     "name": "stdout",
     "output_type": "stream",
     "text": [
      "SKIP too longSKIP too long  SKIP too long76907690  SKIP too long SKIP too long76906845 6845SKIP too longSKIP too long \n",
      "SKIP too long7690SKIP too long\n",
      "  SKIP too long   SKIP too long 6845SKIP too longSKIP too long76907690 7690 6845 7690SKIP too long7690 SKIP too long \n",
      "SKIP too long6845SKIP too long SKIP too longSKIP too long  7690\n",
      "7690\n",
      "   7690    76907690 769068457690 684576907690 6845 6845  \n",
      "  6845\n",
      " 6845\n",
      "SKIP too long\n",
      "6845684568457690SKIP too long684568456845\n",
      "\n",
      "\n",
      "6845 \n",
      "\n",
      "  \n",
      "\n",
      "SKIP too long\n",
      "7690\n",
      "SKIP too long  7690769076906845    \n",
      "684568456845\n",
      "6845\n",
      "\n",
      "\n",
      "SKIP too long 7690 6845\n",
      "SKIP too long 7690 6845\n",
      "SKIP too long 7690 6845\n",
      "SKIP too long 7690 6845\n",
      "SKIP too long 7690 6845\n",
      "SKIP too long 7690 6845\n",
      "SKIP too long 7690 6845\n",
      "SKIP too long 7690 6845\n",
      "SKIP too long 7690 6845\n"
     ]
    }
   ],
   "source": [
    "loader_iterator = iter(train_loader)\n",
    "# loader_valid_iterator = iter(valid_loader)\n",
    "#TODO try also validation set"
   ]
  },
  {
   "cell_type": "code",
   "execution_count": 9,
   "id": "7f293ad1-d270-4b8b-bd30-481ce661c303",
   "metadata": {},
   "outputs": [],
   "source": [
    "x, y = next(loader_iterator)"
   ]
  },
  {
   "cell_type": "code",
   "execution_count": 10,
   "id": "15c819bd-fbe8-4461-8798-673cb84529fd",
   "metadata": {},
   "outputs": [
    {
     "data": {
      "text/plain": [
       "array([34, 30])"
      ]
     },
     "execution_count": 10,
     "metadata": {},
     "output_type": "execute_result"
    }
   ],
   "source": [
    "import numpy as np\n",
    "unique, counts = np.unique(y.numpy().flatten(), return_counts=True)\n",
    "counts\n"
   ]
  },
  {
   "cell_type": "code",
   "execution_count": 11,
   "id": "5215dca6-561a-45a8-bdab-fc0cfcc480fb",
   "metadata": {},
   "outputs": [
    {
     "data": {
      "text/plain": [
       "array([-1.3734828 , -1.3412325 , -1.3369563 , -1.3153783 , -1.2155182 ,\n",
       "       -1.0326864 , -0.93167347, -0.90613925, -0.82039803, -0.8193726 ,\n",
       "       -0.75711274, -0.7520199 , -0.7076745 , -0.70751935, -0.6592823 ,\n",
       "       -0.6256715 , -0.60970014, -0.56676483, -0.5325577 , -0.49009112,\n",
       "       -0.42002878, -0.41326377, -0.4017004 , -0.31449443, -0.292732  ,\n",
       "       -0.275979  , -0.26612425, -0.26508838, -0.24041115, -0.21250728,\n",
       "       -0.20471323, -0.16119187, -0.1474503 , -0.11934522, -0.0610728 ,\n",
       "       -0.05974193,  0.03523112,  0.05251919,  0.07996623,  0.2541798 ,\n",
       "        0.3647546 ,  0.3786981 ,  0.4878905 ,  0.6803979 ,  0.771999  ,\n",
       "        0.82099795,  0.87715524,  0.88317287,  0.89286023,  0.99338144,\n",
       "        1.0311135 ,  1.0450617 ,  1.0596194 ,  1.1122091 ,  1.1556405 ,\n",
       "        1.220845  ,  1.2444533 ,  1.2780894 ,  1.2796129 ,  1.3070749 ,\n",
       "        1.4022031 ,  1.6382208 ,  1.6821312 ,  1.7387931 ], dtype=float32)"
      ]
     },
     "execution_count": 11,
     "metadata": {},
     "output_type": "execute_result"
    }
   ],
   "source": [
    "unique, counts = np.unique(x.numpy()[:,:,0].flatten(), return_counts=True)\n",
    "assert(len(counts)) == 64\n",
    "unique"
   ]
  },
  {
   "cell_type": "code",
   "execution_count": 12,
   "id": "e6cccc3a-9433-426b-b449-3585b64ccce1",
   "metadata": {},
   "outputs": [
    {
     "name": "stdout",
     "output_type": "stream",
     "text": [
      "1.0216917933529652\n"
     ]
    }
   ],
   "source": [
    "iterations = 100\n",
    "loader_iterator = iter(train_loader)\n",
    "ratios = []\n",
    "for i in range(iterations):\n",
    "    x, y = next(loader_iterator)\n",
    "    unique, counts = np.unique(y.numpy().flatten(), return_counts=True)\n",
    "    ratio = counts[0]/counts[1]\n",
    "    ratios.append(ratio)\n",
    "\n",
    "#ratio should be 1, oterwise one label is overrepresented\n",
    "print(sum(ratios)/len(ratios))"
   ]
  },
  {
   "cell_type": "code",
   "execution_count": 55,
   "id": "dea05680-0cf7-4bbd-a26b-bee671f17089",
   "metadata": {},
   "outputs": [
    {
     "data": {
      "text/plain": [
       "[0, 1, 0, 1, 0, 1, 0, 1, 0, 1]"
      ]
     },
     "execution_count": 55,
     "metadata": {},
     "output_type": "execute_result"
    }
   ],
   "source": [
    "def gen():\n",
    "    while True:\n",
    "        thresh = random.random()\n",
    "        if(thresh > 0.5):\n",
    "            yield 0\n",
    "        yield 1\n",
    "        # else:\n",
    "            # yield 1\n",
    "\n",
    "it = gen(0.8)\n",
    "\n",
    "generated_data = []\n",
    "for _ in range(10):\n",
    "    generated_data.append(next(it))\n",
    "generated_data"
   ]
  }
 ],
 "metadata": {
  "kernelspec": {
   "display_name": "Python [conda env:RNAmodEnv]",
   "language": "python",
   "name": "conda-env-RNAmodEnv-py"
  },
  "language_info": {
   "codemirror_mode": {
    "name": "ipython",
    "version": 3
   },
   "file_extension": ".py",
   "mimetype": "text/x-python",
   "name": "python",
   "nbconvert_exporter": "python",
   "pygments_lexer": "ipython3",
   "version": "3.8.13"
  }
 },
 "nbformat": 4,
 "nbformat_minor": 5
}
