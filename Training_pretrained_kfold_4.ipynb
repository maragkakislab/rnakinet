{
 "cells": [
  {
   "cell_type": "code",
   "execution_count": null,
   "id": "767743c7-4f1c-4ba9-8d8b-5a81f14d9754",
   "metadata": {},
   "outputs": [
    {
     "name": "stderr",
     "output_type": "stream",
     "text": [
      "/home/jovyan/my-conda-envs/RNAmodEnv/lib/python3.8/site-packages/torchvision/io/image.py:13: UserWarning: Failed to load image Python extension: /home/jovyan/my-conda-envs/RNAmodEnv/lib/python3.8/site-packages/torchvision/image.so: undefined symbol: _ZN3c106detail19maybe_wrap_dim_slowEllb\n",
      "  warn(f\"Failed to load image Python extension: {e}\")\n"
     ]
    },
    {
     "name": "stdout",
     "output_type": "stream",
     "text": [
      "CURRENT FOLD 4/5\n",
      "valid files indicies\n",
      "[1, 11, 12, 13, 15, 16, 20, 23, 24, 26, 31, 39, 40, 44, 47, 52, 55, 57, 67, 71, 75, 86, 87, 88, 91, 96, 97, 101, 108, 111, 112, 114, 117, 119, 125, 137, 140, 141, 150, 154, 178, 186, 194, 195, 206, 207, 214, 216, 222, 229, 248, 253, 258, 266, 269]\n",
      "[1, 4, 15, 20, 25, 29, 30, 31, 34, 35, 37, 41, 51, 61, 67, 79, 80, 84, 95, 97, 104, 109, 111, 120, 122, 126, 133, 135, 146, 151, 153, 160, 161, 170, 194, 199, 202, 205, 206, 214, 216, 218, 232, 234, 242, 244, 249, 257, 259, 260, 267, 271, 275, 277, 284, 288, 289, 291, 296, 298, 299, 304, 317, 318, 330, 336, 338, 342, 343, 345, 356, 366, 367, 374, 376, 382, 384, 401, 416, 426, 429, 435, 436, 441, 442, 461, 462, 464, 465, 470, 474, 476, 477, 482, 483, 490, 492, 497, 499, 500, 502, 510, 517, 519]\n",
      "train files indicies\n",
      "[0, 2, 3, 4, 5, 6, 7, 8, 9, 10, 14, 17, 18, 19, 21, 22, 25, 27, 28, 29, 30, 32, 33, 34, 35, 36, 37, 38, 41, 42, 43, 45, 46, 48, 49, 50, 51, 53, 54, 56, 58, 59, 60, 61, 62, 63, 64, 65, 66, 68, 69, 70, 72, 73, 74, 76, 77, 78, 79, 80, 81, 82, 83, 84, 85, 89, 90, 92, 93, 94, 95, 98, 99, 100, 102, 103, 104, 105, 106, 107, 109, 110, 113, 115, 116, 118, 120, 121, 122, 123, 124, 126, 127, 128, 129, 130, 131, 132, 133, 134, 135, 136, 138, 139, 142, 143, 144, 145, 146, 147, 148, 149, 151, 152, 153, 155, 156, 157, 158, 159, 160, 161, 162, 163, 164, 165, 166, 167, 168, 169, 170, 171, 172, 173, 174, 175, 176, 177, 179, 180, 181, 182, 183, 184, 185, 187, 188, 189, 190, 191, 192, 193, 196, 197, 198, 199, 200, 201, 202, 203, 204, 205, 208, 209, 210, 211, 212, 213, 215, 217, 218, 219, 220, 221, 223, 224, 225, 226, 227, 228, 230, 231, 232, 233, 234, 235, 236, 237, 238, 239, 240, 241, 242, 243, 244, 245, 246, 247, 249, 250, 251, 252, 254, 255, 256, 257, 259, 260, 261, 262, 263, 264, 265, 267, 268, 270, 271, 272, 273, 274]\n",
      "[0, 2, 3, 5, 6, 7, 8, 9, 10, 11, 12, 13, 14, 16, 17, 18, 19, 21, 22, 23, 24, 26, 27, 28, 32, 33, 36, 38, 39, 40, 42, 43, 44, 45, 46, 47, 48, 49, 50, 52, 53, 54, 55, 56, 57, 58, 59, 60, 62, 63, 64, 65, 66, 68, 69, 70, 71, 72, 73, 74, 75, 76, 77, 78, 81, 82, 83, 85, 86, 87, 88, 89, 90, 91, 92, 93, 94, 96, 98, 99, 100, 101, 102, 103, 105, 106, 107, 108, 110, 112, 113, 114, 115, 116, 117, 118, 119, 121, 123, 124, 125, 127, 128, 129, 130, 131, 132, 134, 136, 137, 138, 139, 140, 141, 142, 143, 144, 145, 147, 148, 149, 150, 152, 154, 155, 156, 157, 158, 159, 162, 163, 164, 165, 166, 167, 168, 169, 171, 172, 173, 174, 175, 176, 177, 178, 179, 180, 181, 182, 183, 184, 185, 186, 187, 188, 189, 190, 191, 192, 193, 195, 196, 197, 198, 200, 201, 203, 204, 207, 208, 209, 210, 211, 212, 213, 215, 217, 219, 220, 221, 222, 223, 224, 225, 226, 227, 228, 229, 230, 231, 233, 235, 236, 237, 238, 239, 240, 241, 243, 245, 246, 247, 248, 250, 251, 252, 253, 254, 255, 256, 258, 261, 262, 263, 264, 265, 266, 268, 269, 270, 272, 273, 274, 276, 278, 279, 280, 281, 282, 283, 285, 286, 287, 290, 292, 293, 294, 295, 297, 300, 301, 302, 303, 305, 306, 307, 308, 309, 310, 311, 312, 313, 314, 315, 316, 319, 320, 321, 322, 323, 324, 325, 326, 327, 328, 329, 331, 332, 333, 334, 335, 337, 339, 340, 341, 344, 346, 347, 348, 349, 350, 351, 352, 353, 354, 355, 357, 358, 359, 360, 361, 362, 363, 364, 365, 368, 369, 370, 371, 372, 373, 375, 377, 378, 379, 380, 381, 383, 385, 386, 387, 388, 389, 390, 391, 392, 393, 394, 395, 396, 397, 398, 399, 400, 402, 403, 404, 405, 406, 407, 408, 409, 410, 411, 412, 413, 414, 415, 417, 418, 419, 420, 421, 422, 423, 424, 425, 427, 428, 430, 431, 432, 433, 434, 437, 438, 439, 440, 443, 444, 445, 446, 447, 448, 449, 450, 451, 452, 453, 454, 455, 456, 457, 458, 459, 460, 463, 466, 467, 468, 469, 471, 472, 473, 475, 478, 479, 480, 481, 484, 485, 486, 487, 488, 489, 491, 493, 494, 495, 496, 498, 501, 503, 504, 505, 506, 507, 508, 509, 511, 512, 513, 514, 515, 516, 518]\n"
     ]
    },
    {
     "name": "stderr",
     "output_type": "stream",
     "text": [
      "CometLogger will be initialized in online mode\n",
      "Using 16bit native Automatic Mixed Precision (AMP)\n",
      "GPU available: True (cuda), used: True\n",
      "TPU available: False, using: 0 TPU cores\n",
      "IPU available: False, using: 0 IPUs\n",
      "HPU available: False, using: 0 HPUs\n",
      "LOCAL_RANK: 0 - CUDA_VISIBLE_DEVICES: [0]\n",
      "\n",
      "  | Name  | Type       | Params\n",
      "-------------------------------------\n",
      "0 | model | Sequential | 523 K \n",
      "1 | acc   | Accuracy   | 0     \n",
      "-------------------------------------\n",
      "521 K     Trainable params\n",
      "1.9 K     Non-trainable params\n",
      "523 K     Total params\n",
      "1.046     Total estimated model params size (MB)\n"
     ]
    },
    {
     "data": {
      "application/vnd.jupyter.widget-view+json": {
       "model_id": "",
       "version_major": 2,
       "version_minor": 0
      },
      "text/plain": [
       "Sanity Checking: 0it [00:00, ?it/s]"
      ]
     },
     "metadata": {},
     "output_type": "display_data"
    },
    {
     "data": {
      "application/vnd.jupyter.widget-view+json": {
       "model_id": "1379b017ae9f40308966c746fa4086f0",
       "version_major": 2,
       "version_minor": 0
      },
      "text/plain": [
       "Training: 0it [00:00, ?it/s]"
      ]
     },
     "metadata": {},
     "output_type": "display_data"
    },
    {
     "name": "stderr",
     "output_type": "stream",
     "text": [
      "/home/jovyan/my-conda-envs/RNAmodEnv/lib/python3.8/site-packages/torch/optim/lr_scheduler.py:131: UserWarning: Detected call of `lr_scheduler.step()` before `optimizer.step()`. In PyTorch 1.1.0 and later, you should call them in the opposite order: `optimizer.step()` before `lr_scheduler.step()`.  Failure to do this will result in PyTorch skipping the first value of the learning rate schedule. See more details at https://pytorch.org/docs/stable/optim.html#how-to-adjust-learning-rate\n",
      "  warnings.warn(\"Detected call of `lr_scheduler.step()` before `optimizer.step()`. \"\n"
     ]
    }
   ],
   "source": [
    "from kfold_run import run_kfold\n",
    "\n",
    "total_k = 5\n",
    "current_k = 4\n",
    "run_kfold(total_k=total_k, current_k=current_k)"
   ]
  }
 ],
 "metadata": {
  "kernelspec": {
   "display_name": "Python [conda env:RNAmodEnv]",
   "language": "python",
   "name": "conda-env-RNAmodEnv-py"
  },
  "language_info": {
   "codemirror_mode": {
    "name": "ipython",
    "version": 3
   },
   "file_extension": ".py",
   "mimetype": "text/x-python",
   "name": "python",
   "nbconvert_exporter": "python",
   "pygments_lexer": "ipython3",
   "version": "3.8.13"
  }
 },
 "nbformat": 4,
 "nbformat_minor": 5
}
