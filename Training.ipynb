{
 "cells": [
  {
   "cell_type": "code",
   "execution_count": 5,
   "id": "126eef1e-ce61-4853-97d5-f59403bbea98",
   "metadata": {},
   "outputs": [],
   "source": [
    "from cnn_model import CNN\n",
    "model = CNN(1e-5)"
   ]
  },
  {
   "cell_type": "code",
   "execution_count": 6,
   "id": "767743c7-4f1c-4ba9-8d8b-5a81f14d9754",
   "metadata": {},
   "outputs": [],
   "source": [
    "from dataloading import get_demo_dataset, get_my_dataset\n",
    "import multiprocessing\n",
    "\n",
    "# train_dset, valid_dset = get_demo_dataset(valid_limit=1000)\n",
    "train_dset, valid_dset = get_my_dataset()"
   ]
  },
  {
   "cell_type": "code",
   "execution_count": 7,
   "id": "ff0a2bc8-5006-4397-8a59-1dd70975a15a",
   "metadata": {},
   "outputs": [
    {
     "name": "stderr",
     "output_type": "stream",
     "text": [
      "CometLogger will be initialized in online mode\n",
      "GPU available: True (cuda), used: True\n",
      "TPU available: False, using: 0 TPU cores\n",
      "IPU available: False, using: 0 IPUs\n",
      "HPU available: False, using: 0 HPUs\n",
      "LOCAL_RANK: 0 - CUDA_VISIBLE_DEVICES: [0]\n",
      "\n",
      "  | Name | Type       | Params\n",
      "------------------------------------\n",
      "0 | net  | Sequential | 617 K \n",
      "1 | acc  | Accuracy   | 0     \n",
      "------------------------------------\n",
      "617 K     Trainable params\n",
      "0         Non-trainable params\n",
      "617 K     Total params\n",
      "2.470     Total estimated model params size (MB)\n"
     ]
    },
    {
     "name": "stdout",
     "output_type": "stream",
     "text": [
      "LEARNING RATE: 1e-05\n"
     ]
    },
    {
     "data": {
      "application/vnd.jupyter.widget-view+json": {
       "model_id": "",
       "version_major": 2,
       "version_minor": 0
      },
      "text/plain": [
       "Sanity Checking: 0it [00:00, ?it/s]"
      ]
     },
     "metadata": {},
     "output_type": "display_data"
    },
    {
     "data": {
      "application/vnd.jupyter.widget-view+json": {
       "model_id": "13928adaba4a475fa628fea0495d14e9",
       "version_major": 2,
       "version_minor": 0
      },
      "text/plain": [
       "Training: 0it [00:00, ?it/s]"
      ]
     },
     "metadata": {},
     "output_type": "display_data"
    },
    {
     "name": "stderr",
     "output_type": "stream",
     "text": [
      "COMET WARNING: Comet has disabled auto-logging functionality as it has been imported after the following ML modules: torch. Metrics and hyperparameters can still be logged using comet_ml.log_metrics() and comet_ml.log_parameters()\n",
      "COMET WARNING: As you are running in a Jupyter environment, you will need to call `experiment.end()` when finished to ensure all metrics and code are logged before exiting.\n",
      "COMET INFO: Couldn't find a Git repository in '/home/jovyan/RNAModif' nor in any parent directory. You can override where Comet is looking for a Git Patch by setting the configuration `COMET_GIT_DIRECTORY`\n",
      "COMET INFO: Experiment is live on comet.ml https://www.comet.com/vlasta/rnamodif/86e5b3ad602f45a5b838ca3ecc09ddd9\n",
      "\n"
     ]
    },
    {
     "data": {
      "application/vnd.jupyter.widget-view+json": {
       "model_id": "",
       "version_major": 2,
       "version_minor": 0
      },
      "text/plain": [
       "Validation: 0it [00:00, ?it/s]"
      ]
     },
     "metadata": {},
     "output_type": "display_data"
    },
    {
     "data": {
      "application/vnd.jupyter.widget-view+json": {
       "model_id": "",
       "version_major": 2,
       "version_minor": 0
      },
      "text/plain": [
       "Validation: 0it [00:00, ?it/s]"
      ]
     },
     "metadata": {},
     "output_type": "display_data"
    },
    {
     "data": {
      "application/vnd.jupyter.widget-view+json": {
       "model_id": "",
       "version_major": 2,
       "version_minor": 0
      },
      "text/plain": [
       "Validation: 0it [00:00, ?it/s]"
      ]
     },
     "metadata": {},
     "output_type": "display_data"
    },
    {
     "data": {
      "application/vnd.jupyter.widget-view+json": {
       "model_id": "",
       "version_major": 2,
       "version_minor": 0
      },
      "text/plain": [
       "Validation: 0it [00:00, ?it/s]"
      ]
     },
     "metadata": {},
     "output_type": "display_data"
    },
    {
     "data": {
      "application/vnd.jupyter.widget-view+json": {
       "model_id": "",
       "version_major": 2,
       "version_minor": 0
      },
      "text/plain": [
       "Validation: 0it [00:00, ?it/s]"
      ]
     },
     "metadata": {},
     "output_type": "display_data"
    },
    {
     "data": {
      "application/vnd.jupyter.widget-view+json": {
       "model_id": "",
       "version_major": 2,
       "version_minor": 0
      },
      "text/plain": [
       "Validation: 0it [00:00, ?it/s]"
      ]
     },
     "metadata": {},
     "output_type": "display_data"
    },
    {
     "data": {
      "application/vnd.jupyter.widget-view+json": {
       "model_id": "",
       "version_major": 2,
       "version_minor": 0
      },
      "text/plain": [
       "Validation: 0it [00:00, ?it/s]"
      ]
     },
     "metadata": {},
     "output_type": "display_data"
    },
    {
     "data": {
      "application/vnd.jupyter.widget-view+json": {
       "model_id": "",
       "version_major": 2,
       "version_minor": 0
      },
      "text/plain": [
       "Validation: 0it [00:00, ?it/s]"
      ]
     },
     "metadata": {},
     "output_type": "display_data"
    },
    {
     "data": {
      "application/vnd.jupyter.widget-view+json": {
       "model_id": "",
       "version_major": 2,
       "version_minor": 0
      },
      "text/plain": [
       "Validation: 0it [00:00, ?it/s]"
      ]
     },
     "metadata": {},
     "output_type": "display_data"
    },
    {
     "data": {
      "application/vnd.jupyter.widget-view+json": {
       "model_id": "",
       "version_major": 2,
       "version_minor": 0
      },
      "text/plain": [
       "Validation: 0it [00:00, ?it/s]"
      ]
     },
     "metadata": {},
     "output_type": "display_data"
    },
    {
     "data": {
      "application/vnd.jupyter.widget-view+json": {
       "model_id": "",
       "version_major": 2,
       "version_minor": 0
      },
      "text/plain": [
       "Validation: 0it [00:00, ?it/s]"
      ]
     },
     "metadata": {},
     "output_type": "display_data"
    },
    {
     "data": {
      "application/vnd.jupyter.widget-view+json": {
       "model_id": "",
       "version_major": 2,
       "version_minor": 0
      },
      "text/plain": [
       "Validation: 0it [00:00, ?it/s]"
      ]
     },
     "metadata": {},
     "output_type": "display_data"
    },
    {
     "data": {
      "application/vnd.jupyter.widget-view+json": {
       "model_id": "",
       "version_major": 2,
       "version_minor": 0
      },
      "text/plain": [
       "Validation: 0it [00:00, ?it/s]"
      ]
     },
     "metadata": {},
     "output_type": "display_data"
    },
    {
     "data": {
      "application/vnd.jupyter.widget-view+json": {
       "model_id": "",
       "version_major": 2,
       "version_minor": 0
      },
      "text/plain": [
       "Validation: 0it [00:00, ?it/s]"
      ]
     },
     "metadata": {},
     "output_type": "display_data"
    },
    {
     "data": {
      "application/vnd.jupyter.widget-view+json": {
       "model_id": "",
       "version_major": 2,
       "version_minor": 0
      },
      "text/plain": [
       "Validation: 0it [00:00, ?it/s]"
      ]
     },
     "metadata": {},
     "output_type": "display_data"
    },
    {
     "data": {
      "application/vnd.jupyter.widget-view+json": {
       "model_id": "",
       "version_major": 2,
       "version_minor": 0
      },
      "text/plain": [
       "Validation: 0it [00:00, ?it/s]"
      ]
     },
     "metadata": {},
     "output_type": "display_data"
    },
    {
     "data": {
      "application/vnd.jupyter.widget-view+json": {
       "model_id": "",
       "version_major": 2,
       "version_minor": 0
      },
      "text/plain": [
       "Validation: 0it [00:00, ?it/s]"
      ]
     },
     "metadata": {},
     "output_type": "display_data"
    },
    {
     "data": {
      "application/vnd.jupyter.widget-view+json": {
       "model_id": "",
       "version_major": 2,
       "version_minor": 0
      },
      "text/plain": [
       "Validation: 0it [00:00, ?it/s]"
      ]
     },
     "metadata": {},
     "output_type": "display_data"
    },
    {
     "data": {
      "application/vnd.jupyter.widget-view+json": {
       "model_id": "",
       "version_major": 2,
       "version_minor": 0
      },
      "text/plain": [
       "Validation: 0it [00:00, ?it/s]"
      ]
     },
     "metadata": {},
     "output_type": "display_data"
    },
    {
     "data": {
      "application/vnd.jupyter.widget-view+json": {
       "model_id": "",
       "version_major": 2,
       "version_minor": 0
      },
      "text/plain": [
       "Validation: 0it [00:00, ?it/s]"
      ]
     },
     "metadata": {},
     "output_type": "display_data"
    },
    {
     "data": {
      "application/vnd.jupyter.widget-view+json": {
       "model_id": "",
       "version_major": 2,
       "version_minor": 0
      },
      "text/plain": [
       "Validation: 0it [00:00, ?it/s]"
      ]
     },
     "metadata": {},
     "output_type": "display_data"
    },
    {
     "data": {
      "application/vnd.jupyter.widget-view+json": {
       "model_id": "",
       "version_major": 2,
       "version_minor": 0
      },
      "text/plain": [
       "Validation: 0it [00:00, ?it/s]"
      ]
     },
     "metadata": {},
     "output_type": "display_data"
    },
    {
     "data": {
      "application/vnd.jupyter.widget-view+json": {
       "model_id": "",
       "version_major": 2,
       "version_minor": 0
      },
      "text/plain": [
       "Validation: 0it [00:00, ?it/s]"
      ]
     },
     "metadata": {},
     "output_type": "display_data"
    },
    {
     "data": {
      "application/vnd.jupyter.widget-view+json": {
       "model_id": "",
       "version_major": 2,
       "version_minor": 0
      },
      "text/plain": [
       "Validation: 0it [00:00, ?it/s]"
      ]
     },
     "metadata": {},
     "output_type": "display_data"
    },
    {
     "data": {
      "application/vnd.jupyter.widget-view+json": {
       "model_id": "",
       "version_major": 2,
       "version_minor": 0
      },
      "text/plain": [
       "Validation: 0it [00:00, ?it/s]"
      ]
     },
     "metadata": {},
     "output_type": "display_data"
    },
    {
     "data": {
      "application/vnd.jupyter.widget-view+json": {
       "model_id": "",
       "version_major": 2,
       "version_minor": 0
      },
      "text/plain": [
       "Validation: 0it [00:00, ?it/s]"
      ]
     },
     "metadata": {},
     "output_type": "display_data"
    },
    {
     "data": {
      "application/vnd.jupyter.widget-view+json": {
       "model_id": "",
       "version_major": 2,
       "version_minor": 0
      },
      "text/plain": [
       "Validation: 0it [00:00, ?it/s]"
      ]
     },
     "metadata": {},
     "output_type": "display_data"
    },
    {
     "data": {
      "application/vnd.jupyter.widget-view+json": {
       "model_id": "",
       "version_major": 2,
       "version_minor": 0
      },
      "text/plain": [
       "Validation: 0it [00:00, ?it/s]"
      ]
     },
     "metadata": {},
     "output_type": "display_data"
    },
    {
     "data": {
      "application/vnd.jupyter.widget-view+json": {
       "model_id": "",
       "version_major": 2,
       "version_minor": 0
      },
      "text/plain": [
       "Validation: 0it [00:00, ?it/s]"
      ]
     },
     "metadata": {},
     "output_type": "display_data"
    },
    {
     "data": {
      "application/vnd.jupyter.widget-view+json": {
       "model_id": "",
       "version_major": 2,
       "version_minor": 0
      },
      "text/plain": [
       "Validation: 0it [00:00, ?it/s]"
      ]
     },
     "metadata": {},
     "output_type": "display_data"
    },
    {
     "data": {
      "application/vnd.jupyter.widget-view+json": {
       "model_id": "",
       "version_major": 2,
       "version_minor": 0
      },
      "text/plain": [
       "Validation: 0it [00:00, ?it/s]"
      ]
     },
     "metadata": {},
     "output_type": "display_data"
    },
    {
     "data": {
      "application/vnd.jupyter.widget-view+json": {
       "model_id": "",
       "version_major": 2,
       "version_minor": 0
      },
      "text/plain": [
       "Validation: 0it [00:00, ?it/s]"
      ]
     },
     "metadata": {},
     "output_type": "display_data"
    },
    {
     "data": {
      "application/vnd.jupyter.widget-view+json": {
       "model_id": "",
       "version_major": 2,
       "version_minor": 0
      },
      "text/plain": [
       "Validation: 0it [00:00, ?it/s]"
      ]
     },
     "metadata": {},
     "output_type": "display_data"
    },
    {
     "data": {
      "application/vnd.jupyter.widget-view+json": {
       "model_id": "",
       "version_major": 2,
       "version_minor": 0
      },
      "text/plain": [
       "Validation: 0it [00:00, ?it/s]"
      ]
     },
     "metadata": {},
     "output_type": "display_data"
    },
    {
     "data": {
      "application/vnd.jupyter.widget-view+json": {
       "model_id": "",
       "version_major": 2,
       "version_minor": 0
      },
      "text/plain": [
       "Validation: 0it [00:00, ?it/s]"
      ]
     },
     "metadata": {},
     "output_type": "display_data"
    },
    {
     "data": {
      "application/vnd.jupyter.widget-view+json": {
       "model_id": "",
       "version_major": 2,
       "version_minor": 0
      },
      "text/plain": [
       "Validation: 0it [00:00, ?it/s]"
      ]
     },
     "metadata": {},
     "output_type": "display_data"
    },
    {
     "data": {
      "application/vnd.jupyter.widget-view+json": {
       "model_id": "",
       "version_major": 2,
       "version_minor": 0
      },
      "text/plain": [
       "Validation: 0it [00:00, ?it/s]"
      ]
     },
     "metadata": {},
     "output_type": "display_data"
    },
    {
     "data": {
      "application/vnd.jupyter.widget-view+json": {
       "model_id": "",
       "version_major": 2,
       "version_minor": 0
      },
      "text/plain": [
       "Validation: 0it [00:00, ?it/s]"
      ]
     },
     "metadata": {},
     "output_type": "display_data"
    },
    {
     "data": {
      "application/vnd.jupyter.widget-view+json": {
       "model_id": "",
       "version_major": 2,
       "version_minor": 0
      },
      "text/plain": [
       "Validation: 0it [00:00, ?it/s]"
      ]
     },
     "metadata": {},
     "output_type": "display_data"
    },
    {
     "data": {
      "application/vnd.jupyter.widget-view+json": {
       "model_id": "",
       "version_major": 2,
       "version_minor": 0
      },
      "text/plain": [
       "Validation: 0it [00:00, ?it/s]"
      ]
     },
     "metadata": {},
     "output_type": "display_data"
    },
    {
     "name": "stderr",
     "output_type": "stream",
     "text": [
      "`Trainer.fit` stopped: `max_steps=10000` reached.\n",
      "COMET INFO: ---------------------------\n",
      "COMET INFO: Comet.ml Experiment Summary\n",
      "COMET INFO: ---------------------------\n",
      "COMET INFO:   Data:\n",
      "COMET INFO:     display_summary_level : 1\n",
      "COMET INFO:     url                   : https://www.comet.com/vlasta/rnamodif/86e5b3ad602f45a5b838ca3ecc09ddd9\n",
      "COMET INFO:   Metrics [count] (min, max):\n",
      "COMET INFO:     train acc [200]  : (0.3125, 0.78125)\n",
      "COMET INFO:     train_loss [200] : (0.538367509841919, 0.7355796098709106)\n",
      "COMET INFO:     valid acc [40]   : (0.5770000219345093, 0.703000009059906)\n",
      "COMET INFO:     valid_loss [40]  : (0.5874391198158264, 0.7184765338897705)\n",
      "COMET INFO:   Uploads:\n",
      "COMET INFO:     conda-info          : 1\n",
      "COMET INFO:     conda-specification : 1\n",
      "COMET INFO:     environment details : 1\n",
      "COMET INFO:     filename            : 1\n",
      "COMET INFO:     installed packages  : 1\n",
      "COMET INFO:     notebook            : 1\n",
      "COMET INFO:     os packages         : 1\n",
      "COMET INFO:     source_code         : 1\n",
      "COMET INFO: ---------------------------\n",
      "COMET WARNING: Comet has disabled auto-logging functionality as it has been imported after the following ML modules: torch. Metrics and hyperparameters can still be logged using comet_ml.log_metrics() and comet_ml.log_parameters()\n",
      "COMET INFO: Uploading 1 metrics, params and output messages\n",
      "FIT Profiler Report\n",
      "\n",
      "------------------------------------------------------------------------------------------------------------------------------------------------------------------------------------------------------------------------------------------------------------------------------------------------------------------\n",
      "|  Action                                                                                                                                                                                                    \t|  Mean duration (s)\t|  Num calls      \t|  Total time (s) \t|  Percentage %   \t|\n",
      "------------------------------------------------------------------------------------------------------------------------------------------------------------------------------------------------------------------------------------------------------------------------------------------------------------------\n",
      "|  Total                                                                                                                                                                                                     \t|  -              \t|  500948         \t|  137.08         \t|  100 %          \t|\n",
      "------------------------------------------------------------------------------------------------------------------------------------------------------------------------------------------------------------------------------------------------------------------------------------------------------------------\n",
      "|  run_training_epoch                                                                                                                                                                                        \t|  133.16         \t|  1              \t|  133.16         \t|  97.137         \t|\n",
      "|  run_training_batch                                                                                                                                                                                        \t|  0.0091045      \t|  10000          \t|  91.045         \t|  66.415         \t|\n",
      "|  [LightningModule]CNN.optimizer_step                                                                                                                                                                       \t|  0.0088739      \t|  10000          \t|  88.739         \t|  64.733         \t|\n",
      "|  [Strategy]SingleDeviceStrategy.training_step                                                                                                                                                              \t|  0.0040834      \t|  10000          \t|  40.834         \t|  29.787         \t|\n",
      "|  [Strategy]SingleDeviceStrategy.backward                                                                                                                                                                   \t|  0.0025399      \t|  10000          \t|  25.399         \t|  18.528         \t|\n",
      "|  [Callback]TQDMProgressBar.on_train_batch_end                                                                                                                                                              \t|  0.0015572      \t|  10000          \t|  15.572         \t|  11.36          \t|\n",
      "|  [Strategy]SingleDeviceStrategy.validation_step                                                                                                                                                            \t|  0.003509       \t|  1282           \t|  4.4985         \t|  3.2816         \t|\n",
      "|  [Strategy]SingleDeviceStrategy.batch_to_device                                                                                                                                                            \t|  0.00027909     \t|  11282          \t|  3.1487         \t|  2.2969         \t|\n",
      "|  [LightningModule]CNN.optimizer_zero_grad                                                                                                                                                                  \t|  0.00021537     \t|  10000          \t|  2.1537         \t|  1.5711         \t|\n",
      "|  [Callback]ModelCheckpoint{'monitor': None, 'mode': 'min', 'every_n_train_steps': 0, 'every_n_epochs': 1, 'train_time_interval': None, 'save_on_train_epoch_end': False}.on_validation_end                 \t|  0.035111       \t|  41             \t|  1.4395         \t|  1.0501         \t|\n",
      "|  [Callback]TQDMProgressBar.on_validation_batch_end                                                                                                                                                         \t|  0.00092106     \t|  1282           \t|  1.1808         \t|  0.86137        \t|\n",
      "|  [TrainingEpochLoop].train_dataloader_next                                                                                                                                                                 \t|  0.00011013     \t|  10000          \t|  1.1013         \t|  0.80336        \t|\n",
      "|  [EvaluationEpochLoop].val_dataloader_idx_0_next                                                                                                                                                           \t|  0.00073676     \t|  1280           \t|  0.94306        \t|  0.68794        \t|\n",
      "|  [Callback]TQDMProgressBar.on_validation_start                                                                                                                                                             \t|  0.015448       \t|  41             \t|  0.63338        \t|  0.46204        \t|\n",
      "|  [Callback]ModelCheckpoint{'monitor': None, 'mode': 'min', 'every_n_train_steps': 0, 'every_n_epochs': 1, 'train_time_interval': None, 'save_on_train_epoch_end': False}.on_train_batch_end                \t|  1.4706e-05     \t|  10000          \t|  0.14706        \t|  0.10728        \t|\n",
      "|  [Callback]TQDMProgressBar.on_validation_batch_start                                                                                                                                                       \t|  4.5549e-05     \t|  1282           \t|  0.058394       \t|  0.042597       \t|\n",
      "|  [Callback]ModelSummary.on_train_batch_end                                                                                                                                                                 \t|  5.1487e-06     \t|  10000          \t|  0.051487       \t|  0.037558       \t|\n",
      "|  [Callback]TQDMProgressBar.on_after_backward                                                                                                                                                               \t|  3.9242e-06     \t|  10000          \t|  0.039242       \t|  0.028626       \t|\n",
      "|  [Callback]TQDMProgressBar.on_validation_end                                                                                                                                                               \t|  0.0008251      \t|  41             \t|  0.033829       \t|  0.024678       \t|\n",
      "|  [Callback]TQDMProgressBar.on_before_zero_grad                                                                                                                                                             \t|  2.7342e-06     \t|  10000          \t|  0.027342       \t|  0.019946       \t|\n",
      "|  [Callback]TQDMProgressBar.on_batch_start                                                                                                                                                                  \t|  2.7335e-06     \t|  10000          \t|  0.027335       \t|  0.01994        \t|\n",
      "|  [Callback]TQDMProgressBar.on_before_optimizer_step                                                                                                                                                        \t|  2.6492e-06     \t|  10000          \t|  0.026492       \t|  0.019325       \t|\n",
      "|  [Callback]ModelSummary.on_after_backward                                                                                                                                                                  \t|  2.5788e-06     \t|  10000          \t|  0.025788       \t|  0.018812       \t|\n",
      "|  [Callback]ModelCheckpoint{'monitor': None, 'mode': 'min', 'every_n_train_steps': 0, 'every_n_epochs': 1, 'train_time_interval': None, 'save_on_train_epoch_end': False}.on_after_backward                 \t|  2.2241e-06     \t|  10000          \t|  0.022241       \t|  0.016224       \t|\n",
      "|  [Callback]TQDMProgressBar.on_before_backward                                                                                                                                                              \t|  2.191e-06      \t|  10000          \t|  0.02191        \t|  0.015983       \t|\n",
      "|  [Callback]ModelCheckpoint{'monitor': None, 'mode': 'min', 'every_n_train_steps': 0, 'every_n_epochs': 1, 'train_time_interval': None, 'save_on_train_epoch_end': False}.on_before_optimizer_step          \t|  2.1753e-06     \t|  10000          \t|  0.021753       \t|  0.015868       \t|\n",
      "|  [Callback]ModelSummary.on_before_optimizer_step                                                                                                                                                           \t|  2.1581e-06     \t|  10000          \t|  0.021581       \t|  0.015743       \t|\n",
      "|  [Callback]GradientAccumulationScheduler.on_after_backward                                                                                                                                                 \t|  2.1535e-06     \t|  10000          \t|  0.021535       \t|  0.015709       \t|\n",
      "|  [Callback]GradientAccumulationScheduler.on_train_batch_end                                                                                                                                                \t|  2.1011e-06     \t|  10000          \t|  0.021011       \t|  0.015327       \t|\n",
      "|  [Callback]TQDMProgressBar.on_batch_end                                                                                                                                                                    \t|  2.0882e-06     \t|  10000          \t|  0.020882       \t|  0.015233       \t|\n",
      "|  [Callback]TQDMProgressBar.on_train_batch_start                                                                                                                                                            \t|  2.0812e-06     \t|  10000          \t|  0.020812       \t|  0.015182       \t|\n",
      "|  [Callback]GradientAccumulationScheduler.on_before_optimizer_step                                                                                                                                          \t|  2.0735e-06     \t|  10000          \t|  0.020735       \t|  0.015126       \t|\n",
      "|  [Callback]ModelCheckpoint{'monitor': None, 'mode': 'min', 'every_n_train_steps': 0, 'every_n_epochs': 1, 'train_time_interval': None, 'save_on_train_epoch_end': False}.on_before_backward                \t|  1.8966e-06     \t|  10000          \t|  0.018966       \t|  0.013835       \t|\n",
      "|  [Callback]ModelSummary.on_batch_start                                                                                                                                                                     \t|  1.8869e-06     \t|  10000          \t|  0.018869       \t|  0.013765       \t|\n",
      "|  [Callback]ModelSummary.on_before_zero_grad                                                                                                                                                                \t|  1.8403e-06     \t|  10000          \t|  0.018403       \t|  0.013424       \t|\n",
      "|  [Callback]ModelCheckpoint{'monitor': None, 'mode': 'min', 'every_n_train_steps': 0, 'every_n_epochs': 1, 'train_time_interval': None, 'save_on_train_epoch_end': False}.on_before_zero_grad               \t|  1.7912e-06     \t|  10000          \t|  0.017912       \t|  0.013066       \t|\n",
      "|  [Callback]ModelCheckpoint{'monitor': None, 'mode': 'min', 'every_n_train_steps': 0, 'every_n_epochs': 1, 'train_time_interval': None, 'save_on_train_epoch_end': False}.on_batch_start                    \t|  1.7593e-06     \t|  10000          \t|  0.017593       \t|  0.012834       \t|\n",
      "|  [Callback]ModelSummary.on_batch_end                                                                                                                                                                       \t|  1.7042e-06     \t|  10000          \t|  0.017042       \t|  0.012431       \t|\n",
      "|  [Callback]ModelCheckpoint{'monitor': None, 'mode': 'min', 'every_n_train_steps': 0, 'every_n_epochs': 1, 'train_time_interval': None, 'save_on_train_epoch_end': False}.on_train_batch_start              \t|  1.6975e-06     \t|  10000          \t|  0.016975       \t|  0.012383       \t|\n",
      "|  [Callback]ModelSummary.on_before_backward                                                                                                                                                                 \t|  1.6953e-06     \t|  10000          \t|  0.016953       \t|  0.012367       \t|\n",
      "|  [Callback]ModelCheckpoint{'monitor': None, 'mode': 'min', 'every_n_train_steps': 0, 'every_n_epochs': 1, 'train_time_interval': None, 'save_on_train_epoch_end': False}.on_batch_end                      \t|  1.6675e-06     \t|  10000          \t|  0.016675       \t|  0.012164       \t|\n",
      "|  [Callback]GradientAccumulationScheduler.on_before_zero_grad                                                                                                                                               \t|  1.6554e-06     \t|  10000          \t|  0.016554       \t|  0.012076       \t|\n",
      "|  [Callback]ModelSummary.on_train_batch_start                                                                                                                                                               \t|  1.6509e-06     \t|  10000          \t|  0.016509       \t|  0.012043       \t|\n",
      "|  [Callback]GradientAccumulationScheduler.on_batch_start                                                                                                                                                    \t|  1.6308e-06     \t|  10000          \t|  0.016308       \t|  0.011897       \t|\n",
      "|  [Callback]GradientAccumulationScheduler.on_batch_end                                                                                                                                                      \t|  1.5904e-06     \t|  10000          \t|  0.015904       \t|  0.011602       \t|\n",
      "|  [Callback]GradientAccumulationScheduler.on_train_batch_start                                                                                                                                              \t|  1.5809e-06     \t|  10000          \t|  0.015809       \t|  0.011533       \t|\n",
      "|  [Callback]GradientAccumulationScheduler.on_before_backward                                                                                                                                                \t|  1.56e-06       \t|  10000          \t|  0.0156         \t|  0.01138        \t|\n",
      "|  [Callback]TQDMProgressBar.on_sanity_check_start                                                                                                                                                           \t|  0.015062       \t|  1              \t|  0.015062       \t|  0.010987       \t|\n",
      "|  [Callback]TQDMProgressBar.on_train_start                                                                                                                                                                  \t|  0.014905       \t|  1              \t|  0.014905       \t|  0.010873       \t|\n",
      "|  [LightningModule]CNN.training_step_end                                                                                                                                                                    \t|  1.3327e-06     \t|  10000          \t|  0.013327       \t|  0.0097219      \t|\n",
      "|  [LightningModule]CNN.on_validation_model_eval                                                                                                                                                             \t|  0.00026416     \t|  41             \t|  0.01083        \t|  0.0079006      \t|\n",
      "|  [LightningModule]CNN.on_after_backward                                                                                                                                                                    \t|  9.7549e-07     \t|  10000          \t|  0.0097549      \t|  0.007116       \t|\n",
      "|  [Strategy]SingleDeviceStrategy.training_step_end                                                                                                                                                          \t|  9.694e-07      \t|  10000          \t|  0.009694       \t|  0.0070716      \t|\n",
      "|  [LightningModule]CNN.on_train_batch_end                                                                                                                                                                   \t|  8.777e-07      \t|  10000          \t|  0.008777       \t|  0.0064026      \t|\n",
      "|  [LightningModule]CNN.on_before_optimizer_step                                                                                                                                                             \t|  8.2708e-07     \t|  10000          \t|  0.0082708      \t|  0.0060333      \t|\n",
      "|  [LightningModule]CNN.on_validation_model_train                                                                                                                                                            \t|  0.00019192     \t|  41             \t|  0.0078687      \t|  0.00574        \t|\n",
      "|  [LightningModule]CNN.on_before_zero_grad                                                                                                                                                                  \t|  7.8024e-07     \t|  10000          \t|  0.0078024      \t|  0.0056916      \t|\n",
      "|  [LightningModule]CNN.on_train_batch_start                                                                                                                                                                 \t|  7.338e-07      \t|  10000          \t|  0.007338       \t|  0.0053529      \t|\n",
      "|  [LightningModule]CNN.on_before_backward                                                                                                                                                                   \t|  6.9562e-07     \t|  10000          \t|  0.0069562      \t|  0.0050744      \t|\n",
      "|  [Callback]ModelSummary.on_validation_batch_end                                                                                                                                                            \t|  4.8966e-06     \t|  1282           \t|  0.0062774      \t|  0.0045792      \t|\n",
      "|  [Strategy]SingleDeviceStrategy.on_train_batch_start                                                                                                                                                       \t|  6.2376e-07     \t|  10000          \t|  0.0062376      \t|  0.0045502      \t|\n",
      "|  [Callback]ModelSummary.on_validation_batch_start                                                                                                                                                          \t|  2.1874e-06     \t|  1282           \t|  0.0028042      \t|  0.0020456      \t|\n",
      "|  [Callback]GradientAccumulationScheduler.on_validation_batch_end                                                                                                                                           \t|  2.0897e-06     \t|  1282           \t|  0.002679       \t|  0.0019543      \t|\n",
      "|  [Callback]ModelCheckpoint{'monitor': None, 'mode': 'min', 'every_n_train_steps': 0, 'every_n_epochs': 1, 'train_time_interval': None, 'save_on_train_epoch_end': False}.on_validation_batch_end           \t|  1.9365e-06     \t|  1282           \t|  0.0024826      \t|  0.001811       \t|\n",
      "|  [Callback]ModelCheckpoint{'monitor': None, 'mode': 'min', 'every_n_train_steps': 0, 'every_n_epochs': 1, 'train_time_interval': None, 'save_on_train_epoch_end': False}.on_validation_batch_start         \t|  1.7989e-06     \t|  1282           \t|  0.0023062      \t|  0.0016823      \t|\n",
      "|  [Callback]GradientAccumulationScheduler.on_validation_batch_start                                                                                                                                         \t|  1.7049e-06     \t|  1282           \t|  0.0021857      \t|  0.0015944      \t|\n",
      "|  [EvaluationEpochLoop].None_dataloader_idx_0_next                                                                                                                                                          \t|  0.0010157      \t|  2              \t|  0.0020314      \t|  0.0014818      \t|\n",
      "|  [Callback]ModelSummary.on_fit_start                                                                                                                                                                       \t|  0.0018242      \t|  1              \t|  0.0018242      \t|  0.0013307      \t|\n",
      "|  [LightningModule]CNN.validation_step_end                                                                                                                                                                  \t|  1.2766e-06     \t|  1282           \t|  0.0016366      \t|  0.0011939      \t|\n",
      "|  [LightningModule]CNN.on_validation_batch_end                                                                                                                                                              \t|  8.0907e-07     \t|  1282           \t|  0.0010372      \t|  0.00075664     \t|\n",
      "|  [Strategy]SingleDeviceStrategy.validation_step_end                                                                                                                                                        \t|  7.5313e-07     \t|  1282           \t|  0.00096551     \t|  0.00070432     \t|\n",
      "|  [LightningModule]CNN.on_validation_batch_start                                                                                                                                                            \t|  7.1189e-07     \t|  1282           \t|  0.00091264     \t|  0.00066575     \t|\n",
      "|  [Callback]ModelCheckpoint{'monitor': None, 'mode': 'min', 'every_n_train_steps': 0, 'every_n_epochs': 1, 'train_time_interval': None, 'save_on_train_epoch_end': None}.setup                              \t|  0.0007135      \t|  1              \t|  0.0007135      \t|  0.00052048     \t|\n",
      "|  [Callback]TQDMProgressBar.on_train_epoch_start                                                                                                                                                            \t|  0.0005388      \t|  1              \t|  0.0005388      \t|  0.00039305     \t|\n",
      "|  [Callback]TQDMProgressBar.on_train_epoch_end                                                                                                                                                              \t|  0.00051539     \t|  1              \t|  0.00051539     \t|  0.00037597     \t|\n",
      "|  [LightningModule]CNN.configure_optimizers                                                                                                                                                                 \t|  0.00045639     \t|  1              \t|  0.00045639     \t|  0.00033293     \t|\n",
      "|  [Callback]TQDMProgressBar.on_train_end                                                                                                                                                                    \t|  0.00038772     \t|  1              \t|  0.00038772     \t|  0.00028283     \t|\n",
      "|  [Callback]ModelSummary.on_validation_start                                                                                                                                                                \t|  8.3787e-06     \t|  41             \t|  0.00034352     \t|  0.00025059     \t|\n",
      "|  [Callback]ModelSummary.on_validation_end                                                                                                                                                                  \t|  5.4858e-06     \t|  41             \t|  0.00022492     \t|  0.00016407     \t|\n",
      "|  [Callback]TQDMProgressBar.on_save_checkpoint                                                                                                                                                              \t|  4.4581e-06     \t|  40             \t|  0.00017832     \t|  0.00013008     \t|\n",
      "|  [Callback]TQDMProgressBar.on_validation_epoch_start                                                                                                                                                       \t|  3.5612e-06     \t|  41             \t|  0.00014601     \t|  0.00010651     \t|\n",
      "|  [Callback]TQDMProgressBar.on_validation_epoch_end                                                                                                                                                         \t|  3.3147e-06     \t|  41             \t|  0.0001359      \t|  9.9137e-05     \t|\n",
      "|  [Callback]TQDMProgressBar.on_epoch_start                                                                                                                                                                  \t|  2.5157e-06     \t|  42             \t|  0.00010566     \t|  7.7076e-05     \t|\n",
      "|  [Callback]ModelSummary.on_train_epoch_end                                                                                                                                                                 \t|  9.5077e-05     \t|  1              \t|  9.5077e-05     \t|  6.9357e-05     \t|\n",
      "|  [Callback]TQDMProgressBar.on_epoch_end                                                                                                                                                                    \t|  2.2516e-06     \t|  42             \t|  9.4567e-05     \t|  6.8984e-05     \t|\n",
      "|  [Callback]ModelSummary.on_save_checkpoint                                                                                                                                                                 \t|  2.1763e-06     \t|  40             \t|  8.7053e-05     \t|  6.3503e-05     \t|\n",
      "|  [Callback]GradientAccumulationScheduler.on_validation_start                                                                                                                                               \t|  2.122e-06      \t|  41             \t|  8.7002e-05     \t|  6.3466e-05     \t|\n",
      "|  [Callback]ModelCheckpoint{'monitor': None, 'mode': 'min', 'every_n_train_steps': 0, 'every_n_epochs': 1, 'train_time_interval': None, 'save_on_train_epoch_end': False}.on_save_checkpoint                \t|  2.0334e-06     \t|  40             \t|  8.1334e-05     \t|  5.9331e-05     \t|\n",
      "|  [Callback]GradientAccumulationScheduler.on_validation_end                                                                                                                                                 \t|  1.982e-06      \t|  41             \t|  8.1263e-05     \t|  5.928e-05      \t|\n",
      "|  [Callback]ModelCheckpoint{'monitor': None, 'mode': 'min', 'every_n_train_steps': 0, 'every_n_epochs': 1, 'train_time_interval': None, 'save_on_train_epoch_end': False}.on_validation_start               \t|  1.9072e-06     \t|  41             \t|  7.8196e-05     \t|  5.7042e-05     \t|\n",
      "|  [LightningModule]CNN.on_validation_epoch_end                                                                                                                                                              \t|  1.8793e-06     \t|  41             \t|  7.7053e-05     \t|  5.6208e-05     \t|\n",
      "|  [Callback]ModelCheckpoint{'monitor': None, 'mode': 'min', 'every_n_train_steps': 0, 'every_n_epochs': 1, 'train_time_interval': None, 'save_on_train_epoch_end': False}.on_epoch_end                      \t|  1.8332e-06     \t|  42             \t|  7.6992e-05     \t|  5.6164e-05     \t|\n",
      "|  [LightningModule]CNN.on_validation_end                                                                                                                                                                    \t|  1.8759e-06     \t|  41             \t|  7.6911e-05     \t|  5.6105e-05     \t|\n",
      "|  [Callback]ModelSummary.on_validation_epoch_end                                                                                                                                                            \t|  1.7888e-06     \t|  41             \t|  7.334e-05      \t|  5.35e-05       \t|\n",
      "|  [Callback]ModelCheckpoint{'monitor': None, 'mode': 'min', 'every_n_train_steps': 0, 'every_n_epochs': 1, 'train_time_interval': None, 'save_on_train_epoch_end': False}.on_validation_epoch_end           \t|  1.7591e-06     \t|  41             \t|  7.2122e-05     \t|  5.2611e-05     \t|\n",
      "|  [LightningModule]CNN.validation_epoch_end                                                                                                                                                                 \t|  1.7299e-06     \t|  41             \t|  7.0927e-05     \t|  5.1739e-05     \t|\n",
      "|  [Callback]GradientAccumulationScheduler.on_save_checkpoint                                                                                                                                                \t|  1.7425e-06     \t|  40             \t|  6.9702e-05     \t|  5.0846e-05     \t|\n",
      "|  [Callback]ModelCheckpoint{'monitor': None, 'mode': 'min', 'every_n_train_steps': 0, 'every_n_epochs': 1, 'train_time_interval': None, 'save_on_train_epoch_end': False}.on_epoch_start                    \t|  1.6493e-06     \t|  42             \t|  6.9271e-05     \t|  5.0532e-05     \t|\n",
      "|  [Callback]ModelSummary.on_epoch_start                                                                                                                                                                     \t|  1.6254e-06     \t|  42             \t|  6.8266e-05     \t|  4.9799e-05     \t|\n",
      "|  [Callback]ModelSummary.on_validation_epoch_start                                                                                                                                                          \t|  1.6266e-06     \t|  41             \t|  6.669e-05      \t|  4.8649e-05     \t|\n",
      "|  [Callback]ModelCheckpoint{'monitor': None, 'mode': 'min', 'every_n_train_steps': 0, 'every_n_epochs': 1, 'train_time_interval': None, 'save_on_train_epoch_end': False}.on_validation_epoch_start         \t|  1.6155e-06     \t|  41             \t|  6.6234e-05     \t|  4.8316e-05     \t|\n",
      "|  [Callback]GradientAccumulationScheduler.on_epoch_start                                                                                                                                                    \t|  1.5571e-06     \t|  42             \t|  6.5398e-05     \t|  4.7706e-05     \t|\n",
      "|  [Callback]ModelSummary.on_epoch_end                                                                                                                                                                       \t|  1.5452e-06     \t|  42             \t|  6.4898e-05     \t|  4.7341e-05     \t|\n",
      "|  [Callback]GradientAccumulationScheduler.on_validation_epoch_end                                                                                                                                           \t|  1.572e-06      \t|  41             \t|  6.4454e-05     \t|  4.7018e-05     \t|\n",
      "|  [Callback]GradientAccumulationScheduler.on_epoch_end                                                                                                                                                      \t|  1.5261e-06     \t|  42             \t|  6.4096e-05     \t|  4.6757e-05     \t|\n",
      "|  [Callback]GradientAccumulationScheduler.on_validation_epoch_start                                                                                                                                         \t|  1.549e-06      \t|  41             \t|  6.3508e-05     \t|  4.6328e-05     \t|\n",
      "|  [LightningModule]CNN.on_validation_start                                                                                                                                                                  \t|  1.4327e-06     \t|  41             \t|  5.8741e-05     \t|  4.285e-05      \t|\n",
      "|  [Strategy]SingleDeviceStrategy.on_validation_start                                                                                                                                                        \t|  1.3273e-06     \t|  41             \t|  5.442e-05      \t|  3.9698e-05     \t|\n",
      "|  [LightningModule]CNN.on_save_checkpoint                                                                                                                                                                   \t|  1.3132e-06     \t|  40             \t|  5.2526e-05     \t|  3.8317e-05     \t|\n",
      "|  [Strategy]SingleDeviceStrategy.on_validation_end                                                                                                                                                          \t|  1.2502e-06     \t|  41             \t|  5.1258e-05     \t|  3.7391e-05     \t|\n",
      "|  [LightningModule]CNN.on_validation_epoch_start                                                                                                                                                            \t|  1.217e-06      \t|  41             \t|  4.9897e-05     \t|  3.6398e-05     \t|\n",
      "|  [LightningModule]CNN.on_epoch_end                                                                                                                                                                         \t|  1.1629e-06     \t|  42             \t|  4.8841e-05     \t|  3.5629e-05     \t|\n",
      "|  [LightningModule]CNN.on_epoch_start                                                                                                                                                                       \t|  1.1255e-06     \t|  42             \t|  4.7269e-05     \t|  3.4482e-05     \t|\n",
      "|  [Callback]TQDMProgressBar.teardown                                                                                                                                                                        \t|  2.5157e-05     \t|  1              \t|  2.5157e-05     \t|  1.8351e-05     \t|\n",
      "|  [LightningModule]CNN.configure_callbacks                                                                                                                                                                  \t|  1.6982e-05     \t|  1              \t|  1.6982e-05     \t|  1.2388e-05     \t|\n",
      "|  [Callback]ModelCheckpoint{'monitor': None, 'mode': 'min', 'every_n_train_steps': 0, 'every_n_epochs': 1, 'train_time_interval': None, 'save_on_train_epoch_end': False}.on_train_epoch_end                \t|  1.4858e-05     \t|  1              \t|  1.4858e-05     \t|  1.0839e-05     \t|\n",
      "|  [Callback]TQDMProgressBar.on_configure_sharded_model                                                                                                                                                      \t|  9.8883e-06     \t|  1              \t|  9.8883e-06     \t|  7.2133e-06     \t|\n",
      "|  [Callback]ModelSummary.setup                                                                                                                                                                              \t|  7.3928e-06     \t|  1              \t|  7.3928e-06     \t|  5.3929e-06     \t|\n",
      "|  [Callback]ModelSummary.on_sanity_check_start                                                                                                                                                              \t|  7.0939e-06     \t|  1              \t|  7.0939e-06     \t|  5.1748e-06     \t|\n",
      "|  [Callback]TQDMProgressBar.setup                                                                                                                                                                           \t|  6.6818e-06     \t|  1              \t|  6.6818e-06     \t|  4.8742e-06     \t|\n",
      "|  [Callback]GradientAccumulationScheduler.on_fit_start                                                                                                                                                      \t|  6.6417e-06     \t|  1              \t|  6.6417e-06     \t|  4.845e-06      \t|\n",
      "|  [Callback]ModelSummary.on_train_start                                                                                                                                                                     \t|  6.4922e-06     \t|  1              \t|  6.4922e-06     \t|  4.7359e-06     \t|\n",
      "|  [Callback]TQDMProgressBar.on_fit_end                                                                                                                                                                      \t|  6.4122e-06     \t|  1              \t|  6.4122e-06     \t|  4.6775e-06     \t|\n",
      "|  [Callback]TQDMProgressBar.on_fit_start                                                                                                                                                                    \t|  5.6601e-06     \t|  1              \t|  5.6601e-06     \t|  4.1289e-06     \t|\n",
      "|  [Callback]ModelSummary.on_train_end                                                                                                                                                                       \t|  5.4901e-06     \t|  1              \t|  5.4901e-06     \t|  4.0049e-06     \t|\n",
      "|  [Callback]TQDMProgressBar.on_sanity_check_end                                                                                                                                                             \t|  5.35e-06       \t|  1              \t|  5.35e-06       \t|  3.9027e-06     \t|\n",
      "|  [Callback]ModelSummary.on_train_epoch_start                                                                                                                                                               \t|  4.7591e-06     \t|  1              \t|  4.7591e-06     \t|  3.4716e-06     \t|\n",
      "|  [Callback]TQDMProgressBar.on_pretrain_routine_start                                                                                                                                                       \t|  4.5281e-06     \t|  1              \t|  4.5281e-06     \t|  3.3031e-06     \t|\n",
      "|  [LightningModule]CNN.on_train_epoch_end                                                                                                                                                                   \t|  4.3483e-06     \t|  1              \t|  4.3483e-06     \t|  3.172e-06      \t|\n",
      "|  [Callback]ModelSummary.on_sanity_check_end                                                                                                                                                                \t|  4.2883e-06     \t|  1              \t|  4.2883e-06     \t|  3.1282e-06     \t|\n",
      "|  [Callback]GradientAccumulationScheduler.on_train_epoch_start                                                                                                                                              \t|  4.028e-06      \t|  1              \t|  4.028e-06      \t|  2.9383e-06     \t|\n",
      "|  [Callback]ModelCheckpoint{'monitor': None, 'mode': 'min', 'every_n_train_steps': 0, 'every_n_epochs': 1, 'train_time_interval': None, 'save_on_train_epoch_end': False}.on_train_end                      \t|  2.8461e-06     \t|  1              \t|  2.8461e-06     \t|  2.0762e-06     \t|\n",
      "|  [Callback]ModelCheckpoint{'monitor': None, 'mode': 'min', 'every_n_train_steps': 0, 'every_n_epochs': 1, 'train_time_interval': None, 'save_on_train_epoch_end': False}.on_fit_start                      \t|  2.5849e-06     \t|  1              \t|  2.5849e-06     \t|  1.8856e-06     \t|\n",
      "|  [Callback]ModelCheckpoint{'monitor': None, 'mode': 'min', 'every_n_train_steps': 0, 'every_n_epochs': 1, 'train_time_interval': None, 'save_on_train_epoch_end': False}.on_train_start                    \t|  2.5448e-06     \t|  1              \t|  2.5448e-06     \t|  1.8564e-06     \t|\n",
      "|  [Callback]GradientAccumulationScheduler.on_train_epoch_end                                                                                                                                                \t|  2.5141e-06     \t|  1              \t|  2.5141e-06     \t|  1.834e-06      \t|\n",
      "|  [Callback]TQDMProgressBar.on_before_accelerator_backend_setup                                                                                                                                             \t|  2.4154e-06     \t|  1              \t|  2.4154e-06     \t|  1.762e-06      \t|\n",
      "|  [LightningModule]CNN.prepare_data                                                                                                                                                                         \t|  2.3744e-06     \t|  1              \t|  2.3744e-06     \t|  1.7321e-06     \t|\n",
      "|  [Callback]GradientAccumulationScheduler.on_train_start                                                                                                                                                    \t|  2.264e-06      \t|  1              \t|  2.264e-06      \t|  1.6516e-06     \t|\n",
      "|  [Callback]GradientAccumulationScheduler.on_sanity_check_start                                                                                                                                             \t|  2.2138e-06     \t|  1              \t|  2.2138e-06     \t|  1.6149e-06     \t|\n",
      "|  [Callback]TQDMProgressBar.on_pretrain_routine_end                                                                                                                                                         \t|  2.1337e-06     \t|  1              \t|  2.1337e-06     \t|  1.5565e-06     \t|\n",
      "|  [LightningModule]CNN.on_fit_start                                                                                                                                                                         \t|  2.1136e-06     \t|  1              \t|  2.1136e-06     \t|  1.5418e-06     \t|\n",
      "|  [Callback]ModelSummary.on_fit_end                                                                                                                                                                         \t|  2.0936e-06     \t|  1              \t|  2.0936e-06     \t|  1.5272e-06     \t|\n",
      "|  [Callback]ModelCheckpoint{'monitor': None, 'mode': 'min', 'every_n_train_steps': 0, 'every_n_epochs': 1, 'train_time_interval': None, 'save_on_train_epoch_end': False}.on_configure_sharded_model        \t|  1.953e-06      \t|  1              \t|  1.953e-06      \t|  1.4247e-06     \t|\n",
      "|  [Callback]ModelCheckpoint{'monitor': None, 'mode': 'min', 'every_n_train_steps': 0, 'every_n_epochs': 1, 'train_time_interval': None, 'save_on_train_epoch_end': False}.on_sanity_check_start             \t|  1.9134e-06     \t|  1              \t|  1.9134e-06     \t|  1.3958e-06     \t|\n",
      "|  [Callback]ModelSummary.on_configure_sharded_model                                                                                                                                                         \t|  1.9036e-06     \t|  1              \t|  1.9036e-06     \t|  1.3887e-06     \t|\n",
      "|  [Callback]ModelSummary.teardown                                                                                                                                                                           \t|  1.8938e-06     \t|  1              \t|  1.8938e-06     \t|  1.3815e-06     \t|\n",
      "|  [Callback]ModelCheckpoint{'monitor': None, 'mode': 'min', 'every_n_train_steps': 0, 'every_n_epochs': 1, 'train_time_interval': None, 'save_on_train_epoch_end': False}.on_fit_end                        \t|  1.8831e-06     \t|  1              \t|  1.8831e-06     \t|  1.3737e-06     \t|\n",
      "|  [Callback]ModelCheckpoint{'monitor': None, 'mode': 'min', 'every_n_train_steps': 0, 'every_n_epochs': 1, 'train_time_interval': None, 'save_on_train_epoch_end': False}.on_train_epoch_start              \t|  1.8538e-06     \t|  1              \t|  1.8538e-06     \t|  1.3523e-06     \t|\n",
      "|  [Callback]GradientAccumulationScheduler.on_fit_end                                                                                                                                                        \t|  1.844e-06      \t|  1              \t|  1.844e-06      \t|  1.3452e-06     \t|\n",
      "|  [Callback]ModelSummary.on_before_accelerator_backend_setup                                                                                                                                                \t|  1.8328e-06     \t|  1              \t|  1.8328e-06     \t|  1.337e-06      \t|\n",
      "|  [Callback]ModelCheckpoint{'monitor': None, 'mode': 'min', 'every_n_train_steps': 0, 'every_n_epochs': 1, 'train_time_interval': None, 'save_on_train_epoch_end': None}.on_before_accelerator_backend_setup\t|  1.8328e-06     \t|  1              \t|  1.8328e-06     \t|  1.337e-06      \t|\n",
      "|  [Callback]ModelSummary.on_pretrain_routine_start                                                                                                                                                          \t|  1.8328e-06     \t|  1              \t|  1.8328e-06     \t|  1.337e-06      \t|\n",
      "|  [Callback]GradientAccumulationScheduler.on_train_end                                                                                                                                                      \t|  1.8231e-06     \t|  1              \t|  1.8231e-06     \t|  1.3299e-06     \t|\n",
      "|  [Callback]ModelCheckpoint{'monitor': None, 'mode': 'min', 'every_n_train_steps': 0, 'every_n_epochs': 1, 'train_time_interval': None, 'save_on_train_epoch_end': False}.on_sanity_check_end               \t|  1.8128e-06     \t|  1              \t|  1.8128e-06     \t|  1.3224e-06     \t|\n",
      "|  [LightningModule]CNN.on_fit_end                                                                                                                                                                           \t|  1.783e-06      \t|  1              \t|  1.783e-06      \t|  1.3007e-06     \t|\n",
      "|  [Callback]ModelCheckpoint{'monitor': None, 'mode': 'min', 'every_n_train_steps': 0, 'every_n_epochs': 1, 'train_time_interval': None, 'save_on_train_epoch_end': False}.on_pretrain_routine_start         \t|  1.7532e-06     \t|  1              \t|  1.7532e-06     \t|  1.2789e-06     \t|\n",
      "|  [Callback]ModelCheckpoint{'monitor': None, 'mode': 'min', 'every_n_train_steps': 0, 'every_n_epochs': 1, 'train_time_interval': None, 'save_on_train_epoch_end': False}.teardown                          \t|  1.6531e-06     \t|  1              \t|  1.6531e-06     \t|  1.2059e-06     \t|\n",
      "|  [Callback]GradientAccumulationScheduler.on_sanity_check_end                                                                                                                                               \t|  1.6526e-06     \t|  1              \t|  1.6526e-06     \t|  1.2056e-06     \t|\n",
      "|  [Callback]GradientAccumulationScheduler.teardown                                                                                                                                                          \t|  1.634e-06      \t|  1              \t|  1.634e-06      \t|  1.192e-06      \t|\n",
      "|  [Callback]GradientAccumulationScheduler.setup                                                                                                                                                             \t|  1.6131e-06     \t|  1              \t|  1.6131e-06     \t|  1.1767e-06     \t|\n",
      "|  [Callback]GradientAccumulationScheduler.on_before_accelerator_backend_setup                                                                                                                               \t|  1.553e-06      \t|  1              \t|  1.553e-06      \t|  1.1329e-06     \t|\n",
      "|  [Callback]ModelCheckpoint{'monitor': None, 'mode': 'min', 'every_n_train_steps': 0, 'every_n_epochs': 1, 'train_time_interval': None, 'save_on_train_epoch_end': False}.on_pretrain_routine_end           \t|  1.533e-06      \t|  1              \t|  1.533e-06      \t|  1.1183e-06     \t|\n",
      "|  [Callback]GradientAccumulationScheduler.on_pretrain_routine_start                                                                                                                                         \t|  1.5129e-06     \t|  1              \t|  1.5129e-06     \t|  1.1037e-06     \t|\n",
      "|  [Callback]ModelSummary.on_pretrain_routine_end                                                                                                                                                            \t|  1.4929e-06     \t|  1              \t|  1.4929e-06     \t|  1.089e-06      \t|\n",
      "|  [Callback]GradientAccumulationScheduler.on_configure_sharded_model                                                                                                                                        \t|  1.4831e-06     \t|  1              \t|  1.4831e-06     \t|  1.0819e-06     \t|\n",
      "|  [LightningModule]CNN.setup                                                                                                                                                                                \t|  1.4724e-06     \t|  1              \t|  1.4724e-06     \t|  1.0741e-06     \t|\n",
      "|  [Callback]GradientAccumulationScheduler.on_pretrain_routine_end                                                                                                                                           \t|  1.4422e-06     \t|  1              \t|  1.4422e-06     \t|  1.052e-06      \t|\n",
      "|  [LightningModule]CNN.configure_sharded_model                                                                                                                                                              \t|  1.3127e-06     \t|  1              \t|  1.3127e-06     \t|  9.5758e-07     \t|\n",
      "|  [LightningModule]CNN.on_pretrain_routine_end                                                                                                                                                              \t|  1.1018e-06     \t|  1              \t|  1.1018e-06     \t|  8.037e-07      \t|\n",
      "|  [LightningModule]CNN.on_train_end                                                                                                                                                                         \t|  1.0421e-06     \t|  1              \t|  1.0421e-06     \t|  7.6022e-07     \t|\n",
      "|  [LightningModule]CNN.teardown                                                                                                                                                                             \t|  1.0119e-06     \t|  1              \t|  1.0119e-06     \t|  7.3814e-07     \t|\n",
      "|  [LightningModule]CNN.on_train_epoch_start                                                                                                                                                                 \t|  9.7184e-07     \t|  1              \t|  9.7184e-07     \t|  7.0893e-07     \t|\n",
      "|  [Strategy]SingleDeviceStrategy.on_train_start                                                                                                                                                             \t|  9.3179e-07     \t|  1              \t|  9.3179e-07     \t|  6.7972e-07     \t|\n",
      "|  [LightningModule]CNN.on_pretrain_routine_start                                                                                                                                                            \t|  9.0199e-07     \t|  1              \t|  9.0199e-07     \t|  6.5798e-07     \t|\n",
      "|  [LightningModule]CNN.on_train_start                                                                                                                                                                       \t|  8.5216e-07     \t|  1              \t|  8.5216e-07     \t|  6.2163e-07     \t|\n",
      "|  [Strategy]SingleDeviceStrategy.on_train_end                                                                                                                                                               \t|  8.4098e-07     \t|  1              \t|  8.4098e-07     \t|  6.1348e-07     \t|\n",
      "------------------------------------------------------------------------------------------------------------------------------------------------------------------------------------------------------------------------------------------------------------------------------------------------------------------\n",
      "\n"
     ]
    },
    {
     "name": "stdout",
     "output_type": "stream",
     "text": [
      "CPU times: user 2min 6s, sys: 12.8 s, total: 2min 19s\n",
      "Wall time: 2min 18s\n"
     ]
    }
   ],
   "source": [
    "%%time\n",
    "from torch.utils.data import DataLoader\n",
    "import pytorch_lightning as pl\n",
    "from pytorch_lightning.loggers import CometLogger\n",
    "#TODO more workers?\n",
    "train_loader = DataLoader(train_dset, batch_size=32, num_workers=32,\n",
    "                          pin_memory=True, persistent_workers=True)\n",
    "valid_loader = DataLoader(valid_dset, batch_size=32, num_workers=32,\n",
    "                          pin_memory=True, persistent_workers=True)\n",
    "\n",
    "\n",
    "logger = CometLogger(api_key=\"TEVQbgxxvilM1WdTyqZLJ57ac\", project_name='RNAModif')\n",
    "trainer= pl.Trainer(\n",
    "    max_steps = 10000, logger=logger, accelerator='gpu', #max_epochs=-1,\n",
    "    auto_lr_find=False, val_check_interval=500, log_every_n_steps=500, profiler=\"simple\",benchmark=True) #try benchmark=tru\n",
    "trainer.fit(model, train_loader, valid_loader)\n",
    "\n"
   ]
  },
  {
   "cell_type": "code",
   "execution_count": 16,
   "id": "8985e5d7-1cdb-4a65-9a67-e9a64d3ba7a7",
   "metadata": {},
   "outputs": [],
   "source": [
    "import torch\n",
    "torch.save(trainer.model.state_dict(), './saved_models/test_model')"
   ]
  },
  {
   "cell_type": "code",
   "execution_count": 17,
   "id": "fba377bb-e2e6-48f2-b4cc-32dee4c88159",
   "metadata": {},
   "outputs": [
    {
     "data": {
      "text/plain": [
       "<All keys matched successfully>"
      ]
     },
     "execution_count": 17,
     "metadata": {},
     "output_type": "execute_result"
    }
   ],
   "source": [
    "the_model = model = CNN(1e-5)\n",
    "the_model.load_state_dict(torch.load('./saved_models/test_model'))\n"
   ]
  },
  {
   "cell_type": "code",
   "execution_count": 226,
   "id": "bfab61de-4bb3-4268-99c2-b6debc307706",
   "metadata": {},
   "outputs": [
    {
     "name": "stderr",
     "output_type": "stream",
     "text": [
      "/tmp/ipykernel_567749/3530096449.py:8: UserWarning: To copy construct from a tensor, it is recommended to use sourceTensor.clone().detach() or sourceTensor.clone().detach().requires_grad_(True), rather than torch.tensor(sourceTensor).\n",
      "  inp = torch.tensor(x)[0:1,:,:]\n"
     ]
    },
    {
     "data": {
      "image/png": "[encoded data removed]",
      "text/plain": [
       "<Figure size 1080x216 with 2 Axes>"
      ]
     },
     "metadata": {
      "needs_background": "light"
     },
     "output_type": "display_data"
    }
   ],
   "source": [
    "import captum\n",
    "from captum.attr import LayerIntegratedGradients, TokenReferenceBase, visualization\n",
    "from captum.attr import IntegratedGradients\n",
    "from matplotlib import pyplot as plt\n",
    "import seaborn as sns\n",
    "\n",
    "#TODO integrate basecaller + compute how much attention does my model pay to Us vs other bases\n",
    "x, y = next(iter(valid_loader))\n",
    "inp = torch.tensor(x)[0:1,:,:]\n",
    "baseline = torch.zeros(inp.shape)\n",
    "\n",
    "ig = IntegratedGradients(the_model)\n",
    "attributions, delta = ig.attribute(inp, baseline, target=0, return_convergence_delta=True)\n",
    "# print('IG Attributions:', attributions.shape)\n",
    "# print('Convergence Delta:', delta.shape)\n",
    "\n",
    "figure_name = plt.figure(figsize=(15, 3))\n",
    "signal = x[0,0,:].numpy()\n",
    "signal_norm = (signal/(2*np.max(np.abs(signal))))+0.5\n",
    "\n",
    "plt.plot(signal_norm, zorder=1, color='black')\n",
    "heatmap = sns.heatmap(attributions[0,:,:], zorder=0,cbar=True, cmap='seismic_r', center=0)\n",
    "\n",
    "plt.show()"
   ]
  }
 ],
 "metadata": {
  "kernelspec": {
   "display_name": "Python [conda env:RNAmodEnv]",
   "language": "python",
   "name": "conda-env-RNAmodEnv-py"
  },
  "language_info": {
   "codemirror_mode": {
    "name": "ipython",
    "version": 3
   },
   "file_extension": ".py",
   "mimetype": "text/x-python",
   "name": "python",
   "nbconvert_exporter": "python",
   "pygments_lexer": "ipython3",
   "version": "3.8.13"
  }
 },
 "nbformat": 4,
 "nbformat_minor": 5
}
