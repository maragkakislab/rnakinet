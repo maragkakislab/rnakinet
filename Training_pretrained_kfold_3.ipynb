{
 "cells": [
  {
   "cell_type": "code",
   "execution_count": null,
   "id": "767743c7-4f1c-4ba9-8d8b-5a81f14d9754",
   "metadata": {},
   "outputs": [
    {
     "name": "stderr",
     "output_type": "stream",
     "text": [
      "/home/jovyan/my-conda-envs/RNAmodEnv/lib/python3.8/site-packages/torchvision/io/image.py:13: UserWarning: Failed to load image Python extension: /home/jovyan/my-conda-envs/RNAmodEnv/lib/python3.8/site-packages/torchvision/image.so: undefined symbol: _ZN3c106detail19maybe_wrap_dim_slowEllb\n",
      "  warn(f\"Failed to load image Python extension: {e}\")\n"
     ]
    },
    {
     "name": "stdout",
     "output_type": "stream",
     "text": [
      "CURRENT FOLD 3/5\n",
      "valid files indicies\n",
      "[8, 14, 17, 18, 25, 41, 43, 49, 53, 54, 56, 58, 59, 62, 68, 69, 74, 80, 83, 90, 92, 93, 94, 102, 116, 118, 136, 142, 145, 147, 155, 158, 160, 162, 163, 165, 169, 171, 174, 175, 176, 179, 180, 193, 197, 198, 200, 203, 209, 212, 228, 236, 243, 251, 265]\n",
      "[12, 18, 19, 21, 22, 26, 38, 47, 52, 53, 54, 55, 57, 59, 65, 66, 68, 75, 76, 81, 82, 83, 90, 91, 102, 107, 113, 116, 121, 125, 127, 128, 134, 136, 139, 141, 144, 145, 154, 156, 157, 175, 178, 179, 181, 183, 186, 189, 195, 208, 210, 211, 220, 224, 226, 235, 240, 250, 258, 270, 278, 279, 282, 283, 286, 287, 309, 313, 324, 326, 334, 339, 341, 351, 353, 360, 361, 362, 368, 380, 385, 389, 391, 394, 397, 399, 411, 425, 430, 433, 440, 445, 449, 450, 468, 487, 489, 496, 504, 508, 511, 512, 514, 515]\n",
      "train files indicies\n",
      "[0, 1, 2, 3, 4, 5, 6, 7, 9, 10, 11, 12, 13, 15, 16, 19, 20, 21, 22, 23, 24, 26, 27, 28, 29, 30, 31, 32, 33, 34, 35, 36, 37, 38, 39, 40, 42, 44, 45, 46, 47, 48, 50, 51, 52, 55, 57, 60, 61, 63, 64, 65, 66, 67, 70, 71, 72, 73, 75, 76, 77, 78, 79, 81, 82, 84, 85, 86, 87, 88, 89, 91, 95, 96, 97, 98, 99, 100, 101, 103, 104, 105, 106, 107, 108, 109, 110, 111, 112, 113, 114, 115, 117, 119, 120, 121, 122, 123, 124, 125, 126, 127, 128, 129, 130, 131, 132, 133, 134, 135, 137, 138, 139, 140, 141, 143, 144, 146, 148, 149, 150, 151, 152, 153, 154, 156, 157, 159, 161, 164, 166, 167, 168, 170, 172, 173, 177, 178, 181, 182, 183, 184, 185, 186, 187, 188, 189, 190, 191, 192, 194, 195, 196, 199, 201, 202, 204, 205, 206, 207, 208, 210, 211, 213, 214, 215, 216, 217, 218, 219, 220, 221, 222, 223, 224, 225, 226, 227, 229, 230, 231, 232, 233, 234, 235, 237, 238, 239, 240, 241, 242, 244, 245, 246, 247, 248, 249, 250, 252, 253, 254, 255, 256, 257, 258, 259, 260, 261, 262, 263, 264, 266, 267, 268, 269, 270, 271, 272, 273, 274]\n",
      "[0, 1, 2, 3, 4, 5, 6, 7, 8, 9, 10, 11, 13, 14, 15, 16, 17, 20, 23, 24, 25, 27, 28, 29, 30, 31, 32, 33, 34, 35, 36, 37, 39, 40, 41, 42, 43, 44, 45, 46, 48, 49, 50, 51, 56, 58, 60, 61, 62, 63, 64, 67, 69, 70, 71, 72, 73, 74, 77, 78, 79, 80, 84, 85, 86, 87, 88, 89, 92, 93, 94, 95, 96, 97, 98, 99, 100, 101, 103, 104, 105, 106, 108, 109, 110, 111, 112, 114, 115, 117, 118, 119, 120, 122, 123, 124, 126, 129, 130, 131, 132, 133, 135, 137, 138, 140, 142, 143, 146, 147, 148, 149, 150, 151, 152, 153, 155, 158, 159, 160, 161, 162, 163, 164, 165, 166, 167, 168, 169, 170, 171, 172, 173, 174, 176, 177, 180, 182, 184, 185, 187, 188, 190, 191, 192, 193, 194, 196, 197, 198, 199, 200, 201, 202, 203, 204, 205, 206, 207, 209, 212, 213, 214, 215, 216, 217, 218, 219, 221, 222, 223, 225, 227, 228, 229, 230, 231, 232, 233, 234, 236, 237, 238, 239, 241, 242, 243, 244, 245, 246, 247, 248, 249, 251, 252, 253, 254, 255, 256, 257, 259, 260, 261, 262, 263, 264, 265, 266, 267, 268, 269, 271, 272, 273, 274, 275, 276, 277, 280, 281, 284, 285, 288, 289, 290, 291, 292, 293, 294, 295, 296, 297, 298, 299, 300, 301, 302, 303, 304, 305, 306, 307, 308, 310, 311, 312, 314, 315, 316, 317, 318, 319, 320, 321, 322, 323, 325, 327, 328, 329, 330, 331, 332, 333, 335, 336, 337, 338, 340, 342, 343, 344, 345, 346, 347, 348, 349, 350, 352, 354, 355, 356, 357, 358, 359, 363, 364, 365, 366, 367, 369, 370, 371, 372, 373, 374, 375, 376, 377, 378, 379, 381, 382, 383, 384, 386, 387, 388, 390, 392, 393, 395, 396, 398, 400, 401, 402, 403, 404, 405, 406, 407, 408, 409, 410, 412, 413, 414, 415, 416, 417, 418, 419, 420, 421, 422, 423, 424, 426, 427, 428, 429, 431, 432, 434, 435, 436, 437, 438, 439, 441, 442, 443, 444, 446, 447, 448, 451, 452, 453, 454, 455, 456, 457, 458, 459, 460, 461, 462, 463, 464, 465, 466, 467, 469, 470, 471, 472, 473, 474, 475, 476, 477, 478, 479, 480, 481, 482, 483, 484, 485, 486, 488, 490, 491, 492, 493, 494, 495, 497, 498, 499, 500, 501, 502, 503, 505, 506, 507, 509, 510, 513, 516, 517, 518, 519]\n"
     ]
    },
    {
     "name": "stderr",
     "output_type": "stream",
     "text": [
      "CometLogger will be initialized in online mode\n",
      "Using 16bit native Automatic Mixed Precision (AMP)\n",
      "GPU available: True (cuda), used: True\n",
      "TPU available: False, using: 0 TPU cores\n",
      "IPU available: False, using: 0 IPUs\n",
      "HPU available: False, using: 0 HPUs\n",
      "LOCAL_RANK: 0 - CUDA_VISIBLE_DEVICES: [0]\n",
      "\n",
      "  | Name  | Type       | Params\n",
      "-------------------------------------\n",
      "0 | model | Sequential | 523 K \n",
      "1 | acc   | Accuracy   | 0     \n",
      "-------------------------------------\n",
      "521 K     Trainable params\n",
      "1.9 K     Non-trainable params\n",
      "523 K     Total params\n",
      "1.046     Total estimated model params size (MB)\n"
     ]
    },
    {
     "data": {
      "application/vnd.jupyter.widget-view+json": {
       "model_id": "",
       "version_major": 2,
       "version_minor": 0
      },
      "text/plain": [
       "Sanity Checking: 0it [00:00, ?it/s]"
      ]
     },
     "metadata": {},
     "output_type": "display_data"
    },
    {
     "data": {
      "application/vnd.jupyter.widget-view+json": {
       "model_id": "e21d4654055046e9a6f4fbccae0d9192",
       "version_major": 2,
       "version_minor": 0
      },
      "text/plain": [
       "Training: 0it [00:00, ?it/s]"
      ]
     },
     "metadata": {},
     "output_type": "display_data"
    },
    {
     "name": "stderr",
     "output_type": "stream",
     "text": [
      "/home/jovyan/my-conda-envs/RNAmodEnv/lib/python3.8/site-packages/torch/optim/lr_scheduler.py:131: UserWarning: Detected call of `lr_scheduler.step()` before `optimizer.step()`. In PyTorch 1.1.0 and later, you should call them in the opposite order: `optimizer.step()` before `lr_scheduler.step()`.  Failure to do this will result in PyTorch skipping the first value of the learning rate schedule. See more details at https://pytorch.org/docs/stable/optim.html#how-to-adjust-learning-rate\n",
      "  warnings.warn(\"Detected call of `lr_scheduler.step()` before `optimizer.step()`. \"\n"
     ]
    }
   ],
   "source": [
    "from kfold_run import run_kfold\n",
    "\n",
    "total_k = 5\n",
    "current_k = 3\n",
    "run_kfold(total_k=total_k, current_k=current_k)"
   ]
  }
 ],
 "metadata": {
  "kernelspec": {
   "display_name": "Python [conda env:RNAmodEnv]",
   "language": "python",
   "name": "conda-env-RNAmodEnv-py"
  },
  "language_info": {
   "codemirror_mode": {
    "name": "ipython",
    "version": 3
   },
   "file_extension": ".py",
   "mimetype": "text/x-python",
   "name": "python",
   "nbconvert_exporter": "python",
   "pygments_lexer": "ipython3",
   "version": "3.8.13"
  }
 },
 "nbformat": 4,
 "nbformat_minor": 5
}
