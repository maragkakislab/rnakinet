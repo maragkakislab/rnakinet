{
 "cells": [
  {
   "cell_type": "code",
   "execution_count": 1,
   "id": "126eef1e-ce61-4853-97d5-f59403bbea98",
   "metadata": {},
   "outputs": [
    {
     "name": "stderr",
     "output_type": "stream",
     "text": [
      "/home/jovyan/my-conda-envs/RNAmodEnv/lib/python3.8/site-packages/torchvision/io/image.py:13: UserWarning: Failed to load image Python extension: /home/jovyan/my-conda-envs/RNAmodEnv/lib/python3.8/site-packages/torchvision/image.so: undefined symbol: _ZN3c106detail19maybe_wrap_dim_slowEllb\n",
      "  warn(f\"Failed to load image Python extension: {e}\")\n"
     ]
    }
   ],
   "source": [
    "from bonito_pretrained import BonitoPretrained\n",
    "#HIGH LR\n",
    "model = BonitoPretrained(pretrained_lr=1e-3, my_layers_lr=1e-3, warmup_steps = 10000)"
   ]
  },
  {
   "cell_type": "code",
   "execution_count": 2,
   "id": "d2d8ec3a-2a40-45a3-9681-fda92347d41b",
   "metadata": {},
   "outputs": [
    {
     "name": "stdout",
     "output_type": "stream",
     "text": [
      "valid files indicies\n",
      "[12, 16, 44, 52, 57, 71, 114, 125, 140, 216]\n",
      "[15, 51, 95, 170, 218, 242, 416, 442, 492, 497]\n",
      "train files indicies\n",
      "[0, 1, 2, 3, 4, 5, 6, 7, 8, 9, 10, 11, 13, 14, 15, 17, 18, 19, 20, 21, 22, 23, 24, 25, 26, 27, 28, 29, 30, 31, 32, 33, 34, 35, 36, 37, 38, 39, 40, 41, 42, 43, 45, 46, 47, 48, 49, 50, 51, 53, 54, 55, 56, 58, 59, 60, 61, 62, 63, 64, 65, 66, 67, 68, 69, 70, 72, 73, 74, 75, 76, 77, 78, 79, 80, 81, 82, 83, 84, 85, 86, 87, 88, 89, 90, 91, 92, 93, 94, 95, 96, 97, 98, 99, 100, 101, 102, 103, 104, 105, 106, 107, 108, 109, 110, 111, 112, 113, 115, 116, 117, 118, 119, 120, 121, 122, 123, 124, 126, 127, 128, 129, 130, 131, 132, 133, 134, 135, 136, 137, 138, 139, 141, 142, 143, 144, 145, 146, 147, 148, 149, 150, 151, 152, 153, 154, 155, 156, 157, 158, 159, 160, 161, 162, 163, 164, 165, 166, 167, 168, 169, 170, 171, 172, 173, 174, 175, 176, 177, 178, 179, 180, 181, 182, 183, 184, 185, 186, 187, 188, 189, 190, 191, 192, 193, 194, 195, 196, 197, 198, 199, 200, 201, 202, 203, 204, 205, 206, 207, 208, 209, 210, 211, 212, 213, 214, 215, 217, 218, 219, 220, 221, 222, 223, 224, 225, 226, 227, 228, 229, 230, 231, 232, 233, 234, 235, 236, 237, 238, 239, 240, 241, 242, 243, 244, 245, 246, 247, 248, 249, 250, 251, 252, 253, 254, 255, 256, 257, 258, 259, 260, 261, 262, 263, 264, 265, 266, 267, 268, 269, 270, 271, 272, 273, 274]\n",
      "[0, 1, 2, 3, 4, 5, 6, 7, 8, 9, 10, 11, 12, 13, 14, 16, 17, 18, 19, 20, 21, 22, 23, 24, 25, 26, 27, 28, 29, 30, 31, 32, 33, 34, 35, 36, 37, 38, 39, 40, 41, 42, 43, 44, 45, 46, 47, 48, 49, 50, 52, 53, 54, 55, 56, 57, 58, 59, 60, 61, 62, 63, 64, 65, 66, 67, 68, 69, 70, 71, 72, 73, 74, 75, 76, 77, 78, 79, 80, 81, 82, 83, 84, 85, 86, 87, 88, 89, 90, 91, 92, 93, 94, 96, 97, 98, 99, 100, 101, 102, 103, 104, 105, 106, 107, 108, 109, 110, 111, 112, 113, 114, 115, 116, 117, 118, 119, 120, 121, 122, 123, 124, 125, 126, 127, 128, 129, 130, 131, 132, 133, 134, 135, 136, 137, 138, 139, 140, 141, 142, 143, 144, 145, 146, 147, 148, 149, 150, 151, 152, 153, 154, 155, 156, 157, 158, 159, 160, 161, 162, 163, 164, 165, 166, 167, 168, 169, 171, 172, 173, 174, 175, 176, 177, 178, 179, 180, 181, 182, 183, 184, 185, 186, 187, 188, 189, 190, 191, 192, 193, 194, 195, 196, 197, 198, 199, 200, 201, 202, 203, 204, 205, 206, 207, 208, 209, 210, 211, 212, 213, 214, 215, 216, 217, 219, 220, 221, 222, 223, 224, 225, 226, 227, 228, 229, 230, 231, 232, 233, 234, 235, 236, 237, 238, 239, 240, 241, 243, 244, 245, 246, 247, 248, 249, 250, 251, 252, 253, 254, 255, 256, 257, 258, 259, 260, 261, 262, 263, 264, 265, 266, 267, 268, 269, 270, 271, 272, 273, 274, 275, 276, 277, 278, 279, 280, 281, 282, 283, 284, 285, 286, 287, 288, 289, 290, 291, 292, 293, 294, 295, 296, 297, 298, 299, 300, 301, 302, 303, 304, 305, 306, 307, 308, 309, 310, 311, 312, 313, 314, 315, 316, 317, 318, 319, 320, 321, 322, 323, 324, 325, 326, 327, 328, 329, 330, 331, 332, 333, 334, 335, 336, 337, 338, 339, 340, 341, 342, 343, 344, 345, 346, 347, 348, 349, 350, 351, 352, 353, 354, 355, 356, 357, 358, 359, 360, 361, 362, 363, 364, 365, 366, 367, 368, 369, 370, 371, 372, 373, 374, 375, 376, 377, 378, 379, 380, 381, 382, 383, 384, 385, 386, 387, 388, 389, 390, 391, 392, 393, 394, 395, 396, 397, 398, 399, 400, 401, 402, 403, 404, 405, 406, 407, 408, 409, 410, 411, 412, 413, 414, 415, 417, 418, 419, 420, 421, 422, 423, 424, 425, 426, 427, 428, 429, 430, 431, 432, 433, 434, 435, 436, 437, 438, 439, 440, 441, 443, 444, 445, 446, 447, 448, 449, 450, 451, 452, 453, 454, 455, 456, 457, 458, 459, 460, 461, 462, 463, 464, 465, 466, 467, 468, 469, 470, 471, 472, 473, 474, 475, 476, 477, 478, 479, 480, 481, 482, 483, 484, 485, 486, 487, 488, 489, 490, 491, 493, 494, 495, 496, 498, 499, 500, 501, 502, 503, 504, 505, 506, 507, 508, 509, 510, 511, 512, 513, 514, 515, 516, 517, 518, 519]\n"
     ]
    }
   ],
   "source": [
    "from dataloading2 import nanopore_datamodule\n",
    "dm = nanopore_datamodule(batch_size=64, valid_limit=10000, workers=32)"
   ]
  },
  {
   "cell_type": "code",
   "execution_count": 3,
   "id": "ff0a2bc8-5006-4397-8a59-1dd70975a15a",
   "metadata": {},
   "outputs": [
    {
     "name": "stderr",
     "output_type": "stream",
     "text": [
      "CometLogger will be initialized in online mode\n",
      "Using 16bit native Automatic Mixed Precision (AMP)\n",
      "GPU available: True (cuda), used: True\n",
      "TPU available: False, using: 0 TPU cores\n",
      "IPU available: False, using: 0 IPUs\n",
      "HPU available: False, using: 0 HPUs\n",
      "/home/jovyan/my-conda-envs/RNAmodEnv/lib/python3.8/site-packages/pytorch_lightning/callbacks/model_checkpoint.py:616: UserWarning: Checkpoint directory /home/jovyan/RNAModif/checkpoints_pl/bonito_test exists and is not empty.\n",
      "  rank_zero_warn(f\"Checkpoint directory {dirpath} exists and is not empty.\")\n",
      "LOCAL_RANK: 0 - CUDA_VISIBLE_DEVICES: [0]\n",
      "\n",
      "  | Name  | Type            | Params\n",
      "------------------------------------------\n",
      "0 | model | Sequential      | 523 K \n",
      "1 | acc   | Accuracy        | 0     \n",
      "2 | cm    | ConfusionMatrix | 0     \n",
      "------------------------------------------\n",
      "521 K     Trainable params\n",
      "1.9 K     Non-trainable params\n",
      "523 K     Total params\n",
      "1.046     Total estimated model params size (MB)\n"
     ]
    },
    {
     "data": {
      "application/vnd.jupyter.widget-view+json": {
       "model_id": "",
       "version_major": 2,
       "version_minor": 0
      },
      "text/plain": [
       "Sanity Checking: 0it [00:00, ?it/s]"
      ]
     },
     "metadata": {},
     "output_type": "display_data"
    },
    {
     "name": "stderr",
     "output_type": "stream",
     "text": [
      "/home/jovyan/my-conda-envs/RNAmodEnv/lib/python3.8/site-packages/pytorch_lightning/trainer/connectors/data_connector.py:219: PossibleUserWarning: The dataloader, val_dataloader 0, does not have many workers which may be a bottleneck. Consider increasing the value of the `num_workers` argument` (try 128 which is the number of cpus on this machine) in the `DataLoader` init to improve performance.\n",
      "  rank_zero_warn(\n",
      "/home/jovyan/my-conda-envs/RNAmodEnv/lib/python3.8/site-packages/torchmetrics/utilities/prints.py:36: UserWarning: 2 nan values found in confusion matrix have been replaced with zeros.\n",
      "  warnings.warn(*args, **kwargs)\n"
     ]
    },
    {
     "data": {
      "application/vnd.jupyter.widget-view+json": {
       "model_id": "98b6b43691b04b7a92e1788f05b16f07",
       "version_major": 2,
       "version_minor": 0
      },
      "text/plain": [
       "Training: 0it [00:00, ?it/s]"
      ]
     },
     "metadata": {},
     "output_type": "display_data"
    },
    {
     "name": "stderr",
     "output_type": "stream",
     "text": [
      "/home/jovyan/my-conda-envs/RNAmodEnv/lib/python3.8/site-packages/torch/optim/lr_scheduler.py:131: UserWarning: Detected call of `lr_scheduler.step()` before `optimizer.step()`. In PyTorch 1.1.0 and later, you should call them in the opposite order: `optimizer.step()` before `lr_scheduler.step()`.  Failure to do this will result in PyTorch skipping the first value of the learning rate schedule. See more details at https://pytorch.org/docs/stable/optim.html#how-to-adjust-learning-rate\n",
      "  warnings.warn(\"Detected call of `lr_scheduler.step()` before `optimizer.step()`. \"\n",
      "COMET WARNING: Comet has disabled auto-logging functionality as it has been imported after the following ML modules: sklearn, torch. Metrics and hyperparameters can still be logged using comet_ml.log_metrics() and comet_ml.log_parameters()\n",
      "COMET WARNING: As you are running in a Jupyter environment, you will need to call `experiment.end()` when finished to ensure all metrics and code are logged before exiting.\n",
      "COMET INFO: Experiment is live on comet.ml https://www.comet.com/vlasta/rnamodif/529a7c486fa844e3a558b643898e0729\n",
      "\n"
     ]
    },
    {
     "data": {
      "application/vnd.jupyter.widget-view+json": {
       "model_id": "",
       "version_major": 2,
       "version_minor": 0
      },
      "text/plain": [
       "Validation: 0it [00:00, ?it/s]"
      ]
     },
     "metadata": {},
     "output_type": "display_data"
    },
    {
     "name": "stderr",
     "output_type": "stream",
     "text": [
      "/home/jovyan/my-conda-envs/RNAmodEnv/lib/python3.8/site-packages/torchmetrics/utilities/prints.py:36: UserWarning: 2 nan values found in confusion matrix have been replaced with zeros.\n",
      "  warnings.warn(*args, **kwargs)\n",
      "/home/jovyan/my-conda-envs/RNAmodEnv/lib/python3.8/site-packages/torchmetrics/utilities/prints.py:36: UserWarning: 2 nan values found in confusion matrix have been replaced with zeros.\n",
      "  warnings.warn(*args, **kwargs)\n"
     ]
    },
    {
     "data": {
      "application/vnd.jupyter.widget-view+json": {
       "model_id": "",
       "version_major": 2,
       "version_minor": 0
      },
      "text/plain": [
       "Validation: 0it [00:00, ?it/s]"
      ]
     },
     "metadata": {},
     "output_type": "display_data"
    },
    {
     "data": {
      "application/vnd.jupyter.widget-view+json": {
       "model_id": "",
       "version_major": 2,
       "version_minor": 0
      },
      "text/plain": [
       "Validation: 0it [00:00, ?it/s]"
      ]
     },
     "metadata": {},
     "output_type": "display_data"
    },
    {
     "data": {
      "application/vnd.jupyter.widget-view+json": {
       "model_id": "",
       "version_major": 2,
       "version_minor": 0
      },
      "text/plain": [
       "Validation: 0it [00:00, ?it/s]"
      ]
     },
     "metadata": {},
     "output_type": "display_data"
    },
    {
     "data": {
      "application/vnd.jupyter.widget-view+json": {
       "model_id": "",
       "version_major": 2,
       "version_minor": 0
      },
      "text/plain": [
       "Validation: 0it [00:00, ?it/s]"
      ]
     },
     "metadata": {},
     "output_type": "display_data"
    },
    {
     "name": "stderr",
     "output_type": "stream",
     "text": [
      "`Trainer.fit` stopped: `max_steps=1000` reached.\n",
      "COMET INFO: ---------------------------\n",
      "COMET INFO: Comet.ml Experiment Summary\n",
      "COMET INFO: ---------------------------\n",
      "COMET INFO:   Data:\n",
      "COMET INFO:     display_summary_level : 1\n",
      "COMET INFO:     url                   : https://www.comet.com/vlasta/rnamodif/529a7c486fa844e3a558b643898e0729\n",
      "COMET INFO:   Metrics [count] (min, max):\n",
      "COMET INFO:     learning rate (custom part) [5]     : (0.0003466666676104069, 0.00039999998989515007)\n",
      "COMET INFO:     learning rate (pretrained part) [5] : (0.0003466666676104069, 0.00039999998989515007)\n",
      "COMET INFO:     train acc_epoch                     : 0.5509843826293945\n",
      "COMET INFO:     train acc_step [5]                  : (0.484375, 0.609375)\n",
      "COMET INFO:     train false_negatives_perc_epoch    : 0.09334374964237213\n",
      "COMET INFO:     train false_negatives_perc_step [5] : (0.0, 0.1875)\n",
      "COMET INFO:     train false_positives_perc_epoch    : 0.8046875\n",
      "COMET INFO:     train false_positives_perc_step [5] : (0.65625, 0.96875)\n",
      "COMET INFO:     train true_negatives_perc_epoch     : 0.9066562652587891\n",
      "COMET INFO:     train true_negatives_perc_step [5]  : (0.8125, 1.0)\n",
      "COMET INFO:     train true_positives_perc_epoch     : 0.1953125\n",
      "COMET INFO:     train true_positives_perc_step [5]  : (0.03125, 0.34375)\n",
      "COMET INFO:     train_loss_epoch                    : 0.6712828874588013\n",
      "COMET INFO:     train_loss_step [5]                 : (0.6396682262420654, 0.6834651231765747)\n",
      "COMET INFO:     valid acc [5]                       : (0.5077000260353088, 0.5968000292778015)\n",
      "COMET INFO:     valid false_negatives_perc [5]      : (0.004100000020116568, 0.07092857360839844)\n",
      "COMET INFO:     valid false_positives_perc [5]      : (0.33660000562667847, 0.49380001425743103)\n",
      "COMET INFO:     valid true_negatives_perc [5]       : (0.42987143993377686, 0.4966999888420105)\n",
      "COMET INFO:     valid true_positives_perc [5]       : (0.011800000444054604, 0.16899999976158142)\n",
      "COMET INFO:     valid_loss [5]                      : (0.6436578035354614, 0.6725468039512634)\n",
      "COMET INFO:   Uploads:\n",
      "COMET INFO:     conda-info               : 1\n",
      "COMET INFO:     conda-specification      : 1\n",
      "COMET INFO:     environment details      : 1\n",
      "COMET INFO:     filename                 : 1\n",
      "COMET INFO:     git metadata             : 1\n",
      "COMET INFO:     git-patch (uncompressed) : 1 (1.79 MB)\n",
      "COMET INFO:     installed packages       : 1\n",
      "COMET INFO:     notebook                 : 1\n",
      "COMET INFO:     os packages              : 1\n",
      "COMET INFO:     source_code              : 1\n",
      "COMET INFO: ---------------------------\n",
      "COMET WARNING: Comet has disabled auto-logging functionality as it has been imported after the following ML modules: sklearn, torch. Metrics and hyperparameters can still be logged using comet_ml.log_metrics() and comet_ml.log_parameters()\n",
      "COMET INFO: Uploading metrics, params, and assets to Comet before program termination (may take several seconds)\n",
      "COMET INFO: The Python SDK has 3600 seconds to finish before aborting...\n",
      "COMET INFO: Uploading 1 metrics, params and output messages\n",
      "FIT Profiler Report\n",
      "\n",
      "--------------------------------------------------------------------------------------------------------------------------------------------------------------------------------------------------------------------------------------------------------------------------------------------------------------------------\n",
      "|  Action                                                                                                                                                                                                            \t|  Mean duration (s)\t|  Num calls      \t|  Total time (s) \t|  Percentage %   \t|\n",
      "--------------------------------------------------------------------------------------------------------------------------------------------------------------------------------------------------------------------------------------------------------------------------------------------------------------------------\n",
      "|  Total                                                                                                                                                                                                             \t|  -              \t|  60136          \t|  93.823         \t|  100 %          \t|\n",
      "--------------------------------------------------------------------------------------------------------------------------------------------------------------------------------------------------------------------------------------------------------------------------------------------------------------------------\n",
      "|  run_training_epoch                                                                                                                                                                                                \t|  64.808         \t|  1              \t|  64.808         \t|  69.074         \t|\n",
      "|  run_training_batch                                                                                                                                                                                                \t|  0.039751       \t|  1000           \t|  39.751         \t|  42.368         \t|\n",
      "|  [LightningModule]BonitoPretrained.optimizer_step                                                                                                                                                                  \t|  0.039464       \t|  1000           \t|  39.464         \t|  42.062         \t|\n",
      "|  [LightningDataModule]nanopore_datamodule.setup                                                                                                                                                                    \t|  23.354         \t|  1              \t|  23.354         \t|  24.892         \t|\n",
      "|  [Strategy]SingleDeviceStrategy.backward                                                                                                                                                                           \t|  0.019496       \t|  1000           \t|  19.496         \t|  20.78          \t|\n",
      "|  [Strategy]SingleDeviceStrategy.training_step                                                                                                                                                                      \t|  0.017226       \t|  1000           \t|  17.226         \t|  18.36          \t|\n",
      "|  [Strategy]SingleDeviceStrategy.validation_step                                                                                                                                                                    \t|  0.016819       \t|  787            \t|  13.237         \t|  14.108         \t|\n",
      "|  [Callback]TQDMProgressBar.on_train_batch_end                                                                                                                                                                      \t|  0.0011412      \t|  1000           \t|  1.1412         \t|  1.2164         \t|\n",
      "|  [Callback]TQDMProgressBar.on_validation_batch_end                                                                                                                                                                 \t|  0.00087602     \t|  787            \t|  0.68943        \t|  0.73482        \t|\n",
      "|  [Strategy]SingleDeviceStrategy.batch_to_device                                                                                                                                                                    \t|  0.00035845     \t|  1787           \t|  0.64055        \t|  0.68272        \t|\n",
      "|  [TrainingEpochLoop].train_dataloader_next                                                                                                                                                                         \t|  0.00022457     \t|  1000           \t|  0.22457        \t|  0.23936        \t|\n",
      "|  [LightningModule]BonitoPretrained.optimizer_zero_grad                                                                                                                                                             \t|  0.00020361     \t|  1000           \t|  0.20361        \t|  0.21702        \t|\n",
      "|  [EvaluationEpochLoop].val_dataloader_idx_0_next                                                                                                                                                                   \t|  0.00025007     \t|  785            \t|  0.1963         \t|  0.20923        \t|\n",
      "|  [Callback]ModelCheckpoint{'monitor': 'valid_loss', 'mode': 'min', 'every_n_train_steps': 0, 'every_n_epochs': 1, 'train_time_interval': None, 'save_on_train_epoch_end': False}.on_validation_end                 \t|  0.032621       \t|  6              \t|  0.19572        \t|  0.20861        \t|\n",
      "|  [Callback]TQDMProgressBar.on_validation_start                                                                                                                                                                     \t|  0.011236       \t|  6              \t|  0.067415       \t|  0.071853       \t|\n",
      "|  [EvaluationEpochLoop].None_dataloader_idx_0_next                                                                                                                                                                  \t|  0.031306       \t|  2              \t|  0.062612       \t|  0.066734       \t|\n",
      "|  [Callback]ModelCheckpoint{'monitor': 'valid_loss', 'mode': 'min', 'every_n_train_steps': 0, 'every_n_epochs': 1, 'train_time_interval': None, 'save_on_train_epoch_end': False}.on_train_batch_end                \t|  2.178e-05      \t|  1000           \t|  0.02178        \t|  0.023214       \t|\n",
      "|  [Callback]TQDMProgressBar.on_validation_batch_start                                                                                                                                                               \t|  2.3475e-05     \t|  787            \t|  0.018474       \t|  0.019691       \t|\n",
      "|  [Callback]ModelCheckpoint{'monitor': 'valid_loss', 'mode': 'min', 'every_n_train_steps': 0, 'every_n_epochs': 1, 'train_time_interval': None, 'save_on_train_epoch_end': None}.setup                              \t|  0.015014       \t|  1              \t|  0.015014       \t|  0.016002       \t|\n",
      "|  [Callback]TQDMProgressBar.on_sanity_check_start                                                                                                                                                                   \t|  0.014478       \t|  1              \t|  0.014478       \t|  0.015431       \t|\n",
      "|  [Callback]TQDMProgressBar.on_train_start                                                                                                                                                                          \t|  0.012492       \t|  1              \t|  0.012492       \t|  0.013314       \t|\n",
      "|  [Callback]ModelSummary.on_train_batch_end                                                                                                                                                                         \t|  6.5373e-06     \t|  1000           \t|  0.0065373      \t|  0.0069677      \t|\n",
      "|  [Callback]TQDMProgressBar.on_after_backward                                                                                                                                                                       \t|  6.3954e-06     \t|  1000           \t|  0.0063954      \t|  0.0068165      \t|\n",
      "|  [Callback]TQDMProgressBar.on_before_optimizer_step                                                                                                                                                                \t|  5.4307e-06     \t|  1000           \t|  0.0054307      \t|  0.0057882      \t|\n",
      "|  [Callback]TQDMProgressBar.on_validation_end                                                                                                                                                                       \t|  0.00085274     \t|  6              \t|  0.0051165      \t|  0.0054533      \t|\n",
      "|  [Callback]ModelSummary.on_validation_batch_end                                                                                                                                                                    \t|  6.1315e-06     \t|  787            \t|  0.0048255      \t|  0.0051432      \t|\n",
      "|  [Callback]TQDMProgressBar.on_batch_start                                                                                                                                                                          \t|  4.4494e-06     \t|  1000           \t|  0.0044494      \t|  0.0047423      \t|\n",
      "|  [Callback]TQDMProgressBar.on_before_zero_grad                                                                                                                                                                     \t|  4.4006e-06     \t|  1000           \t|  0.0044006      \t|  0.0046903      \t|\n",
      "|  [Callback]TQDMProgressBar.on_before_backward                                                                                                                                                                      \t|  4.1614e-06     \t|  1000           \t|  0.0041614      \t|  0.0044353      \t|\n",
      "|  [Callback]ModelSummary.on_after_backward                                                                                                                                                                          \t|  4.0116e-06     \t|  1000           \t|  0.0040116      \t|  0.0042758      \t|\n",
      "|  [Callback]ModelSummary.on_before_optimizer_step                                                                                                                                                                   \t|  3.9674e-06     \t|  1000           \t|  0.0039674      \t|  0.0042286      \t|\n",
      "|  [Callback]ModelCheckpoint{'monitor': 'valid_loss', 'mode': 'min', 'every_n_train_steps': 0, 'every_n_epochs': 1, 'train_time_interval': None, 'save_on_train_epoch_end': False}.on_after_backward                 \t|  3.6785e-06     \t|  1000           \t|  0.0036785      \t|  0.0039207      \t|\n",
      "|  [Callback]ModelCheckpoint{'monitor': 'valid_loss', 'mode': 'min', 'every_n_train_steps': 0, 'every_n_epochs': 1, 'train_time_interval': None, 'save_on_train_epoch_end': False}.on_before_optimizer_step          \t|  3.6408e-06     \t|  1000           \t|  0.0036408      \t|  0.0038805      \t|\n",
      "|  [Callback]TQDMProgressBar.on_train_batch_start                                                                                                                                                                    \t|  3.6375e-06     \t|  1000           \t|  0.0036375      \t|  0.0038769      \t|\n",
      "|  [Callback]GradientAccumulationScheduler.on_after_backward                                                                                                                                                         \t|  3.5577e-06     \t|  1000           \t|  0.0035577      \t|  0.0037919      \t|\n",
      "|  [Callback]GradientAccumulationScheduler.on_before_optimizer_step                                                                                                                                                  \t|  3.5557e-06     \t|  1000           \t|  0.0035557      \t|  0.0037898      \t|\n",
      "|  [Callback]TQDMProgressBar.on_batch_end                                                                                                                                                                            \t|  3.523e-06      \t|  1000           \t|  0.003523       \t|  0.0037549      \t|\n",
      "|  [Callback]GradientAccumulationScheduler.on_train_batch_end                                                                                                                                                        \t|  3.4419e-06     \t|  1000           \t|  0.0034419      \t|  0.0036685      \t|\n",
      "|  [Callback]ModelSummary.on_batch_start                                                                                                                                                                             \t|  3.3467e-06     \t|  1000           \t|  0.0033467      \t|  0.0035671      \t|\n",
      "|  [Callback]ModelSummary.on_before_backward                                                                                                                                                                         \t|  3.1816e-06     \t|  1000           \t|  0.0031816      \t|  0.0033911      \t|\n",
      "|  [Callback]ModelSummary.on_train_batch_start                                                                                                                                                                       \t|  3.1602e-06     \t|  1000           \t|  0.0031602      \t|  0.0033682      \t|\n",
      "|  [Callback]ModelCheckpoint{'monitor': 'valid_loss', 'mode': 'min', 'every_n_train_steps': 0, 'every_n_epochs': 1, 'train_time_interval': None, 'save_on_train_epoch_end': False}.on_batch_start                    \t|  3.1512e-06     \t|  1000           \t|  0.0031512      \t|  0.0033587      \t|\n",
      "|  [Callback]ModelCheckpoint{'monitor': 'valid_loss', 'mode': 'min', 'every_n_train_steps': 0, 'every_n_epochs': 1, 'train_time_interval': None, 'save_on_train_epoch_end': False}.on_train_batch_start              \t|  3.1436e-06     \t|  1000           \t|  0.0031436      \t|  0.0033505      \t|\n",
      "|  [Callback]ModelCheckpoint{'monitor': 'valid_loss', 'mode': 'min', 'every_n_train_steps': 0, 'every_n_epochs': 1, 'train_time_interval': None, 'save_on_train_epoch_end': False}.on_before_backward                \t|  3.1412e-06     \t|  1000           \t|  0.0031412      \t|  0.003348       \t|\n",
      "|  [Callback]ModelCheckpoint{'monitor': 'valid_loss', 'mode': 'min', 'every_n_train_steps': 0, 'every_n_epochs': 1, 'train_time_interval': None, 'save_on_train_epoch_end': False}.on_before_zero_grad               \t|  3.0981e-06     \t|  1000           \t|  0.0030981      \t|  0.003302       \t|\n",
      "|  [Callback]ModelSummary.on_before_zero_grad                                                                                                                                                                        \t|  3.096e-06      \t|  1000           \t|  0.003096       \t|  0.0032999      \t|\n",
      "|  [Callback]ModelCheckpoint{'monitor': 'valid_loss', 'mode': 'min', 'every_n_train_steps': 0, 'every_n_epochs': 1, 'train_time_interval': None, 'save_on_train_epoch_end': False}.on_batch_end                      \t|  3.0917e-06     \t|  1000           \t|  0.0030917      \t|  0.0032952      \t|\n",
      "|  [Callback]ModelSummary.on_batch_end                                                                                                                                                                               \t|  3.0567e-06     \t|  1000           \t|  0.0030567      \t|  0.0032579      \t|\n",
      "|  [Callback]GradientAccumulationScheduler.on_batch_start                                                                                                                                                            \t|  3.0334e-06     \t|  1000           \t|  0.0030334      \t|  0.0032331      \t|\n",
      "|  [Callback]GradientAccumulationScheduler.on_train_batch_start                                                                                                                                                      \t|  3.0025e-06     \t|  1000           \t|  0.0030025      \t|  0.0032001      \t|\n",
      "|  [Callback]GradientAccumulationScheduler.on_before_backward                                                                                                                                                        \t|  2.9907e-06     \t|  1000           \t|  0.0029907      \t|  0.0031876      \t|\n",
      "|  [LightningModule]BonitoPretrained.training_step_end                                                                                                                                                               \t|  2.9691e-06     \t|  1000           \t|  0.0029691      \t|  0.0031645      \t|\n",
      "|  [Callback]GradientAccumulationScheduler.on_before_zero_grad                                                                                                                                                       \t|  2.9605e-06     \t|  1000           \t|  0.0029605      \t|  0.0031554      \t|\n",
      "|  [Callback]GradientAccumulationScheduler.on_batch_end                                                                                                                                                              \t|  2.9405e-06     \t|  1000           \t|  0.0029405      \t|  0.0031341      \t|\n",
      "|  [Callback]ModelSummary.on_validation_batch_start                                                                                                                                                                  \t|  3.387e-06      \t|  787            \t|  0.0026656      \t|  0.0028411      \t|\n",
      "|  [Callback]GradientAccumulationScheduler.on_validation_batch_end                                                                                                                                                   \t|  3.285e-06      \t|  787            \t|  0.0025853      \t|  0.0027555      \t|\n",
      "|  [Callback]ModelCheckpoint{'monitor': 'valid_loss', 'mode': 'min', 'every_n_train_steps': 0, 'every_n_epochs': 1, 'train_time_interval': None, 'save_on_train_epoch_end': False}.on_validation_batch_end           \t|  3.1504e-06     \t|  787            \t|  0.0024794      \t|  0.0026426      \t|\n",
      "|  [Strategy]SingleDeviceStrategy.training_step_end                                                                                                                                                                  \t|  2.4376e-06     \t|  1000           \t|  0.0024376      \t|  0.0025981      \t|\n",
      "|  [LightningModule]BonitoPretrained.on_train_batch_start                                                                                                                                                            \t|  2.4314e-06     \t|  1000           \t|  0.0024314      \t|  0.0025915      \t|\n",
      "|  [Callback]ModelCheckpoint{'monitor': 'valid_loss', 'mode': 'min', 'every_n_train_steps': 0, 'every_n_epochs': 1, 'train_time_interval': None, 'save_on_train_epoch_end': False}.on_validation_batch_start         \t|  3.0821e-06     \t|  787            \t|  0.0024256      \t|  0.0025853      \t|\n",
      "|  [LightningModule]BonitoPretrained.on_before_optimizer_step                                                                                                                                                        \t|  2.4155e-06     \t|  1000           \t|  0.0024155      \t|  0.0025745      \t|\n",
      "|  [Callback]GradientAccumulationScheduler.on_validation_batch_start                                                                                                                                                 \t|  3.0422e-06     \t|  787            \t|  0.0023942      \t|  0.0025519      \t|\n",
      "|  [LightningModule]BonitoPretrained.on_after_backward                                                                                                                                                               \t|  2.3665e-06     \t|  1000           \t|  0.0023665      \t|  0.0025223      \t|\n",
      "|  [LightningModule]BonitoPretrained.on_train_batch_end                                                                                                                                                              \t|  2.3146e-06     \t|  1000           \t|  0.0023146      \t|  0.002467       \t|\n",
      "|  [Strategy]SingleDeviceStrategy.on_train_batch_start                                                                                                                                                               \t|  2.1936e-06     \t|  1000           \t|  0.0021936      \t|  0.002338       \t|\n",
      "|  [LightningModule]BonitoPretrained.on_before_backward                                                                                                                                                              \t|  2.1569e-06     \t|  1000           \t|  0.0021569      \t|  0.0022989      \t|\n",
      "|  [LightningModule]BonitoPretrained.on_before_zero_grad                                                                                                                                                             \t|  2.1447e-06     \t|  1000           \t|  0.0021447      \t|  0.0022859      \t|\n",
      "|  [LightningModule]BonitoPretrained.validation_step_end                                                                                                                                                             \t|  2.4789e-06     \t|  787            \t|  0.0019509      \t|  0.0020793      \t|\n",
      "|  [LightningModule]BonitoPretrained.on_validation_batch_end                                                                                                                                                         \t|  1.973e-06      \t|  787            \t|  0.0015527      \t|  0.0016549      \t|\n",
      "|  [LightningModule]BonitoPretrained.on_validation_batch_start                                                                                                                                                       \t|  1.951e-06      \t|  787            \t|  0.0015355      \t|  0.0016366      \t|\n",
      "|  [Strategy]SingleDeviceStrategy.validation_step_end                                                                                                                                                                \t|  1.9168e-06     \t|  787            \t|  0.0015085      \t|  0.0016078      \t|\n",
      "|  [LightningModule]BonitoPretrained.on_validation_model_eval                                                                                                                                                        \t|  0.00025045     \t|  6              \t|  0.0015027      \t|  0.0016016      \t|\n",
      "|  [Callback]ModelSummary.on_fit_start                                                                                                                                                                               \t|  0.0013728      \t|  1              \t|  0.0013728      \t|  0.0014632      \t|\n",
      "|  [LightningModule]BonitoPretrained.on_validation_model_train                                                                                                                                                       \t|  0.00019562     \t|  6              \t|  0.0011737      \t|  0.001251       \t|\n",
      "|  [Callback]TQDMProgressBar.on_train_epoch_end                                                                                                                                                                      \t|  0.00092881     \t|  1              \t|  0.00092881     \t|  0.00098996     \t|\n",
      "|  [LightningModule]BonitoPretrained.configure_optimizers                                                                                                                                                            \t|  0.00049412     \t|  1              \t|  0.00049412     \t|  0.00052665     \t|\n",
      "|  [Callback]TQDMProgressBar.on_train_epoch_start                                                                                                                                                                    \t|  0.00048539     \t|  1              \t|  0.00048539     \t|  0.00051735     \t|\n",
      "|  [Callback]TQDMProgressBar.on_train_end                                                                                                                                                                            \t|  0.00035367     \t|  1              \t|  0.00035367     \t|  0.00037696     \t|\n",
      "|  [Callback]ModelSummary.on_validation_start                                                                                                                                                                        \t|  1.1047e-05     \t|  6              \t|  6.628e-05      \t|  7.0644e-05     \t|\n",
      "|  [Callback]ModelSummary.on_validation_end                                                                                                                                                                          \t|  6.5419e-06     \t|  6              \t|  3.9252e-05     \t|  4.1836e-05     \t|\n",
      "|  [Callback]TQDMProgressBar.on_save_checkpoint                                                                                                                                                                      \t|  5.8115e-06     \t|  5              \t|  2.9057e-05     \t|  3.097e-05      \t|\n",
      "|  [LightningDataModule]nanopore_datamodule.state_dict                                                                                                                                                               \t|  5.7127e-06     \t|  5              \t|  2.8564e-05     \t|  3.0444e-05     \t|\n",
      "|  [Callback]TQDMProgressBar.on_epoch_start                                                                                                                                                                          \t|  3.8213e-06     \t|  7              \t|  2.6749e-05     \t|  2.851e-05      \t|\n",
      "|  [Strategy]SingleDeviceStrategy.on_validation_end                                                                                                                                                                  \t|  4.3769e-06     \t|  6              \t|  2.6261e-05     \t|  2.799e-05      \t|\n",
      "|  [Callback]ModelCheckpoint{'monitor': 'valid_loss', 'mode': 'min', 'every_n_train_steps': 0, 'every_n_epochs': 1, 'train_time_interval': None, 'save_on_train_epoch_end': False}.on_epoch_start                    \t|  3.2729e-06     \t|  7              \t|  2.2911e-05     \t|  2.4419e-05     \t|\n",
      "|  [Callback]TQDMProgressBar.on_validation_epoch_end                                                                                                                                                                 \t|  3.7951e-06     \t|  6              \t|  2.2771e-05     \t|  2.427e-05      \t|\n",
      "|  [Callback]GradientAccumulationScheduler.on_validation_start                                                                                                                                                       \t|  3.7247e-06     \t|  6              \t|  2.2348e-05     \t|  2.3819e-05     \t|\n",
      "|  [LightningModule]BonitoPretrained.on_validation_end                                                                                                                                                               \t|  3.6315e-06     \t|  6              \t|  2.1789e-05     \t|  2.3224e-05     \t|\n",
      "|  [Callback]GradientAccumulationScheduler.on_epoch_start                                                                                                                                                            \t|  3.0928e-06     \t|  7              \t|  2.165e-05      \t|  2.3075e-05     \t|\n",
      "|  [Callback]TQDMProgressBar.on_epoch_end                                                                                                                                                                            \t|  3.0829e-06     \t|  7              \t|  2.1581e-05     \t|  2.3001e-05     \t|\n",
      "|  [LightningModule]BonitoPretrained.on_save_checkpoint                                                                                                                                                              \t|  4.2602e-06     \t|  5              \t|  2.1301e-05     \t|  2.2704e-05     \t|\n",
      "|  [Strategy]SingleDeviceStrategy.on_validation_start                                                                                                                                                                \t|  3.5157e-06     \t|  6              \t|  2.1094e-05     \t|  2.2483e-05     \t|\n",
      "|  [Callback]ModelSummary.on_epoch_start                                                                                                                                                                             \t|  2.9832e-06     \t|  7              \t|  2.0882e-05     \t|  2.2257e-05     \t|\n",
      "|  [Callback]ModelSummary.on_validation_epoch_start                                                                                                                                                                  \t|  3.3407e-06     \t|  6              \t|  2.0044e-05     \t|  2.1364e-05     \t|\n",
      "|  [LightningModule]BonitoPretrained.on_validation_start                                                                                                                                                             \t|  3.3289e-06     \t|  6              \t|  1.9973e-05     \t|  2.1288e-05     \t|\n",
      "|  [Callback]GradientAccumulationScheduler.on_validation_end                                                                                                                                                         \t|  3.2938e-06     \t|  6              \t|  1.9763e-05     \t|  2.1064e-05     \t|\n",
      "|  [Callback]TQDMProgressBar.setup                                                                                                                                                                                   \t|  1.9694e-05     \t|  1              \t|  1.9694e-05     \t|  2.099e-05      \t|\n",
      "|  [Callback]GradientAccumulationScheduler.on_epoch_end                                                                                                                                                              \t|  2.8134e-06     \t|  7              \t|  1.9694e-05     \t|  2.099e-05      \t|\n",
      "|  [Callback]TQDMProgressBar.on_validation_epoch_start                                                                                                                                                               \t|  3.2596e-06     \t|  6              \t|  1.9558e-05     \t|  2.0845e-05     \t|\n",
      "|  [Callback]ModelCheckpoint{'monitor': 'valid_loss', 'mode': 'min', 'every_n_train_steps': 0, 'every_n_epochs': 1, 'train_time_interval': None, 'save_on_train_epoch_end': False}.on_epoch_end                      \t|  2.7937e-06     \t|  7              \t|  1.9556e-05     \t|  2.0843e-05     \t|\n",
      "|  [Callback]ModelCheckpoint{'monitor': 'valid_loss', 'mode': 'min', 'every_n_train_steps': 0, 'every_n_epochs': 1, 'train_time_interval': None, 'save_on_train_epoch_end': False}.on_validation_start               \t|  3.1317e-06     \t|  6              \t|  1.879e-05      \t|  2.0027e-05     \t|\n",
      "|  [LightningModule]BonitoPretrained.validation_epoch_end                                                                                                                                                            \t|  3.0966e-06     \t|  6              \t|  1.858e-05      \t|  1.9803e-05     \t|\n",
      "|  [Callback]ModelCheckpoint{'monitor': 'valid_loss', 'mode': 'min', 'every_n_train_steps': 0, 'every_n_epochs': 1, 'train_time_interval': None, 'save_on_train_epoch_end': False}.on_validation_epoch_start         \t|  3.0842e-06     \t|  6              \t|  1.8505e-05     \t|  1.9724e-05     \t|\n",
      "|  [Callback]GradientAccumulationScheduler.on_save_checkpoint                                                                                                                                                        \t|  3.6873e-06     \t|  5              \t|  1.8436e-05     \t|  1.965e-05      \t|\n",
      "|  [Callback]ModelSummary.on_epoch_end                                                                                                                                                                               \t|  2.5846e-06     \t|  7              \t|  1.8092e-05     \t|  1.9283e-05     \t|\n",
      "|  [Callback]ModelCheckpoint{'monitor': 'valid_loss', 'mode': 'min', 'every_n_train_steps': 0, 'every_n_epochs': 1, 'train_time_interval': None, 'save_on_train_epoch_end': False}.on_train_epoch_end                \t|  1.8019e-05     \t|  1              \t|  1.8019e-05     \t|  1.9206e-05     \t|\n",
      "|  [Callback]ModelCheckpoint{'monitor': 'valid_loss', 'mode': 'min', 'every_n_train_steps': 0, 'every_n_epochs': 1, 'train_time_interval': None, 'save_on_train_epoch_end': False}.on_validation_epoch_end           \t|  2.9455e-06     \t|  6              \t|  1.7673e-05     \t|  1.8836e-05     \t|\n",
      "|  [Callback]GradientAccumulationScheduler.on_validation_epoch_end                                                                                                                                                   \t|  2.8753e-06     \t|  6              \t|  1.7252e-05     \t|  1.8388e-05     \t|\n",
      "|  [LightningModule]BonitoPretrained.on_epoch_start                                                                                                                                                                  \t|  2.4036e-06     \t|  7              \t|  1.6825e-05     \t|  1.7933e-05     \t|\n",
      "|  [Callback]ModelSummary.on_validation_epoch_end                                                                                                                                                                    \t|  2.7933e-06     \t|  6              \t|  1.676e-05      \t|  1.7863e-05     \t|\n",
      "|  [Callback]GradientAccumulationScheduler.on_validation_epoch_start                                                                                                                                                 \t|  2.7465e-06     \t|  6              \t|  1.6479e-05     \t|  1.7564e-05     \t|\n",
      "|  [Callback]ModelSummary.on_save_checkpoint                                                                                                                                                                         \t|  3.2131e-06     \t|  5              \t|  1.6065e-05     \t|  1.7123e-05     \t|\n",
      "|  [Callback]ModelCheckpoint{'monitor': 'valid_loss', 'mode': 'min', 'every_n_train_steps': 0, 'every_n_epochs': 1, 'train_time_interval': None, 'save_on_train_epoch_end': False}.on_save_checkpoint                \t|  3.0309e-06     \t|  5              \t|  1.5154e-05     \t|  1.6152e-05     \t|\n",
      "|  [LightningModule]BonitoPretrained.on_validation_epoch_start                                                                                                                                                       \t|  2.409e-06      \t|  6              \t|  1.4454e-05     \t|  1.5406e-05     \t|\n",
      "|  [LightningModule]BonitoPretrained.on_epoch_end                                                                                                                                                                    \t|  1.9156e-06     \t|  7              \t|  1.3409e-05     \t|  1.4292e-05     \t|\n",
      "|  [LightningModule]BonitoPretrained.on_validation_epoch_end                                                                                                                                                         \t|  2.0604e-06     \t|  6              \t|  1.2362e-05     \t|  1.3176e-05     \t|\n",
      "|  [Callback]ModelSummary.on_train_start                                                                                                                                                                             \t|  1.2012e-05     \t|  1              \t|  1.2012e-05     \t|  1.2803e-05     \t|\n",
      "|  [Callback]ModelSummary.on_sanity_check_start                                                                                                                                                                      \t|  1.1383e-05     \t|  1              \t|  1.1383e-05     \t|  1.2132e-05     \t|\n",
      "|  [LightningDataModule]nanopore_datamodule.on_save_checkpoint                                                                                                                                                       \t|  1.8023e-06     \t|  5              \t|  9.0115e-06     \t|  9.6047e-06     \t|\n",
      "|  [Callback]TQDMProgressBar.on_sanity_check_end                                                                                                                                                                     \t|  7.2643e-06     \t|  1              \t|  7.2643e-06     \t|  7.7426e-06     \t|\n",
      "|  [Callback]GradientAccumulationScheduler.on_fit_start                                                                                                                                                              \t|  6.6347e-06     \t|  1              \t|  6.6347e-06     \t|  7.0715e-06     \t|\n",
      "|  [Callback]ModelSummary.on_train_epoch_end                                                                                                                                                                         \t|  6.0759e-06     \t|  1              \t|  6.0759e-06     \t|  6.476e-06      \t|\n",
      "|  [Callback]TQDMProgressBar.on_pretrain_routine_start                                                                                                                                                               \t|  5.7947e-06     \t|  1              \t|  5.7947e-06     \t|  6.1762e-06     \t|\n",
      "|  [Callback]ModelSummary.on_train_epoch_start                                                                                                                                                                       \t|  5.7947e-06     \t|  1              \t|  5.7947e-06     \t|  6.1762e-06     \t|\n",
      "|  [Callback]GradientAccumulationScheduler.on_train_epoch_start                                                                                                                                                      \t|  5.7947e-06     \t|  1              \t|  5.7947e-06     \t|  6.1762e-06     \t|\n",
      "|  [Callback]TQDMProgressBar.on_fit_end                                                                                                                                                                              \t|  5.7276e-06     \t|  1              \t|  5.7276e-06     \t|  6.1047e-06     \t|\n",
      "|  [LightningModule]BonitoPretrained.setup                                                                                                                                                                           \t|  5.2396e-06     \t|  1              \t|  5.2396e-06     \t|  5.5846e-06     \t|\n",
      "|  [Callback]ModelCheckpoint{'monitor': 'valid_loss', 'mode': 'min', 'every_n_train_steps': 0, 'every_n_epochs': 1, 'train_time_interval': None, 'save_on_train_epoch_end': False}.on_train_start                    \t|  5.2378e-06     \t|  1              \t|  5.2378e-06     \t|  5.5826e-06     \t|\n",
      "|  [Callback]ModelSummary.on_train_end                                                                                                                                                                               \t|  5.2378e-06     \t|  1              \t|  5.2378e-06     \t|  5.5826e-06     \t|\n",
      "|  [Callback]TQDMProgressBar.teardown                                                                                                                                                                                \t|  4.8894e-06     \t|  1              \t|  4.8894e-06     \t|  5.2113e-06     \t|\n",
      "|  [Callback]TQDMProgressBar.on_fit_start                                                                                                                                                                            \t|  4.8187e-06     \t|  1              \t|  4.8187e-06     \t|  5.1359e-06     \t|\n",
      "|  [Callback]ModelSummary.setup                                                                                                                                                                                      \t|  4.7516e-06     \t|  1              \t|  4.7516e-06     \t|  5.0644e-06     \t|\n",
      "|  [Callback]TQDMProgressBar.on_configure_sharded_model                                                                                                                                                              \t|  4.7479e-06     \t|  1              \t|  4.7479e-06     \t|  5.0605e-06     \t|\n",
      "|  [LightningModule]BonitoPretrained.configure_callbacks                                                                                                                                                             \t|  4.3306e-06     \t|  1              \t|  4.3306e-06     \t|  4.6158e-06     \t|\n",
      "|  [Callback]ModelSummary.on_sanity_check_end                                                                                                                                                                        \t|  4.3288e-06     \t|  1              \t|  4.3288e-06     \t|  4.6138e-06     \t|\n",
      "|  [LightningDataModule]nanopore_datamodule.prepare_data                                                                                                                                                             \t|  4.2617e-06     \t|  1              \t|  4.2617e-06     \t|  4.5423e-06     \t|\n",
      "|  [Callback]TQDMProgressBar.on_before_accelerator_backend_setup                                                                                                                                                     \t|  4.2599e-06     \t|  1              \t|  4.2599e-06     \t|  4.5403e-06     \t|\n",
      "|  [Callback]ModelSummary.on_before_accelerator_backend_setup                                                                                                                                                        \t|  4.2599e-06     \t|  1              \t|  4.2599e-06     \t|  4.5403e-06     \t|\n",
      "|  [Callback]ModelSummary.on_pretrain_routine_start                                                                                                                                                                  \t|  4.2599e-06     \t|  1              \t|  4.2599e-06     \t|  4.5403e-06     \t|\n",
      "|  [Callback]GradientAccumulationScheduler.teardown                                                                                                                                                                  \t|  4.191e-06      \t|  1              \t|  4.191e-06      \t|  4.4669e-06     \t|\n",
      "|  [LightningModule]BonitoPretrained.on_fit_start                                                                                                                                                                    \t|  3.8426e-06     \t|  1              \t|  3.8426e-06     \t|  4.0956e-06     \t|\n",
      "|  [Callback]ModelSummary.teardown                                                                                                                                                                                   \t|  3.8426e-06     \t|  1              \t|  3.8426e-06     \t|  4.0956e-06     \t|\n",
      "|  [Callback]ModelCheckpoint{'monitor': 'valid_loss', 'mode': 'min', 'every_n_train_steps': 0, 'every_n_epochs': 1, 'train_time_interval': None, 'save_on_train_epoch_end': False}.on_pretrain_routine_start         \t|  3.8408e-06     \t|  1              \t|  3.8408e-06     \t|  4.0936e-06     \t|\n",
      "|  [Callback]GradientAccumulationScheduler.on_pretrain_routine_start                                                                                                                                                 \t|  3.7719e-06     \t|  1              \t|  3.7719e-06     \t|  4.0202e-06     \t|\n",
      "|  [Callback]ModelCheckpoint{'monitor': 'valid_loss', 'mode': 'min', 'every_n_train_steps': 0, 'every_n_epochs': 1, 'train_time_interval': None, 'save_on_train_epoch_end': False}.on_train_epoch_start              \t|  3.7719e-06     \t|  1              \t|  3.7719e-06     \t|  4.0202e-06     \t|\n",
      "|  [Callback]ModelSummary.on_fit_end                                                                                                                                                                                 \t|  3.7719e-06     \t|  1              \t|  3.7719e-06     \t|  4.0202e-06     \t|\n",
      "|  [LightningModule]BonitoPretrained.on_pretrain_routine_start                                                                                                                                                       \t|  3.77e-06       \t|  1              \t|  3.77e-06       \t|  4.0182e-06     \t|\n",
      "|  [Callback]ModelCheckpoint{'monitor': 'valid_loss', 'mode': 'min', 'every_n_train_steps': 0, 'every_n_epochs': 1, 'train_time_interval': None, 'save_on_train_epoch_end': False}.on_fit_start                      \t|  3.7029e-06     \t|  1              \t|  3.7029e-06     \t|  3.9467e-06     \t|\n",
      "|  [Callback]ModelCheckpoint{'monitor': 'valid_loss', 'mode': 'min', 'every_n_train_steps': 0, 'every_n_epochs': 1, 'train_time_interval': None, 'save_on_train_epoch_end': False}.teardown                          \t|  3.3546e-06     \t|  1              \t|  3.3546e-06     \t|  3.5755e-06     \t|\n",
      "|  [Callback]GradientAccumulationScheduler.setup                                                                                                                                                                     \t|  3.3528e-06     \t|  1              \t|  3.3528e-06     \t|  3.5735e-06     \t|\n",
      "|  [Callback]ModelSummary.on_configure_sharded_model                                                                                                                                                                 \t|  3.3528e-06     \t|  1              \t|  3.3528e-06     \t|  3.5735e-06     \t|\n",
      "|  [Callback]GradientAccumulationScheduler.on_configure_sharded_model                                                                                                                                                \t|  3.3528e-06     \t|  1              \t|  3.3528e-06     \t|  3.5735e-06     \t|\n",
      "|  [Callback]TQDMProgressBar.on_pretrain_routine_end                                                                                                                                                                 \t|  3.3528e-06     \t|  1              \t|  3.3528e-06     \t|  3.5735e-06     \t|\n",
      "|  [Callback]ModelSummary.on_pretrain_routine_end                                                                                                                                                                    \t|  3.3528e-06     \t|  1              \t|  3.3528e-06     \t|  3.5735e-06     \t|\n",
      "|  [Callback]ModelCheckpoint{'monitor': 'valid_loss', 'mode': 'min', 'every_n_train_steps': 0, 'every_n_epochs': 1, 'train_time_interval': None, 'save_on_train_epoch_end': False}.on_sanity_check_end               \t|  3.3528e-06     \t|  1              \t|  3.3528e-06     \t|  3.5735e-06     \t|\n",
      "|  [Callback]GradientAccumulationScheduler.on_train_end                                                                                                                                                              \t|  3.3528e-06     \t|  1              \t|  3.3528e-06     \t|  3.5735e-06     \t|\n",
      "|  [LightningModule]BonitoPretrained.teardown                                                                                                                                                                        \t|  3.3528e-06     \t|  1              \t|  3.3528e-06     \t|  3.5735e-06     \t|\n",
      "|  [Callback]GradientAccumulationScheduler.on_sanity_check_start                                                                                                                                                     \t|  3.3509e-06     \t|  1              \t|  3.3509e-06     \t|  3.5715e-06     \t|\n",
      "|  [LightningModule]BonitoPretrained.on_fit_end                                                                                                                                                                      \t|  3.3509e-06     \t|  1              \t|  3.3509e-06     \t|  3.5715e-06     \t|\n",
      "|  [LightningModule]BonitoPretrained.on_train_epoch_end                                                                                                                                                              \t|  3.2838e-06     \t|  1              \t|  3.2838e-06     \t|  3.5e-06        \t|\n",
      "|  [Callback]ModelCheckpoint{'monitor': 'valid_loss', 'mode': 'min', 'every_n_train_steps': 0, 'every_n_epochs': 1, 'train_time_interval': None, 'save_on_train_epoch_end': False}.on_configure_sharded_model        \t|  3.282e-06      \t|  1              \t|  3.282e-06      \t|  3.498e-06      \t|\n",
      "|  [Callback]ModelCheckpoint{'monitor': 'valid_loss', 'mode': 'min', 'every_n_train_steps': 0, 'every_n_epochs': 1, 'train_time_interval': None, 'save_on_train_epoch_end': False}.on_sanity_check_start             \t|  3.282e-06      \t|  1              \t|  3.282e-06      \t|  3.498e-06      \t|\n",
      "|  [Callback]GradientAccumulationScheduler.on_train_start                                                                                                                                                            \t|  3.282e-06      \t|  1              \t|  3.282e-06      \t|  3.498e-06      \t|\n",
      "|  [LightningDataModule]nanopore_datamodule.teardown                                                                                                                                                                 \t|  3.282e-06      \t|  1              \t|  3.282e-06      \t|  3.498e-06      \t|\n",
      "|  [LightningModule]BonitoPretrained.prepare_data                                                                                                                                                                    \t|  2.9337e-06     \t|  1              \t|  2.9337e-06     \t|  3.1268e-06     \t|\n",
      "|  [LightningModule]BonitoPretrained.configure_sharded_model                                                                                                                                                         \t|  2.9337e-06     \t|  1              \t|  2.9337e-06     \t|  3.1268e-06     \t|\n",
      "|  [LightningModule]BonitoPretrained.on_pretrain_routine_end                                                                                                                                                         \t|  2.9337e-06     \t|  1              \t|  2.9337e-06     \t|  3.1268e-06     \t|\n",
      "|  [Callback]GradientAccumulationScheduler.on_train_epoch_end                                                                                                                                                        \t|  2.9337e-06     \t|  1              \t|  2.9337e-06     \t|  3.1268e-06     \t|\n",
      "|  [Callback]ModelCheckpoint{'monitor': 'valid_loss', 'mode': 'min', 'every_n_train_steps': 0, 'every_n_epochs': 1, 'train_time_interval': None, 'save_on_train_epoch_end': False}.on_train_end                      \t|  2.9337e-06     \t|  1              \t|  2.9337e-06     \t|  3.1268e-06     \t|\n",
      "|  [Callback]ModelCheckpoint{'monitor': 'valid_loss', 'mode': 'min', 'every_n_train_steps': 0, 'every_n_epochs': 1, 'train_time_interval': None, 'save_on_train_epoch_end': False}.on_fit_end                        \t|  2.9337e-06     \t|  1              \t|  2.9337e-06     \t|  3.1268e-06     \t|\n",
      "|  [Callback]ModelCheckpoint{'monitor': 'valid_loss', 'mode': 'min', 'every_n_train_steps': 0, 'every_n_epochs': 1, 'train_time_interval': None, 'save_on_train_epoch_end': None}.on_before_accelerator_backend_setup\t|  2.8629e-06     \t|  1              \t|  2.8629e-06     \t|  3.0514e-06     \t|\n",
      "|  [Callback]GradientAccumulationScheduler.on_pretrain_routine_end                                                                                                                                                   \t|  2.8629e-06     \t|  1              \t|  2.8629e-06     \t|  3.0514e-06     \t|\n",
      "|  [Callback]ModelCheckpoint{'monitor': 'valid_loss', 'mode': 'min', 'every_n_train_steps': 0, 'every_n_epochs': 1, 'train_time_interval': None, 'save_on_train_epoch_end': False}.on_pretrain_routine_end           \t|  2.8629e-06     \t|  1              \t|  2.8629e-06     \t|  3.0514e-06     \t|\n",
      "|  [Callback]GradientAccumulationScheduler.on_sanity_check_end                                                                                                                                                       \t|  2.8629e-06     \t|  1              \t|  2.8629e-06     \t|  3.0514e-06     \t|\n",
      "|  [Callback]GradientAccumulationScheduler.on_fit_end                                                                                                                                                                \t|  2.8629e-06     \t|  1              \t|  2.8629e-06     \t|  3.0514e-06     \t|\n",
      "|  [Callback]GradientAccumulationScheduler.on_before_accelerator_backend_setup                                                                                                                                       \t|  2.794e-06      \t|  1              \t|  2.794e-06      \t|  2.9779e-06     \t|\n",
      "|  [LightningModule]BonitoPretrained.on_train_end                                                                                                                                                                    \t|  2.3041e-06     \t|  1              \t|  2.3041e-06     \t|  2.4558e-06     \t|\n",
      "|  [Strategy]SingleDeviceStrategy.on_train_end                                                                                                                                                                       \t|  1.9558e-06     \t|  1              \t|  1.9558e-06     \t|  2.0845e-06     \t|\n",
      "|  [LightningModule]BonitoPretrained.on_train_start                                                                                                                                                                  \t|  1.8869e-06     \t|  1              \t|  1.8869e-06     \t|  2.0111e-06     \t|\n",
      "|  [LightningModule]BonitoPretrained.on_train_epoch_start                                                                                                                                                            \t|  1.885e-06      \t|  1              \t|  1.885e-06      \t|  2.0091e-06     \t|\n",
      "|  [Strategy]SingleDeviceStrategy.on_train_start                                                                                                                                                                     \t|  1.397e-06      \t|  1              \t|  1.397e-06      \t|  1.489e-06      \t|\n",
      "--------------------------------------------------------------------------------------------------------------------------------------------------------------------------------------------------------------------------------------------------------------------------------------------------------------------------\n",
      "\n"
     ]
    }
   ],
   "source": [
    "import pytorch_lightning as pl\n",
    "from pytorch_lightning.loggers import CometLogger\n",
    "from pytorch_lightning.callbacks import ModelCheckpoint\n",
    "\n",
    "checkpoint_callback = ModelCheckpoint(dirpath=\"checkpoints_pl/bonito_test\", save_top_k=2, monitor=\"valid_loss\")\n",
    "logger = CometLogger(api_key=\"TEVQbgxxvilM1WdTyqZLJ57ac\", project_name='RNAModif') #experiment_name=TODO\n",
    "trainer= pl.Trainer(\n",
    "    max_steps = 1000, logger=logger, accelerator='gpu', #max_epochs=-1,\n",
    "    auto_lr_find=False, val_check_interval=200, #500 \n",
    "    log_every_n_steps=200, benchmark=True, precision=16,\n",
    "    callbacks=[checkpoint_callback], profiler=\"simple\")\n",
    "\n",
    "trainer.fit(model, dm)#, valid_loader)\n"
   ]
  }
 ],
 "metadata": {
  "kernelspec": {
   "display_name": "Python [conda env:RNAmodEnv]",
   "language": "python",
   "name": "conda-env-RNAmodEnv-py"
  },
  "language_info": {
   "codemirror_mode": {
    "name": "ipython",
    "version": 3
   },
   "file_extension": ".py",
   "mimetype": "text/x-python",
   "name": "python",
   "nbconvert_exporter": "python",
   "pygments_lexer": "ipython3",
   "version": "3.8.13"
  }
 },
 "nbformat": 4,
 "nbformat_minor": 5
}
