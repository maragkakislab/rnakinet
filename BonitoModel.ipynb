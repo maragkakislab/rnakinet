{
 "cells": [
  {
   "cell_type": "code",
   "execution_count": 2,
   "id": "923ef3d3-fbf0-4f59-90b1-b68376d769f3",
   "metadata": {},
   "outputs": [
    {
     "data": {
      "text/plain": [
       "'11.4.1'"
      ]
     },
     "execution_count": 2,
     "metadata": {},
     "output_type": "execute_result"
    }
   ],
   "source": [
    "#TODO bonito only basecalls DNA not RNA?\n",
    "#TODO load the actual models - install developer version\n",
    "#TODO install setup.py in develop version of bonito\n",
    "import os\n",
    "os.environ.get('CUDA_VERSION')"
   ]
  },
  {
   "cell_type": "code",
   "execution_count": 3,
   "id": "39c43539-9fb8-46ad-a7ba-ae663fdad0bb",
   "metadata": {},
   "outputs": [],
   "source": [
    "from bonito_pulled.bonito.util import __data__, __models__, __dir__\n",
    "# list(__dir__.iterdir())\n",
    "# __data__"
   ]
  },
  {
   "cell_type": "code",
   "execution_count": 2,
   "id": "464623af-4d7b-4fe4-92b3-a9b6c39139a3",
   "metadata": {},
   "outputs": [],
   "source": [
    "from bonito_pulled.bonito.cli.download import main\n",
    "# main({})"
   ]
  },
  {
   "cell_type": "code",
   "execution_count": 1,
   "id": "aad74c1f-e3f4-4363-8219-f8cb5afbb931",
   "metadata": {},
   "outputs": [
    {
     "name": "stdout",
     "output_type": "stream",
     "text": [
      "<class 'bonito_pulled.bonito.crf.model.Model'>\n"
     ]
    },
    {
     "data": {
      "text/plain": [
       "Model(\n",
       "  (encoder): Serial(\n",
       "    (0): Convolution(\n",
       "      (conv): Conv1d(1, 4, kernel_size=(5,), stride=(1,), padding=(2,))\n",
       "      (activation): Swish()\n",
       "    )\n",
       "    (1): Convolution(\n",
       "      (conv): Conv1d(4, 16, kernel_size=(5,), stride=(1,), padding=(2,))\n",
       "      (activation): Swish()\n",
       "    )\n",
       "    (2): Convolution(\n",
       "      (conv): Conv1d(16, 96, kernel_size=(19,), stride=(5,), padding=(9,))\n",
       "      (activation): Swish()\n",
       "    )\n",
       "    (3): Permute()\n",
       "    (4): LSTM(\n",
       "      (rnn): LSTM(96, 96)\n",
       "    )\n",
       "    (5): LSTM(\n",
       "      (rnn): LSTM(96, 96)\n",
       "    )\n",
       "    (6): LSTM(\n",
       "      (rnn): LSTM(96, 96)\n",
       "    )\n",
       "    (7): LSTM(\n",
       "      (rnn): LSTM(96, 96)\n",
       "    )\n",
       "    (8): LSTM(\n",
       "      (rnn): LSTM(96, 96)\n",
       "    )\n",
       "    (9): LinearCRFEncoder(\n",
       "      (linear): Linear(in_features=96, out_features=256, bias=True)\n",
       "      (activation): Tanh()\n",
       "    )\n",
       "  )\n",
       ")"
      ]
     },
     "execution_count": 1,
     "metadata": {},
     "output_type": "execute_result"
    }
   ],
   "source": [
    "from bonito_pulled.bonito.util import load_model\n",
    "from bonito_pulled.bonito.util import __models__\n",
    "\n",
    "#TODO there are multiple models, this one is _fast\n",
    "dirname = __models__/'dna_r10.4.1_e8.2_fast@v3.5.1'\n",
    "device = 'cuda'\n",
    "model = load_model(\n",
    "    dirname, \n",
    "    device, \n",
    "    weights=None, \n",
    "    half=None, \n",
    "    chunksize=None, \n",
    "    batchsize=None, \n",
    "    overlap=None, \n",
    "    quantize=False, \n",
    "    use_koi=False\n",
    ")\n",
    "\n",
    "print(type(model))\n",
    "model"
   ]
  },
  {
   "cell_type": "code",
   "execution_count": 30,
   "id": "f13d3e07-d655-4674-b0e5-e0556dac0f85",
   "metadata": {},
   "outputs": [
    {
     "data": {
      "text/plain": [
       "torch.Size([32, 1])"
      ]
     },
     "execution_count": 30,
     "metadata": {},
     "output_type": "execute_result"
    }
   ],
   "source": [
    "# model = model.encoder[:-1] #SKipping the CRF encoder\n",
    "import torch\n",
    "from bonito_pulled.bonito.nn import Permute\n",
    "\n",
    "seq_model = torch.nn.Sequential(\n",
    "    model,\n",
    "    Permute((1,2,0)),\n",
    "    torch.nn.MaxPool1d(2000), #maxpooling over the whole RNN length, instead do convolution maybe?\n",
    "    torch.nn.Flatten(),\n",
    "    torch.nn.Linear(320, 1),\n",
    ").to('cuda').half()\n",
    "x = torch.rand(32,1,10000).to('cuda').half()\n",
    "seq_model(x).shape"
   ]
  },
  {
   "cell_type": "code",
   "execution_count": 2,
   "id": "c942bafa-e8e1-4cb4-a86d-59bfbb98c719",
   "metadata": {},
   "outputs": [
    {
     "data": {
      "text/plain": [
       "torch.Size([2000, 32, 320])"
      ]
     },
     "execution_count": 2,
     "metadata": {},
     "output_type": "execute_result"
    }
   ],
   "source": [
    "import torch\n",
    "#TODO batch size deosnt matteR? always 1536\n",
    "x = torch.rand(32,1,10000).to('cuda').half()\n",
    "out = model(x)\n",
    "# out = model.decode(x)\n",
    "out.shape\n",
    "#Current problem - why is the first dimension changed from 32 (batch size)\n",
    "# Conv - ok, permute doesnt run? CRF_encoder OK, => rnn or permute\n",
    "# ? : Reduced sequence length : features\n",
    "# out"
   ]
  }
 ],
 "metadata": {
  "kernelspec": {
   "display_name": "Python [conda env:RNAmodEnv]",
   "language": "python",
   "name": "conda-env-RNAmodEnv-py"
  },
  "language_info": {
   "codemirror_mode": {
    "name": "ipython",
    "version": 3
   },
   "file_extension": ".py",
   "mimetype": "text/x-python",
   "name": "python",
   "nbconvert_exporter": "python",
   "pygments_lexer": "ipython3",
   "version": "3.8.13"
  }
 },
 "nbformat": 4,
 "nbformat_minor": 5
}
