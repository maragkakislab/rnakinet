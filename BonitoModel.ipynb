{
 "cells": [
  {
   "cell_type": "code",
   "execution_count": 2,
   "id": "923ef3d3-fbf0-4f59-90b1-b68376d769f3",
   "metadata": {},
   "outputs": [
    {
     "data": {
      "text/plain": [
       "'11.4.1'"
      ]
     },
     "execution_count": 2,
     "metadata": {},
     "output_type": "execute_result"
    }
   ],
   "source": [
    "#TODO bonito only basecalls DNA not RNA?\n",
    "#TODO load the actual models - install developer version\n",
    "#TODO install setup.py in develop version of bonito\n",
    "import os\n",
    "os.environ.get('CUDA_VERSION')"
   ]
  },
  {
   "cell_type": "code",
   "execution_count": 3,
   "id": "39c43539-9fb8-46ad-a7ba-ae663fdad0bb",
   "metadata": {},
   "outputs": [],
   "source": [
    "from bonito_pulled.bonito.util import __data__, __models__, __dir__\n",
    "# list(__dir__.iterdir())\n",
    "# __data__"
   ]
  },
  {
   "cell_type": "code",
   "execution_count": 2,
   "id": "464623af-4d7b-4fe4-92b3-a9b6c39139a3",
   "metadata": {},
   "outputs": [],
   "source": [
    "from bonito_pulled.bonito.cli.download import main\n",
    "# main({})"
   ]
  },
  {
   "cell_type": "code",
   "execution_count": 1,
   "id": "aad74c1f-e3f4-4363-8219-f8cb5afbb931",
   "metadata": {},
   "outputs": [
    {
     "name": "stdout",
     "output_type": "stream",
     "text": [
      "<class 'bonito_pulled.bonito.crf.model.Model'>\n"
     ]
    },
    {
     "data": {
      "text/plain": [
       "Model(\n",
       "  (encoder): Serial(\n",
       "    (0): Convolution(\n",
       "      (conv): Conv1d(1, 4, kernel_size=(5,), stride=(1,), padding=(2,))\n",
       "      (activation): Swish()\n",
       "    )\n",
       "    (1): Convolution(\n",
       "      (conv): Conv1d(4, 16, kernel_size=(5,), stride=(1,), padding=(2,))\n",
       "      (activation): Swish()\n",
       "    )\n",
       "    (2): Convolution(\n",
       "      (conv): Conv1d(16, 96, kernel_size=(19,), stride=(5,), padding=(9,))\n",
       "      (activation): Swish()\n",
       "    )\n",
       "    (3): Permute()\n",
       "    (4): LSTM(\n",
       "      (rnn): LSTM(96, 96)\n",
       "    )\n",
       "    (5): LSTM(\n",
       "      (rnn): LSTM(96, 96)\n",
       "    )\n",
       "    (6): LSTM(\n",
       "      (rnn): LSTM(96, 96)\n",
       "    )\n",
       "    (7): LSTM(\n",
       "      (rnn): LSTM(96, 96)\n",
       "    )\n",
       "    (8): LSTM(\n",
       "      (rnn): LSTM(96, 96)\n",
       "    )\n",
       "    (9): LinearCRFEncoder(\n",
       "      (linear): Linear(in_features=96, out_features=256, bias=True)\n",
       "      (activation): Tanh()\n",
       "    )\n",
       "  )\n",
       ")"
      ]
     },
     "execution_count": 1,
     "metadata": {},
     "output_type": "execute_result"
    }
   ],
   "source": [
    "from bonito_pulled.bonito.util import load_model\n",
    "from bonito_pulled.bonito.util import __models__\n",
    "\n",
    "#TODO there are multiple models, this one is _fast\n",
    "dirname = __models__/'dna_r10.4.1_e8.2_fast@v3.5.1'\n",
    "device = 'cuda'\n",
    "model = load_model(\n",
    "    dirname, \n",
    "    device, \n",
    "    weights=None, \n",
    "    half=None, \n",
    "    chunksize=None, \n",
    "    batchsize=None, \n",
    "    overlap=None, \n",
    "    quantize=False, \n",
    "    use_koi=False\n",
    ")\n",
    "\n",
    "print(type(model))\n",
    "model"
   ]
  },
  {
   "cell_type": "code",
   "execution_count": 88,
   "id": "f13d3e07-d655-4674-b0e5-e0556dac0f85",
   "metadata": {},
   "outputs": [
    {
     "data": {
      "text/plain": [
       "torch.Size([32, 1])"
      ]
     },
     "execution_count": 88,
     "metadata": {},
     "output_type": "execute_result"
    }
   ],
   "source": [
    "# model = model.encoder[:-1] #SKipping the CRF encoder\n",
    "import torch\n",
    "from bonito_pulled.bonito.nn import Permute\n",
    "\n",
    "seq_model = torch.nn.Sequential(\n",
    "    model,\n",
    "    Permute((1,2,0)),\n",
    "    torch.nn.MaxPool1d(2000), #maxpooling over the whole RNN length, instead do convolution maybe?\n",
    "    torch.nn.Flatten(),\n",
    "    torch.nn.Linear(320, 1),\n",
    ").to('cuda').half()\n",
    "x = torch.rand(32,1,10000).to('cuda').half()\n",
    "seq_model(x).shape"
   ]
  },
  {
   "cell_type": "code",
   "execution_count": 3,
   "id": "c942bafa-e8e1-4cb4-a86d-59bfbb98c719",
   "metadata": {},
   "outputs": [
    {
     "data": {
      "text/plain": [
       "torch.Size([2000, 32, 320])"
      ]
     },
     "execution_count": 3,
     "metadata": {},
     "output_type": "execute_result"
    }
   ],
   "source": [
    "import torch\n",
    "#TODO batch size deosnt matteR? always 1536\n",
    "x = torch.rand(32,1,10000).to('cuda').half()\n",
    "out = model(x)\n",
    "# out = model.decode(x)\n",
    "out.shape\n",
    "#Current problem - why is the first dimension changed from 32 (batch size)\n",
    "# Conv - ok, permute doesnt run? CRF_encoder OK, => rnn or permute\n",
    "# ? : Reduced sequence length : features\n",
    "# out"
   ]
  },
  {
   "cell_type": "code",
   "execution_count": 1,
   "id": "71b989c4-75eb-4d08-8908-085159209b04",
   "metadata": {},
   "outputs": [
    {
     "name": "stderr",
     "output_type": "stream",
     "text": [
      "/home/jovyan/my-conda-envs/RNAmodEnv/lib/python3.8/site-packages/torchvision/io/image.py:13: UserWarning: Failed to load image Python extension: /home/jovyan/my-conda-envs/RNAmodEnv/lib/python3.8/site-packages/torchvision/image.so: undefined symbol: _ZN3c106detail19maybe_wrap_dim_slowEllb\n",
      "  warn(f\"Failed to load image Python extension: {e}\")\n"
     ]
    },
    {
     "name": "stdout",
     "output_type": "stream",
     "text": [
      "[Model(\n",
      "  (encoder): Serial(\n",
      "    (0): Convolution(\n",
      "      (conv): Conv1d(1, 4, kernel_size=(5,), stride=(1,), padding=(2,))\n",
      "      (activation): Swish()\n",
      "    )\n",
      "    (1): Convolution(\n",
      "      (conv): Conv1d(4, 16, kernel_size=(5,), stride=(1,), padding=(2,))\n",
      "      (activation): Swish()\n",
      "    )\n",
      "    (2): Convolution(\n",
      "      (conv): Conv1d(16, 96, kernel_size=(19,), stride=(5,), padding=(9,))\n",
      "      (activation): Swish()\n",
      "    )\n",
      "    (3): Permute()\n",
      "    (4): LSTM(\n",
      "      (rnn): LSTM(96, 96)\n",
      "    )\n",
      "    (5): LSTM(\n",
      "      (rnn): LSTM(96, 96)\n",
      "    )\n",
      "    (6): LSTM(\n",
      "      (rnn): LSTM(96, 96)\n",
      "    )\n",
      "    (7): LSTM(\n",
      "      (rnn): LSTM(96, 96)\n",
      "    )\n",
      "    (8): LSTM(\n",
      "      (rnn): LSTM(96, 96)\n",
      "    )\n",
      "    (9): LinearCRFEncoder(\n",
      "      (linear): Linear(in_features=96, out_features=256, bias=True)\n",
      "      (activation): Tanh()\n",
      "    )\n",
      "  )\n",
      "), RNNPooler(\n",
      "  (max_pool): MaxPool1d(kernel_size=200, stride=200, padding=0, dilation=1, ceil_mode=False)\n",
      "  (avg_pool): AvgPool1d(kernel_size=(200,), stride=(200,), padding=(0,))\n",
      "  (flatten): Flatten(start_dim=1, end_dim=-1)\n",
      "), Flatten(start_dim=1, end_dim=-1), Linear(in_features=960, out_features=100, bias=True), ReLU(), Linear(in_features=100, out_features=1, bias=True)]\n",
      "6\n"
     ]
    }
   ],
   "source": [
    "from bonito_pretrained import RNNPooler, BonitoPretrained\n",
    "import torch\n",
    "#200 is the RNN sequence length \n",
    "# pooler = RNNPooler(features_to_pool=320, seq_len=200)\n",
    "# x = torch.rand(200,32,320).to('cuda').half()\n",
    "# pooler(x).size()\n",
    "\n",
    "model = BonitoPretrained()\n",
    "model.configure_optimizers()\n",
    "pass"
   ]
  },
  {
   "cell_type": "code",
   "execution_count": 7,
   "id": "77102795-46a4-491e-9b27-e7e868e21c78",
   "metadata": {},
   "outputs": [
    {
     "data": {
      "text/plain": [
       "Linear(in_features=100, out_features=1, bias=True)"
      ]
     },
     "execution_count": 7,
     "metadata": {},
     "output_type": "execute_result"
    }
   ],
   "source": [
    "# if len(list(self.model.children())) != len(lr):\n",
    "mdl = list(list(model.children())[0].children())\n",
    "mdl[5]"
   ]
  },
  {
   "cell_type": "code",
   "execution_count": 10,
   "id": "a2c2eddd-ebf1-4e1e-b64e-10347aff5e25",
   "metadata": {},
   "outputs": [
    {
     "data": {
      "text/plain": [
       "[0.002, 0.001, 0.001, 0.001, 0.001, 0.001]"
      ]
     },
     "execution_count": 10,
     "metadata": {},
     "output_type": "execute_result"
    }
   ],
   "source": [
    "[2e-3, *[1e-3 for _ in range(5)]]"
   ]
  },
  {
   "cell_type": "code",
   "execution_count": 19,
   "id": "fe4f215f-1a09-48fb-9883-992467d01692",
   "metadata": {},
   "outputs": [
    {
     "name": "stdout",
     "output_type": "stream",
     "text": [
      "\n",
      "[True, True, True, True, True, True, True, True, True, False, True, True, True, False, True, True, True, False, True, True, True, False, True, True, True, False, True, True, True, True, True, True]\n",
      "model\n",
      "[True, True, True, True, True, True, True, True, True, False, True, True, True, False, True, True, True, False, True, True, True, False, True, True, True, False, True, True, True, True, True, True]\n",
      "model.0\n",
      "[True, True, True, True, True, True, True, True, True, False, True, True, True, False, True, True, True, False, True, True, True, False, True, True, True, False, True, True]\n",
      "model.0.encoder\n",
      "[True, True, True, True, True, True, True, True, True, False, True, True, True, False, True, True, True, False, True, True, True, False, True, True, True, False, True, True]\n",
      "model.0.encoder.0\n",
      "[True, True]\n",
      "model.0.encoder.0.conv\n",
      "[True, True]\n",
      "model.0.encoder.0.activation\n",
      "[]\n",
      "model.0.encoder.1\n",
      "[True, True]\n",
      "model.0.encoder.1.conv\n",
      "[True, True]\n",
      "model.0.encoder.1.activation\n",
      "[]\n",
      "model.0.encoder.2\n",
      "[True, True]\n",
      "model.0.encoder.2.conv\n",
      "[True, True]\n",
      "model.0.encoder.2.activation\n",
      "[]\n",
      "model.0.encoder.3\n",
      "[]\n",
      "model.0.encoder.4\n",
      "[True, True, True, False]\n",
      "model.0.encoder.4.rnn\n",
      "[True, True, True, False]\n",
      "model.0.encoder.5\n",
      "[True, True, True, False]\n",
      "model.0.encoder.5.rnn\n",
      "[True, True, True, False]\n",
      "model.0.encoder.6\n",
      "[True, True, True, False]\n",
      "model.0.encoder.6.rnn\n",
      "[True, True, True, False]\n",
      "model.0.encoder.7\n",
      "[True, True, True, False]\n",
      "model.0.encoder.7.rnn\n",
      "[True, True, True, False]\n",
      "model.0.encoder.8\n",
      "[True, True, True, False]\n",
      "model.0.encoder.8.rnn\n",
      "[True, True, True, False]\n",
      "model.0.encoder.9\n",
      "[True, True]\n",
      "model.0.encoder.9.linear\n",
      "[True, True]\n",
      "model.0.encoder.9.activation\n",
      "[]\n",
      "model.1\n",
      "[]\n",
      "model.1.max_pool\n",
      "[]\n",
      "model.1.avg_pool\n",
      "[]\n",
      "model.1.flatten\n",
      "[]\n",
      "model.2\n",
      "[]\n",
      "model.3\n",
      "[True, True]\n",
      "model.4\n",
      "[]\n",
      "model.5\n",
      "[True, True]\n",
      "acc\n",
      "[]\n"
     ]
    }
   ],
   "source": [
    "# list(model.parameters())\n",
    "for name, module in list(model.named_modules()):\n",
    "    # print(child)\n",
    "    print(name)\n",
    "    print([p.requires_grad for p in module.parameters()])"
   ]
  },
  {
   "cell_type": "markdown",
   "id": "79833ce3-3fed-4a49-8615-3fc0abe33f40",
   "metadata": {},
   "source": [
    "# Signal comparison"
   ]
  },
  {
   "cell_type": "code",
   "execution_count": 1,
   "id": "2a3515ab-af03-4d59-ba67-9f78d14dd425",
   "metadata": {},
   "outputs": [
    {
     "data": {
      "text/plain": [
       "PosixPath('../../meta/martinekv/store/seq/ont/experiments/20220303_hsa_dRNA_HeLa_5EU_polyA_REL5_2/runs/20220303_1920_MN36569_FAR89595_b610d332/fast5/FAR89595_30596c4a_14.fast5')"
      ]
     },
     "execution_count": 1,
     "metadata": {},
     "output_type": "execute_result"
    }
   ],
   "source": [
    "from datamap import experiment_files\n",
    "index = 23\n",
    "file_path = experiment_files['pos_2022'][0]\n",
    "file_path"
   ]
  },
  {
   "cell_type": "code",
   "execution_count": 2,
   "id": "da337e51-3f9f-4dfc-ac56-65d9a1b5d7d9",
   "metadata": {},
   "outputs": [
    {
     "data": {
      "text/plain": [
       "31911"
      ]
     },
     "execution_count": 2,
     "metadata": {},
     "output_type": "execute_result"
    }
   ],
   "source": [
    "from bonito_pulled.bonito.fast5 import get_reads\n",
    "from pathlib import Path\n",
    "\n",
    "it = get_reads(str(file_path.parent))\n",
    "for i in range(index+1):\n",
    "    read = next(it)\n",
    "read.signal\n",
    "len(read.signal)"
   ]
  },
  {
   "cell_type": "code",
   "execution_count": 3,
   "id": "bef332d3-b36e-4b47-a450-5d3b8bfbb490",
   "metadata": {},
   "outputs": [
    {
     "data": {
      "text/plain": [
       "[<matplotlib.lines.Line2D at 0x7f310fdbe160>]"
      ]
     },
     "execution_count": 3,
     "metadata": {},
     "output_type": "execute_result"
    },
    {
     "data": {
      "image/png": "[encoded data removed]",
      "text/plain": [
       "<Figure size 432x288 with 1 Axes>"
      ]
     },
     "metadata": {
      "needs_background": "light"
     },
     "output_type": "display_data"
    }
   ],
   "source": [
    "from matplotlib import pyplot as plt\n",
    "plt.plot(read.signal)"
   ]
  },
  {
   "cell_type": "code",
   "execution_count": 4,
   "id": "b343e78f-b8e1-4c6d-b31e-f411b79e74e4",
   "metadata": {},
   "outputs": [
    {
     "data": {
      "text/plain": [
       "[<matplotlib.lines.Line2D at 0x7f31111c2160>]"
      ]
     },
     "execution_count": 4,
     "metadata": {},
     "output_type": "execute_result"
    },
    {
     "data": {
      "image/png": "[encoded data removed]",
      "text/plain": [
       "<Figure size 432x288 with 1 Axes>"
      ]
     },
     "metadata": {
      "needs_background": "light"
     },
     "output_type": "display_data"
    }
   ],
   "source": [
    "from ont_fast5_api.fast5_interface import get_fast5_file\n",
    "from scipy import stats\n",
    "\n",
    "def my_get_reads(scale, zscore):\n",
    "    with get_fast5_file(file_path, mode='r') as f5:\n",
    "        for read in f5.get_reads():\n",
    "            res = read.get_raw_data(scale=scale)\n",
    "            if(zscore):\n",
    "                res = stats.zscore(res)\n",
    "            yield res\n",
    "\n",
    "it = my_get_reads(scale=True, zscore=True)\n",
    "for i in range(index+1):\n",
    "    r = next(it)\n",
    "plt.plot(r)"
   ]
  },
  {
   "cell_type": "code",
   "execution_count": 5,
   "id": "accde29f-2896-4d4a-a56c-b7037f978ce2",
   "metadata": {},
   "outputs": [
    {
     "data": {
      "text/plain": [
       "[<matplotlib.lines.Line2D at 0x7f310fc6c640>]"
      ]
     },
     "execution_count": 5,
     "metadata": {},
     "output_type": "execute_result"
    },
    {
     "data": {
      "image/png": "[encoded data removed]",
      "text/plain": [
       "<Figure size 432x288 with 1 Axes>"
      ]
     },
     "metadata": {
      "needs_background": "light"
     },
     "output_type": "display_data"
    }
   ],
   "source": [
    "plt.plot(read.signal)\n",
    "plt.plot(r)"
   ]
  },
  {
   "cell_type": "code",
   "execution_count": 6,
   "id": "99e90abd-9fae-435f-93e2-35f3c645ab9e",
   "metadata": {},
   "outputs": [
    {
     "data": {
      "text/plain": [
       "[<matplotlib.lines.Line2D at 0x7f310fbd31f0>]"
      ]
     },
     "execution_count": 6,
     "metadata": {},
     "output_type": "execute_result"
    },
    {
     "data": {
      "image/png": "[encoded data removed]",
      "text/plain": [
       "<Figure size 432x288 with 1 Axes>"
      ]
     },
     "metadata": {
      "needs_background": "light"
     },
     "output_type": "display_data"
    }
   ],
   "source": [
    "from bonito_pulled.bonito.reader import trim, med_mad, norm_by_noisiest_section\n",
    "trim_start, _ = trim(r[:8000])\n",
    "plt.plot(r[trim_start:])\n",
    "# plt.plot(r)\n",
    "plt.plot(read.signal)\n",
    "\n",
    "\n",
    "# med, mad = med_mad(r)\n",
    "# mad = max(1.0, mad)\n",
    "# new_r = (r - med) / mad\n",
    "# plt.plot(new_r)\n",
    "# plt.plot(r)\n",
    "# plt.plot(read.signal)\n",
    "\n",
    "# new_r, (med, mad) = norm_by_noisiest_section(r, return_medmad=True)\n",
    "# plt.plot(new_r)\n",
    "# plt.plot(r)\n"
   ]
  }
 ],
 "metadata": {
  "kernelspec": {
   "display_name": "Python [conda env:RNAmodEnv]",
   "language": "python",
   "name": "conda-env-RNAmodEnv-py"
  },
  "language_info": {
   "codemirror_mode": {
    "name": "ipython",
    "version": 3
   },
   "file_extension": ".py",
   "mimetype": "text/x-python",
   "name": "python",
   "nbconvert_exporter": "python",
   "pygments_lexer": "ipython3",
   "version": "3.8.13"
  }
 },
 "nbformat": 4,
 "nbformat_minor": 5
}
